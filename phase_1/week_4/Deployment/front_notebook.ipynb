{
 "cells": [
  {
   "cell_type": "code",
   "execution_count": 1,
   "metadata": {},
   "outputs": [],
   "source": [
    "import requests"
   ]
  },
  {
   "cell_type": "code",
   "execution_count": 14,
   "metadata": {},
   "outputs": [
    {
     "data": {
      "text/plain": [
       "{'age': 23, 'name': 'Farhan Zahirsyah', 'pekerjaan': 'Data Scientist'}"
      ]
     },
     "execution_count": 14,
     "metadata": {},
     "output_type": "execute_result"
    }
   ],
   "source": [
    "#get\n",
    "url = 'http://127.0.0.1:5000/'\n",
    "r = requests.get(url)\n",
    "r.json()"
   ]
  },
  {
   "cell_type": "code",
   "execution_count": 18,
   "metadata": {},
   "outputs": [
    {
     "data": {
      "text/plain": [
       "'Data telah diubah'"
      ]
     },
     "execution_count": 18,
     "metadata": {},
     "output_type": "execute_result"
    }
   ],
   "source": [
    "# post\n",
    "URL = 'http://127.0.0.1:5000/change'\n",
    "data = {'name': 'Farhan sadasdasda',\n",
    "        'age': 252,\n",
    "        'pekerjaan': 'Scientist'}\n",
    "\n",
    "r = requests.post(URL, json=data)\n",
    "r.text"
   ]
  },
  {
   "cell_type": "code",
   "execution_count": 20,
   "metadata": {},
   "outputs": [
    {
     "data": {
      "text/plain": [
       "{'code': 200,\n",
       " 'result': {'classes': 'versicolor', 'prediction': '1'},\n",
       " 'status': 'OK'}"
      ]
     },
     "execution_count": 20,
     "metadata": {},
     "output_type": "execute_result"
    }
   ],
   "source": [
    "URL = 'http://127.0.0.1:5000/iris'\n",
    "data = {'sl': 1.4,\n",
    "        'sw': 0.2,\n",
    "        'pl': 0.5,\n",
    "        'pw': 0.2}\n",
    "\n",
    "\n",
    "r = requests.post(URL, json=data)\n",
    "r.json()"
   ]
  },
  {
   "cell_type": "code",
   "execution_count": 22,
   "metadata": {},
   "outputs": [
    {
     "data": {
      "text/plain": [
       "{'code': 200,\n",
       " 'result': {'classes': 'Not Survived', 'prediction': '0'},\n",
       " 'status': 'OK'}"
      ]
     },
     "execution_count": 22,
     "metadata": {},
     "output_type": "execute_result"
    }
   ],
   "source": [
    "URL = 'http://127.0.0.1:5000/titanic'\n",
    "data = {'Passanger_Class': 1,\n",
    "        'Gender':'male',\n",
    "        'Age': 22,\n",
    "        'Sibling_spouse': 1,\n",
    "        'Parent_children': 1,\n",
    "        'Fare': 33}\n",
    "\n",
    "r = requests.post(URL, json=data)\n",
    "r.json()\n"
   ]
  },
  {
   "cell_type": "code",
   "execution_count": 25,
   "metadata": {},
   "outputs": [],
   "source": [
    "Year_Birth = 1994\n",
    "Education = 'Bachelor'\n",
    "Marital_Status = 'Single'\n",
    "Income = 334444\n",
    "Kidhome = 2\n",
    "Teenhome = 1\n",
    "Dt_Customer = '2013-01-01'\n",
    "Recency = 32\n",
    "MntWines = 2\n",
    "MntFruits = 3\n",
    "MntMeatProducts = 10\n",
    "MntFishProducts = 10\n",
    "MntSweetProducts = 20\n",
    "MntGoldProds = 20\n",
    "NumDealsPurchases = 30\n",
    "NumWebPurchases = 20\n",
    "NumCatalogPurchases = 20\n",
    "NumStorePurchases = 10\n",
    "NumWebVisitsMonth = 10"
   ]
  },
  {
   "cell_type": "code",
   "execution_count": null,
   "metadata": {},
   "outputs": [],
   "source": [
    "data_new = {\n",
    "    'Year_Birth': Year_Birth,\n",
    "    'Education': Education,\n",
    "    'Marital_Status': Marital_Status,\n",
    "    'Income': Income,\n",
    "    'Kidhome': Kidhome,\n",
    "    'Teenhome': Teenhome,\n",
    "    'Dt_Customer': Dt_Customer,\n",
    "    'Recency': Recency,\n",
    "    'MntWines': MntWines,\n",
    "    'MntFruits': MntFruits,\n",
    "    'MntMeatProducts': MntMeatProducts,\n",
    "    'MntFishProducts': MntFishProducts,\n",
    "    'MntSweetProducts': MntSweetProducts,\n",
    "    'MntGoldProds': MntGoldProds,\n",
    "    'NumDealsPurchases': NumDealsPurchases,\n",
    "    'NumWebPurchases': NumWebPurchases,\n",
    "    'NumCatalogPurchases': NumCatalogPurchases,\n",
    "    'NumStorePurchases': NumStorePurchases,\n",
    "    'NumWebVisitsMonth': NumWebVisitsMonth\n",
    "}"
   ]
  },
  {
   "cell_type": "code",
   "execution_count": 31,
   "metadata": {},
   "outputs": [
    {
     "data": {
      "text/plain": [
       "{'Year_Birth': {0: 1994},\n",
       " 'Education': {0: 'Bachelor'},\n",
       " 'Marital_Status': {0: 'Single'},\n",
       " 'Income': {0: 334444},\n",
       " 'Kidhome': {0: 2},\n",
       " 'Teenhome': {0: 1},\n",
       " 'Dt_Customer': {0: '2013-01-01'},\n",
       " 'Recency': {0: 32},\n",
       " 'MntWines': {0: 2},\n",
       " 'MntFruits': {0: 3},\n",
       " 'MntMeatProducts': {0: 10},\n",
       " 'MntFishProducts': {0: 10},\n",
       " 'MntSweetProducts': {0: 20},\n",
       " 'MntGoldProds': {0: 20},\n",
       " 'NumDealsPurchases': {0: 30},\n",
       " 'NumWebPurchases': {0: 20},\n",
       " 'NumCatalogPurchases': {0: 20},\n",
       " 'NumStorePurchases': {0: 10},\n",
       " 'NumWebVisitsMonth': {0: 10}}"
      ]
     },
     "execution_count": 31,
     "metadata": {},
     "output_type": "execute_result"
    }
   ],
   "source": [
    "import pandas as pd\n",
    "\n",
    "input_df = pd.DataFrame()\n",
    "input_df['Year_Birth'] = [Year_Birth]\n",
    "input_df['Education'] = Education\n",
    "input_df['Marital_Status'] = Marital_Status\n",
    "input_df['Income'] = Income\n",
    "input_df['Kidhome'] = Kidhome\n",
    "input_df['Teenhome'] = Teenhome\n",
    "input_df['Dt_Customer'] = Dt_Customer\n",
    "input_df['Recency'] = Recency\n",
    "input_df['MntWines'] = MntWines\n",
    "input_df['MntFruits'] = MntFruits\n",
    "input_df['MntMeatProducts'] = MntMeatProducts\n",
    "input_df['MntFishProducts'] = MntFishProducts\n",
    "input_df['MntSweetProducts'] = MntSweetProducts\n",
    "input_df['MntGoldProds'] = MntGoldProds\n",
    "input_df['NumDealsPurchases'] = NumDealsPurchases\n",
    "input_df['NumWebPurchases'] = NumWebPurchases\n",
    "input_df['NumCatalogPurchases'] = NumCatalogPurchases\n",
    "input_df['NumStorePurchases'] = NumStorePurchases\n",
    "input_df['NumWebVisitsMonth'] = NumWebVisitsMonth\n",
    "\n",
    "\n",
    "input_df.to_dict()"
   ]
  },
  {
   "cell_type": "code",
   "execution_count": null,
   "metadata": {},
   "outputs": [],
   "source": [
    "\n"
   ]
  }
 ],
 "metadata": {
  "interpreter": {
   "hash": "21402b005bbdfe12d577bcda25c77a9ddea3e76c27c34046e2951ae32c0d16cd"
  },
  "kernelspec": {
   "display_name": "Python 3.9.7 ('base')",
   "language": "python",
   "name": "python3"
  },
  "language_info": {
   "codemirror_mode": {
    "name": "ipython",
    "version": 3
   },
   "file_extension": ".py",
   "mimetype": "text/x-python",
   "name": "python",
   "nbconvert_exporter": "python",
   "pygments_lexer": "ipython3",
   "version": "3.9.7"
  },
  "orig_nbformat": 4
 },
 "nbformat": 4,
 "nbformat_minor": 2
}
