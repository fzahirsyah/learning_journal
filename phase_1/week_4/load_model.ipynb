{
 "cells": [
  {
   "cell_type": "code",
   "execution_count": 9,
   "metadata": {},
   "outputs": [],
   "source": [
    "import pickle\n",
    "\n",
    "f = open('model/scaler.pkl', 'rb')\n",
    "scaler = pickle.load(f)\n",
    "f.close()\n",
    "\n",
    "with open('model/model.pkl', 'rb') as f:\n",
    "    model = pickle.load(f)\n",
    "\n",
    "with open('model/pipeline.pkl', 'rb') as f:\n",
    "    pipe = pickle.load(f)"
   ]
  },
  {
   "cell_type": "code",
   "execution_count": 13,
   "metadata": {},
   "outputs": [
    {
     "data": {
      "text/plain": [
       "array([2])"
      ]
     },
     "execution_count": 13,
     "metadata": {},
     "output_type": "execute_result"
    }
   ],
   "source": [
    "new_data = [2, 5, 10, 3]\n",
    "new_data_scaled = scaler.transform([new_data])\n",
    "\n",
    "# Modeling\n",
    "res = model.predict(new_data_scaled)\n",
    "res"
   ]
  },
  {
   "cell_type": "code",
   "execution_count": 15,
   "metadata": {},
   "outputs": [
    {
     "data": {
      "text/plain": [
       "array([2])"
      ]
     },
     "execution_count": 15,
     "metadata": {},
     "output_type": "execute_result"
    }
   ],
   "source": [
    "res = pipe.predict([new_data])\n",
    "res"
   ]
  },
  {
   "cell_type": "code",
   "execution_count": 18,
   "metadata": {},
   "outputs": [],
   "source": [
    "import pandas as pd\n",
    "df = pd.read_csv('data/test.csv')"
   ]
  },
  {
   "cell_type": "code",
   "execution_count": 20,
   "metadata": {},
   "outputs": [],
   "source": [
    "with open('model/titanic_pipeline.pkl', 'rb') as f:\n",
    "    pipe_titanic = pickle.load(f)"
   ]
  },
  {
   "cell_type": "code",
   "execution_count": 22,
   "metadata": {},
   "outputs": [
    {
     "data": {
      "text/plain": [
       "array([0, 1, 0, 1, 0, 0, 0, 0, 0, 0, 0, 0, 0, 0, 1, 0, 1, 1, 0, 1, 0, 1,\n",
       "       0, 1, 0, 1, 0, 0, 0, 1, 1, 1, 0, 1, 0, 0, 0, 0, 0, 0, 1, 1, 0, 1,\n",
       "       0, 0, 1, 0, 1, 0, 1, 0, 1, 1, 1, 1, 1, 0, 0, 1, 0, 0, 0, 1, 1, 0,\n",
       "       1, 0, 0, 0, 1, 1, 1, 0, 1, 0, 0, 1, 0, 1, 0, 0, 0, 0, 0, 0, 0, 0,\n",
       "       0, 0, 1, 0, 0, 1, 1, 0, 1, 0, 1, 0, 0, 1, 0, 0, 0, 0, 0, 0, 0, 1,\n",
       "       1, 0, 0, 1, 0, 1, 1, 1, 1, 1, 0, 1, 0, 0, 1, 1, 1, 0, 1, 0, 1, 0,\n",
       "       0, 0, 0, 1, 0, 1, 0, 1, 0, 1, 0, 0, 1, 0, 0, 1, 0, 0, 0, 0, 0, 1,\n",
       "       0, 1, 1, 0, 0, 0, 0, 0, 0, 0, 0, 0, 0, 0, 0, 0, 0, 0, 1, 0, 0, 0,\n",
       "       1, 0, 1], dtype=int64)"
      ]
     },
     "execution_count": 22,
     "metadata": {},
     "output_type": "execute_result"
    }
   ],
   "source": [
    "res = pipe_titanic.predict(df)\n",
    "res"
   ]
  },
  {
   "cell_type": "markdown",
   "metadata": {},
   "source": [
    "### Komunikasi dengan api bmkg"
   ]
  },
  {
   "cell_type": "code",
   "execution_count": 25,
   "metadata": {},
   "outputs": [],
   "source": [
    "import requests\n",
    "\n",
    "\n",
    "URl = 'https://data.bmkg.go.id/DataMKG/TEWS/gempadirasakan.json'\n",
    "r = requests.get(URl)\n",
    "\n",
    "data = r.json()"
   ]
  },
  {
   "cell_type": "code",
   "execution_count": 27,
   "metadata": {},
   "outputs": [
    {
     "data": {
      "text/plain": [
       "{'Tanggal': '10 Mei 2022',\n",
       " 'Jam': '03:54:11 WIB',\n",
       " 'DateTime': '2022-05-09T20:54:11+00:00',\n",
       " 'Coordinates': '0.64,122.15',\n",
       " 'Lintang': '0.64 LU',\n",
       " 'Bujur': '122.15 BT',\n",
       " 'Magnitude': '4.7',\n",
       " 'Kedalaman': '58 km',\n",
       " 'Wilayah': 'Pusat gempa berada di darat 25 km barat laut Boalemo',\n",
       " 'Dirasakan': 'II Gorontalo, I - II Kab. Gorontalo, IV Kab. Gorontalo Utara, III Kab. Bone Bolango'}"
      ]
     },
     "execution_count": 27,
     "metadata": {},
     "output_type": "execute_result"
    }
   ],
   "source": [
    "data['Infogempa']['gempa'][0]"
   ]
  },
  {
   "cell_type": "code",
   "execution_count": 30,
   "metadata": {},
   "outputs": [
    {
     "name": "stdout",
     "output_type": "stream",
     "text": [
      "Data Gempa Terbaru\n",
      "====================\n",
      "Tanggal : 10 Mei 2022\n",
      "Jam : 03:54:11 WIB\n",
      "Magnitude : 4.7 SR\n",
      "Kedalaman : 58 km\n",
      "-----------------------------------------------------\n",
      "Tanggal : 10 Mei 2022\n",
      "Jam : 03:22:11 WIB\n",
      "Magnitude : 3.9 SR\n",
      "Kedalaman : 10 km\n",
      "-----------------------------------------------------\n",
      "Tanggal : 09 Mei 2022\n",
      "Jam : 22:34:38 WIB\n",
      "Magnitude : 2.9 SR\n",
      "Kedalaman : 5 km\n",
      "-----------------------------------------------------\n",
      "Tanggal : 09 Mei 2022\n",
      "Jam : 11:50:31 WIB\n",
      "Magnitude : 4.6 SR\n",
      "Kedalaman : 32 km\n",
      "-----------------------------------------------------\n",
      "Tanggal : 09 Mei 2022\n",
      "Jam : 10:30:25 WIB\n",
      "Magnitude : 3.2 SR\n",
      "Kedalaman : 10 km\n",
      "-----------------------------------------------------\n",
      "Tanggal : 09 Mei 2022\n",
      "Jam : 07:14:46 WIB\n",
      "Magnitude : 3.4 SR\n",
      "Kedalaman : 10 km\n",
      "-----------------------------------------------------\n",
      "Tanggal : 09 Mei 2022\n",
      "Jam : 04:51:39 WIB\n",
      "Magnitude : 5.8 SR\n",
      "Kedalaman : 10 km\n",
      "-----------------------------------------------------\n",
      "Tanggal : 09 Mei 2022\n",
      "Jam : 00:09:43 WIB\n",
      "Magnitude : 2.3 SR\n",
      "Kedalaman : 3 km\n",
      "-----------------------------------------------------\n",
      "Tanggal : 08 Mei 2022\n",
      "Jam : 19:52:04 WIB\n",
      "Magnitude : 2.5 SR\n",
      "Kedalaman : 3 km\n",
      "-----------------------------------------------------\n",
      "Tanggal : 08 Mei 2022\n",
      "Jam : 09:29:04 WIB\n",
      "Magnitude : 5.2 SR\n",
      "Kedalaman : 10 km\n",
      "-----------------------------------------------------\n",
      "Tanggal : 07 Mei 2022\n",
      "Jam : 00:21:45 WIB\n",
      "Magnitude : 3.6 SR\n",
      "Kedalaman : 10 km\n",
      "-----------------------------------------------------\n",
      "Tanggal : 06 Mei 2022\n",
      "Jam : 14:23:16 WIB\n",
      "Magnitude : 3.5 SR\n",
      "Kedalaman : 10 km\n",
      "-----------------------------------------------------\n",
      "Tanggal : 05 Mei 2022\n",
      "Jam : 20:56:39 WIB\n",
      "Magnitude : 3.0 SR\n",
      "Kedalaman : 11 km\n",
      "-----------------------------------------------------\n",
      "Tanggal : 05 Mei 2022\n",
      "Jam : 18:26:03 WIB\n",
      "Magnitude : 3.6 SR\n",
      "Kedalaman : 10 km\n",
      "-----------------------------------------------------\n",
      "Tanggal : 05 Mei 2022\n",
      "Jam : 14:14:20 WIB\n",
      "Magnitude : 4.3 SR\n",
      "Kedalaman : 16 km\n",
      "-----------------------------------------------------\n"
     ]
    }
   ],
   "source": [
    "print('Data Gempa Terbaru')\n",
    "print('====================')\n",
    "\n",
    "for i in range(len(data['Infogempa']['gempa'])):\n",
    "    print('Tanggal :', data['Infogempa']['gempa'][i]['Tanggal'])\n",
    "    print('Jam :', data['Infogempa']['gempa'][i]['Jam'])\n",
    "    print('Magnitude :', data['Infogempa']['gempa'][i]['Magnitude'],'SR')\n",
    "    print('Kedalaman :', data['Infogempa']['gempa'][i]['Kedalaman'])\n",
    "    print('-----------------------------------------------------')\n"
   ]
  },
  {
   "cell_type": "code",
   "execution_count": null,
   "metadata": {},
   "outputs": [],
   "source": []
  }
 ],
 "metadata": {
  "interpreter": {
   "hash": "21402b005bbdfe12d577bcda25c77a9ddea3e76c27c34046e2951ae32c0d16cd"
  },
  "kernelspec": {
   "display_name": "Python 3.9.7 ('base')",
   "language": "python",
   "name": "python3"
  },
  "language_info": {
   "codemirror_mode": {
    "name": "ipython",
    "version": 3
   },
   "file_extension": ".py",
   "mimetype": "text/x-python",
   "name": "python",
   "nbconvert_exporter": "python",
   "pygments_lexer": "ipython3",
   "version": "3.9.7"
  },
  "orig_nbformat": 4
 },
 "nbformat": 4,
 "nbformat_minor": 2
}
