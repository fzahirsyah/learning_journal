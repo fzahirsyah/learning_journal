{
 "cells": [
  {
   "cell_type": "markdown",
   "metadata": {},
   "source": [
    "# Data Science Graded Challenge 2 Phase 1\n",
    "\n",
    "by: Muhammad Farhan Zahirsyah\n",
    "\n",
    "Batch 10\n",
    "\n",
    "---\n",
    "### Desctription\n",
    "\n",
    "\n",
    "\n",
    "\n",
    "\n",
    "### Objective\n",
    "- Memprediksi biaya jasa taksi online Uber dan Lyft\n",
    "\n",
    "\n",
    "### Problem Statement\n",
    "- bagaimana cara memprediksi biaya taksi online Uber dan Lyft\n",
    "\n",
    "\n",
    "---\n"
   ]
  },
  {
   "cell_type": "markdown",
   "metadata": {},
   "source": [
    "## I. Import Library"
   ]
  },
  {
   "cell_type": "code",
   "execution_count": 186,
   "metadata": {},
   "outputs": [],
   "source": [
    "# essential libraries\n",
    "import pandas as pd\n",
    "import numpy as np\n",
    "import matplotlib.pyplot as plt\n",
    "import seaborn as sns\n",
    "import matplotlib\n",
    "import statsmodels.api as sm\n",
    "import sklearn\n",
    "\n",
    "# scikit-learn library\n",
    "from sklearn.linear_model import LogisticRegression\n",
    "from sklearn.svm import SVC, LinearSVC\n",
    "from sklearn.model_selection import train_test_split\n",
    "from sklearn.preprocessing import StandardScaler,LabelEncoder,OneHotEncoder\n",
    "from sklearn.metrics import mean_absolute_error,r2_score,mean_squared_error\n",
    "\n",
    "# removing warnings in cell\n",
    "import warnings\n",
    "warnings.filterwarnings('ignore')\n",
    "\n",
    "# capping outlier library winsorizer\n",
    "from feature_engine.outliers import Winsorizer\n"
   ]
  },
  {
   "cell_type": "markdown",
   "metadata": {},
   "source": [
    "Memangil version, apabila program ini digunakan di masa mendatang kemungkinan library sudah ada pembaharuan dan versi yang digunakan sekarang sudah deprecated"
   ]
  },
  {
   "cell_type": "code",
   "execution_count": 3,
   "metadata": {},
   "outputs": [
    {
     "name": "stdout",
     "output_type": "stream",
     "text": [
      "Pandas Version     : 1.3.4\n",
      "Numpy Version      : 1.20.3\n",
      "Statsmodels Version: 0.12.2\n",
      "Matplotlib Version : 3.4.3\n",
      "Seaborn Version    : 0.11.2\n",
      "Sklearn Version    : 0.24.2\n"
     ]
    }
   ],
   "source": [
    "print('Pandas Version     :',pd.__version__)\n",
    "print('Numpy Version      :',np.__version__)\n",
    "print('Statsmodels Version:',sm.__version__)\n",
    "print('Matplotlib Version :',matplotlib.__version__)\n",
    "print('Seaborn Version    :',sns.__version__)\n",
    "print('Sklearn Version    :',sklearn.__version__)"
   ]
  },
  {
   "cell_type": "markdown",
   "metadata": {},
   "source": [
    "## II. Data Loading"
   ]
  },
  {
   "cell_type": "markdown",
   "metadata": {},
   "source": [
    "mengambil dataset dari path lokal"
   ]
  },
  {
   "cell_type": "code",
   "execution_count": 5,
   "metadata": {},
   "outputs": [],
   "source": [
    "weather_df_ori = pd.read_csv('../../../big_dataset/weatherAUS.csv')"
   ]
  },
  {
   "cell_type": "code",
   "execution_count": 6,
   "metadata": {},
   "outputs": [
    {
     "data": {
      "text/html": [
       "<div>\n",
       "<style scoped>\n",
       "    .dataframe tbody tr th:only-of-type {\n",
       "        vertical-align: middle;\n",
       "    }\n",
       "\n",
       "    .dataframe tbody tr th {\n",
       "        vertical-align: top;\n",
       "    }\n",
       "\n",
       "    .dataframe thead th {\n",
       "        text-align: right;\n",
       "    }\n",
       "</style>\n",
       "<table border=\"1\" class=\"dataframe\">\n",
       "  <thead>\n",
       "    <tr style=\"text-align: right;\">\n",
       "      <th></th>\n",
       "      <th>Date</th>\n",
       "      <th>Location</th>\n",
       "      <th>MinTemp</th>\n",
       "      <th>MaxTemp</th>\n",
       "      <th>Rainfall</th>\n",
       "      <th>Evaporation</th>\n",
       "      <th>Sunshine</th>\n",
       "      <th>WindGustDir</th>\n",
       "      <th>WindGustSpeed</th>\n",
       "      <th>WindDir9am</th>\n",
       "      <th>...</th>\n",
       "      <th>Humidity9am</th>\n",
       "      <th>Humidity3pm</th>\n",
       "      <th>Pressure9am</th>\n",
       "      <th>Pressure3pm</th>\n",
       "      <th>Cloud9am</th>\n",
       "      <th>Cloud3pm</th>\n",
       "      <th>Temp9am</th>\n",
       "      <th>Temp3pm</th>\n",
       "      <th>RainToday</th>\n",
       "      <th>RainTomorrow</th>\n",
       "    </tr>\n",
       "  </thead>\n",
       "  <tbody>\n",
       "    <tr>\n",
       "      <th>0</th>\n",
       "      <td>2008-12-01</td>\n",
       "      <td>Albury</td>\n",
       "      <td>13.4</td>\n",
       "      <td>22.9</td>\n",
       "      <td>0.6</td>\n",
       "      <td>NaN</td>\n",
       "      <td>NaN</td>\n",
       "      <td>W</td>\n",
       "      <td>44.0</td>\n",
       "      <td>W</td>\n",
       "      <td>...</td>\n",
       "      <td>71.0</td>\n",
       "      <td>22.0</td>\n",
       "      <td>1007.7</td>\n",
       "      <td>1007.1</td>\n",
       "      <td>8.0</td>\n",
       "      <td>NaN</td>\n",
       "      <td>16.9</td>\n",
       "      <td>21.8</td>\n",
       "      <td>No</td>\n",
       "      <td>No</td>\n",
       "    </tr>\n",
       "    <tr>\n",
       "      <th>1</th>\n",
       "      <td>2008-12-02</td>\n",
       "      <td>Albury</td>\n",
       "      <td>7.4</td>\n",
       "      <td>25.1</td>\n",
       "      <td>0.0</td>\n",
       "      <td>NaN</td>\n",
       "      <td>NaN</td>\n",
       "      <td>WNW</td>\n",
       "      <td>44.0</td>\n",
       "      <td>NNW</td>\n",
       "      <td>...</td>\n",
       "      <td>44.0</td>\n",
       "      <td>25.0</td>\n",
       "      <td>1010.6</td>\n",
       "      <td>1007.8</td>\n",
       "      <td>NaN</td>\n",
       "      <td>NaN</td>\n",
       "      <td>17.2</td>\n",
       "      <td>24.3</td>\n",
       "      <td>No</td>\n",
       "      <td>No</td>\n",
       "    </tr>\n",
       "    <tr>\n",
       "      <th>2</th>\n",
       "      <td>2008-12-03</td>\n",
       "      <td>Albury</td>\n",
       "      <td>12.9</td>\n",
       "      <td>25.7</td>\n",
       "      <td>0.0</td>\n",
       "      <td>NaN</td>\n",
       "      <td>NaN</td>\n",
       "      <td>WSW</td>\n",
       "      <td>46.0</td>\n",
       "      <td>W</td>\n",
       "      <td>...</td>\n",
       "      <td>38.0</td>\n",
       "      <td>30.0</td>\n",
       "      <td>1007.6</td>\n",
       "      <td>1008.7</td>\n",
       "      <td>NaN</td>\n",
       "      <td>2.0</td>\n",
       "      <td>21.0</td>\n",
       "      <td>23.2</td>\n",
       "      <td>No</td>\n",
       "      <td>No</td>\n",
       "    </tr>\n",
       "    <tr>\n",
       "      <th>3</th>\n",
       "      <td>2008-12-04</td>\n",
       "      <td>Albury</td>\n",
       "      <td>9.2</td>\n",
       "      <td>28.0</td>\n",
       "      <td>0.0</td>\n",
       "      <td>NaN</td>\n",
       "      <td>NaN</td>\n",
       "      <td>NE</td>\n",
       "      <td>24.0</td>\n",
       "      <td>SE</td>\n",
       "      <td>...</td>\n",
       "      <td>45.0</td>\n",
       "      <td>16.0</td>\n",
       "      <td>1017.6</td>\n",
       "      <td>1012.8</td>\n",
       "      <td>NaN</td>\n",
       "      <td>NaN</td>\n",
       "      <td>18.1</td>\n",
       "      <td>26.5</td>\n",
       "      <td>No</td>\n",
       "      <td>No</td>\n",
       "    </tr>\n",
       "    <tr>\n",
       "      <th>4</th>\n",
       "      <td>2008-12-05</td>\n",
       "      <td>Albury</td>\n",
       "      <td>17.5</td>\n",
       "      <td>32.3</td>\n",
       "      <td>1.0</td>\n",
       "      <td>NaN</td>\n",
       "      <td>NaN</td>\n",
       "      <td>W</td>\n",
       "      <td>41.0</td>\n",
       "      <td>ENE</td>\n",
       "      <td>...</td>\n",
       "      <td>82.0</td>\n",
       "      <td>33.0</td>\n",
       "      <td>1010.8</td>\n",
       "      <td>1006.0</td>\n",
       "      <td>7.0</td>\n",
       "      <td>8.0</td>\n",
       "      <td>17.8</td>\n",
       "      <td>29.7</td>\n",
       "      <td>No</td>\n",
       "      <td>No</td>\n",
       "    </tr>\n",
       "  </tbody>\n",
       "</table>\n",
       "<p>5 rows × 23 columns</p>\n",
       "</div>"
      ],
      "text/plain": [
       "         Date Location  MinTemp  MaxTemp  Rainfall  Evaporation  Sunshine  \\\n",
       "0  2008-12-01   Albury     13.4     22.9       0.6          NaN       NaN   \n",
       "1  2008-12-02   Albury      7.4     25.1       0.0          NaN       NaN   \n",
       "2  2008-12-03   Albury     12.9     25.7       0.0          NaN       NaN   \n",
       "3  2008-12-04   Albury      9.2     28.0       0.0          NaN       NaN   \n",
       "4  2008-12-05   Albury     17.5     32.3       1.0          NaN       NaN   \n",
       "\n",
       "  WindGustDir  WindGustSpeed WindDir9am  ... Humidity9am  Humidity3pm  \\\n",
       "0           W           44.0          W  ...        71.0         22.0   \n",
       "1         WNW           44.0        NNW  ...        44.0         25.0   \n",
       "2         WSW           46.0          W  ...        38.0         30.0   \n",
       "3          NE           24.0         SE  ...        45.0         16.0   \n",
       "4           W           41.0        ENE  ...        82.0         33.0   \n",
       "\n",
       "   Pressure9am  Pressure3pm  Cloud9am  Cloud3pm  Temp9am  Temp3pm  RainToday  \\\n",
       "0       1007.7       1007.1       8.0       NaN     16.9     21.8         No   \n",
       "1       1010.6       1007.8       NaN       NaN     17.2     24.3         No   \n",
       "2       1007.6       1008.7       NaN       2.0     21.0     23.2         No   \n",
       "3       1017.6       1012.8       NaN       NaN     18.1     26.5         No   \n",
       "4       1010.8       1006.0       7.0       8.0     17.8     29.7         No   \n",
       "\n",
       "   RainTomorrow  \n",
       "0            No  \n",
       "1            No  \n",
       "2            No  \n",
       "3            No  \n",
       "4            No  \n",
       "\n",
       "[5 rows x 23 columns]"
      ]
     },
     "execution_count": 6,
     "metadata": {},
     "output_type": "execute_result"
    }
   ],
   "source": [
    "weather_df_ori.head()"
   ]
  },
  {
   "cell_type": "markdown",
   "metadata": {},
   "source": [
    "diatas adalah 5 baris pertama dataset"
   ]
  },
  {
   "cell_type": "code",
   "execution_count": 8,
   "metadata": {},
   "outputs": [
    {
     "data": {
      "text/html": [
       "<div>\n",
       "<style scoped>\n",
       "    .dataframe tbody tr th:only-of-type {\n",
       "        vertical-align: middle;\n",
       "    }\n",
       "\n",
       "    .dataframe tbody tr th {\n",
       "        vertical-align: top;\n",
       "    }\n",
       "\n",
       "    .dataframe thead th {\n",
       "        text-align: right;\n",
       "    }\n",
       "</style>\n",
       "<table border=\"1\" class=\"dataframe\">\n",
       "  <thead>\n",
       "    <tr style=\"text-align: right;\">\n",
       "      <th></th>\n",
       "      <th>0</th>\n",
       "      <th>1</th>\n",
       "      <th>2</th>\n",
       "      <th>3</th>\n",
       "      <th>4</th>\n",
       "    </tr>\n",
       "  </thead>\n",
       "  <tbody>\n",
       "    <tr>\n",
       "      <th>Date</th>\n",
       "      <td>2008-12-01</td>\n",
       "      <td>2008-12-02</td>\n",
       "      <td>2008-12-03</td>\n",
       "      <td>2008-12-04</td>\n",
       "      <td>2008-12-05</td>\n",
       "    </tr>\n",
       "    <tr>\n",
       "      <th>Location</th>\n",
       "      <td>Albury</td>\n",
       "      <td>Albury</td>\n",
       "      <td>Albury</td>\n",
       "      <td>Albury</td>\n",
       "      <td>Albury</td>\n",
       "    </tr>\n",
       "    <tr>\n",
       "      <th>MinTemp</th>\n",
       "      <td>13.4</td>\n",
       "      <td>7.4</td>\n",
       "      <td>12.9</td>\n",
       "      <td>9.2</td>\n",
       "      <td>17.5</td>\n",
       "    </tr>\n",
       "    <tr>\n",
       "      <th>MaxTemp</th>\n",
       "      <td>22.9</td>\n",
       "      <td>25.1</td>\n",
       "      <td>25.7</td>\n",
       "      <td>28.0</td>\n",
       "      <td>32.3</td>\n",
       "    </tr>\n",
       "    <tr>\n",
       "      <th>Rainfall</th>\n",
       "      <td>0.6</td>\n",
       "      <td>0.0</td>\n",
       "      <td>0.0</td>\n",
       "      <td>0.0</td>\n",
       "      <td>1.0</td>\n",
       "    </tr>\n",
       "    <tr>\n",
       "      <th>Evaporation</th>\n",
       "      <td>NaN</td>\n",
       "      <td>NaN</td>\n",
       "      <td>NaN</td>\n",
       "      <td>NaN</td>\n",
       "      <td>NaN</td>\n",
       "    </tr>\n",
       "    <tr>\n",
       "      <th>Sunshine</th>\n",
       "      <td>NaN</td>\n",
       "      <td>NaN</td>\n",
       "      <td>NaN</td>\n",
       "      <td>NaN</td>\n",
       "      <td>NaN</td>\n",
       "    </tr>\n",
       "    <tr>\n",
       "      <th>WindGustDir</th>\n",
       "      <td>W</td>\n",
       "      <td>WNW</td>\n",
       "      <td>WSW</td>\n",
       "      <td>NE</td>\n",
       "      <td>W</td>\n",
       "    </tr>\n",
       "    <tr>\n",
       "      <th>WindGustSpeed</th>\n",
       "      <td>44.0</td>\n",
       "      <td>44.0</td>\n",
       "      <td>46.0</td>\n",
       "      <td>24.0</td>\n",
       "      <td>41.0</td>\n",
       "    </tr>\n",
       "    <tr>\n",
       "      <th>WindDir9am</th>\n",
       "      <td>W</td>\n",
       "      <td>NNW</td>\n",
       "      <td>W</td>\n",
       "      <td>SE</td>\n",
       "      <td>ENE</td>\n",
       "    </tr>\n",
       "    <tr>\n",
       "      <th>WindDir3pm</th>\n",
       "      <td>WNW</td>\n",
       "      <td>WSW</td>\n",
       "      <td>WSW</td>\n",
       "      <td>E</td>\n",
       "      <td>NW</td>\n",
       "    </tr>\n",
       "    <tr>\n",
       "      <th>WindSpeed9am</th>\n",
       "      <td>20.0</td>\n",
       "      <td>4.0</td>\n",
       "      <td>19.0</td>\n",
       "      <td>11.0</td>\n",
       "      <td>7.0</td>\n",
       "    </tr>\n",
       "    <tr>\n",
       "      <th>WindSpeed3pm</th>\n",
       "      <td>24.0</td>\n",
       "      <td>22.0</td>\n",
       "      <td>26.0</td>\n",
       "      <td>9.0</td>\n",
       "      <td>20.0</td>\n",
       "    </tr>\n",
       "    <tr>\n",
       "      <th>Humidity9am</th>\n",
       "      <td>71.0</td>\n",
       "      <td>44.0</td>\n",
       "      <td>38.0</td>\n",
       "      <td>45.0</td>\n",
       "      <td>82.0</td>\n",
       "    </tr>\n",
       "    <tr>\n",
       "      <th>Humidity3pm</th>\n",
       "      <td>22.0</td>\n",
       "      <td>25.0</td>\n",
       "      <td>30.0</td>\n",
       "      <td>16.0</td>\n",
       "      <td>33.0</td>\n",
       "    </tr>\n",
       "    <tr>\n",
       "      <th>Pressure9am</th>\n",
       "      <td>1007.7</td>\n",
       "      <td>1010.6</td>\n",
       "      <td>1007.6</td>\n",
       "      <td>1017.6</td>\n",
       "      <td>1010.8</td>\n",
       "    </tr>\n",
       "    <tr>\n",
       "      <th>Pressure3pm</th>\n",
       "      <td>1007.1</td>\n",
       "      <td>1007.8</td>\n",
       "      <td>1008.7</td>\n",
       "      <td>1012.8</td>\n",
       "      <td>1006.0</td>\n",
       "    </tr>\n",
       "    <tr>\n",
       "      <th>Cloud9am</th>\n",
       "      <td>8.0</td>\n",
       "      <td>NaN</td>\n",
       "      <td>NaN</td>\n",
       "      <td>NaN</td>\n",
       "      <td>7.0</td>\n",
       "    </tr>\n",
       "    <tr>\n",
       "      <th>Cloud3pm</th>\n",
       "      <td>NaN</td>\n",
       "      <td>NaN</td>\n",
       "      <td>2.0</td>\n",
       "      <td>NaN</td>\n",
       "      <td>8.0</td>\n",
       "    </tr>\n",
       "    <tr>\n",
       "      <th>Temp9am</th>\n",
       "      <td>16.9</td>\n",
       "      <td>17.2</td>\n",
       "      <td>21.0</td>\n",
       "      <td>18.1</td>\n",
       "      <td>17.8</td>\n",
       "    </tr>\n",
       "    <tr>\n",
       "      <th>Temp3pm</th>\n",
       "      <td>21.8</td>\n",
       "      <td>24.3</td>\n",
       "      <td>23.2</td>\n",
       "      <td>26.5</td>\n",
       "      <td>29.7</td>\n",
       "    </tr>\n",
       "    <tr>\n",
       "      <th>RainToday</th>\n",
       "      <td>No</td>\n",
       "      <td>No</td>\n",
       "      <td>No</td>\n",
       "      <td>No</td>\n",
       "      <td>No</td>\n",
       "    </tr>\n",
       "    <tr>\n",
       "      <th>RainTomorrow</th>\n",
       "      <td>No</td>\n",
       "      <td>No</td>\n",
       "      <td>No</td>\n",
       "      <td>No</td>\n",
       "      <td>No</td>\n",
       "    </tr>\n",
       "  </tbody>\n",
       "</table>\n",
       "</div>"
      ],
      "text/plain": [
       "                        0           1           2           3           4\n",
       "Date           2008-12-01  2008-12-02  2008-12-03  2008-12-04  2008-12-05\n",
       "Location           Albury      Albury      Albury      Albury      Albury\n",
       "MinTemp              13.4         7.4        12.9         9.2        17.5\n",
       "MaxTemp              22.9        25.1        25.7        28.0        32.3\n",
       "Rainfall              0.6         0.0         0.0         0.0         1.0\n",
       "Evaporation           NaN         NaN         NaN         NaN         NaN\n",
       "Sunshine              NaN         NaN         NaN         NaN         NaN\n",
       "WindGustDir             W         WNW         WSW          NE           W\n",
       "WindGustSpeed        44.0        44.0        46.0        24.0        41.0\n",
       "WindDir9am              W         NNW           W          SE         ENE\n",
       "WindDir3pm            WNW         WSW         WSW           E          NW\n",
       "WindSpeed9am         20.0         4.0        19.0        11.0         7.0\n",
       "WindSpeed3pm         24.0        22.0        26.0         9.0        20.0\n",
       "Humidity9am          71.0        44.0        38.0        45.0        82.0\n",
       "Humidity3pm          22.0        25.0        30.0        16.0        33.0\n",
       "Pressure9am        1007.7      1010.6      1007.6      1017.6      1010.8\n",
       "Pressure3pm        1007.1      1007.8      1008.7      1012.8      1006.0\n",
       "Cloud9am              8.0         NaN         NaN         NaN         7.0\n",
       "Cloud3pm              NaN         NaN         2.0         NaN         8.0\n",
       "Temp9am              16.9        17.2        21.0        18.1        17.8\n",
       "Temp3pm              21.8        24.3        23.2        26.5        29.7\n",
       "RainToday              No          No          No          No          No\n",
       "RainTomorrow           No          No          No          No          No"
      ]
     },
     "execution_count": 8,
     "metadata": {},
     "output_type": "execute_result"
    }
   ],
   "source": [
    "weather_df_ori.head(5).T"
   ]
  },
  {
   "cell_type": "markdown",
   "metadata": {},
   "source": [
    "Diatas menampilkan 3 data teratas dengan menampilkan nama seluruh kolom"
   ]
  },
  {
   "cell_type": "code",
   "execution_count": 9,
   "metadata": {},
   "outputs": [
    {
     "data": {
      "text/plain": [
       "(145460, 23)"
      ]
     },
     "execution_count": 9,
     "metadata": {},
     "output_type": "execute_result"
    }
   ],
   "source": [
    "weather_df_ori.shape"
   ]
  },
  {
   "cell_type": "markdown",
   "metadata": {},
   "source": [
    "Terdapat 693071 baris data dengan 57 kolom"
   ]
  },
  {
   "cell_type": "code",
   "execution_count": 10,
   "metadata": {},
   "outputs": [
    {
     "data": {
      "text/html": [
       "<div>\n",
       "<style scoped>\n",
       "    .dataframe tbody tr th:only-of-type {\n",
       "        vertical-align: middle;\n",
       "    }\n",
       "\n",
       "    .dataframe tbody tr th {\n",
       "        vertical-align: top;\n",
       "    }\n",
       "\n",
       "    .dataframe thead th {\n",
       "        text-align: right;\n",
       "    }\n",
       "</style>\n",
       "<table border=\"1\" class=\"dataframe\">\n",
       "  <thead>\n",
       "    <tr style=\"text-align: right;\">\n",
       "      <th></th>\n",
       "      <th>count</th>\n",
       "      <th>mean</th>\n",
       "      <th>std</th>\n",
       "      <th>min</th>\n",
       "      <th>25%</th>\n",
       "      <th>50%</th>\n",
       "      <th>75%</th>\n",
       "      <th>max</th>\n",
       "    </tr>\n",
       "  </thead>\n",
       "  <tbody>\n",
       "    <tr>\n",
       "      <th>MinTemp</th>\n",
       "      <td>143975.0</td>\n",
       "      <td>12.194034</td>\n",
       "      <td>6.398495</td>\n",
       "      <td>-8.5</td>\n",
       "      <td>7.6</td>\n",
       "      <td>12.0</td>\n",
       "      <td>16.9</td>\n",
       "      <td>33.9</td>\n",
       "    </tr>\n",
       "    <tr>\n",
       "      <th>MaxTemp</th>\n",
       "      <td>144199.0</td>\n",
       "      <td>23.221348</td>\n",
       "      <td>7.119049</td>\n",
       "      <td>-4.8</td>\n",
       "      <td>17.9</td>\n",
       "      <td>22.6</td>\n",
       "      <td>28.2</td>\n",
       "      <td>48.1</td>\n",
       "    </tr>\n",
       "    <tr>\n",
       "      <th>Rainfall</th>\n",
       "      <td>142199.0</td>\n",
       "      <td>2.360918</td>\n",
       "      <td>8.478060</td>\n",
       "      <td>0.0</td>\n",
       "      <td>0.0</td>\n",
       "      <td>0.0</td>\n",
       "      <td>0.8</td>\n",
       "      <td>371.0</td>\n",
       "    </tr>\n",
       "    <tr>\n",
       "      <th>Evaporation</th>\n",
       "      <td>82670.0</td>\n",
       "      <td>5.468232</td>\n",
       "      <td>4.193704</td>\n",
       "      <td>0.0</td>\n",
       "      <td>2.6</td>\n",
       "      <td>4.8</td>\n",
       "      <td>7.4</td>\n",
       "      <td>145.0</td>\n",
       "    </tr>\n",
       "    <tr>\n",
       "      <th>Sunshine</th>\n",
       "      <td>75625.0</td>\n",
       "      <td>7.611178</td>\n",
       "      <td>3.785483</td>\n",
       "      <td>0.0</td>\n",
       "      <td>4.8</td>\n",
       "      <td>8.4</td>\n",
       "      <td>10.6</td>\n",
       "      <td>14.5</td>\n",
       "    </tr>\n",
       "    <tr>\n",
       "      <th>WindGustSpeed</th>\n",
       "      <td>135197.0</td>\n",
       "      <td>40.035230</td>\n",
       "      <td>13.607062</td>\n",
       "      <td>6.0</td>\n",
       "      <td>31.0</td>\n",
       "      <td>39.0</td>\n",
       "      <td>48.0</td>\n",
       "      <td>135.0</td>\n",
       "    </tr>\n",
       "    <tr>\n",
       "      <th>WindSpeed9am</th>\n",
       "      <td>143693.0</td>\n",
       "      <td>14.043426</td>\n",
       "      <td>8.915375</td>\n",
       "      <td>0.0</td>\n",
       "      <td>7.0</td>\n",
       "      <td>13.0</td>\n",
       "      <td>19.0</td>\n",
       "      <td>130.0</td>\n",
       "    </tr>\n",
       "    <tr>\n",
       "      <th>WindSpeed3pm</th>\n",
       "      <td>142398.0</td>\n",
       "      <td>18.662657</td>\n",
       "      <td>8.809800</td>\n",
       "      <td>0.0</td>\n",
       "      <td>13.0</td>\n",
       "      <td>19.0</td>\n",
       "      <td>24.0</td>\n",
       "      <td>87.0</td>\n",
       "    </tr>\n",
       "    <tr>\n",
       "      <th>Humidity9am</th>\n",
       "      <td>142806.0</td>\n",
       "      <td>68.880831</td>\n",
       "      <td>19.029164</td>\n",
       "      <td>0.0</td>\n",
       "      <td>57.0</td>\n",
       "      <td>70.0</td>\n",
       "      <td>83.0</td>\n",
       "      <td>100.0</td>\n",
       "    </tr>\n",
       "    <tr>\n",
       "      <th>Humidity3pm</th>\n",
       "      <td>140953.0</td>\n",
       "      <td>51.539116</td>\n",
       "      <td>20.795902</td>\n",
       "      <td>0.0</td>\n",
       "      <td>37.0</td>\n",
       "      <td>52.0</td>\n",
       "      <td>66.0</td>\n",
       "      <td>100.0</td>\n",
       "    </tr>\n",
       "    <tr>\n",
       "      <th>Pressure9am</th>\n",
       "      <td>130395.0</td>\n",
       "      <td>1017.649940</td>\n",
       "      <td>7.106530</td>\n",
       "      <td>980.5</td>\n",
       "      <td>1012.9</td>\n",
       "      <td>1017.6</td>\n",
       "      <td>1022.4</td>\n",
       "      <td>1041.0</td>\n",
       "    </tr>\n",
       "    <tr>\n",
       "      <th>Pressure3pm</th>\n",
       "      <td>130432.0</td>\n",
       "      <td>1015.255889</td>\n",
       "      <td>7.037414</td>\n",
       "      <td>977.1</td>\n",
       "      <td>1010.4</td>\n",
       "      <td>1015.2</td>\n",
       "      <td>1020.0</td>\n",
       "      <td>1039.6</td>\n",
       "    </tr>\n",
       "    <tr>\n",
       "      <th>Cloud9am</th>\n",
       "      <td>89572.0</td>\n",
       "      <td>4.447461</td>\n",
       "      <td>2.887159</td>\n",
       "      <td>0.0</td>\n",
       "      <td>1.0</td>\n",
       "      <td>5.0</td>\n",
       "      <td>7.0</td>\n",
       "      <td>9.0</td>\n",
       "    </tr>\n",
       "    <tr>\n",
       "      <th>Cloud3pm</th>\n",
       "      <td>86102.0</td>\n",
       "      <td>4.509930</td>\n",
       "      <td>2.720357</td>\n",
       "      <td>0.0</td>\n",
       "      <td>2.0</td>\n",
       "      <td>5.0</td>\n",
       "      <td>7.0</td>\n",
       "      <td>9.0</td>\n",
       "    </tr>\n",
       "    <tr>\n",
       "      <th>Temp9am</th>\n",
       "      <td>143693.0</td>\n",
       "      <td>16.990631</td>\n",
       "      <td>6.488753</td>\n",
       "      <td>-7.2</td>\n",
       "      <td>12.3</td>\n",
       "      <td>16.7</td>\n",
       "      <td>21.6</td>\n",
       "      <td>40.2</td>\n",
       "    </tr>\n",
       "    <tr>\n",
       "      <th>Temp3pm</th>\n",
       "      <td>141851.0</td>\n",
       "      <td>21.683390</td>\n",
       "      <td>6.936650</td>\n",
       "      <td>-5.4</td>\n",
       "      <td>16.6</td>\n",
       "      <td>21.1</td>\n",
       "      <td>26.4</td>\n",
       "      <td>46.7</td>\n",
       "    </tr>\n",
       "  </tbody>\n",
       "</table>\n",
       "</div>"
      ],
      "text/plain": [
       "                  count         mean        std    min     25%     50%  \\\n",
       "MinTemp        143975.0    12.194034   6.398495   -8.5     7.6    12.0   \n",
       "MaxTemp        144199.0    23.221348   7.119049   -4.8    17.9    22.6   \n",
       "Rainfall       142199.0     2.360918   8.478060    0.0     0.0     0.0   \n",
       "Evaporation     82670.0     5.468232   4.193704    0.0     2.6     4.8   \n",
       "Sunshine        75625.0     7.611178   3.785483    0.0     4.8     8.4   \n",
       "WindGustSpeed  135197.0    40.035230  13.607062    6.0    31.0    39.0   \n",
       "WindSpeed9am   143693.0    14.043426   8.915375    0.0     7.0    13.0   \n",
       "WindSpeed3pm   142398.0    18.662657   8.809800    0.0    13.0    19.0   \n",
       "Humidity9am    142806.0    68.880831  19.029164    0.0    57.0    70.0   \n",
       "Humidity3pm    140953.0    51.539116  20.795902    0.0    37.0    52.0   \n",
       "Pressure9am    130395.0  1017.649940   7.106530  980.5  1012.9  1017.6   \n",
       "Pressure3pm    130432.0  1015.255889   7.037414  977.1  1010.4  1015.2   \n",
       "Cloud9am        89572.0     4.447461   2.887159    0.0     1.0     5.0   \n",
       "Cloud3pm        86102.0     4.509930   2.720357    0.0     2.0     5.0   \n",
       "Temp9am        143693.0    16.990631   6.488753   -7.2    12.3    16.7   \n",
       "Temp3pm        141851.0    21.683390   6.936650   -5.4    16.6    21.1   \n",
       "\n",
       "                  75%     max  \n",
       "MinTemp          16.9    33.9  \n",
       "MaxTemp          28.2    48.1  \n",
       "Rainfall          0.8   371.0  \n",
       "Evaporation       7.4   145.0  \n",
       "Sunshine         10.6    14.5  \n",
       "WindGustSpeed    48.0   135.0  \n",
       "WindSpeed9am     19.0   130.0  \n",
       "WindSpeed3pm     24.0    87.0  \n",
       "Humidity9am      83.0   100.0  \n",
       "Humidity3pm      66.0   100.0  \n",
       "Pressure9am    1022.4  1041.0  \n",
       "Pressure3pm    1020.0  1039.6  \n",
       "Cloud9am          7.0     9.0  \n",
       "Cloud3pm          7.0     9.0  \n",
       "Temp9am          21.6    40.2  \n",
       "Temp3pm          26.4    46.7  "
      ]
     },
     "execution_count": 10,
     "metadata": {},
     "output_type": "execute_result"
    }
   ],
   "source": [
    "# mengelompokan data berdasarkan datatype\n",
    "num_columns = weather_df_ori.select_dtypes(include=np.number).columns.tolist()\n",
    "obj_columns = weather_df_ori.select_dtypes(include=['object']).columns.tolist()\n",
    "weather_df_ori[num_columns].describe().T"
   ]
  },
  {
   "cell_type": "code",
   "execution_count": 11,
   "metadata": {},
   "outputs": [
    {
     "data": {
      "text/plain": [
       "16"
      ]
     },
     "execution_count": 11,
     "metadata": {},
     "output_type": "execute_result"
    }
   ],
   "source": [
    "len(num_columns)"
   ]
  },
  {
   "cell_type": "markdown",
   "metadata": {},
   "source": [
    "Terdapat 46 kolom berjenis number"
   ]
  },
  {
   "cell_type": "code",
   "execution_count": 12,
   "metadata": {},
   "outputs": [
    {
     "data": {
      "text/html": [
       "<div>\n",
       "<style scoped>\n",
       "    .dataframe tbody tr th:only-of-type {\n",
       "        vertical-align: middle;\n",
       "    }\n",
       "\n",
       "    .dataframe tbody tr th {\n",
       "        vertical-align: top;\n",
       "    }\n",
       "\n",
       "    .dataframe thead th {\n",
       "        text-align: right;\n",
       "    }\n",
       "</style>\n",
       "<table border=\"1\" class=\"dataframe\">\n",
       "  <thead>\n",
       "    <tr style=\"text-align: right;\">\n",
       "      <th></th>\n",
       "      <th>count</th>\n",
       "      <th>unique</th>\n",
       "      <th>top</th>\n",
       "      <th>freq</th>\n",
       "    </tr>\n",
       "  </thead>\n",
       "  <tbody>\n",
       "    <tr>\n",
       "      <th>Date</th>\n",
       "      <td>145460</td>\n",
       "      <td>3436</td>\n",
       "      <td>2013-11-12</td>\n",
       "      <td>49</td>\n",
       "    </tr>\n",
       "    <tr>\n",
       "      <th>Location</th>\n",
       "      <td>145460</td>\n",
       "      <td>49</td>\n",
       "      <td>Canberra</td>\n",
       "      <td>3436</td>\n",
       "    </tr>\n",
       "    <tr>\n",
       "      <th>WindGustDir</th>\n",
       "      <td>135134</td>\n",
       "      <td>16</td>\n",
       "      <td>W</td>\n",
       "      <td>9915</td>\n",
       "    </tr>\n",
       "    <tr>\n",
       "      <th>WindDir9am</th>\n",
       "      <td>134894</td>\n",
       "      <td>16</td>\n",
       "      <td>N</td>\n",
       "      <td>11758</td>\n",
       "    </tr>\n",
       "    <tr>\n",
       "      <th>WindDir3pm</th>\n",
       "      <td>141232</td>\n",
       "      <td>16</td>\n",
       "      <td>SE</td>\n",
       "      <td>10838</td>\n",
       "    </tr>\n",
       "    <tr>\n",
       "      <th>RainToday</th>\n",
       "      <td>142199</td>\n",
       "      <td>2</td>\n",
       "      <td>No</td>\n",
       "      <td>110319</td>\n",
       "    </tr>\n",
       "    <tr>\n",
       "      <th>RainTomorrow</th>\n",
       "      <td>142193</td>\n",
       "      <td>2</td>\n",
       "      <td>No</td>\n",
       "      <td>110316</td>\n",
       "    </tr>\n",
       "  </tbody>\n",
       "</table>\n",
       "</div>"
      ],
      "text/plain": [
       "               count unique         top    freq\n",
       "Date          145460   3436  2013-11-12      49\n",
       "Location      145460     49    Canberra    3436\n",
       "WindGustDir   135134     16           W    9915\n",
       "WindDir9am    134894     16           N   11758\n",
       "WindDir3pm    141232     16          SE   10838\n",
       "RainToday     142199      2          No  110319\n",
       "RainTomorrow  142193      2          No  110316"
      ]
     },
     "execution_count": 12,
     "metadata": {},
     "output_type": "execute_result"
    }
   ],
   "source": [
    "weather_df_ori[obj_columns].describe().T"
   ]
  },
  {
   "cell_type": "code",
   "execution_count": 13,
   "metadata": {},
   "outputs": [
    {
     "data": {
      "text/plain": [
       "7"
      ]
     },
     "execution_count": 13,
     "metadata": {},
     "output_type": "execute_result"
    }
   ],
   "source": [
    "len(obj_columns)"
   ]
  },
  {
   "cell_type": "markdown",
   "metadata": {},
   "source": [
    "terdapat 11 kolom dengan data types categorical "
   ]
  },
  {
   "cell_type": "code",
   "execution_count": 29,
   "metadata": {},
   "outputs": [
    {
     "name": "stdout",
     "output_type": "stream",
     "text": [
      "Date\n",
      "['2008-12-01' '2008-12-02' '2008-12-03' ... '2008-01-29' '2008-01-30'\n",
      " '2008-01-31']\n",
      "--------------------------------------------------\n",
      "Location\n",
      "['Albury' 'BadgerysCreek' 'Cobar' 'CoffsHarbour' 'Moree' 'Newcastle'\n",
      " 'NorahHead' 'NorfolkIsland' 'Penrith' 'Richmond' 'Sydney' 'SydneyAirport'\n",
      " 'WaggaWagga' 'Williamtown' 'Wollongong' 'Canberra' 'Tuggeranong'\n",
      " 'MountGinini' 'Ballarat' 'Bendigo' 'Sale' 'MelbourneAirport' 'Melbourne'\n",
      " 'Mildura' 'Nhil' 'Portland' 'Watsonia' 'Dartmoor' 'Brisbane' 'Cairns'\n",
      " 'GoldCoast' 'Townsville' 'Adelaide' 'MountGambier' 'Nuriootpa' 'Woomera'\n",
      " 'Albany' 'Witchcliffe' 'PearceRAAF' 'PerthAirport' 'Perth' 'SalmonGums'\n",
      " 'Walpole' 'Hobart' 'Launceston' 'AliceSprings' 'Darwin' 'Katherine'\n",
      " 'Uluru']\n",
      "--------------------------------------------------\n",
      "WindGustDir\n",
      "['W' 'WNW' 'WSW' 'NE' 'NNW' 'N' 'NNE' 'SW' nan 'ENE' 'SSE' 'S' 'NW' 'SE'\n",
      " 'ESE' 'E' 'SSW']\n",
      "--------------------------------------------------\n",
      "WindDir9am\n",
      "['W' 'NNW' 'SE' 'ENE' 'SW' 'SSE' 'S' 'NE' nan 'SSW' 'N' 'WSW' 'ESE' 'E'\n",
      " 'NW' 'WNW' 'NNE']\n",
      "--------------------------------------------------\n",
      "WindDir3pm\n",
      "['WNW' 'WSW' 'E' 'NW' 'W' 'SSE' 'ESE' 'ENE' 'NNW' 'SSW' 'SW' 'SE' 'N' 'S'\n",
      " 'NNE' nan 'NE']\n",
      "--------------------------------------------------\n",
      "RainToday\n",
      "['No' 'Yes' nan]\n",
      "--------------------------------------------------\n",
      "RainTomorrow\n",
      "['No' 'Yes' nan]\n",
      "--------------------------------------------------\n"
     ]
    }
   ],
   "source": [
    "for i in obj_columns[:]:\n",
    "    print(i)\n",
    "    print(weather_df_ori[i].unique())\n",
    "    print(\"-\"*50)"
   ]
  },
  {
   "cell_type": "markdown",
   "metadata": {},
   "source": [
    "Diatas adalah isi dari kolom yang berdatatypes categorical"
   ]
  },
  {
   "cell_type": "code",
   "execution_count": 26,
   "metadata": {},
   "outputs": [
    {
     "name": "stdout",
     "output_type": "stream",
     "text": [
      "<class 'pandas.core.frame.DataFrame'>\n",
      "RangeIndex: 145460 entries, 0 to 145459\n",
      "Data columns (total 23 columns):\n",
      " #   Column         Non-Null Count   Dtype  \n",
      "---  ------         --------------   -----  \n",
      " 0   Date           145460 non-null  object \n",
      " 1   Location       145460 non-null  object \n",
      " 2   MinTemp        143975 non-null  float64\n",
      " 3   MaxTemp        144199 non-null  float64\n",
      " 4   Rainfall       142199 non-null  float64\n",
      " 5   Evaporation    82670 non-null   float64\n",
      " 6   Sunshine       75625 non-null   float64\n",
      " 7   WindGustDir    135134 non-null  object \n",
      " 8   WindGustSpeed  135197 non-null  float64\n",
      " 9   WindDir9am     134894 non-null  object \n",
      " 10  WindDir3pm     141232 non-null  object \n",
      " 11  WindSpeed9am   143693 non-null  float64\n",
      " 12  WindSpeed3pm   142398 non-null  float64\n",
      " 13  Humidity9am    142806 non-null  float64\n",
      " 14  Humidity3pm    140953 non-null  float64\n",
      " 15  Pressure9am    130395 non-null  float64\n",
      " 16  Pressure3pm    130432 non-null  float64\n",
      " 17  Cloud9am       89572 non-null   float64\n",
      " 18  Cloud3pm       86102 non-null   float64\n",
      " 19  Temp9am        143693 non-null  float64\n",
      " 20  Temp3pm        141851 non-null  float64\n",
      " 21  RainToday      142199 non-null  object \n",
      " 22  RainTomorrow   142193 non-null  object \n",
      "dtypes: float64(16), object(7)\n",
      "memory usage: 25.5+ MB\n"
     ]
    }
   ],
   "source": [
    "weather_df_ori.info()"
   ]
  },
  {
   "cell_type": "code",
   "execution_count": 25,
   "metadata": {},
   "outputs": [
    {
     "data": {
      "text/plain": [
       "Date                 0\n",
       "Location             0\n",
       "MinTemp           1485\n",
       "MaxTemp           1261\n",
       "Rainfall          3261\n",
       "Evaporation      62790\n",
       "Sunshine         69835\n",
       "WindGustDir      10326\n",
       "WindGustSpeed    10263\n",
       "WindDir9am       10566\n",
       "WindDir3pm        4228\n",
       "WindSpeed9am      1767\n",
       "WindSpeed3pm      3062\n",
       "Humidity9am       2654\n",
       "Humidity3pm       4507\n",
       "Pressure9am      15065\n",
       "Pressure3pm      15028\n",
       "Cloud9am         55888\n",
       "Cloud3pm         59358\n",
       "Temp9am           1767\n",
       "Temp3pm           3609\n",
       "RainToday         3261\n",
       "RainTomorrow      3267\n",
       "dtype: int64"
      ]
     },
     "execution_count": 25,
     "metadata": {},
     "output_type": "execute_result"
    }
   ],
   "source": [
    "weather_df_ori.isnull().sum()"
   ]
  },
  {
   "cell_type": "code",
   "execution_count": 24,
   "metadata": {},
   "outputs": [
    {
     "data": {
      "text/plain": [
       "Date              0.000000\n",
       "Location          0.000000\n",
       "MinTemp           1.020899\n",
       "MaxTemp           0.866905\n",
       "Rainfall          2.241853\n",
       "Evaporation      43.166506\n",
       "Sunshine         48.009762\n",
       "WindGustDir       7.098859\n",
       "WindGustSpeed     7.055548\n",
       "WindDir9am        7.263853\n",
       "WindDir3pm        2.906641\n",
       "WindSpeed9am      1.214767\n",
       "WindSpeed3pm      2.105046\n",
       "Humidity9am       1.824557\n",
       "Humidity3pm       3.098446\n",
       "Pressure9am      10.356799\n",
       "Pressure3pm      10.331363\n",
       "Cloud9am         38.421559\n",
       "Cloud3pm         40.807095\n",
       "Temp9am           1.214767\n",
       "Temp3pm           2.481094\n",
       "RainToday         2.241853\n",
       "RainTomorrow      2.245978\n",
       "dtype: float64"
      ]
     },
     "execution_count": 24,
     "metadata": {},
     "output_type": "execute_result"
    }
   ],
   "source": [
    "(weather_df_ori.isnull().sum()/len(weather_df_ori))*100"
   ]
  },
  {
   "cell_type": "markdown",
   "metadata": {},
   "source": [
    "terdapat missing 55095 di kolom price. ini bisa digunakan sebagai data test. namun dengan data ini tidak bisa dicek modelnya apabila digunakan data test tersebut. karena price nya hilang dan tidak bisa diketahui akurasi dari model tersebut."
   ]
  },
  {
   "cell_type": "code",
   "execution_count": 16,
   "metadata": {},
   "outputs": [
    {
     "data": {
      "text/plain": [
       "Index(['Date', 'Location', 'MinTemp', 'MaxTemp', 'Rainfall', 'Evaporation',\n",
       "       'Sunshine', 'WindGustDir', 'WindGustSpeed', 'WindDir9am', 'WindDir3pm',\n",
       "       'WindSpeed9am', 'WindSpeed3pm', 'Humidity9am', 'Humidity3pm',\n",
       "       'Pressure9am', 'Pressure3pm', 'Cloud9am', 'Cloud3pm', 'Temp9am',\n",
       "       'Temp3pm', 'RainToday', 'RainTomorrow'],\n",
       "      dtype='object')"
      ]
     },
     "execution_count": 16,
     "metadata": {},
     "output_type": "execute_result"
    }
   ],
   "source": [
    "weather_df_ori.columns"
   ]
  },
  {
   "cell_type": "markdown",
   "metadata": {},
   "source": [
    "Diatas adalah list dari kolom yang ada didalam dataset"
   ]
  },
  {
   "cell_type": "markdown",
   "metadata": {},
   "source": [
    "## III. Exploratory Data Analysis"
   ]
  },
  {
   "cell_type": "markdown",
   "metadata": {},
   "source": [
    "\n",
    "\n",
    "maka dari itu data inference akan diambil 10 buah dari data_complete."
   ]
  },
  {
   "cell_type": "code",
   "execution_count": 28,
   "metadata": {},
   "outputs": [
    {
     "data": {
      "text/html": [
       "<div>\n",
       "<style scoped>\n",
       "    .dataframe tbody tr th:only-of-type {\n",
       "        vertical-align: middle;\n",
       "    }\n",
       "\n",
       "    .dataframe tbody tr th {\n",
       "        vertical-align: top;\n",
       "    }\n",
       "\n",
       "    .dataframe thead th {\n",
       "        text-align: right;\n",
       "    }\n",
       "</style>\n",
       "<table border=\"1\" class=\"dataframe\">\n",
       "  <thead>\n",
       "    <tr style=\"text-align: right;\">\n",
       "      <th></th>\n",
       "      <th>Date</th>\n",
       "      <th>Location</th>\n",
       "      <th>MinTemp</th>\n",
       "      <th>MaxTemp</th>\n",
       "      <th>Rainfall</th>\n",
       "      <th>Evaporation</th>\n",
       "      <th>Sunshine</th>\n",
       "      <th>WindGustDir</th>\n",
       "      <th>WindGustSpeed</th>\n",
       "      <th>WindDir9am</th>\n",
       "      <th>...</th>\n",
       "      <th>Humidity9am</th>\n",
       "      <th>Humidity3pm</th>\n",
       "      <th>Pressure9am</th>\n",
       "      <th>Pressure3pm</th>\n",
       "      <th>Cloud9am</th>\n",
       "      <th>Cloud3pm</th>\n",
       "      <th>Temp9am</th>\n",
       "      <th>Temp3pm</th>\n",
       "      <th>RainToday</th>\n",
       "      <th>RainTomorrow</th>\n",
       "    </tr>\n",
       "  </thead>\n",
       "  <tbody>\n",
       "    <tr>\n",
       "      <th>26191</th>\n",
       "      <td>2014-10-24</td>\n",
       "      <td>Penrith</td>\n",
       "      <td>16.6</td>\n",
       "      <td>30.5</td>\n",
       "      <td>16.2</td>\n",
       "      <td>NaN</td>\n",
       "      <td>NaN</td>\n",
       "      <td>NE</td>\n",
       "      <td>31.0</td>\n",
       "      <td>E</td>\n",
       "      <td>...</td>\n",
       "      <td>73.0</td>\n",
       "      <td>45.0</td>\n",
       "      <td>NaN</td>\n",
       "      <td>NaN</td>\n",
       "      <td>NaN</td>\n",
       "      <td>NaN</td>\n",
       "      <td>20.3</td>\n",
       "      <td>29.4</td>\n",
       "      <td>Yes</td>\n",
       "      <td>No</td>\n",
       "    </tr>\n",
       "    <tr>\n",
       "      <th>25452</th>\n",
       "      <td>2012-08-17</td>\n",
       "      <td>Penrith</td>\n",
       "      <td>3.5</td>\n",
       "      <td>21.2</td>\n",
       "      <td>0.0</td>\n",
       "      <td>NaN</td>\n",
       "      <td>NaN</td>\n",
       "      <td>N</td>\n",
       "      <td>74.0</td>\n",
       "      <td>N</td>\n",
       "      <td>...</td>\n",
       "      <td>68.0</td>\n",
       "      <td>43.0</td>\n",
       "      <td>NaN</td>\n",
       "      <td>NaN</td>\n",
       "      <td>NaN</td>\n",
       "      <td>NaN</td>\n",
       "      <td>12.0</td>\n",
       "      <td>15.1</td>\n",
       "      <td>No</td>\n",
       "      <td>No</td>\n",
       "    </tr>\n",
       "    <tr>\n",
       "      <th>96666</th>\n",
       "      <td>2009-06-12</td>\n",
       "      <td>Adelaide</td>\n",
       "      <td>9.1</td>\n",
       "      <td>13.8</td>\n",
       "      <td>0.0</td>\n",
       "      <td>1.6</td>\n",
       "      <td>NaN</td>\n",
       "      <td>NE</td>\n",
       "      <td>43.0</td>\n",
       "      <td>NNE</td>\n",
       "      <td>...</td>\n",
       "      <td>56.0</td>\n",
       "      <td>50.0</td>\n",
       "      <td>1017.9</td>\n",
       "      <td>1012.3</td>\n",
       "      <td>NaN</td>\n",
       "      <td>NaN</td>\n",
       "      <td>10.6</td>\n",
       "      <td>13.6</td>\n",
       "      <td>No</td>\n",
       "      <td>Yes</td>\n",
       "    </tr>\n",
       "    <tr>\n",
       "      <th>56739</th>\n",
       "      <td>2013-08-23</td>\n",
       "      <td>Ballarat</td>\n",
       "      <td>6.5</td>\n",
       "      <td>11.2</td>\n",
       "      <td>4.8</td>\n",
       "      <td>NaN</td>\n",
       "      <td>NaN</td>\n",
       "      <td>W</td>\n",
       "      <td>52.0</td>\n",
       "      <td>W</td>\n",
       "      <td>...</td>\n",
       "      <td>99.0</td>\n",
       "      <td>95.0</td>\n",
       "      <td>1010.4</td>\n",
       "      <td>1012.6</td>\n",
       "      <td>8.0</td>\n",
       "      <td>8.0</td>\n",
       "      <td>8.5</td>\n",
       "      <td>10.8</td>\n",
       "      <td>Yes</td>\n",
       "      <td>Yes</td>\n",
       "    </tr>\n",
       "    <tr>\n",
       "      <th>88977</th>\n",
       "      <td>2014-01-10</td>\n",
       "      <td>Cairns</td>\n",
       "      <td>25.1</td>\n",
       "      <td>33.1</td>\n",
       "      <td>0.2</td>\n",
       "      <td>8.6</td>\n",
       "      <td>3.3</td>\n",
       "      <td>SSE</td>\n",
       "      <td>46.0</td>\n",
       "      <td>SSE</td>\n",
       "      <td>...</td>\n",
       "      <td>66.0</td>\n",
       "      <td>53.0</td>\n",
       "      <td>1011.5</td>\n",
       "      <td>1008.8</td>\n",
       "      <td>7.0</td>\n",
       "      <td>7.0</td>\n",
       "      <td>29.5</td>\n",
       "      <td>32.0</td>\n",
       "      <td>No</td>\n",
       "      <td>Yes</td>\n",
       "    </tr>\n",
       "    <tr>\n",
       "      <th>55269</th>\n",
       "      <td>2009-05-17</td>\n",
       "      <td>Ballarat</td>\n",
       "      <td>7.0</td>\n",
       "      <td>13.1</td>\n",
       "      <td>1.6</td>\n",
       "      <td>NaN</td>\n",
       "      <td>NaN</td>\n",
       "      <td>WSW</td>\n",
       "      <td>31.0</td>\n",
       "      <td>WSW</td>\n",
       "      <td>...</td>\n",
       "      <td>99.0</td>\n",
       "      <td>76.0</td>\n",
       "      <td>1022.3</td>\n",
       "      <td>1020.8</td>\n",
       "      <td>8.0</td>\n",
       "      <td>8.0</td>\n",
       "      <td>9.4</td>\n",
       "      <td>12.5</td>\n",
       "      <td>Yes</td>\n",
       "      <td>No</td>\n",
       "    </tr>\n",
       "    <tr>\n",
       "      <th>73521</th>\n",
       "      <td>2013-06-28</td>\n",
       "      <td>Nhil</td>\n",
       "      <td>2.3</td>\n",
       "      <td>16.9</td>\n",
       "      <td>0.0</td>\n",
       "      <td>NaN</td>\n",
       "      <td>NaN</td>\n",
       "      <td>W</td>\n",
       "      <td>15.0</td>\n",
       "      <td>E</td>\n",
       "      <td>...</td>\n",
       "      <td>91.0</td>\n",
       "      <td>54.0</td>\n",
       "      <td>1024.7</td>\n",
       "      <td>1023.4</td>\n",
       "      <td>NaN</td>\n",
       "      <td>NaN</td>\n",
       "      <td>3.8</td>\n",
       "      <td>16.8</td>\n",
       "      <td>No</td>\n",
       "      <td>No</td>\n",
       "    </tr>\n",
       "    <tr>\n",
       "      <th>11210</th>\n",
       "      <td>2015-02-20</td>\n",
       "      <td>CoffsHarbour</td>\n",
       "      <td>20.4</td>\n",
       "      <td>23.7</td>\n",
       "      <td>22.2</td>\n",
       "      <td>NaN</td>\n",
       "      <td>NaN</td>\n",
       "      <td>E</td>\n",
       "      <td>54.0</td>\n",
       "      <td>WSW</td>\n",
       "      <td>...</td>\n",
       "      <td>96.0</td>\n",
       "      <td>94.0</td>\n",
       "      <td>NaN</td>\n",
       "      <td>NaN</td>\n",
       "      <td>NaN</td>\n",
       "      <td>NaN</td>\n",
       "      <td>21.0</td>\n",
       "      <td>23.6</td>\n",
       "      <td>Yes</td>\n",
       "      <td>Yes</td>\n",
       "    </tr>\n",
       "    <tr>\n",
       "      <th>94502</th>\n",
       "      <td>2012-05-06</td>\n",
       "      <td>Townsville</td>\n",
       "      <td>17.5</td>\n",
       "      <td>28.6</td>\n",
       "      <td>0.0</td>\n",
       "      <td>6.4</td>\n",
       "      <td>10.7</td>\n",
       "      <td>E</td>\n",
       "      <td>39.0</td>\n",
       "      <td>SE</td>\n",
       "      <td>...</td>\n",
       "      <td>48.0</td>\n",
       "      <td>42.0</td>\n",
       "      <td>1016.1</td>\n",
       "      <td>1013.0</td>\n",
       "      <td>1.0</td>\n",
       "      <td>1.0</td>\n",
       "      <td>24.8</td>\n",
       "      <td>28.1</td>\n",
       "      <td>No</td>\n",
       "      <td>No</td>\n",
       "    </tr>\n",
       "    <tr>\n",
       "      <th>144644</th>\n",
       "      <td>2015-04-02</td>\n",
       "      <td>Uluru</td>\n",
       "      <td>22.3</td>\n",
       "      <td>28.0</td>\n",
       "      <td>0.0</td>\n",
       "      <td>NaN</td>\n",
       "      <td>NaN</td>\n",
       "      <td>SSE</td>\n",
       "      <td>31.0</td>\n",
       "      <td>SSE</td>\n",
       "      <td>...</td>\n",
       "      <td>53.0</td>\n",
       "      <td>40.0</td>\n",
       "      <td>1017.3</td>\n",
       "      <td>1014.8</td>\n",
       "      <td>7.0</td>\n",
       "      <td>8.0</td>\n",
       "      <td>23.4</td>\n",
       "      <td>27.4</td>\n",
       "      <td>No</td>\n",
       "      <td>No</td>\n",
       "    </tr>\n",
       "  </tbody>\n",
       "</table>\n",
       "<p>10 rows × 23 columns</p>\n",
       "</div>"
      ],
      "text/plain": [
       "              Date      Location  MinTemp  MaxTemp  Rainfall  Evaporation  \\\n",
       "26191   2014-10-24       Penrith     16.6     30.5      16.2          NaN   \n",
       "25452   2012-08-17       Penrith      3.5     21.2       0.0          NaN   \n",
       "96666   2009-06-12      Adelaide      9.1     13.8       0.0          1.6   \n",
       "56739   2013-08-23      Ballarat      6.5     11.2       4.8          NaN   \n",
       "88977   2014-01-10        Cairns     25.1     33.1       0.2          8.6   \n",
       "55269   2009-05-17      Ballarat      7.0     13.1       1.6          NaN   \n",
       "73521   2013-06-28          Nhil      2.3     16.9       0.0          NaN   \n",
       "11210   2015-02-20  CoffsHarbour     20.4     23.7      22.2          NaN   \n",
       "94502   2012-05-06    Townsville     17.5     28.6       0.0          6.4   \n",
       "144644  2015-04-02         Uluru     22.3     28.0       0.0          NaN   \n",
       "\n",
       "        Sunshine WindGustDir  WindGustSpeed WindDir9am  ... Humidity9am  \\\n",
       "26191        NaN          NE           31.0          E  ...        73.0   \n",
       "25452        NaN           N           74.0          N  ...        68.0   \n",
       "96666        NaN          NE           43.0        NNE  ...        56.0   \n",
       "56739        NaN           W           52.0          W  ...        99.0   \n",
       "88977        3.3         SSE           46.0        SSE  ...        66.0   \n",
       "55269        NaN         WSW           31.0        WSW  ...        99.0   \n",
       "73521        NaN           W           15.0          E  ...        91.0   \n",
       "11210        NaN           E           54.0        WSW  ...        96.0   \n",
       "94502       10.7           E           39.0         SE  ...        48.0   \n",
       "144644       NaN         SSE           31.0        SSE  ...        53.0   \n",
       "\n",
       "        Humidity3pm  Pressure9am  Pressure3pm  Cloud9am  Cloud3pm  Temp9am  \\\n",
       "26191          45.0          NaN          NaN       NaN       NaN     20.3   \n",
       "25452          43.0          NaN          NaN       NaN       NaN     12.0   \n",
       "96666          50.0       1017.9       1012.3       NaN       NaN     10.6   \n",
       "56739          95.0       1010.4       1012.6       8.0       8.0      8.5   \n",
       "88977          53.0       1011.5       1008.8       7.0       7.0     29.5   \n",
       "55269          76.0       1022.3       1020.8       8.0       8.0      9.4   \n",
       "73521          54.0       1024.7       1023.4       NaN       NaN      3.8   \n",
       "11210          94.0          NaN          NaN       NaN       NaN     21.0   \n",
       "94502          42.0       1016.1       1013.0       1.0       1.0     24.8   \n",
       "144644         40.0       1017.3       1014.8       7.0       8.0     23.4   \n",
       "\n",
       "        Temp3pm  RainToday  RainTomorrow  \n",
       "26191      29.4        Yes            No  \n",
       "25452      15.1         No            No  \n",
       "96666      13.6         No           Yes  \n",
       "56739      10.8        Yes           Yes  \n",
       "88977      32.0         No           Yes  \n",
       "55269      12.5        Yes            No  \n",
       "73521      16.8         No            No  \n",
       "11210      23.6        Yes           Yes  \n",
       "94502      28.1         No            No  \n",
       "144644     27.4         No            No  \n",
       "\n",
       "[10 rows x 23 columns]"
      ]
     },
     "execution_count": 28,
     "metadata": {},
     "output_type": "execute_result"
    }
   ],
   "source": [
    "data_inf = weather_df_ori.sample(10, random_state=1)\n",
    "data_inf"
   ]
  },
  {
   "cell_type": "code",
   "execution_count": 32,
   "metadata": {},
   "outputs": [
    {
     "data": {
      "text/plain": [
       "(145450, 23)"
      ]
     },
     "execution_count": 32,
     "metadata": {},
     "output_type": "execute_result"
    }
   ],
   "source": [
    "weather_df = weather_df_ori.drop(data_inf.index)\n",
    "weather_df.shape"
   ]
  },
  {
   "cell_type": "markdown",
   "metadata": {},
   "source": [
    "dilakukan droping row dari data complete untuk data inference"
   ]
  },
  {
   "cell_type": "code",
   "execution_count": 33,
   "metadata": {},
   "outputs": [
    {
     "name": "stdout",
     "output_type": "stream",
     "text": [
      "(145450, 23)\n",
      "(10, 23)\n"
     ]
    }
   ],
   "source": [
    "weather_df.reset_index(drop=True, inplace=True)\n",
    "data_inf.reset_index(drop=True, inplace=True)\n",
    "print(weather_df.shape)\n",
    "print(data_inf.shape)"
   ]
  },
  {
   "cell_type": "markdown",
   "metadata": {},
   "source": [
    "kemudian mereset index data_complete dan data_inf agar data inference seperti sebuah data baru"
   ]
  },
  {
   "cell_type": "markdown",
   "metadata": {},
   "source": [
    "## IV. Data Preprocessing"
   ]
  },
  {
   "cell_type": "markdown",
   "metadata": {},
   "source": [
    "### A. Split data"
   ]
  },
  {
   "cell_type": "markdown",
   "metadata": {},
   "source": [
    "melakukan train test split pada data complete untuk dibagi menjadi data train dan data test"
   ]
  },
  {
   "cell_type": "code",
   "execution_count": 36,
   "metadata": {},
   "outputs": [
    {
     "name": "stdout",
     "output_type": "stream",
     "text": [
      "(116360, 22)\n",
      "(29090, 22)\n"
     ]
    }
   ],
   "source": [
    "x = weather_df.drop(['RainTomorrow'],axis=1)\n",
    "y = weather_df['RainTomorrow']\n",
    "\n",
    "\n",
    "x_train, x_test, y_train, y_test = train_test_split(x,y,test_size=0.2, random_state=1)\n",
    "print(x_train.shape)\n",
    "print(x_test.shape)"
   ]
  },
  {
   "cell_type": "markdown",
   "metadata": {},
   "source": [
    "data dibagi menjadi 80% untuk train dan 20% untuk test"
   ]
  },
  {
   "cell_type": "code",
   "execution_count": 37,
   "metadata": {},
   "outputs": [],
   "source": [
    "num_columns = x_train.select_dtypes(include=np.number).columns.tolist()"
   ]
  },
  {
   "cell_type": "markdown",
   "metadata": {},
   "source": [
    "dilakukan kembali arranging kelompok kolom numerical setelah kolom price di drop"
   ]
  },
  {
   "cell_type": "code",
   "execution_count": 38,
   "metadata": {},
   "outputs": [
    {
     "data": {
      "text/plain": [
       "['Date', 'Location', 'WindGustDir', 'WindDir9am', 'WindDir3pm', 'RainToday']"
      ]
     },
     "execution_count": 38,
     "metadata": {},
     "output_type": "execute_result"
    }
   ],
   "source": [
    "obj_columns = x_train.select_dtypes(include=['object']).columns.tolist()\n",
    "obj_columns"
   ]
  },
  {
   "cell_type": "markdown",
   "metadata": {},
   "source": [
    "### B. Initial correlation monitoring"
   ]
  },
  {
   "cell_type": "markdown",
   "metadata": {},
   "source": [
    "akan dicoba melakukan heatmap pearson correlation pada x train yang pada akhirnya akan dibandingkan dengan setelah outlier handling"
   ]
  },
  {
   "cell_type": "code",
   "execution_count": 39,
   "metadata": {},
   "outputs": [
    {
     "data": {
      "image/png": "[encoded data removed]",
      "text/plain": [
       "<Figure size 2160x2160 with 2 Axes>"
      ]
     },
     "metadata": {
      "needs_background": "light"
     },
     "output_type": "display_data"
    }
   ],
   "source": [
    "fig = plt.figure(figsize=(30,30))\n",
    "fig = sns.heatmap(weather_df.corr(),annot=True,cmap='RdYlGn',linewidths=0.2)\n",
    "plt.show()"
   ]
  },
  {
   "cell_type": "markdown",
   "metadata": {},
   "source": [
    "Heatmap diatas adalah heatmap sebelum dilakukan handling outliers dan handling missing value. terlihat korelasi distance dan surge_multiplier dengan price lebih tinggi daripada feature lainnya. namun nilai ini bisa berubah apabila setelah dilakukan handling outliers dan handling missing value"
   ]
  },
  {
   "cell_type": "markdown",
   "metadata": {},
   "source": [
    "## V. Outlier Handling"
   ]
  },
  {
   "cell_type": "markdown",
   "metadata": {},
   "source": [
    "### A. Outliers Function"
   ]
  },
  {
   "cell_type": "code",
   "execution_count": 71,
   "metadata": {},
   "outputs": [],
   "source": [
    "def iqr(data,column):\n",
    "    lower_limit= data[column].quantile(0.25) - 3*(data[column].quantile(0.75)-data[column].quantile(0.25))\n",
    "    upper_limit= data[column].quantile(0.75) + 3*(data[column].quantile(0.75)-data[column].quantile(0.25))\n",
    "    return lower_limit, upper_limit"
   ]
  },
  {
   "cell_type": "markdown",
   "metadata": {},
   "source": [
    "membuat fungsi untuk data yang skew dan dilakukan pencarian batas bawah dan batas atas menggunakan IQR\n",
    "\n",
    ">if a data point is below Q1 − 1.5×IQR or above Q3 + 1.5×IQR, it is viewed as being too far from the central values to be reasonable. and if If your assignment is having you consider not only outliers but also \"extreme values\", then the values for Q1 − 1.5×IQR and Q3 + 1.5×IQR are the \"inner\" fences and the values for Q1 − 3×IQR and Q3 + 3×IQR are the \"outer\" fences.[1]\n",
    "\n",
    "agar data tidak banyak yang keluar dari range iqr maka saya mengambil 3xIQR yang didalamnya juga memasukan nilai ekstrim."
   ]
  },
  {
   "cell_type": "code",
   "execution_count": 72,
   "metadata": {},
   "outputs": [],
   "source": [
    "def lcl_ucl_std(data,column):\n",
    "    lcl = data[column].mean() - 1.5*data[column].std()\n",
    "    ucl = data[column].mean() + 1.5*data[column].std()\n",
    "    return lcl,ucl"
   ]
  },
  {
   "cell_type": "markdown",
   "metadata": {},
   "source": [
    "membuat fungsi untuk data yang berdistribusi normal untuk mencari batas atas dan batas bawah menggunakan standard deviasi.\n",
    "\n"
   ]
  },
  {
   "cell_type": "code",
   "execution_count": 73,
   "metadata": {},
   "outputs": [],
   "source": [
    "def perc_outliers_iqr(data,column):\n",
    "    lcl,ucl = iqr(data,column)\n",
    "    try:\n",
    "        result = data[column][(data[column]<=lcl) | (data[column]>=ucl)].count()/len(data[column])\n",
    "    except:\n",
    "        result = 0\n",
    "    return result\n",
    "\n",
    "def perc_outliers_std(data,column):\n",
    "    lcl,ucl = lcl_ucl_std(data,column)\n",
    "    try:\n",
    "        result = data[column][(data[column]<=lcl) | (data[column]>=ucl)].count()/len(data[column])\n",
    "    except:\n",
    "        result = 0\n",
    "    return result"
   ]
  },
  {
   "cell_type": "markdown",
   "metadata": {},
   "source": [
    "membuat fungsi untuk mengetahui berapa banyak persentase outliers untuk masing-masing distribusi yang skewed dan normal. bila tidak terdapat outliers dari kolom tersebut maka nilainya akan menjadi 0"
   ]
  },
  {
   "cell_type": "code",
   "execution_count": 74,
   "metadata": {},
   "outputs": [],
   "source": [
    "def outliers(data,column,distr):\n",
    "    if distr <= -0.5 or distr >= 0.5:\n",
    "        lcl,ucl = iqr(data,column)\n",
    "        percentage = perc_outliers_iqr(data,column)\n",
    "    elif distr > -0.5 or distr < 0.5:\n",
    "        lcl,ucl = lcl_ucl_std(data,column)\n",
    "        percentage = perc_outliers_std(data,column)\n",
    "    return lcl,ucl,percentage"
   ]
  },
  {
   "cell_type": "markdown",
   "metadata": {},
   "source": [
    "membuat fungsi untuk menyatukan fungsi IQR dan std deviasi. dengan pemilihan fungsi dilihat dari skewness data. apabila diatas -0.5 dan dibawah 0.5 maka data tersebut berdistribusi normal. sedangkan diluar dari nilai tersebut maka data berdistribusi skew"
   ]
  },
  {
   "cell_type": "markdown",
   "metadata": {},
   "source": [
    "### B. Creating Treatment Table"
   ]
  },
  {
   "cell_type": "markdown",
   "metadata": {},
   "source": [
    "untuk mempermudah kolom mana saja yang skew atau normal dan treatment apa saja yang harus dilakukan, saya membuat tabel treatment yang isi nya adalah kolom-kolom numerik dengan deskripsi sebagai berikut:\n",
    "\n",
    "|Nama Kolom | Deskripsi |\n",
    "|---|---|\n",
    "|name| nama kolom numerik|\n",
    "| distr| nilai skew distribusi|\n",
    "|percentage| persentasi jumlah outlier yang diluar dari batas bawah dan batas atas|\n",
    "|skewness| nama distribusi |\n",
    "|lcl| lower control limit/ batas bawah|\n",
    "|ucl| upper control limit/ batas atas|\n",
    "|treatment| treatment yang harus dilakukan|"
   ]
  },
  {
   "cell_type": "code",
   "execution_count": 103,
   "metadata": {},
   "outputs": [],
   "source": [
    "skew = []\n",
    "for i in x_train[num_columns]:\n",
    "    skew.append(x_train[i].skew())"
   ]
  },
  {
   "cell_type": "markdown",
   "metadata": {},
   "source": [
    "menambah data kolom distribution dengan melihat skew pada kolom numerik x_train"
   ]
  },
  {
   "cell_type": "code",
   "execution_count": 104,
   "metadata": {},
   "outputs": [],
   "source": [
    "percentage = []\n",
    "j = 0\n",
    "for i in x_train[num_columns]:\n",
    "    percentage.append(outliers(x_train,i,skew[j])[2])\n",
    "    j += 1"
   ]
  },
  {
   "cell_type": "markdown",
   "metadata": {},
   "source": [
    "menambah data kolom percentage dengan menggunakan fungsi outliers"
   ]
  },
  {
   "cell_type": "code",
   "execution_count": 105,
   "metadata": {},
   "outputs": [],
   "source": [
    "treatment = []\n",
    "j=0\n",
    "for i in x_train[num_columns]:\n",
    "    if percentage[j] == 0:\n",
    "        treatment.append('No outliers')\n",
    "    elif percentage[j] <= 0.05:\n",
    "        treatment.append('trim')\n",
    "    elif percentage[j] <= 0.15:\n",
    "        treatment.append('capping')\n",
    "    elif percentage[j] > 0.15:\n",
    "        treatment.append('do not treat')\n",
    "    j += 1"
   ]
  },
  {
   "cell_type": "markdown",
   "metadata": {},
   "source": [
    "pada kolom percentage yang nilainya 0 itu didapatkan dari fungsi outliers. telah dijelaskan pada markdown fungsi oultiers bahwa 0 merupakan tidak ada outliers. \n",
    "\n",
    "nilai percentage outliers dibawah 0.05 atau 5% dari kolom data artinya kita bisa membuang data tersebut. \n",
    "\n",
    "nilai percentage outliers diatas 5% sampai 15% dari kolom data artinya kita bisa melakukan capping pada data tersebut.\n",
    "\n",
    "nilai percentage outliers diatas 15% dari kolom data artinya kita harus membiarkan data tersetbut. karena bisa jadi ini bukanlah anomali outliers."
   ]
  },
  {
   "cell_type": "code",
   "execution_count": 106,
   "metadata": {},
   "outputs": [],
   "source": [
    "lcl = []\n",
    "j = 0\n",
    "for i in x_train[num_columns]:\n",
    "    lcl.append(outliers(x_train,i,skew[j])[0])\n",
    "    j += 1\n"
   ]
  },
  {
   "cell_type": "markdown",
   "metadata": {},
   "source": [
    "menambah data kolom lcl dengan menggunakna fungsi outliers"
   ]
  },
  {
   "cell_type": "code",
   "execution_count": 107,
   "metadata": {},
   "outputs": [],
   "source": [
    "ucl = []\n",
    "j = 0\n",
    "for i in x_train[num_columns]:\n",
    "    ucl.append(outliers(x_train,i,skew[j])[1])\n",
    "    j += 1"
   ]
  },
  {
   "cell_type": "markdown",
   "metadata": {},
   "source": [
    "menambah data kolom ucl dengan menggunakan fungsi outliers"
   ]
  },
  {
   "cell_type": "code",
   "execution_count": 108,
   "metadata": {},
   "outputs": [],
   "source": [
    "distribution = []\n",
    "j = 0\n",
    "for i in x_train[num_columns]:\n",
    "    if skew[j] >= -0.5 and skew[j] <= 0.5:\n",
    "        distribution.append('normal')\n",
    "    else: \n",
    "        distribution.append('skewed')\n",
    "    j += 1\n"
   ]
  },
  {
   "cell_type": "markdown",
   "metadata": {},
   "source": [
    "menambah kolom skewed dengan melihat nilai skewed. bila didalam nilai -0.5 sampai 0.5 maka berdistribusi normal. diluar nilai tersebut maka berdistribusi skewed"
   ]
  },
  {
   "cell_type": "code",
   "execution_count": 109,
   "metadata": {},
   "outputs": [],
   "source": [
    "outlier_treatment = pd.DataFrame()\n",
    "outlier_treatment['name'] = x_train[num_columns].columns\n",
    "outlier_treatment['distr'] = distribution\n",
    "outlier_treatment['percentage'] = percentage\n",
    "outlier_treatment['skewness'] = skew\n",
    "outlier_treatment['lcl'] = lcl\n",
    "outlier_treatment['ucl'] = ucl\n",
    "outlier_treatment['treatment'] = treatment"
   ]
  },
  {
   "cell_type": "markdown",
   "metadata": {},
   "source": [
    "membuat dataframe dengan variabel outlier_treatment untuk menjadi rangka tabel treatment"
   ]
  },
  {
   "cell_type": "code",
   "execution_count": 110,
   "metadata": {},
   "outputs": [
    {
     "data": {
      "text/html": [
       "<div>\n",
       "<style scoped>\n",
       "    .dataframe tbody tr th:only-of-type {\n",
       "        vertical-align: middle;\n",
       "    }\n",
       "\n",
       "    .dataframe tbody tr th {\n",
       "        vertical-align: top;\n",
       "    }\n",
       "\n",
       "    .dataframe thead th {\n",
       "        text-align: right;\n",
       "    }\n",
       "</style>\n",
       "<table border=\"1\" class=\"dataframe\">\n",
       "  <thead>\n",
       "    <tr style=\"text-align: right;\">\n",
       "      <th></th>\n",
       "      <th>name</th>\n",
       "      <th>distr</th>\n",
       "      <th>percentage</th>\n",
       "      <th>skewness</th>\n",
       "      <th>lcl</th>\n",
       "      <th>ucl</th>\n",
       "      <th>treatment</th>\n",
       "    </tr>\n",
       "  </thead>\n",
       "  <tbody>\n",
       "    <tr>\n",
       "      <th>0</th>\n",
       "      <td>MinTemp</td>\n",
       "      <td>normal</td>\n",
       "      <td>0.138389</td>\n",
       "      <td>0.021764</td>\n",
       "      <td>2.596640</td>\n",
       "      <td>21.781705</td>\n",
       "      <td>capping</td>\n",
       "    </tr>\n",
       "    <tr>\n",
       "      <th>1</th>\n",
       "      <td>MaxTemp</td>\n",
       "      <td>normal</td>\n",
       "      <td>0.120187</td>\n",
       "      <td>0.218259</td>\n",
       "      <td>12.544318</td>\n",
       "      <td>33.890485</td>\n",
       "      <td>capping</td>\n",
       "    </tr>\n",
       "    <tr>\n",
       "      <th>2</th>\n",
       "      <td>Rainfall</td>\n",
       "      <td>skewed</td>\n",
       "      <td>0.147809</td>\n",
       "      <td>9.993055</td>\n",
       "      <td>-2.400000</td>\n",
       "      <td>3.200000</td>\n",
       "      <td>capping</td>\n",
       "    </tr>\n",
       "    <tr>\n",
       "      <th>3</th>\n",
       "      <td>Evaporation</td>\n",
       "      <td>skewed</td>\n",
       "      <td>0.003360</td>\n",
       "      <td>3.913944</td>\n",
       "      <td>-11.800000</td>\n",
       "      <td>21.800000</td>\n",
       "      <td>trim</td>\n",
       "    </tr>\n",
       "    <tr>\n",
       "      <th>4</th>\n",
       "      <td>Sunshine</td>\n",
       "      <td>normal</td>\n",
       "      <td>0.070342</td>\n",
       "      <td>-0.495380</td>\n",
       "      <td>1.930071</td>\n",
       "      <td>13.286345</td>\n",
       "      <td>capping</td>\n",
       "    </tr>\n",
       "    <tr>\n",
       "      <th>5</th>\n",
       "      <td>WindGustSpeed</td>\n",
       "      <td>skewed</td>\n",
       "      <td>0.001023</td>\n",
       "      <td>0.871020</td>\n",
       "      <td>-20.000000</td>\n",
       "      <td>99.000000</td>\n",
       "      <td>trim</td>\n",
       "    </tr>\n",
       "    <tr>\n",
       "      <th>6</th>\n",
       "      <td>WindSpeed9am</td>\n",
       "      <td>skewed</td>\n",
       "      <td>0.000816</td>\n",
       "      <td>0.786914</td>\n",
       "      <td>-29.000000</td>\n",
       "      <td>55.000000</td>\n",
       "      <td>trim</td>\n",
       "    </tr>\n",
       "    <tr>\n",
       "      <th>7</th>\n",
       "      <td>WindSpeed3pm</td>\n",
       "      <td>skewed</td>\n",
       "      <td>0.000791</td>\n",
       "      <td>0.635782</td>\n",
       "      <td>-20.000000</td>\n",
       "      <td>57.000000</td>\n",
       "      <td>trim</td>\n",
       "    </tr>\n",
       "    <tr>\n",
       "      <th>8</th>\n",
       "      <td>Humidity9am</td>\n",
       "      <td>normal</td>\n",
       "      <td>0.134694</td>\n",
       "      <td>-0.487229</td>\n",
       "      <td>40.373074</td>\n",
       "      <td>97.456878</td>\n",
       "      <td>capping</td>\n",
       "    </tr>\n",
       "    <tr>\n",
       "      <th>9</th>\n",
       "      <td>Humidity3pm</td>\n",
       "      <td>normal</td>\n",
       "      <td>0.149888</td>\n",
       "      <td>0.029192</td>\n",
       "      <td>20.367340</td>\n",
       "      <td>82.745031</td>\n",
       "      <td>capping</td>\n",
       "    </tr>\n",
       "    <tr>\n",
       "      <th>10</th>\n",
       "      <td>Pressure9am</td>\n",
       "      <td>normal</td>\n",
       "      <td>0.116268</td>\n",
       "      <td>-0.099966</td>\n",
       "      <td>1006.993887</td>\n",
       "      <td>1028.308837</td>\n",
       "      <td>capping</td>\n",
       "    </tr>\n",
       "    <tr>\n",
       "      <th>11</th>\n",
       "      <td>Pressure3pm</td>\n",
       "      <td>normal</td>\n",
       "      <td>0.116208</td>\n",
       "      <td>-0.047924</td>\n",
       "      <td>1004.705659</td>\n",
       "      <td>1025.811326</td>\n",
       "      <td>capping</td>\n",
       "    </tr>\n",
       "    <tr>\n",
       "      <th>12</th>\n",
       "      <td>Cloud9am</td>\n",
       "      <td>normal</td>\n",
       "      <td>0.059720</td>\n",
       "      <td>-0.226845</td>\n",
       "      <td>0.111059</td>\n",
       "      <td>8.774119</td>\n",
       "      <td>capping</td>\n",
       "    </tr>\n",
       "    <tr>\n",
       "      <th>13</th>\n",
       "      <td>Cloud3pm</td>\n",
       "      <td>normal</td>\n",
       "      <td>0.034316</td>\n",
       "      <td>-0.224654</td>\n",
       "      <td>0.424073</td>\n",
       "      <td>8.589079</td>\n",
       "      <td>trim</td>\n",
       "    </tr>\n",
       "    <tr>\n",
       "      <th>14</th>\n",
       "      <td>Temp9am</td>\n",
       "      <td>normal</td>\n",
       "      <td>0.132657</td>\n",
       "      <td>0.089371</td>\n",
       "      <td>7.263087</td>\n",
       "      <td>26.710724</td>\n",
       "      <td>capping</td>\n",
       "    </tr>\n",
       "    <tr>\n",
       "      <th>15</th>\n",
       "      <td>Temp3pm</td>\n",
       "      <td>normal</td>\n",
       "      <td>0.119422</td>\n",
       "      <td>0.236117</td>\n",
       "      <td>11.281155</td>\n",
       "      <td>32.073456</td>\n",
       "      <td>capping</td>\n",
       "    </tr>\n",
       "  </tbody>\n",
       "</table>\n",
       "</div>"
      ],
      "text/plain": [
       "             name   distr  percentage  skewness          lcl          ucl  \\\n",
       "0         MinTemp  normal    0.138389  0.021764     2.596640    21.781705   \n",
       "1         MaxTemp  normal    0.120187  0.218259    12.544318    33.890485   \n",
       "2        Rainfall  skewed    0.147809  9.993055    -2.400000     3.200000   \n",
       "3     Evaporation  skewed    0.003360  3.913944   -11.800000    21.800000   \n",
       "4        Sunshine  normal    0.070342 -0.495380     1.930071    13.286345   \n",
       "5   WindGustSpeed  skewed    0.001023  0.871020   -20.000000    99.000000   \n",
       "6    WindSpeed9am  skewed    0.000816  0.786914   -29.000000    55.000000   \n",
       "7    WindSpeed3pm  skewed    0.000791  0.635782   -20.000000    57.000000   \n",
       "8     Humidity9am  normal    0.134694 -0.487229    40.373074    97.456878   \n",
       "9     Humidity3pm  normal    0.149888  0.029192    20.367340    82.745031   \n",
       "10    Pressure9am  normal    0.116268 -0.099966  1006.993887  1028.308837   \n",
       "11    Pressure3pm  normal    0.116208 -0.047924  1004.705659  1025.811326   \n",
       "12       Cloud9am  normal    0.059720 -0.226845     0.111059     8.774119   \n",
       "13       Cloud3pm  normal    0.034316 -0.224654     0.424073     8.589079   \n",
       "14        Temp9am  normal    0.132657  0.089371     7.263087    26.710724   \n",
       "15        Temp3pm  normal    0.119422  0.236117    11.281155    32.073456   \n",
       "\n",
       "   treatment  \n",
       "0    capping  \n",
       "1    capping  \n",
       "2    capping  \n",
       "3       trim  \n",
       "4    capping  \n",
       "5       trim  \n",
       "6       trim  \n",
       "7       trim  \n",
       "8    capping  \n",
       "9    capping  \n",
       "10   capping  \n",
       "11   capping  \n",
       "12   capping  \n",
       "13      trim  \n",
       "14   capping  \n",
       "15   capping  "
      ]
     },
     "execution_count": 110,
     "metadata": {},
     "output_type": "execute_result"
    }
   ],
   "source": [
    "outlier_treatment"
   ]
  },
  {
   "cell_type": "markdown",
   "metadata": {},
   "source": [
    "terlihat diatas adalah summary kolom numerical yang akan ditreatment outliersnya. "
   ]
  },
  {
   "cell_type": "markdown",
   "metadata": {},
   "source": [
    "### C. Executing Outliers"
   ]
  },
  {
   "cell_type": "code",
   "execution_count": 111,
   "metadata": {},
   "outputs": [
    {
     "data": {
      "text/html": [
       "<div>\n",
       "<style scoped>\n",
       "    .dataframe tbody tr th:only-of-type {\n",
       "        vertical-align: middle;\n",
       "    }\n",
       "\n",
       "    .dataframe tbody tr th {\n",
       "        vertical-align: top;\n",
       "    }\n",
       "\n",
       "    .dataframe thead th {\n",
       "        text-align: right;\n",
       "    }\n",
       "</style>\n",
       "<table border=\"1\" class=\"dataframe\">\n",
       "  <thead>\n",
       "    <tr style=\"text-align: right;\">\n",
       "      <th></th>\n",
       "      <th>name</th>\n",
       "      <th>distr</th>\n",
       "      <th>percentage</th>\n",
       "      <th>skewness</th>\n",
       "      <th>lcl</th>\n",
       "      <th>ucl</th>\n",
       "      <th>treatment</th>\n",
       "    </tr>\n",
       "  </thead>\n",
       "  <tbody>\n",
       "    <tr>\n",
       "      <th>2</th>\n",
       "      <td>Rainfall</td>\n",
       "      <td>skewed</td>\n",
       "      <td>0.147809</td>\n",
       "      <td>9.993055</td>\n",
       "      <td>-2.4</td>\n",
       "      <td>3.2</td>\n",
       "      <td>capping</td>\n",
       "    </tr>\n",
       "  </tbody>\n",
       "</table>\n",
       "</div>"
      ],
      "text/plain": [
       "       name   distr  percentage  skewness  lcl  ucl treatment\n",
       "2  Rainfall  skewed    0.147809  9.993055 -2.4  3.2   capping"
      ]
     },
     "execution_count": 111,
     "metadata": {},
     "output_type": "execute_result"
    }
   ],
   "source": [
    "capping_skew = outlier_treatment[(outlier_treatment['treatment'] == 'capping') & (outlier_treatment['distr'] == 'skewed')]\n",
    "capping_skew"
   ]
  },
  {
   "cell_type": "markdown",
   "metadata": {},
   "source": [
    "dilakukan query untuk kolom numerical yang berdistribusi skewed dan harus ditreatment capping"
   ]
  },
  {
   "cell_type": "code",
   "execution_count": 112,
   "metadata": {},
   "outputs": [
    {
     "data": {
      "text/plain": [
       "['Rainfall']"
      ]
     },
     "execution_count": 112,
     "metadata": {},
     "output_type": "execute_result"
    }
   ],
   "source": [
    "capping_skew['name'].unique().tolist()"
   ]
  },
  {
   "cell_type": "markdown",
   "metadata": {},
   "source": [
    "mengambil nama kolom yang berdistribusi skewed dan harus ditreatment capping"
   ]
  },
  {
   "cell_type": "code",
   "execution_count": 113,
   "metadata": {},
   "outputs": [],
   "source": [
    "windsoriser = Winsorizer(capping_method='iqr', # choose iqr \n",
    "                          tail='both', # cap both tails \n",
    "                          fold=1.5,\n",
    "                          variables=['Rainfall'],\n",
    "                          missing_values='ignore')\n",
    "\n",
    "windsoriser.fit(x_train)\n",
    "x_train_cap_skew = windsoriser.transform(x_train)"
   ]
  },
  {
   "cell_type": "markdown",
   "metadata": {},
   "source": [
    "menggunakan fungsi winsorizer dimasukanlah ketiga kolom yang berdistribusi skewed dan harus ditreatment capping"
   ]
  },
  {
   "cell_type": "code",
   "execution_count": 114,
   "metadata": {},
   "outputs": [
    {
     "data": {
      "text/html": [
       "<div>\n",
       "<style scoped>\n",
       "    .dataframe tbody tr th:only-of-type {\n",
       "        vertical-align: middle;\n",
       "    }\n",
       "\n",
       "    .dataframe tbody tr th {\n",
       "        vertical-align: top;\n",
       "    }\n",
       "\n",
       "    .dataframe thead th {\n",
       "        text-align: right;\n",
       "    }\n",
       "</style>\n",
       "<table border=\"1\" class=\"dataframe\">\n",
       "  <thead>\n",
       "    <tr style=\"text-align: right;\">\n",
       "      <th></th>\n",
       "      <th>name</th>\n",
       "      <th>distr</th>\n",
       "      <th>percentage</th>\n",
       "      <th>skewness</th>\n",
       "      <th>lcl</th>\n",
       "      <th>ucl</th>\n",
       "      <th>treatment</th>\n",
       "    </tr>\n",
       "  </thead>\n",
       "  <tbody>\n",
       "    <tr>\n",
       "      <th>0</th>\n",
       "      <td>MinTemp</td>\n",
       "      <td>normal</td>\n",
       "      <td>0.138389</td>\n",
       "      <td>0.021764</td>\n",
       "      <td>2.596640</td>\n",
       "      <td>21.781705</td>\n",
       "      <td>capping</td>\n",
       "    </tr>\n",
       "    <tr>\n",
       "      <th>1</th>\n",
       "      <td>MaxTemp</td>\n",
       "      <td>normal</td>\n",
       "      <td>0.120187</td>\n",
       "      <td>0.218259</td>\n",
       "      <td>12.544318</td>\n",
       "      <td>33.890485</td>\n",
       "      <td>capping</td>\n",
       "    </tr>\n",
       "    <tr>\n",
       "      <th>4</th>\n",
       "      <td>Sunshine</td>\n",
       "      <td>normal</td>\n",
       "      <td>0.070342</td>\n",
       "      <td>-0.495380</td>\n",
       "      <td>1.930071</td>\n",
       "      <td>13.286345</td>\n",
       "      <td>capping</td>\n",
       "    </tr>\n",
       "    <tr>\n",
       "      <th>8</th>\n",
       "      <td>Humidity9am</td>\n",
       "      <td>normal</td>\n",
       "      <td>0.134694</td>\n",
       "      <td>-0.487229</td>\n",
       "      <td>40.373074</td>\n",
       "      <td>97.456878</td>\n",
       "      <td>capping</td>\n",
       "    </tr>\n",
       "    <tr>\n",
       "      <th>9</th>\n",
       "      <td>Humidity3pm</td>\n",
       "      <td>normal</td>\n",
       "      <td>0.149888</td>\n",
       "      <td>0.029192</td>\n",
       "      <td>20.367340</td>\n",
       "      <td>82.745031</td>\n",
       "      <td>capping</td>\n",
       "    </tr>\n",
       "    <tr>\n",
       "      <th>10</th>\n",
       "      <td>Pressure9am</td>\n",
       "      <td>normal</td>\n",
       "      <td>0.116268</td>\n",
       "      <td>-0.099966</td>\n",
       "      <td>1006.993887</td>\n",
       "      <td>1028.308837</td>\n",
       "      <td>capping</td>\n",
       "    </tr>\n",
       "    <tr>\n",
       "      <th>11</th>\n",
       "      <td>Pressure3pm</td>\n",
       "      <td>normal</td>\n",
       "      <td>0.116208</td>\n",
       "      <td>-0.047924</td>\n",
       "      <td>1004.705659</td>\n",
       "      <td>1025.811326</td>\n",
       "      <td>capping</td>\n",
       "    </tr>\n",
       "    <tr>\n",
       "      <th>12</th>\n",
       "      <td>Cloud9am</td>\n",
       "      <td>normal</td>\n",
       "      <td>0.059720</td>\n",
       "      <td>-0.226845</td>\n",
       "      <td>0.111059</td>\n",
       "      <td>8.774119</td>\n",
       "      <td>capping</td>\n",
       "    </tr>\n",
       "    <tr>\n",
       "      <th>14</th>\n",
       "      <td>Temp9am</td>\n",
       "      <td>normal</td>\n",
       "      <td>0.132657</td>\n",
       "      <td>0.089371</td>\n",
       "      <td>7.263087</td>\n",
       "      <td>26.710724</td>\n",
       "      <td>capping</td>\n",
       "    </tr>\n",
       "    <tr>\n",
       "      <th>15</th>\n",
       "      <td>Temp3pm</td>\n",
       "      <td>normal</td>\n",
       "      <td>0.119422</td>\n",
       "      <td>0.236117</td>\n",
       "      <td>11.281155</td>\n",
       "      <td>32.073456</td>\n",
       "      <td>capping</td>\n",
       "    </tr>\n",
       "  </tbody>\n",
       "</table>\n",
       "</div>"
      ],
      "text/plain": [
       "           name   distr  percentage  skewness          lcl          ucl  \\\n",
       "0       MinTemp  normal    0.138389  0.021764     2.596640    21.781705   \n",
       "1       MaxTemp  normal    0.120187  0.218259    12.544318    33.890485   \n",
       "4      Sunshine  normal    0.070342 -0.495380     1.930071    13.286345   \n",
       "8   Humidity9am  normal    0.134694 -0.487229    40.373074    97.456878   \n",
       "9   Humidity3pm  normal    0.149888  0.029192    20.367340    82.745031   \n",
       "10  Pressure9am  normal    0.116268 -0.099966  1006.993887  1028.308837   \n",
       "11  Pressure3pm  normal    0.116208 -0.047924  1004.705659  1025.811326   \n",
       "12     Cloud9am  normal    0.059720 -0.226845     0.111059     8.774119   \n",
       "14      Temp9am  normal    0.132657  0.089371     7.263087    26.710724   \n",
       "15      Temp3pm  normal    0.119422  0.236117    11.281155    32.073456   \n",
       "\n",
       "   treatment  \n",
       "0    capping  \n",
       "1    capping  \n",
       "4    capping  \n",
       "8    capping  \n",
       "9    capping  \n",
       "10   capping  \n",
       "11   capping  \n",
       "12   capping  \n",
       "14   capping  \n",
       "15   capping  "
      ]
     },
     "execution_count": 114,
     "metadata": {},
     "output_type": "execute_result"
    }
   ],
   "source": [
    "capping_norm = outlier_treatment[(outlier_treatment['treatment'] == 'capping') & (outlier_treatment['distr'] == 'normal')]\n",
    "capping_norm"
   ]
  },
  {
   "cell_type": "markdown",
   "metadata": {},
   "source": [
    "query untuk kolom numerikal yang berdistribusi normal dan harus dicapping"
   ]
  },
  {
   "cell_type": "code",
   "execution_count": 115,
   "metadata": {},
   "outputs": [
    {
     "data": {
      "text/plain": [
       "['MinTemp',\n",
       " 'MaxTemp',\n",
       " 'Sunshine',\n",
       " 'Humidity9am',\n",
       " 'Humidity3pm',\n",
       " 'Pressure9am',\n",
       " 'Pressure3pm',\n",
       " 'Cloud9am',\n",
       " 'Temp9am',\n",
       " 'Temp3pm']"
      ]
     },
     "execution_count": 115,
     "metadata": {},
     "output_type": "execute_result"
    }
   ],
   "source": [
    "capping_norm['name'].unique().tolist()"
   ]
  },
  {
   "cell_type": "markdown",
   "metadata": {},
   "source": [
    "mengambil nama yang berdistribusi normal dan harus dicapping"
   ]
  },
  {
   "cell_type": "code",
   "execution_count": 116,
   "metadata": {},
   "outputs": [],
   "source": [
    "windsoriser = Winsorizer(capping_method='gaussian', # choose gaussian for mean and std\n",
    "                          tail='both', # cap both tails \n",
    "                          fold=1.5,\n",
    "                          variables=['MinTemp',\n",
    "                                    'MaxTemp',\n",
    "                                    'Sunshine',\n",
    "                                    'Humidity9am',\n",
    "                                    'Humidity3pm',\n",
    "                                    'Pressure9am',\n",
    "                                    'Pressure3pm',\n",
    "                                    'Cloud9am',\n",
    "                                    'Temp9am',\n",
    "                                    'Temp3pm'],\n",
    "                            missing_values='ignore')\n",
    "\n",
    "windsoriser.fit(x_train_cap_skew)\n",
    "x_train_cap_norm = windsoriser.transform(x_train_cap_skew)"
   ]
  },
  {
   "cell_type": "markdown",
   "metadata": {},
   "source": [
    "melakukan capping dengan menggunakan winsorizer untuk data yang yang berdistribusi normal dan harus dicapping. data yang diambil adalah data yang sudah di treatment berdistribusi skewed dan harus ditreatment capping. maka dari itu transformnya dari data x_train_cap_skew"
   ]
  },
  {
   "cell_type": "code",
   "execution_count": 175,
   "metadata": {},
   "outputs": [],
   "source": [
    " y_train_trim = y_train.copy()\n",
    " x_train_cap_norm = pd.concat([x_train_cap_norm,y_train_trim],axis=1)"
   ]
  },
  {
   "cell_type": "markdown",
   "metadata": {},
   "source": [
    "sebelum masuk ke trimming dilakukan terlebih dahulu sambungan dengan y_train ini digunakan agar jumlah data dari x_train dan y_tran akan tetap sama meskipun telah di trimming"
   ]
  },
  {
   "cell_type": "code",
   "execution_count": 176,
   "metadata": {},
   "outputs": [
    {
     "data": {
      "text/html": [
       "<div>\n",
       "<style scoped>\n",
       "    .dataframe tbody tr th:only-of-type {\n",
       "        vertical-align: middle;\n",
       "    }\n",
       "\n",
       "    .dataframe tbody tr th {\n",
       "        vertical-align: top;\n",
       "    }\n",
       "\n",
       "    .dataframe thead th {\n",
       "        text-align: right;\n",
       "    }\n",
       "</style>\n",
       "<table border=\"1\" class=\"dataframe\">\n",
       "  <thead>\n",
       "    <tr style=\"text-align: right;\">\n",
       "      <th></th>\n",
       "      <th>name</th>\n",
       "      <th>distr</th>\n",
       "      <th>percentage</th>\n",
       "      <th>skewness</th>\n",
       "      <th>lcl</th>\n",
       "      <th>ucl</th>\n",
       "      <th>treatment</th>\n",
       "    </tr>\n",
       "  </thead>\n",
       "  <tbody>\n",
       "    <tr>\n",
       "      <th>0</th>\n",
       "      <td>Evaporation</td>\n",
       "      <td>skewed</td>\n",
       "      <td>0.003360</td>\n",
       "      <td>3.913944</td>\n",
       "      <td>-11.800000</td>\n",
       "      <td>21.800000</td>\n",
       "      <td>trim</td>\n",
       "    </tr>\n",
       "    <tr>\n",
       "      <th>1</th>\n",
       "      <td>WindGustSpeed</td>\n",
       "      <td>skewed</td>\n",
       "      <td>0.001023</td>\n",
       "      <td>0.871020</td>\n",
       "      <td>-20.000000</td>\n",
       "      <td>99.000000</td>\n",
       "      <td>trim</td>\n",
       "    </tr>\n",
       "    <tr>\n",
       "      <th>2</th>\n",
       "      <td>WindSpeed9am</td>\n",
       "      <td>skewed</td>\n",
       "      <td>0.000816</td>\n",
       "      <td>0.786914</td>\n",
       "      <td>-29.000000</td>\n",
       "      <td>55.000000</td>\n",
       "      <td>trim</td>\n",
       "    </tr>\n",
       "    <tr>\n",
       "      <th>3</th>\n",
       "      <td>WindSpeed3pm</td>\n",
       "      <td>skewed</td>\n",
       "      <td>0.000791</td>\n",
       "      <td>0.635782</td>\n",
       "      <td>-20.000000</td>\n",
       "      <td>57.000000</td>\n",
       "      <td>trim</td>\n",
       "    </tr>\n",
       "    <tr>\n",
       "      <th>4</th>\n",
       "      <td>Cloud3pm</td>\n",
       "      <td>normal</td>\n",
       "      <td>0.034316</td>\n",
       "      <td>-0.224654</td>\n",
       "      <td>0.424073</td>\n",
       "      <td>8.589079</td>\n",
       "      <td>trim</td>\n",
       "    </tr>\n",
       "  </tbody>\n",
       "</table>\n",
       "</div>"
      ],
      "text/plain": [
       "            name   distr  percentage  skewness        lcl        ucl treatment\n",
       "0    Evaporation  skewed    0.003360  3.913944 -11.800000  21.800000      trim\n",
       "1  WindGustSpeed  skewed    0.001023  0.871020 -20.000000  99.000000      trim\n",
       "2   WindSpeed9am  skewed    0.000816  0.786914 -29.000000  55.000000      trim\n",
       "3   WindSpeed3pm  skewed    0.000791  0.635782 -20.000000  57.000000      trim\n",
       "4       Cloud3pm  normal    0.034316 -0.224654   0.424073   8.589079      trim"
      ]
     },
     "execution_count": 176,
     "metadata": {},
     "output_type": "execute_result"
    }
   ],
   "source": [
    "trim = outlier_treatment[outlier_treatment['treatment'] == 'trim']\n",
    "trim.reset_index(drop=True, inplace=True)\n",
    "trim"
   ]
  },
  {
   "cell_type": "markdown",
   "metadata": {},
   "source": [
    "dilakukan query data yang akan di trim. kemudian akan diquery batas atas dan bawah pada cell selanjutnya."
   ]
  },
  {
   "cell_type": "code",
   "execution_count": 177,
   "metadata": {},
   "outputs": [],
   "source": [
    "x_train_nan = x_train_cap_norm.replace({'Evaporation':{np.nan:-999},\n",
    "                                        'WindGustSpeed':{np.nan:-999},\n",
    "                                        'WindSpeed9am':{np.nan:-999},\n",
    "                                        'WindSpeed3pm':{np.nan:-999},\n",
    "                                        'Cloud3pm':{np.nan:-999}})"
   ]
  },
  {
   "cell_type": "code",
   "execution_count": 178,
   "metadata": {},
   "outputs": [
    {
     "data": {
      "text/plain": [
       "(112620, 23)"
      ]
     },
     "execution_count": 178,
     "metadata": {},
     "output_type": "execute_result"
    }
   ],
   "source": [
    "x_train_outlier_clean = x_train_nan[(x_train_nan['Evaporation'] >= trim['lcl'][0]) & (x_train_nan['Evaporation'] <= trim['ucl'][0]) &\n",
    "                     (x_train_nan['WindGustSpeed'] >= trim['lcl'][1]) & (x_train_nan['WindGustSpeed'] <= trim['ucl'][1]) &\n",
    "                     (x_train_nan['WindSpeed9am'] >= trim['lcl'][2]) & (x_train_nan['WindSpeed9am'] <= trim['ucl'][2]) &\n",
    "                     (x_train_nan['WindSpeed3pm'] >= trim['lcl'][3]) & (x_train_nan['WindSpeed3pm'] <= trim['ucl'][3]) &\n",
    "                     (x_train_nan['Cloud3pm'] >= trim['lcl'][4]) & (x_train_nan['Cloud3pm'] <= trim['ucl'][4]) |\n",
    "                        (x_train_nan['Evaporation'] == -999) |\n",
    "                        (x_train_nan['WindGustSpeed'] == -999) |\n",
    "                        (x_train_nan['WindSpeed9am'] == -999) |\n",
    "                        (x_train_nan['WindSpeed3pm'] == -999) |\n",
    "                        (x_train_nan['Cloud3pm'] == -999)]\n",
    "x_train_outlier_clean.shape             \n"
   ]
  },
  {
   "cell_type": "markdown",
   "metadata": {},
   "source": [
    "diatas adalah query batas atas dan batas bawah dari setiap kolom yang harus di trim. datanya diambil dari setelah dilakukan winsorizer yang berdistribusi normal"
   ]
  },
  {
   "cell_type": "code",
   "execution_count": 179,
   "metadata": {},
   "outputs": [],
   "source": [
    "y_outlier_clean = x_train_outlier_clean['RainTomorrow']\n",
    "x_outlier_clean = x_train_outlier_clean.drop(['RainTomorrow'],axis=1,inplace=True)"
   ]
  },
  {
   "cell_type": "markdown",
   "metadata": {},
   "source": [
    "setelah ditrim maka dipisahkan kembali y_train dengan nama variabel y_outlier_clean.\n",
    "\n",
    "dengan x_train yang sudah ditreatment menjadi x_outlier_clean"
   ]
  },
  {
   "cell_type": "markdown",
   "metadata": {},
   "source": [
    "### D. Outliers Handling Summary"
   ]
  },
  {
   "cell_type": "code",
   "execution_count": 180,
   "metadata": {},
   "outputs": [
    {
     "name": "stdout",
     "output_type": "stream",
     "text": [
      "Before Outlier handling: (116360, 22)\n",
      "After Outlier handling: (112620, 22)\n",
      "Ratio Outlier Handing : 96.79%\n"
     ]
    }
   ],
   "source": [
    "print('Before Outlier handling:', x_train.shape)\n",
    "print('After Outlier handling:', x_train_outlier_clean.shape)\n",
    "print(f'Ratio Outlier Handing : {x_train_outlier_clean.shape[0]/x_train.shape[0]:.2%}')"
   ]
  },
  {
   "cell_type": "markdown",
   "metadata": {},
   "source": [
    "summary sebelum outlier handling ada 510372 baris dan 56 kolom, dan setelah outlier handling berkurang menjadi 490600 dan 56 kolom. dengan persentase data yang masih dipertahankan sebanyak 96.13%\n"
   ]
  },
  {
   "cell_type": "markdown",
   "metadata": {},
   "source": [
    "## V. Missing Value Handling"
   ]
  },
  {
   "cell_type": "code",
   "execution_count": 184,
   "metadata": {},
   "outputs": [
    {
     "data": {
      "text/plain": [
       "(112620, 22)"
      ]
     },
     "execution_count": 184,
     "metadata": {},
     "output_type": "execute_result"
    }
   ],
   "source": [
    "x_train_outlier_clean = x_train_outlier_clean.replace({'Evaporation':{-999:np.nan},\n",
    "                                                        'WindGustSpeed':{-999:np.nan},\n",
    "                                                        'WindSpeed9am':{-999:np.nan},\n",
    "                                                        'WindSpeed3pm':{-999:np.nan},\n",
    "                                                        'Cloud3pm':{-999:np.nan}})\n",
    "x_train_outlier_clean.shape"
   ]
  },
  {
   "cell_type": "code",
   "execution_count": 185,
   "metadata": {},
   "outputs": [
    {
     "data": {
      "text/plain": [
       "Date                 0\n",
       "Location             0\n",
       "MinTemp           1179\n",
       "MaxTemp            999\n",
       "Rainfall          2609\n",
       "Evaporation      50037\n",
       "Sunshine         55093\n",
       "WindGustDir       8214\n",
       "WindGustSpeed     8163\n",
       "WindDir9am        8370\n",
       "WindDir3pm        3358\n",
       "WindSpeed9am      1404\n",
       "WindSpeed3pm      2430\n",
       "Humidity9am       2102\n",
       "Humidity3pm       3570\n",
       "Pressure9am      11978\n",
       "Pressure3pm      11969\n",
       "Cloud9am         44663\n",
       "Cloud3pm         47472\n",
       "Temp9am           1419\n",
       "Temp3pm           2882\n",
       "RainToday         2609\n",
       "dtype: int64"
      ]
     },
     "execution_count": 185,
     "metadata": {},
     "output_type": "execute_result"
    }
   ],
   "source": [
    "x_train_outlier_clean.isnull().sum()"
   ]
  },
  {
   "cell_type": "markdown",
   "metadata": {},
   "source": [
    "## V. Feature Selecting"
   ]
  },
  {
   "cell_type": "markdown",
   "metadata": {},
   "source": [
    "### A. Feature Selecting Numerical data types"
   ]
  },
  {
   "cell_type": "markdown",
   "metadata": {},
   "source": [
    "Data tidak dilakukan missing value handling dan langsung ke feature scaling, karena data x train tidak ada missing value"
   ]
  },
  {
   "cell_type": "code",
   "execution_count": 96,
   "metadata": {},
   "outputs": [],
   "source": [
    "heatmap_after = x_train_outlier_clean.copy()\n",
    "heatmap_after = pd.concat([heatmap_after, y_train], axis=1)"
   ]
  },
  {
   "cell_type": "markdown",
   "metadata": {},
   "source": [
    "membuat variabel heatmap_after, ini digunakan untuk plotting heatmap korelasi pearson pada x_train_outlier_clean"
   ]
  },
  {
   "cell_type": "code",
   "execution_count": 97,
   "metadata": {},
   "outputs": [
    {
     "data": {
      "image/png": "[encoded data removed]",
      "text/plain": [
       "<Figure size 2160x2160 with 2 Axes>"
      ]
     },
     "metadata": {
      "needs_background": "light"
     },
     "output_type": "display_data"
    }
   ],
   "source": [
    "fig2 = plt.figure(figsize=(30,30))\n",
    "fig2 = sns.heatmap(heatmap_after.corr(),annot=True,cmap='RdYlGn',linewidths=0.2)\n",
    "plt.show()"
   ]
  },
  {
   "cell_type": "markdown",
   "metadata": {},
   "source": [
    "Korelasi Pearson adalah alat analisis statistik yang digunakan untuk melihat keeratan hubungan linier antara 2 variabel yang skala datanya adalah interval atau rasio. Berikut ini adalah interpretasi besarnya nilai koefisien korelasi.\n",
    "- 0 - 0,2 menyatakan hubungan keeratan sangat lemah,\n",
    "- 0,2 - 0,4 menyatakan hubungan keeratan lemah,\n",
    "- 0,4 - 0,7 menyatakan hubungan keeratan cukup kuat,\n",
    "- 0,7 - 0,9 menyatakan hubungan keeratan kuat,\n",
    "- 0,9 - 1 menyatakan hubungan keeratan sangat kuat.\n",
    "\n",
    "Tanda positif dan negatif pada koefisien korelasi menunjukkan arah hubungan. Koefisien korelasi bertanda **positif artinya hubungannya berbanding lurus**, dimana semakin tinggi nilai variabel x maka nilai variabel y juga semakin tinggi dan semakin rendah nilai variabel x maka nilai variabel y juga semakin rendah. Koefisien korelasi bertanda **negatif artinya hubungannya berbanding terbalik**, dimana semakin tinggi nilai variabel x maka nilai variabel y semakin rendah dan semakin rendah nilai variabel x maka nilai variabel y semakin tinggi.[2]\n",
    "\n",
    "\n",
    "setelah melakukan outlier handling didapatkan korelasi seperti diatas. nilai korelasi hampir tidak ada perbedaan dengan target. maka yang akan diambil untuk dimasukan kedalam model adalah feature \"distance\" dan \"surge_multiplier\" karena ada positive korelasi yang lemah sebesar 0.35 untuk distance dan korelasi sangat lemah untuk surge_multiplier sebesar 0.24 dengan price"
   ]
  },
  {
   "cell_type": "markdown",
   "metadata": {},
   "source": [
    "### B. Feature Selecting Categorical data types"
   ]
  },
  {
   "cell_type": "markdown",
   "metadata": {},
   "source": [
    "melakukan feature selecting categorical yang saya gunakan adalah merubah data categorical tersebut menjadi angka dengan menggunakan label encoder. "
   ]
  },
  {
   "cell_type": "code",
   "execution_count": null,
   "metadata": {},
   "outputs": [
    {
     "data": {
      "text/html": [
       "<div>\n",
       "<style scoped>\n",
       "    .dataframe tbody tr th:only-of-type {\n",
       "        vertical-align: middle;\n",
       "    }\n",
       "\n",
       "    .dataframe tbody tr th {\n",
       "        vertical-align: top;\n",
       "    }\n",
       "\n",
       "    .dataframe thead th {\n",
       "        text-align: right;\n",
       "    }\n",
       "</style>\n",
       "<table border=\"1\" class=\"dataframe\">\n",
       "  <thead>\n",
       "    <tr style=\"text-align: right;\">\n",
       "      <th></th>\n",
       "      <th>id</th>\n",
       "      <th>datetime</th>\n",
       "      <th>timezone</th>\n",
       "      <th>source</th>\n",
       "      <th>destination</th>\n",
       "      <th>cab_type</th>\n",
       "      <th>product_id</th>\n",
       "      <th>name</th>\n",
       "      <th>short_summary</th>\n",
       "      <th>long_summary</th>\n",
       "      <th>icon</th>\n",
       "    </tr>\n",
       "  </thead>\n",
       "  <tbody>\n",
       "    <tr>\n",
       "      <th>224722</th>\n",
       "      <td>432053</td>\n",
       "      <td>23256</td>\n",
       "      <td>0</td>\n",
       "      <td>9</td>\n",
       "      <td>10</td>\n",
       "      <td>1</td>\n",
       "      <td>4</td>\n",
       "      <td>8</td>\n",
       "      <td>5</td>\n",
       "      <td>4</td>\n",
       "      <td>2</td>\n",
       "    </tr>\n",
       "    <tr>\n",
       "      <th>483389</th>\n",
       "      <td>90763</td>\n",
       "      <td>11326</td>\n",
       "      <td>0</td>\n",
       "      <td>10</td>\n",
       "      <td>2</td>\n",
       "      <td>0</td>\n",
       "      <td>7</td>\n",
       "      <td>7</td>\n",
       "      <td>6</td>\n",
       "      <td>1</td>\n",
       "      <td>5</td>\n",
       "    </tr>\n",
       "    <tr>\n",
       "      <th>164048</th>\n",
       "      <td>19488</td>\n",
       "      <td>2989</td>\n",
       "      <td>0</td>\n",
       "      <td>4</td>\n",
       "      <td>9</td>\n",
       "      <td>1</td>\n",
       "      <td>1</td>\n",
       "      <td>0</td>\n",
       "      <td>6</td>\n",
       "      <td>4</td>\n",
       "      <td>4</td>\n",
       "    </tr>\n",
       "    <tr>\n",
       "      <th>316033</th>\n",
       "      <td>450026</td>\n",
       "      <td>26870</td>\n",
       "      <td>0</td>\n",
       "      <td>7</td>\n",
       "      <td>9</td>\n",
       "      <td>0</td>\n",
       "      <td>11</td>\n",
       "      <td>2</td>\n",
       "      <td>8</td>\n",
       "      <td>9</td>\n",
       "      <td>6</td>\n",
       "    </tr>\n",
       "    <tr>\n",
       "      <th>379521</th>\n",
       "      <td>206462</td>\n",
       "      <td>25179</td>\n",
       "      <td>0</td>\n",
       "      <td>10</td>\n",
       "      <td>9</td>\n",
       "      <td>0</td>\n",
       "      <td>11</td>\n",
       "      <td>2</td>\n",
       "      <td>6</td>\n",
       "      <td>9</td>\n",
       "      <td>5</td>\n",
       "    </tr>\n",
       "    <tr>\n",
       "      <th>...</th>\n",
       "      <td>...</td>\n",
       "      <td>...</td>\n",
       "      <td>...</td>\n",
       "      <td>...</td>\n",
       "      <td>...</td>\n",
       "      <td>...</td>\n",
       "      <td>...</td>\n",
       "      <td>...</td>\n",
       "      <td>...</td>\n",
       "      <td>...</td>\n",
       "      <td>...</td>\n",
       "    </tr>\n",
       "    <tr>\n",
       "      <th>371403</th>\n",
       "      <td>74502</td>\n",
       "      <td>20653</td>\n",
       "      <td>0</td>\n",
       "      <td>8</td>\n",
       "      <td>7</td>\n",
       "      <td>0</td>\n",
       "      <td>10</td>\n",
       "      <td>6</td>\n",
       "      <td>0</td>\n",
       "      <td>6</td>\n",
       "      <td>0</td>\n",
       "    </tr>\n",
       "    <tr>\n",
       "      <th>491263</th>\n",
       "      <td>125968</td>\n",
       "      <td>220</td>\n",
       "      <td>0</td>\n",
       "      <td>11</td>\n",
       "      <td>6</td>\n",
       "      <td>0</td>\n",
       "      <td>7</td>\n",
       "      <td>7</td>\n",
       "      <td>2</td>\n",
       "      <td>10</td>\n",
       "      <td>3</td>\n",
       "    </tr>\n",
       "    <tr>\n",
       "      <th>470924</th>\n",
       "      <td>157032</td>\n",
       "      <td>11050</td>\n",
       "      <td>0</td>\n",
       "      <td>10</td>\n",
       "      <td>6</td>\n",
       "      <td>1</td>\n",
       "      <td>1</td>\n",
       "      <td>0</td>\n",
       "      <td>6</td>\n",
       "      <td>1</td>\n",
       "      <td>4</td>\n",
       "    </tr>\n",
       "    <tr>\n",
       "      <th>491755</th>\n",
       "      <td>79901</td>\n",
       "      <td>14224</td>\n",
       "      <td>0</td>\n",
       "      <td>5</td>\n",
       "      <td>7</td>\n",
       "      <td>0</td>\n",
       "      <td>11</td>\n",
       "      <td>2</td>\n",
       "      <td>5</td>\n",
       "      <td>9</td>\n",
       "      <td>2</td>\n",
       "    </tr>\n",
       "    <tr>\n",
       "      <th>128037</th>\n",
       "      <td>287425</td>\n",
       "      <td>23339</td>\n",
       "      <td>0</td>\n",
       "      <td>0</td>\n",
       "      <td>6</td>\n",
       "      <td>1</td>\n",
       "      <td>1</td>\n",
       "      <td>0</td>\n",
       "      <td>5</td>\n",
       "      <td>4</td>\n",
       "      <td>2</td>\n",
       "    </tr>\n",
       "  </tbody>\n",
       "</table>\n",
       "<p>490600 rows × 11 columns</p>\n",
       "</div>"
      ],
      "text/plain": [
       "            id  datetime  timezone  source  destination  cab_type  product_id  \\\n",
       "224722  432053     23256         0       9           10         1           4   \n",
       "483389   90763     11326         0      10            2         0           7   \n",
       "164048   19488      2989         0       4            9         1           1   \n",
       "316033  450026     26870         0       7            9         0          11   \n",
       "379521  206462     25179         0      10            9         0          11   \n",
       "...        ...       ...       ...     ...          ...       ...         ...   \n",
       "371403   74502     20653         0       8            7         0          10   \n",
       "491263  125968       220         0      11            6         0           7   \n",
       "470924  157032     11050         0      10            6         1           1   \n",
       "491755   79901     14224         0       5            7         0          11   \n",
       "128037  287425     23339         0       0            6         1           1   \n",
       "\n",
       "        name  short_summary  long_summary  icon  \n",
       "224722     8              5             4     2  \n",
       "483389     7              6             1     5  \n",
       "164048     0              6             4     4  \n",
       "316033     2              8             9     6  \n",
       "379521     2              6             9     5  \n",
       "...      ...            ...           ...   ...  \n",
       "371403     6              0             6     0  \n",
       "491263     7              2            10     3  \n",
       "470924     0              6             1     4  \n",
       "491755     2              5             9     2  \n",
       "128037     0              5             4     2  \n",
       "\n",
       "[490600 rows x 11 columns]"
      ]
     },
     "execution_count": 49,
     "metadata": {},
     "output_type": "execute_result"
    }
   ],
   "source": [
    "label_encoder = LabelEncoder()\n",
    "x_train_cat_enc= x_train_outlier_clean.copy()\n",
    "for col in x_train_cat_enc.select_dtypes(include='object').columns:\n",
    "    x_train_cat_enc[col]=label_encoder.fit_transform(x_train_cat_enc[col])\n",
    "\n",
    "x_train_cat_enc[obj_columns]\n",
    "\n"
   ]
  },
  {
   "cell_type": "code",
   "execution_count": null,
   "metadata": {},
   "outputs": [],
   "source": [
    "heatmap_category = x_train_cat_enc[obj_columns].copy()\n",
    "heatmap_category = pd.concat([heatmap_category, y_train], axis=1)"
   ]
  },
  {
   "cell_type": "markdown",
   "metadata": {},
   "source": [
    "kemudian membuat variable heatmap_category untuk dibuatkan koreasi pearson heatmapnya."
   ]
  },
  {
   "cell_type": "code",
   "execution_count": null,
   "metadata": {},
   "outputs": [
    {
     "data": {
      "image/png": "[encoded data removed]",
      "text/plain": [
       "<Figure size 2160x2160 with 2 Axes>"
      ]
     },
     "metadata": {
      "needs_background": "light"
     },
     "output_type": "display_data"
    }
   ],
   "source": [
    "fig3 = plt.figure(figsize=(30,30))\n",
    "fig3 = sns.heatmap(heatmap_category.corr(),annot=True,cmap='RdYlGn',linewidths=0.2)\n",
    "plt.show()"
   ]
  },
  {
   "cell_type": "markdown",
   "metadata": {},
   "source": [
    "terdapat korelasi berbanding terbalik yang cukup kuat di feature 'name' dengan nilai -0.59 maka akan diambil feature tersebut.\n",
    "\n",
    "untuk timezone tidak ada pearson correlationnya karena timezone hanya 1 kategori 'America/New_York' . maka dari itu feature ini dapat diabaikan\n",
    "\n",
    "setelah mengetahui feature mana saja yang akan dimasukan kedalam model maka dilakukan pemilihan feature pada masing-masing data train dan test."
   ]
  },
  {
   "cell_type": "markdown",
   "metadata": {},
   "source": [
    "### C. Selecting x train"
   ]
  },
  {
   "cell_type": "markdown",
   "metadata": {},
   "source": [
    "memilih name, distance dan surge_multiplier pada dataframe x train"
   ]
  },
  {
   "cell_type": "code",
   "execution_count": null,
   "metadata": {},
   "outputs": [
    {
     "data": {
      "text/html": [
       "<div>\n",
       "<style scoped>\n",
       "    .dataframe tbody tr th:only-of-type {\n",
       "        vertical-align: middle;\n",
       "    }\n",
       "\n",
       "    .dataframe tbody tr th {\n",
       "        vertical-align: top;\n",
       "    }\n",
       "\n",
       "    .dataframe thead th {\n",
       "        text-align: right;\n",
       "    }\n",
       "</style>\n",
       "<table border=\"1\" class=\"dataframe\">\n",
       "  <thead>\n",
       "    <tr style=\"text-align: right;\">\n",
       "      <th></th>\n",
       "      <th>name</th>\n",
       "      <th>distance</th>\n",
       "      <th>surge_multiplier</th>\n",
       "    </tr>\n",
       "  </thead>\n",
       "  <tbody>\n",
       "    <tr>\n",
       "      <th>224722</th>\n",
       "      <td>UberPool</td>\n",
       "      <td>1.30</td>\n",
       "      <td>1.0</td>\n",
       "    </tr>\n",
       "    <tr>\n",
       "      <th>483389</th>\n",
       "      <td>Shared</td>\n",
       "      <td>4.79</td>\n",
       "      <td>1.0</td>\n",
       "    </tr>\n",
       "    <tr>\n",
       "      <th>164048</th>\n",
       "      <td>Black</td>\n",
       "      <td>0.39</td>\n",
       "      <td>1.0</td>\n",
       "    </tr>\n",
       "    <tr>\n",
       "      <th>316033</th>\n",
       "      <td>Lux</td>\n",
       "      <td>2.14</td>\n",
       "      <td>1.0</td>\n",
       "    </tr>\n",
       "    <tr>\n",
       "      <th>379521</th>\n",
       "      <td>Lux</td>\n",
       "      <td>0.64</td>\n",
       "      <td>2.0</td>\n",
       "    </tr>\n",
       "    <tr>\n",
       "      <th>...</th>\n",
       "      <td>...</td>\n",
       "      <td>...</td>\n",
       "      <td>...</td>\n",
       "    </tr>\n",
       "    <tr>\n",
       "      <th>371403</th>\n",
       "      <td>Lyft XL</td>\n",
       "      <td>3.19</td>\n",
       "      <td>1.5</td>\n",
       "    </tr>\n",
       "    <tr>\n",
       "      <th>491263</th>\n",
       "      <td>Shared</td>\n",
       "      <td>1.05</td>\n",
       "      <td>1.0</td>\n",
       "    </tr>\n",
       "    <tr>\n",
       "      <th>470924</th>\n",
       "      <td>Black</td>\n",
       "      <td>1.57</td>\n",
       "      <td>1.0</td>\n",
       "    </tr>\n",
       "    <tr>\n",
       "      <th>491755</th>\n",
       "      <td>Lux</td>\n",
       "      <td>0.53</td>\n",
       "      <td>1.0</td>\n",
       "    </tr>\n",
       "    <tr>\n",
       "      <th>128037</th>\n",
       "      <td>Black</td>\n",
       "      <td>3.19</td>\n",
       "      <td>1.0</td>\n",
       "    </tr>\n",
       "  </tbody>\n",
       "</table>\n",
       "<p>490600 rows × 3 columns</p>\n",
       "</div>"
      ],
      "text/plain": [
       "            name  distance  surge_multiplier\n",
       "224722  UberPool      1.30               1.0\n",
       "483389    Shared      4.79               1.0\n",
       "164048     Black      0.39               1.0\n",
       "316033       Lux      2.14               1.0\n",
       "379521       Lux      0.64               2.0\n",
       "...          ...       ...               ...\n",
       "371403   Lyft XL      3.19               1.5\n",
       "491263    Shared      1.05               1.0\n",
       "470924     Black      1.57               1.0\n",
       "491755       Lux      0.53               1.0\n",
       "128037     Black      3.19               1.0\n",
       "\n",
       "[490600 rows x 3 columns]"
      ]
     },
     "execution_count": 52,
     "metadata": {},
     "output_type": "execute_result"
    }
   ],
   "source": [
    "category_select = x_train_outlier_clean[['name']].copy()\n",
    "number_select = x_train_outlier_clean[['distance','surge_multiplier']].copy()\n",
    "x_train_select = pd.concat([category_select, number_select], axis=1)\n",
    "x_train_select"
   ]
  },
  {
   "cell_type": "markdown",
   "metadata": {},
   "source": [
    "### D. Selecting X test feature"
   ]
  },
  {
   "cell_type": "markdown",
   "metadata": {},
   "source": [
    "memilih name, distance dan surge_multiplier pada dataframe x test"
   ]
  },
  {
   "cell_type": "code",
   "execution_count": null,
   "metadata": {},
   "outputs": [
    {
     "data": {
      "text/html": [
       "<div>\n",
       "<style scoped>\n",
       "    .dataframe tbody tr th:only-of-type {\n",
       "        vertical-align: middle;\n",
       "    }\n",
       "\n",
       "    .dataframe tbody tr th {\n",
       "        vertical-align: top;\n",
       "    }\n",
       "\n",
       "    .dataframe thead th {\n",
       "        text-align: right;\n",
       "    }\n",
       "</style>\n",
       "<table border=\"1\" class=\"dataframe\">\n",
       "  <thead>\n",
       "    <tr style=\"text-align: right;\">\n",
       "      <th></th>\n",
       "      <th>name</th>\n",
       "      <th>distance</th>\n",
       "      <th>surge_multiplier</th>\n",
       "    </tr>\n",
       "  </thead>\n",
       "  <tbody>\n",
       "    <tr>\n",
       "      <th>411580</th>\n",
       "      <td>Lux Black</td>\n",
       "      <td>2.15</td>\n",
       "      <td>1.0</td>\n",
       "    </tr>\n",
       "    <tr>\n",
       "      <th>394176</th>\n",
       "      <td>Lux Black XL</td>\n",
       "      <td>2.97</td>\n",
       "      <td>1.0</td>\n",
       "    </tr>\n",
       "    <tr>\n",
       "      <th>202005</th>\n",
       "      <td>Black SUV</td>\n",
       "      <td>2.66</td>\n",
       "      <td>1.0</td>\n",
       "    </tr>\n",
       "    <tr>\n",
       "      <th>279384</th>\n",
       "      <td>Lyft</td>\n",
       "      <td>2.94</td>\n",
       "      <td>1.0</td>\n",
       "    </tr>\n",
       "    <tr>\n",
       "      <th>220662</th>\n",
       "      <td>Lux</td>\n",
       "      <td>2.29</td>\n",
       "      <td>1.0</td>\n",
       "    </tr>\n",
       "    <tr>\n",
       "      <th>...</th>\n",
       "      <td>...</td>\n",
       "      <td>...</td>\n",
       "      <td>...</td>\n",
       "    </tr>\n",
       "    <tr>\n",
       "      <th>414353</th>\n",
       "      <td>Lux Black XL</td>\n",
       "      <td>3.30</td>\n",
       "      <td>1.0</td>\n",
       "    </tr>\n",
       "    <tr>\n",
       "      <th>398629</th>\n",
       "      <td>Shared</td>\n",
       "      <td>1.73</td>\n",
       "      <td>1.0</td>\n",
       "    </tr>\n",
       "    <tr>\n",
       "      <th>628873</th>\n",
       "      <td>WAV</td>\n",
       "      <td>3.37</td>\n",
       "      <td>1.0</td>\n",
       "    </tr>\n",
       "    <tr>\n",
       "      <th>576533</th>\n",
       "      <td>Black SUV</td>\n",
       "      <td>1.21</td>\n",
       "      <td>1.0</td>\n",
       "    </tr>\n",
       "    <tr>\n",
       "      <th>48224</th>\n",
       "      <td>WAV</td>\n",
       "      <td>0.92</td>\n",
       "      <td>1.0</td>\n",
       "    </tr>\n",
       "  </tbody>\n",
       "</table>\n",
       "<p>127594 rows × 3 columns</p>\n",
       "</div>"
      ],
      "text/plain": [
       "                name  distance  surge_multiplier\n",
       "411580     Lux Black      2.15               1.0\n",
       "394176  Lux Black XL      2.97               1.0\n",
       "202005     Black SUV      2.66               1.0\n",
       "279384          Lyft      2.94               1.0\n",
       "220662           Lux      2.29               1.0\n",
       "...              ...       ...               ...\n",
       "414353  Lux Black XL      3.30               1.0\n",
       "398629        Shared      1.73               1.0\n",
       "628873           WAV      3.37               1.0\n",
       "576533     Black SUV      1.21               1.0\n",
       "48224            WAV      0.92               1.0\n",
       "\n",
       "[127594 rows x 3 columns]"
      ]
     },
     "execution_count": 54,
     "metadata": {},
     "output_type": "execute_result"
    }
   ],
   "source": [
    "category_select_test = x_test[['name']].copy()\n",
    "number_select_test = x_test[['distance','surge_multiplier']].copy()\n",
    "x_test_select = pd.concat([category_select_test, number_select_test], axis=1)\n",
    "x_test_select"
   ]
  },
  {
   "cell_type": "markdown",
   "metadata": {},
   "source": [
    "## VI. Scaling & Encoding"
   ]
  },
  {
   "cell_type": "markdown",
   "metadata": {},
   "source": [
    "### A. One Hot encoder x train data"
   ]
  },
  {
   "cell_type": "markdown",
   "metadata": {},
   "source": [
    "melakukan one hot encoding fit dan transform pada data x train categorical yaitu 'name'"
   ]
  },
  {
   "cell_type": "code",
   "execution_count": null,
   "metadata": {},
   "outputs": [
    {
     "data": {
      "text/html": [
       "<div>\n",
       "<style scoped>\n",
       "    .dataframe tbody tr th:only-of-type {\n",
       "        vertical-align: middle;\n",
       "    }\n",
       "\n",
       "    .dataframe tbody tr th {\n",
       "        vertical-align: top;\n",
       "    }\n",
       "\n",
       "    .dataframe thead th {\n",
       "        text-align: right;\n",
       "    }\n",
       "</style>\n",
       "<table border=\"1\" class=\"dataframe\">\n",
       "  <thead>\n",
       "    <tr style=\"text-align: right;\">\n",
       "      <th></th>\n",
       "      <th>UberPool</th>\n",
       "      <th>Shared</th>\n",
       "      <th>Black</th>\n",
       "      <th>Lux</th>\n",
       "      <th>Lux Black XL</th>\n",
       "      <th>Lyft</th>\n",
       "      <th>UberX</th>\n",
       "      <th>WAV</th>\n",
       "      <th>UberXL</th>\n",
       "      <th>Black SUV</th>\n",
       "      <th>Lyft XL</th>\n",
       "      <th>Lux Black</th>\n",
       "    </tr>\n",
       "  </thead>\n",
       "  <tbody>\n",
       "    <tr>\n",
       "      <th>0</th>\n",
       "      <td>0.0</td>\n",
       "      <td>0.0</td>\n",
       "      <td>0.0</td>\n",
       "      <td>0.0</td>\n",
       "      <td>0.0</td>\n",
       "      <td>0.0</td>\n",
       "      <td>0.0</td>\n",
       "      <td>0.0</td>\n",
       "      <td>1.0</td>\n",
       "      <td>0.0</td>\n",
       "      <td>0.0</td>\n",
       "      <td>0.0</td>\n",
       "    </tr>\n",
       "    <tr>\n",
       "      <th>1</th>\n",
       "      <td>0.0</td>\n",
       "      <td>0.0</td>\n",
       "      <td>0.0</td>\n",
       "      <td>0.0</td>\n",
       "      <td>0.0</td>\n",
       "      <td>0.0</td>\n",
       "      <td>0.0</td>\n",
       "      <td>1.0</td>\n",
       "      <td>0.0</td>\n",
       "      <td>0.0</td>\n",
       "      <td>0.0</td>\n",
       "      <td>0.0</td>\n",
       "    </tr>\n",
       "    <tr>\n",
       "      <th>2</th>\n",
       "      <td>1.0</td>\n",
       "      <td>0.0</td>\n",
       "      <td>0.0</td>\n",
       "      <td>0.0</td>\n",
       "      <td>0.0</td>\n",
       "      <td>0.0</td>\n",
       "      <td>0.0</td>\n",
       "      <td>0.0</td>\n",
       "      <td>0.0</td>\n",
       "      <td>0.0</td>\n",
       "      <td>0.0</td>\n",
       "      <td>0.0</td>\n",
       "    </tr>\n",
       "    <tr>\n",
       "      <th>3</th>\n",
       "      <td>0.0</td>\n",
       "      <td>0.0</td>\n",
       "      <td>1.0</td>\n",
       "      <td>0.0</td>\n",
       "      <td>0.0</td>\n",
       "      <td>0.0</td>\n",
       "      <td>0.0</td>\n",
       "      <td>0.0</td>\n",
       "      <td>0.0</td>\n",
       "      <td>0.0</td>\n",
       "      <td>0.0</td>\n",
       "      <td>0.0</td>\n",
       "    </tr>\n",
       "    <tr>\n",
       "      <th>4</th>\n",
       "      <td>0.0</td>\n",
       "      <td>0.0</td>\n",
       "      <td>1.0</td>\n",
       "      <td>0.0</td>\n",
       "      <td>0.0</td>\n",
       "      <td>0.0</td>\n",
       "      <td>0.0</td>\n",
       "      <td>0.0</td>\n",
       "      <td>0.0</td>\n",
       "      <td>0.0</td>\n",
       "      <td>0.0</td>\n",
       "      <td>0.0</td>\n",
       "    </tr>\n",
       "    <tr>\n",
       "      <th>...</th>\n",
       "      <td>...</td>\n",
       "      <td>...</td>\n",
       "      <td>...</td>\n",
       "      <td>...</td>\n",
       "      <td>...</td>\n",
       "      <td>...</td>\n",
       "      <td>...</td>\n",
       "      <td>...</td>\n",
       "      <td>...</td>\n",
       "      <td>...</td>\n",
       "      <td>...</td>\n",
       "      <td>...</td>\n",
       "    </tr>\n",
       "    <tr>\n",
       "      <th>490595</th>\n",
       "      <td>0.0</td>\n",
       "      <td>0.0</td>\n",
       "      <td>0.0</td>\n",
       "      <td>0.0</td>\n",
       "      <td>0.0</td>\n",
       "      <td>0.0</td>\n",
       "      <td>1.0</td>\n",
       "      <td>0.0</td>\n",
       "      <td>0.0</td>\n",
       "      <td>0.0</td>\n",
       "      <td>0.0</td>\n",
       "      <td>0.0</td>\n",
       "    </tr>\n",
       "    <tr>\n",
       "      <th>490596</th>\n",
       "      <td>0.0</td>\n",
       "      <td>0.0</td>\n",
       "      <td>0.0</td>\n",
       "      <td>0.0</td>\n",
       "      <td>0.0</td>\n",
       "      <td>0.0</td>\n",
       "      <td>0.0</td>\n",
       "      <td>1.0</td>\n",
       "      <td>0.0</td>\n",
       "      <td>0.0</td>\n",
       "      <td>0.0</td>\n",
       "      <td>0.0</td>\n",
       "    </tr>\n",
       "    <tr>\n",
       "      <th>490597</th>\n",
       "      <td>1.0</td>\n",
       "      <td>0.0</td>\n",
       "      <td>0.0</td>\n",
       "      <td>0.0</td>\n",
       "      <td>0.0</td>\n",
       "      <td>0.0</td>\n",
       "      <td>0.0</td>\n",
       "      <td>0.0</td>\n",
       "      <td>0.0</td>\n",
       "      <td>0.0</td>\n",
       "      <td>0.0</td>\n",
       "      <td>0.0</td>\n",
       "    </tr>\n",
       "    <tr>\n",
       "      <th>490598</th>\n",
       "      <td>0.0</td>\n",
       "      <td>0.0</td>\n",
       "      <td>1.0</td>\n",
       "      <td>0.0</td>\n",
       "      <td>0.0</td>\n",
       "      <td>0.0</td>\n",
       "      <td>0.0</td>\n",
       "      <td>0.0</td>\n",
       "      <td>0.0</td>\n",
       "      <td>0.0</td>\n",
       "      <td>0.0</td>\n",
       "      <td>0.0</td>\n",
       "    </tr>\n",
       "    <tr>\n",
       "      <th>490599</th>\n",
       "      <td>1.0</td>\n",
       "      <td>0.0</td>\n",
       "      <td>0.0</td>\n",
       "      <td>0.0</td>\n",
       "      <td>0.0</td>\n",
       "      <td>0.0</td>\n",
       "      <td>0.0</td>\n",
       "      <td>0.0</td>\n",
       "      <td>0.0</td>\n",
       "      <td>0.0</td>\n",
       "      <td>0.0</td>\n",
       "      <td>0.0</td>\n",
       "    </tr>\n",
       "  </tbody>\n",
       "</table>\n",
       "<p>490600 rows × 12 columns</p>\n",
       "</div>"
      ],
      "text/plain": [
       "        UberPool  Shared  Black  Lux  Lux Black XL  Lyft  UberX  WAV  UberXL  \\\n",
       "0            0.0     0.0    0.0  0.0           0.0   0.0    0.0  0.0     1.0   \n",
       "1            0.0     0.0    0.0  0.0           0.0   0.0    0.0  1.0     0.0   \n",
       "2            1.0     0.0    0.0  0.0           0.0   0.0    0.0  0.0     0.0   \n",
       "3            0.0     0.0    1.0  0.0           0.0   0.0    0.0  0.0     0.0   \n",
       "4            0.0     0.0    1.0  0.0           0.0   0.0    0.0  0.0     0.0   \n",
       "...          ...     ...    ...  ...           ...   ...    ...  ...     ...   \n",
       "490595       0.0     0.0    0.0  0.0           0.0   0.0    1.0  0.0     0.0   \n",
       "490596       0.0     0.0    0.0  0.0           0.0   0.0    0.0  1.0     0.0   \n",
       "490597       1.0     0.0    0.0  0.0           0.0   0.0    0.0  0.0     0.0   \n",
       "490598       0.0     0.0    1.0  0.0           0.0   0.0    0.0  0.0     0.0   \n",
       "490599       1.0     0.0    0.0  0.0           0.0   0.0    0.0  0.0     0.0   \n",
       "\n",
       "        Black SUV  Lyft XL  Lux Black  \n",
       "0             0.0      0.0        0.0  \n",
       "1             0.0      0.0        0.0  \n",
       "2             0.0      0.0        0.0  \n",
       "3             0.0      0.0        0.0  \n",
       "4             0.0      0.0        0.0  \n",
       "...           ...      ...        ...  \n",
       "490595        0.0      0.0        0.0  \n",
       "490596        0.0      0.0        0.0  \n",
       "490597        0.0      0.0        0.0  \n",
       "490598        0.0      0.0        0.0  \n",
       "490599        0.0      0.0        0.0  \n",
       "\n",
       "[490600 rows x 12 columns]"
      ]
     },
     "execution_count": 55,
     "metadata": {},
     "output_type": "execute_result"
    }
   ],
   "source": [
    "hot_encoder = OneHotEncoder(sparse=False)\n",
    "\n",
    "x_train_cat_encoder = hot_encoder.fit_transform(x_train_select['name'].values.reshape(-1,1))\n",
    "df_x_train_cat_encoder = pd.DataFrame(x_train_cat_encoder, columns=x_train_select['name'].unique())\n",
    "df_x_train_cat_encoder\n"
   ]
  },
  {
   "cell_type": "markdown",
   "metadata": {},
   "source": [
    "#### B. One hot encoder in x test data"
   ]
  },
  {
   "cell_type": "markdown",
   "metadata": {},
   "source": [
    "melakukan one hot encoding transform pada data x test categorical yaitu 'name'"
   ]
  },
  {
   "cell_type": "code",
   "execution_count": null,
   "metadata": {},
   "outputs": [
    {
     "data": {
      "text/html": [
       "<div>\n",
       "<style scoped>\n",
       "    .dataframe tbody tr th:only-of-type {\n",
       "        vertical-align: middle;\n",
       "    }\n",
       "\n",
       "    .dataframe tbody tr th {\n",
       "        vertical-align: top;\n",
       "    }\n",
       "\n",
       "    .dataframe thead th {\n",
       "        text-align: right;\n",
       "    }\n",
       "</style>\n",
       "<table border=\"1\" class=\"dataframe\">\n",
       "  <thead>\n",
       "    <tr style=\"text-align: right;\">\n",
       "      <th></th>\n",
       "      <th>Lux Black</th>\n",
       "      <th>Lux Black XL</th>\n",
       "      <th>Black SUV</th>\n",
       "      <th>Lyft</th>\n",
       "      <th>Lux</th>\n",
       "      <th>UberXL</th>\n",
       "      <th>Lyft XL</th>\n",
       "      <th>WAV</th>\n",
       "      <th>UberPool</th>\n",
       "      <th>Shared</th>\n",
       "      <th>Black</th>\n",
       "      <th>UberX</th>\n",
       "    </tr>\n",
       "  </thead>\n",
       "  <tbody>\n",
       "    <tr>\n",
       "      <th>0</th>\n",
       "      <td>0.0</td>\n",
       "      <td>0.0</td>\n",
       "      <td>0.0</td>\n",
       "      <td>1.0</td>\n",
       "      <td>0.0</td>\n",
       "      <td>0.0</td>\n",
       "      <td>0.0</td>\n",
       "      <td>0.0</td>\n",
       "      <td>0.0</td>\n",
       "      <td>0.0</td>\n",
       "      <td>0.0</td>\n",
       "      <td>0.0</td>\n",
       "    </tr>\n",
       "    <tr>\n",
       "      <th>1</th>\n",
       "      <td>0.0</td>\n",
       "      <td>0.0</td>\n",
       "      <td>0.0</td>\n",
       "      <td>0.0</td>\n",
       "      <td>1.0</td>\n",
       "      <td>0.0</td>\n",
       "      <td>0.0</td>\n",
       "      <td>0.0</td>\n",
       "      <td>0.0</td>\n",
       "      <td>0.0</td>\n",
       "      <td>0.0</td>\n",
       "      <td>0.0</td>\n",
       "    </tr>\n",
       "    <tr>\n",
       "      <th>2</th>\n",
       "      <td>0.0</td>\n",
       "      <td>1.0</td>\n",
       "      <td>0.0</td>\n",
       "      <td>0.0</td>\n",
       "      <td>0.0</td>\n",
       "      <td>0.0</td>\n",
       "      <td>0.0</td>\n",
       "      <td>0.0</td>\n",
       "      <td>0.0</td>\n",
       "      <td>0.0</td>\n",
       "      <td>0.0</td>\n",
       "      <td>0.0</td>\n",
       "    </tr>\n",
       "    <tr>\n",
       "      <th>3</th>\n",
       "      <td>0.0</td>\n",
       "      <td>0.0</td>\n",
       "      <td>0.0</td>\n",
       "      <td>0.0</td>\n",
       "      <td>0.0</td>\n",
       "      <td>1.0</td>\n",
       "      <td>0.0</td>\n",
       "      <td>0.0</td>\n",
       "      <td>0.0</td>\n",
       "      <td>0.0</td>\n",
       "      <td>0.0</td>\n",
       "      <td>0.0</td>\n",
       "    </tr>\n",
       "    <tr>\n",
       "      <th>4</th>\n",
       "      <td>0.0</td>\n",
       "      <td>0.0</td>\n",
       "      <td>1.0</td>\n",
       "      <td>0.0</td>\n",
       "      <td>0.0</td>\n",
       "      <td>0.0</td>\n",
       "      <td>0.0</td>\n",
       "      <td>0.0</td>\n",
       "      <td>0.0</td>\n",
       "      <td>0.0</td>\n",
       "      <td>0.0</td>\n",
       "      <td>0.0</td>\n",
       "    </tr>\n",
       "    <tr>\n",
       "      <th>...</th>\n",
       "      <td>...</td>\n",
       "      <td>...</td>\n",
       "      <td>...</td>\n",
       "      <td>...</td>\n",
       "      <td>...</td>\n",
       "      <td>...</td>\n",
       "      <td>...</td>\n",
       "      <td>...</td>\n",
       "      <td>...</td>\n",
       "      <td>...</td>\n",
       "      <td>...</td>\n",
       "      <td>...</td>\n",
       "    </tr>\n",
       "    <tr>\n",
       "      <th>127589</th>\n",
       "      <td>0.0</td>\n",
       "      <td>0.0</td>\n",
       "      <td>0.0</td>\n",
       "      <td>0.0</td>\n",
       "      <td>1.0</td>\n",
       "      <td>0.0</td>\n",
       "      <td>0.0</td>\n",
       "      <td>0.0</td>\n",
       "      <td>0.0</td>\n",
       "      <td>0.0</td>\n",
       "      <td>0.0</td>\n",
       "      <td>0.0</td>\n",
       "    </tr>\n",
       "    <tr>\n",
       "      <th>127590</th>\n",
       "      <td>0.0</td>\n",
       "      <td>0.0</td>\n",
       "      <td>0.0</td>\n",
       "      <td>0.0</td>\n",
       "      <td>0.0</td>\n",
       "      <td>0.0</td>\n",
       "      <td>0.0</td>\n",
       "      <td>1.0</td>\n",
       "      <td>0.0</td>\n",
       "      <td>0.0</td>\n",
       "      <td>0.0</td>\n",
       "      <td>0.0</td>\n",
       "    </tr>\n",
       "    <tr>\n",
       "      <th>127591</th>\n",
       "      <td>0.0</td>\n",
       "      <td>0.0</td>\n",
       "      <td>0.0</td>\n",
       "      <td>0.0</td>\n",
       "      <td>0.0</td>\n",
       "      <td>0.0</td>\n",
       "      <td>0.0</td>\n",
       "      <td>0.0</td>\n",
       "      <td>0.0</td>\n",
       "      <td>0.0</td>\n",
       "      <td>0.0</td>\n",
       "      <td>1.0</td>\n",
       "    </tr>\n",
       "    <tr>\n",
       "      <th>127592</th>\n",
       "      <td>0.0</td>\n",
       "      <td>1.0</td>\n",
       "      <td>0.0</td>\n",
       "      <td>0.0</td>\n",
       "      <td>0.0</td>\n",
       "      <td>0.0</td>\n",
       "      <td>0.0</td>\n",
       "      <td>0.0</td>\n",
       "      <td>0.0</td>\n",
       "      <td>0.0</td>\n",
       "      <td>0.0</td>\n",
       "      <td>0.0</td>\n",
       "    </tr>\n",
       "    <tr>\n",
       "      <th>127593</th>\n",
       "      <td>0.0</td>\n",
       "      <td>0.0</td>\n",
       "      <td>0.0</td>\n",
       "      <td>0.0</td>\n",
       "      <td>0.0</td>\n",
       "      <td>0.0</td>\n",
       "      <td>0.0</td>\n",
       "      <td>0.0</td>\n",
       "      <td>0.0</td>\n",
       "      <td>0.0</td>\n",
       "      <td>0.0</td>\n",
       "      <td>1.0</td>\n",
       "    </tr>\n",
       "  </tbody>\n",
       "</table>\n",
       "<p>127594 rows × 12 columns</p>\n",
       "</div>"
      ],
      "text/plain": [
       "        Lux Black  Lux Black XL  Black SUV  Lyft  Lux  UberXL  Lyft XL  WAV  \\\n",
       "0             0.0           0.0        0.0   1.0  0.0     0.0      0.0  0.0   \n",
       "1             0.0           0.0        0.0   0.0  1.0     0.0      0.0  0.0   \n",
       "2             0.0           1.0        0.0   0.0  0.0     0.0      0.0  0.0   \n",
       "3             0.0           0.0        0.0   0.0  0.0     1.0      0.0  0.0   \n",
       "4             0.0           0.0        1.0   0.0  0.0     0.0      0.0  0.0   \n",
       "...           ...           ...        ...   ...  ...     ...      ...  ...   \n",
       "127589        0.0           0.0        0.0   0.0  1.0     0.0      0.0  0.0   \n",
       "127590        0.0           0.0        0.0   0.0  0.0     0.0      0.0  1.0   \n",
       "127591        0.0           0.0        0.0   0.0  0.0     0.0      0.0  0.0   \n",
       "127592        0.0           1.0        0.0   0.0  0.0     0.0      0.0  0.0   \n",
       "127593        0.0           0.0        0.0   0.0  0.0     0.0      0.0  0.0   \n",
       "\n",
       "        UberPool  Shared  Black  UberX  \n",
       "0            0.0     0.0    0.0    0.0  \n",
       "1            0.0     0.0    0.0    0.0  \n",
       "2            0.0     0.0    0.0    0.0  \n",
       "3            0.0     0.0    0.0    0.0  \n",
       "4            0.0     0.0    0.0    0.0  \n",
       "...          ...     ...    ...    ...  \n",
       "127589       0.0     0.0    0.0    0.0  \n",
       "127590       0.0     0.0    0.0    0.0  \n",
       "127591       0.0     0.0    0.0    1.0  \n",
       "127592       0.0     0.0    0.0    0.0  \n",
       "127593       0.0     0.0    0.0    1.0  \n",
       "\n",
       "[127594 rows x 12 columns]"
      ]
     },
     "execution_count": 56,
     "metadata": {},
     "output_type": "execute_result"
    }
   ],
   "source": [
    "x_test_cat_encoder = hot_encoder.transform(x_test_select['name'].values.reshape(-1,1))\n",
    "df_x_test_cat_encoder = pd.DataFrame(x_test_cat_encoder, columns=x_test_select['name'].unique())\n",
    "df_x_test_cat_encoder"
   ]
  },
  {
   "cell_type": "markdown",
   "metadata": {},
   "source": [
    "### C. Scaling numerical feature"
   ]
  },
  {
   "cell_type": "markdown",
   "metadata": {},
   "source": [
    "melakukan scaling dengan fungsi StandardScaler untuk x train dan x test"
   ]
  },
  {
   "cell_type": "code",
   "execution_count": null,
   "metadata": {},
   "outputs": [],
   "source": [
    "scaler = StandardScaler()\n",
    "scaler.fit(x_train_select[['distance','surge_multiplier']])\n",
    "x_train_num_scaled = scaler.transform(x_train_select[['distance','surge_multiplier']])\n",
    "x_test_num_scaled = scaler.transform(x_test_select[['distance','surge_multiplier']])\n"
   ]
  },
  {
   "cell_type": "markdown",
   "metadata": {},
   "source": [
    "melakukan penggabungan x train dan x test yang telah diencoding dan discaling"
   ]
  },
  {
   "cell_type": "code",
   "execution_count": null,
   "metadata": {},
   "outputs": [],
   "source": [
    "x_train_final  = np.concatenate((x_train_num_scaled,x_train_cat_encoder),axis=1)\n",
    "x_test_final  = np.concatenate((x_test_num_scaled,x_test_cat_encoder),axis=1)\n"
   ]
  },
  {
   "cell_type": "markdown",
   "metadata": {},
   "source": [
    "## VII. Model Definition"
   ]
  },
  {
   "cell_type": "markdown",
   "metadata": {},
   "source": [
    "Linear regression adalah alat statistik yang dipergunakan untuk mengetahui pengaruh antara satu atau beberapa variabel terhadap satu buah variabel. Variabel yang mempengaruhi sering disebut variabel bebas, variabel independen atau variabel penjelas. (Wahyu, 2018)\n",
    "\n",
    "setelah kita mengetahui korelasi dengan menggunakan pearson pada heatmap. kita menyeleksi feature yang memiliki keterikatan dengan target. feature merupakan variable independen dalam definisinya. Scikit-learn digunakan untuk membuat linear regresi semakin mudah. namun data harus diencoding dan dilakukan scaling agar model dapat memprediksi dengan baik \n",
    "\n",
    ">LinearRegression fits a linear model with coefficients w = (w1, …, wp) to minimize the residual sum of squares between the observed targets in the dataset, and the targets predicted by the linear approximation. (Scikit-learn, 2011)\n",
    "\n",
    "algoritma linear regression akan melakukan fitting dengan koefisien untuk meminimalkan jumlah kuadrat residual variabel dependen dan variabel independen. dan model akan memberikan hasil prediksi sesuai dengan linear approximation.\n",
    "\n",
    "Menggunakan scikit-learn sangat mudah hanya memanggil fungsi dan melakukan fit() dengan variabel dependen dan independen kemudain predict() dengan input variabel independen/ feature data. "
   ]
  },
  {
   "cell_type": "code",
   "execution_count": null,
   "metadata": {},
   "outputs": [
    {
     "data": {
      "text/plain": [
       "LinearRegression()"
      ]
     },
     "execution_count": 59,
     "metadata": {},
     "output_type": "execute_result"
    }
   ],
   "source": [
    "model_lr= LinearRegression()\n",
    "model_lr.fit(x_train_final,y_outlier_clean)"
   ]
  },
  {
   "cell_type": "markdown",
   "metadata": {},
   "source": [
    "melakukan prediksi terhadap data x train dan x test"
   ]
  },
  {
   "cell_type": "code",
   "execution_count": null,
   "metadata": {},
   "outputs": [],
   "source": [
    "y_pred_train = model_lr.predict(x_train_final)\n",
    "y_pred_test = model_lr.predict(x_test_final)"
   ]
  },
  {
   "cell_type": "markdown",
   "metadata": {},
   "source": [
    "## VIII. Model Evaluation"
   ]
  },
  {
   "cell_type": "markdown",
   "metadata": {},
   "source": [
    "karena datanya bernilai continous maka digunakan evaluasi menggunakan R squared. R squared merupakan angka yang berkisar antara 0 sampai 1 yang mengindikasikan besarnya kombinasi variabel independen secara bersama – sama mempengaruhi nilai variabel dependen. Semakin mendekati angka satu, model yang dikeluarkan oleh regresi tersebut akan semakin baik. (Agung, 2018)\n",
    "\n",
    "mean absolute error dan root mean squared error digunakan untuk mencari error dari hasil regresi linear model kita. untuk lebih jelasnya MSE dan RMSE adalah sebagai berikut:\n",
    "\n",
    "- Mean Absolute Error (MAE): MAE measures the average magnitude of the errors in a set of predictions, without considering their direction. It’s the average over the test sample of the absolute differences between prediction and actual observation where all individual differences have equal weight.\n",
    "\n",
    "- Root mean squared error (RMSE): RMSE is a quadratic scoring rule that also measures the average magnitude of the error. It’s the square root of the average of squared differences between prediction and actual observation. (JJ, 2016)"
   ]
  },
  {
   "cell_type": "code",
   "execution_count": null,
   "metadata": {},
   "outputs": [
    {
     "name": "stdout",
     "output_type": "stream",
     "text": [
      "r square score on train data : 0.9277563595682528\n",
      "r square score on test data  : 0.9257276978025742\n",
      "RMSE on train data           : 6.280725314428599\n",
      "RMSE on test data            : 6.4545338396348395\n",
      "MAE on Train Data            : 1.7742794991146045\n",
      "MAE on Test Data             : 1.7843445859951779\n"
     ]
    }
   ],
   "source": [
    "print('r square score on train data :',r2_score(y_outlier_clean,y_pred_train))\n",
    "print('r square score on test data  :',r2_score(y_test,y_pred_test))\n",
    "\n",
    "print('RMSE on train data           :',mean_squared_error(y_outlier_clean,y_pred_train))\n",
    "print('RMSE on test data            :',mean_squared_error(y_test,y_pred_test))\n",
    "\n",
    "print('MAE on Train Data            :',mean_absolute_error(y_outlier_clean,y_pred_train))\n",
    "print('MAE on Test Data             :',mean_absolute_error(y_test,y_pred_test))\n"
   ]
  },
  {
   "cell_type": "markdown",
   "metadata": {},
   "source": [
    "pada data R squared, score di datatrain bernilai 0.9277 dan score datatest 0.9257 artinya variabel independen sangat berkorelasi dengan variabel target atau dependen. kedua nilai tersebut juga sangat dekat yang berarti model tidak underfitting dan tidak overfitting. \n",
    "\n",
    "RMSE pada datatrain sebesar 6.280 dan datatest 6.454  sedangkan MAE pada datatrain 1.774 dan MAE pada datatest 1.784. masing-masing ukuran error bernilai sangat dekat ini memperkuat bahwa model tidak overfit atau underfit. \n",
    "\n",
    "Dalam model regresi, untuk mengetahui keakuratan kinerja model suatu algoritma, kita dapat mengambilnya dari nilai yang memiliki kesalahan kecil. Dengan kata lain, semakin kecil nilai error yang dihasilkan maka semakin dekat nilai atau jarak antara nilai aktual dengan nilai prediksi. (Khalimi, 2021)\n",
    "\n",
    "nilai RMSE dan MAE dapat dibandingkan dengan model lain. semakin kecil nilai RMSE dan MAE maka semakin bagus model tersebut.\n"
   ]
  },
  {
   "cell_type": "markdown",
   "metadata": {},
   "source": [
    "## IX. Model Inference"
   ]
  },
  {
   "cell_type": "markdown",
   "metadata": {},
   "source": [
    "model inference dilakukan untuk mencoba menguji model dengan data baru diluar dari data train dan test split. data inference disimulasikan bahwa ada data baru yang akan di predict dari model yang sudah dibuat."
   ]
  },
  {
   "cell_type": "markdown",
   "metadata": {},
   "source": [
    "### A. Selecting inference data"
   ]
  },
  {
   "cell_type": "markdown",
   "metadata": {},
   "source": [
    "pertama, melakukan pemilihan feature di data inference sesuai dengan kebutuhan model"
   ]
  },
  {
   "cell_type": "code",
   "execution_count": null,
   "metadata": {},
   "outputs": [
    {
     "data": {
      "text/html": [
       "<div>\n",
       "<style scoped>\n",
       "    .dataframe tbody tr th:only-of-type {\n",
       "        vertical-align: middle;\n",
       "    }\n",
       "\n",
       "    .dataframe tbody tr th {\n",
       "        vertical-align: top;\n",
       "    }\n",
       "\n",
       "    .dataframe thead th {\n",
       "        text-align: right;\n",
       "    }\n",
       "</style>\n",
       "<table border=\"1\" class=\"dataframe\">\n",
       "  <thead>\n",
       "    <tr style=\"text-align: right;\">\n",
       "      <th></th>\n",
       "      <th>name</th>\n",
       "      <th>distance</th>\n",
       "      <th>surge_multiplier</th>\n",
       "    </tr>\n",
       "  </thead>\n",
       "  <tbody>\n",
       "    <tr>\n",
       "      <th>0</th>\n",
       "      <td>Lyft</td>\n",
       "      <td>3.52</td>\n",
       "      <td>1.0</td>\n",
       "    </tr>\n",
       "    <tr>\n",
       "      <th>1</th>\n",
       "      <td>Lyft XL</td>\n",
       "      <td>1.47</td>\n",
       "      <td>1.0</td>\n",
       "    </tr>\n",
       "    <tr>\n",
       "      <th>2</th>\n",
       "      <td>Lux Black</td>\n",
       "      <td>0.73</td>\n",
       "      <td>1.0</td>\n",
       "    </tr>\n",
       "    <tr>\n",
       "      <th>3</th>\n",
       "      <td>Black</td>\n",
       "      <td>3.45</td>\n",
       "      <td>1.0</td>\n",
       "    </tr>\n",
       "    <tr>\n",
       "      <th>4</th>\n",
       "      <td>UberX</td>\n",
       "      <td>2.48</td>\n",
       "      <td>1.0</td>\n",
       "    </tr>\n",
       "    <tr>\n",
       "      <th>5</th>\n",
       "      <td>Lyft XL</td>\n",
       "      <td>2.43</td>\n",
       "      <td>1.0</td>\n",
       "    </tr>\n",
       "    <tr>\n",
       "      <th>6</th>\n",
       "      <td>Black</td>\n",
       "      <td>2.98</td>\n",
       "      <td>1.0</td>\n",
       "    </tr>\n",
       "    <tr>\n",
       "      <th>7</th>\n",
       "      <td>Black</td>\n",
       "      <td>4.48</td>\n",
       "      <td>1.0</td>\n",
       "    </tr>\n",
       "    <tr>\n",
       "      <th>8</th>\n",
       "      <td>UberXL</td>\n",
       "      <td>1.97</td>\n",
       "      <td>1.0</td>\n",
       "    </tr>\n",
       "    <tr>\n",
       "      <th>9</th>\n",
       "      <td>UberPool</td>\n",
       "      <td>3.04</td>\n",
       "      <td>1.0</td>\n",
       "    </tr>\n",
       "  </tbody>\n",
       "</table>\n",
       "</div>"
      ],
      "text/plain": [
       "        name  distance  surge_multiplier\n",
       "0       Lyft      3.52               1.0\n",
       "1    Lyft XL      1.47               1.0\n",
       "2  Lux Black      0.73               1.0\n",
       "3      Black      3.45               1.0\n",
       "4      UberX      2.48               1.0\n",
       "5    Lyft XL      2.43               1.0\n",
       "6      Black      2.98               1.0\n",
       "7      Black      4.48               1.0\n",
       "8     UberXL      1.97               1.0\n",
       "9   UberPool      3.04               1.0"
      ]
     },
     "execution_count": 62,
     "metadata": {},
     "output_type": "execute_result"
    }
   ],
   "source": [
    "data_inf_select = data_inf[['name','distance','surge_multiplier']]\n",
    "data_inf_select"
   ]
  },
  {
   "cell_type": "markdown",
   "metadata": {},
   "source": [
    "### B. One Hot encoder Data Inference"
   ]
  },
  {
   "cell_type": "markdown",
   "metadata": {},
   "source": [
    "kemudian melakukan one hot encoder dengan transform dari model yang sudah jadi"
   ]
  },
  {
   "cell_type": "code",
   "execution_count": null,
   "metadata": {},
   "outputs": [
    {
     "data": {
      "text/html": [
       "<div>\n",
       "<style scoped>\n",
       "    .dataframe tbody tr th:only-of-type {\n",
       "        vertical-align: middle;\n",
       "    }\n",
       "\n",
       "    .dataframe tbody tr th {\n",
       "        vertical-align: top;\n",
       "    }\n",
       "\n",
       "    .dataframe thead th {\n",
       "        text-align: right;\n",
       "    }\n",
       "</style>\n",
       "<table border=\"1\" class=\"dataframe\">\n",
       "  <thead>\n",
       "    <tr style=\"text-align: right;\">\n",
       "      <th></th>\n",
       "      <th>Lux Black</th>\n",
       "      <th>Lux Black XL</th>\n",
       "      <th>Black SUV</th>\n",
       "      <th>Lyft</th>\n",
       "      <th>Lux</th>\n",
       "      <th>UberXL</th>\n",
       "      <th>Lyft XL</th>\n",
       "      <th>WAV</th>\n",
       "      <th>UberPool</th>\n",
       "      <th>Shared</th>\n",
       "      <th>Black</th>\n",
       "      <th>UberX</th>\n",
       "    </tr>\n",
       "  </thead>\n",
       "  <tbody>\n",
       "    <tr>\n",
       "      <th>0</th>\n",
       "      <td>0.0</td>\n",
       "      <td>0.0</td>\n",
       "      <td>0.0</td>\n",
       "      <td>0.0</td>\n",
       "      <td>0.0</td>\n",
       "      <td>1.0</td>\n",
       "      <td>0.0</td>\n",
       "      <td>0.0</td>\n",
       "      <td>0.0</td>\n",
       "      <td>0.0</td>\n",
       "      <td>0.0</td>\n",
       "      <td>0.0</td>\n",
       "    </tr>\n",
       "    <tr>\n",
       "      <th>1</th>\n",
       "      <td>0.0</td>\n",
       "      <td>0.0</td>\n",
       "      <td>0.0</td>\n",
       "      <td>0.0</td>\n",
       "      <td>0.0</td>\n",
       "      <td>0.0</td>\n",
       "      <td>1.0</td>\n",
       "      <td>0.0</td>\n",
       "      <td>0.0</td>\n",
       "      <td>0.0</td>\n",
       "      <td>0.0</td>\n",
       "      <td>0.0</td>\n",
       "    </tr>\n",
       "    <tr>\n",
       "      <th>2</th>\n",
       "      <td>0.0</td>\n",
       "      <td>0.0</td>\n",
       "      <td>0.0</td>\n",
       "      <td>1.0</td>\n",
       "      <td>0.0</td>\n",
       "      <td>0.0</td>\n",
       "      <td>0.0</td>\n",
       "      <td>0.0</td>\n",
       "      <td>0.0</td>\n",
       "      <td>0.0</td>\n",
       "      <td>0.0</td>\n",
       "      <td>0.0</td>\n",
       "    </tr>\n",
       "    <tr>\n",
       "      <th>3</th>\n",
       "      <td>1.0</td>\n",
       "      <td>0.0</td>\n",
       "      <td>0.0</td>\n",
       "      <td>0.0</td>\n",
       "      <td>0.0</td>\n",
       "      <td>0.0</td>\n",
       "      <td>0.0</td>\n",
       "      <td>0.0</td>\n",
       "      <td>0.0</td>\n",
       "      <td>0.0</td>\n",
       "      <td>0.0</td>\n",
       "      <td>0.0</td>\n",
       "    </tr>\n",
       "    <tr>\n",
       "      <th>4</th>\n",
       "      <td>0.0</td>\n",
       "      <td>0.0</td>\n",
       "      <td>0.0</td>\n",
       "      <td>0.0</td>\n",
       "      <td>0.0</td>\n",
       "      <td>0.0</td>\n",
       "      <td>0.0</td>\n",
       "      <td>0.0</td>\n",
       "      <td>0.0</td>\n",
       "      <td>1.0</td>\n",
       "      <td>0.0</td>\n",
       "      <td>0.0</td>\n",
       "    </tr>\n",
       "    <tr>\n",
       "      <th>5</th>\n",
       "      <td>0.0</td>\n",
       "      <td>0.0</td>\n",
       "      <td>0.0</td>\n",
       "      <td>0.0</td>\n",
       "      <td>0.0</td>\n",
       "      <td>0.0</td>\n",
       "      <td>1.0</td>\n",
       "      <td>0.0</td>\n",
       "      <td>0.0</td>\n",
       "      <td>0.0</td>\n",
       "      <td>0.0</td>\n",
       "      <td>0.0</td>\n",
       "    </tr>\n",
       "    <tr>\n",
       "      <th>6</th>\n",
       "      <td>1.0</td>\n",
       "      <td>0.0</td>\n",
       "      <td>0.0</td>\n",
       "      <td>0.0</td>\n",
       "      <td>0.0</td>\n",
       "      <td>0.0</td>\n",
       "      <td>0.0</td>\n",
       "      <td>0.0</td>\n",
       "      <td>0.0</td>\n",
       "      <td>0.0</td>\n",
       "      <td>0.0</td>\n",
       "      <td>0.0</td>\n",
       "    </tr>\n",
       "    <tr>\n",
       "      <th>7</th>\n",
       "      <td>1.0</td>\n",
       "      <td>0.0</td>\n",
       "      <td>0.0</td>\n",
       "      <td>0.0</td>\n",
       "      <td>0.0</td>\n",
       "      <td>0.0</td>\n",
       "      <td>0.0</td>\n",
       "      <td>0.0</td>\n",
       "      <td>0.0</td>\n",
       "      <td>0.0</td>\n",
       "      <td>0.0</td>\n",
       "      <td>0.0</td>\n",
       "    </tr>\n",
       "    <tr>\n",
       "      <th>8</th>\n",
       "      <td>0.0</td>\n",
       "      <td>0.0</td>\n",
       "      <td>0.0</td>\n",
       "      <td>0.0</td>\n",
       "      <td>0.0</td>\n",
       "      <td>0.0</td>\n",
       "      <td>0.0</td>\n",
       "      <td>0.0</td>\n",
       "      <td>0.0</td>\n",
       "      <td>0.0</td>\n",
       "      <td>1.0</td>\n",
       "      <td>0.0</td>\n",
       "    </tr>\n",
       "    <tr>\n",
       "      <th>9</th>\n",
       "      <td>0.0</td>\n",
       "      <td>0.0</td>\n",
       "      <td>0.0</td>\n",
       "      <td>0.0</td>\n",
       "      <td>0.0</td>\n",
       "      <td>0.0</td>\n",
       "      <td>0.0</td>\n",
       "      <td>0.0</td>\n",
       "      <td>1.0</td>\n",
       "      <td>0.0</td>\n",
       "      <td>0.0</td>\n",
       "      <td>0.0</td>\n",
       "    </tr>\n",
       "  </tbody>\n",
       "</table>\n",
       "</div>"
      ],
      "text/plain": [
       "   Lux Black  Lux Black XL  Black SUV  Lyft  Lux  UberXL  Lyft XL  WAV  \\\n",
       "0        0.0           0.0        0.0   0.0  0.0     1.0      0.0  0.0   \n",
       "1        0.0           0.0        0.0   0.0  0.0     0.0      1.0  0.0   \n",
       "2        0.0           0.0        0.0   1.0  0.0     0.0      0.0  0.0   \n",
       "3        1.0           0.0        0.0   0.0  0.0     0.0      0.0  0.0   \n",
       "4        0.0           0.0        0.0   0.0  0.0     0.0      0.0  0.0   \n",
       "5        0.0           0.0        0.0   0.0  0.0     0.0      1.0  0.0   \n",
       "6        1.0           0.0        0.0   0.0  0.0     0.0      0.0  0.0   \n",
       "7        1.0           0.0        0.0   0.0  0.0     0.0      0.0  0.0   \n",
       "8        0.0           0.0        0.0   0.0  0.0     0.0      0.0  0.0   \n",
       "9        0.0           0.0        0.0   0.0  0.0     0.0      0.0  0.0   \n",
       "\n",
       "   UberPool  Shared  Black  UberX  \n",
       "0       0.0     0.0    0.0    0.0  \n",
       "1       0.0     0.0    0.0    0.0  \n",
       "2       0.0     0.0    0.0    0.0  \n",
       "3       0.0     0.0    0.0    0.0  \n",
       "4       0.0     1.0    0.0    0.0  \n",
       "5       0.0     0.0    0.0    0.0  \n",
       "6       0.0     0.0    0.0    0.0  \n",
       "7       0.0     0.0    0.0    0.0  \n",
       "8       0.0     0.0    1.0    0.0  \n",
       "9       1.0     0.0    0.0    0.0  "
      ]
     },
     "execution_count": 63,
     "metadata": {},
     "output_type": "execute_result"
    }
   ],
   "source": [
    "data_inf_encoder = hot_encoder.transform(data_inf['name'].values.reshape(-1,1))\n",
    "df_data_inf_encoder = pd.DataFrame(data_inf_encoder, columns=x_test_select['name'].unique())\n",
    "df_data_inf_encoder"
   ]
  },
  {
   "cell_type": "markdown",
   "metadata": {},
   "source": [
    "transform standard scaler dilakukan kepada feature berdata types numerical"
   ]
  },
  {
   "cell_type": "markdown",
   "metadata": {},
   "source": [
    "### C. Scaling & Encoding data Inference"
   ]
  },
  {
   "cell_type": "code",
   "execution_count": null,
   "metadata": {},
   "outputs": [],
   "source": [
    "data_inf_num_scaled = scaler.transform(data_inf_select[['distance','surge_multiplier']])"
   ]
  },
  {
   "cell_type": "markdown",
   "metadata": {},
   "source": [
    "melakukan penggabungan dari encoding dan scaling"
   ]
  },
  {
   "cell_type": "code",
   "execution_count": null,
   "metadata": {},
   "outputs": [],
   "source": [
    "data_inf_final = np.concatenate((data_inf_num_scaled,data_inf_encoder),axis=1)"
   ]
  },
  {
   "cell_type": "markdown",
   "metadata": {},
   "source": [
    "kemudian melakukan prediction dengan model yang sudah jadi"
   ]
  },
  {
   "cell_type": "markdown",
   "metadata": {},
   "source": [
    "### D. Predict & Evaluation"
   ]
  },
  {
   "cell_type": "code",
   "execution_count": null,
   "metadata": {},
   "outputs": [],
   "source": [
    "y_pred_inf = model_lr.predict(data_inf_final)"
   ]
  },
  {
   "cell_type": "markdown",
   "metadata": {},
   "source": [
    "karena data inference ini diambil dari data complete, kita masih bisa mengevaluasi hasilnya. namun pada kenyataanya kita tidak bisa evaluasi dengan cara yang sama dengan test atau train data. dibutuhakan feedback dari user dan real world untuk nilai evaluasinya. "
   ]
  },
  {
   "cell_type": "code",
   "execution_count": null,
   "metadata": {},
   "outputs": [
    {
     "name": "stdout",
     "output_type": "stream",
     "text": [
      "r square score in inf data : 0.9188743797806365\n",
      "RMSE on inf data           : 4.211230945587158\n",
      "MAE on Inf Data            : 1.70625\n"
     ]
    }
   ],
   "source": [
    "print('r square score in inf data :',r2_score(data_inf['price'],y_pred_inf))\n",
    "print('RMSE on inf data           :',mean_squared_error(data_inf['price'],y_pred_inf))\n",
    "print('MAE on Inf Data            :',mean_absolute_error(data_inf['price'],y_pred_inf))"
   ]
  },
  {
   "cell_type": "markdown",
   "metadata": {},
   "source": [
    "untuk nilai R square lebih turun sedikit ke 0.9188 dari 0.9257 pada data test. nilai ini sangat baik karena apabila model dideploy maka model akan perform sesuai ekspektasi.\n",
    "\n",
    "Untuk nilai MAE itu sangat mirip dengan MAE dari data test dan train kurang lebih 1.7. sedangakn RMSE berubah dari 6.45 ke 4.21 ini dikarenakan dengan rumus RMSE yang pada dasarnya melihat variansi dari frekuensi jumlah error pada distribusinya. sejalan dengan apa yang dikatakan JJ.\n",
    "\n",
    "> RMSE does not necessarily increase with the variance of the errors. RMSE increases with the variance of the frequency distribution of error magnitudes. Focusing on the upper bound, this means that RMSE has a tendency to be increasingly larger than MAE as the test sample size increases. This can problematic when comparing RMSE results calculated on different sized test samples, which is frequently the case in real world modeling. (JJ, 2018)\n",
    "\n",
    "bila membandingkan RMSE dengan data test yang dilakukan sekarang dengan ukuran jumlah sample yang berbeda, ini mengakibatkan perbedaan RMSE pada data test dan data inference"
   ]
  },
  {
   "cell_type": "markdown",
   "metadata": {},
   "source": [
    "## X. Pengambilan Kesimpulan"
   ]
  },
  {
   "cell_type": "markdown",
   "metadata": {},
   "source": [
    "- Pada outlier handling terdapat data numerical yang dicapping dan ditrim. dari data x train yang bermula 510372 baris menjadi 490600 baris. dengan persentase data untuk training yang masih dipertahankan sebanyak 96.13%\n",
    "\n",
    "- Feature Selection yang diambil untuk model adalah \"name\", \"distance\" dan \"surge_multiplier\". dengan masing-masing nilai pearson correlation -0.59, 0.35, dan 0.24. nilai ini sudah cukup membuktikan bahwa ketiga feature tersebut memiliki korelasi pearson yang cukup untuk dimasukan kedalam model.\n",
    "\n",
    "- Hasil evaluasi linear regresi model didapatkan nilai R squares score datatrain 0.9277 dan score datatest 0.9257 artinya variabel independen sangat berkorelasi dengan variabel target atau variabel dependen. kedua nilai tersebut juga sangat dekat yang berarti model tidak underfitting dan tidak overfitting. \n",
    "\n",
    "- Hasil evaluasi model dengan data inference didapatkan nilai R square lebih turun sedikit ke 0.9188 dari 0.9257 pada data test. Untuk MAE data inference bernilai 1.706 dan MAE pada data test sebesar 1.784, keduanya mirip dengan MAE data inference turun sedikit. sedangkan RMSE berubah dari 6.45 ke 4.21 dikarenakan ukuran data yang berbeda. \n",
    "\n"
   ]
  },
  {
   "cell_type": "markdown",
   "metadata": {},
   "source": [
    "## XI. Referensi"
   ]
  },
  {
   "cell_type": "markdown",
   "metadata": {},
   "source": [
    "Agung, 2018, Apa perbedaaan R Squared, R squared adjusted, dan R Squared Predicted., agungbudisantoso.com, Retrived from https://agungbudisantoso.com/apa-perbedaaan-r-squared-r-squared-adjusted-dan-r-squared-predicted/\n",
    "\n",
    "Hidayat, A., 2012, Pengertian Analisis Regresi Korelasi Dan Cara Hitung., Statistikian., Retrieved from https://www.statistikian.com/2012/08/analisis-regresi-korelasi.html\n",
    "\n",
    "JJ, 2016, MAE and RMSE — Which Metric is Better?, Human in a machine world., Retrived from https://medium.com/human-in-a-machine-world/mae-and-rmse-which-metric-is-better-e60ac3bde13d\n",
    "\n",
    "Scikit-learn: Machine Learning in Python, Pedregosa et al., JMLR 12, pp. 2825-2830, 2011., citation link https://jmlr.csail.mit.edu/papers/v12/pedregosa11a.html\n",
    "\n",
    "Wahyu, Eko., 2018, Linear Regression., Medium., Retrived from https://medium.com/@ekowahyus/linear-regression-5c41cdaf1bfd\n",
    "\n",
    "Khalimi, Abdul M., 2021, Cara Hitung RMSE , MSE, MAPE, dan MAE Dengan Excel, Retrived from https://www.pengalaman-edukasi.com/2021/01/cara-menghitung-rmse-root-mean-square.html\n",
    "\n",
    "[1] Quartiles, Boxes, and Whiskers., purplemath.com, Retrived from https://www.purplemath.com/modules/boxwhisk.htm\n",
    "\n",
    "[2] Korelasi Pearson., rumusstatistik.com, Retrived From https://www.rumusstatistik.com/2019/06/korelasi-pearson.html#:~:text=Koefisien%20korelasi%20bertanda%20negatif%20artinya,nilai%20variabel%20y%20semakin%20tinggi.\n",
    "\n"
   ]
  }
 ],
 "metadata": {
  "interpreter": {
   "hash": "ee1c119e271498f6ebbbe6e502a1a05f61b2d7dba34529e4df022fdc6fcf49f4"
  },
  "kernelspec": {
   "display_name": "Python 3.9.7 ('base')",
   "language": "python",
   "name": "python3"
  },
  "language_info": {
   "codemirror_mode": {
    "name": "ipython",
    "version": 3
   },
   "file_extension": ".py",
   "mimetype": "text/x-python",
   "name": "python",
   "nbconvert_exporter": "python",
   "pygments_lexer": "ipython3",
   "version": "3.9.7"
  },
  "orig_nbformat": 4
 },
 "nbformat": 4,
 "nbformat_minor": 2
}
