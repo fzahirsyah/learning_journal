{
 "cells": [
  {
   "cell_type": "markdown",
   "metadata": {},
   "source": [
    "# SUPPORT VECTOR MACHINE"
   ]
  },
  {
   "cell_type": "markdown",
   "metadata": {},
   "source": [
    "svm bisa untuk klasifikasi atau regresi\n",
    "\n",
    "kita menginginkakn jarak atau margin semakin lebar dan tidak ada unit2 yang masuk kedalam batas batas vektornya..\n",
    "\n",
    "real case kecil kemungkinan\n",
    "\n",
    "\n",
    "hard margin : svm dengan jarak atau margin ideal. memiliki lebar margin dengan support vektor 1 dan support vektor 2 dan tidak ada data yang masuk didalamnya\n",
    "\n",
    "soft margin : megupayakan lebar margin selebar mungkin tetapi ada data yang melewati batas support masih bisa ditolerir bila masih sedikit.\n",
    "\n"
   ]
  },
  {
   "cell_type": "code",
   "execution_count": 1,
   "metadata": {},
   "outputs": [],
   "source": [
    "import pandas as pd\n",
    "import numpy as np\n",
    "\n",
    "from sklearn.svm import SVC\n",
    "from sklearn.model_selection import train_test_split\n",
    "from sklearn.metrics import accuracy_score, confusion_matrix, classification_report"
   ]
  },
  {
   "cell_type": "code",
   "execution_count": null,
   "metadata": {},
   "outputs": [],
   "source": []
  }
 ],
 "metadata": {
  "interpreter": {
   "hash": "ee1c119e271498f6ebbbe6e502a1a05f61b2d7dba34529e4df022fdc6fcf49f4"
  },
  "kernelspec": {
   "display_name": "Python 3.9.7 ('base')",
   "language": "python",
   "name": "python3"
  },
  "language_info": {
   "codemirror_mode": {
    "name": "ipython",
    "version": 3
   },
   "file_extension": ".py",
   "mimetype": "text/x-python",
   "name": "python",
   "nbconvert_exporter": "python",
   "pygments_lexer": "ipython3",
   "version": "3.9.7"
  },
  "orig_nbformat": 4
 },
 "nbformat": 4,
 "nbformat_minor": 2
}
