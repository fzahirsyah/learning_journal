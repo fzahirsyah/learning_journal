{
  "cells": [
    {
      "cell_type": "markdown",
      "metadata": {
        "id": "IjU1-pUs1wkY"
      },
      "source": [
        "**Chapter 6 – Decision Trees**"
      ]
    },
    {
      "cell_type": "markdown",
      "metadata": {
        "id": "Gl3wIVCQdatT"
      },
      "source": [
        "# DECISION TREE"
      ]
    },
    {
      "cell_type": "code",
      "execution_count": 1,
      "metadata": {
        "id": "q2hH6LVddg26"
      },
      "outputs": [],
      "source": [
        "import pandas as pd\n",
        "import numpy as np\n",
        "import matplotlib.pyplot as plt\n",
        "import seaborn as sns\n",
        "from sklearn import tree\n",
        "from sklearn.datasets import load_iris\n",
        "from sklearn import metrics\n",
        "from sklearn.tree import DecisionTreeClassifier          "
      ]
    },
    {
      "cell_type": "code",
      "execution_count": 2,
      "metadata": {
        "colab": {
          "base_uri": "https://localhost:8080/"
        },
        "id": "YkMJPJj9mov-",
        "outputId": "28573515-6065-43fe-dd60-11d207755762"
      },
      "outputs": [
        {
          "data": {
            "text/plain": [
              "sklearn.utils.Bunch"
            ]
          },
          "execution_count": 2,
          "metadata": {},
          "output_type": "execute_result"
        }
      ],
      "source": [
        "##load data\n",
        "iris = load_iris()\n",
        "type(iris)"
      ]
    },
    {
      "cell_type": "code",
      "execution_count": 3,
      "metadata": {
        "colab": {
          "base_uri": "https://localhost:8080/"
        },
        "id": "kUlsiiw8m551",
        "outputId": "2c8c7148-399b-46ec-b758-4c19c0573230"
      },
      "outputs": [
        {
          "data": {
            "text/plain": [
              "dict_keys(['data', 'target', 'frame', 'target_names', 'DESCR', 'feature_names', 'filename', 'data_module'])"
            ]
          },
          "execution_count": 3,
          "metadata": {},
          "output_type": "execute_result"
        }
      ],
      "source": [
        "iris.keys()"
      ]
    },
    {
      "cell_type": "code",
      "execution_count": 4,
      "metadata": {
        "colab": {
          "base_uri": "https://localhost:8080/"
        },
        "id": "145R_4Hgm7e-",
        "outputId": "7fb32b56-1de3-4c50-8613-7819c0352bfb"
      },
      "outputs": [
        {
          "name": "stdout",
          "output_type": "stream",
          "text": [
            ".. _iris_dataset:\n",
            "\n",
            "Iris plants dataset\n",
            "--------------------\n",
            "\n",
            "**Data Set Characteristics:**\n",
            "\n",
            "    :Number of Instances: 150 (50 in each of three classes)\n",
            "    :Number of Attributes: 4 numeric, predictive attributes and the class\n",
            "    :Attribute Information:\n",
            "        - sepal length in cm\n",
            "        - sepal width in cm\n",
            "        - petal length in cm\n",
            "        - petal width in cm\n",
            "        - class:\n",
            "                - Iris-Setosa\n",
            "                - Iris-Versicolour\n",
            "                - Iris-Virginica\n",
            "                \n",
            "    :Summary Statistics:\n",
            "\n",
            "    ============== ==== ==== ======= ===== ====================\n",
            "                    Min  Max   Mean    SD   Class Correlation\n",
            "    ============== ==== ==== ======= ===== ====================\n",
            "    sepal length:   4.3  7.9   5.84   0.83    0.7826\n",
            "    sepal width:    2.0  4.4   3.05   0.43   -0.4194\n",
            "    petal length:   1.0  6.9   3.76   1.76    0.9490  (high!)\n",
            "    petal width:    0.1  2.5   1.20   0.76    0.9565  (high!)\n",
            "    ============== ==== ==== ======= ===== ====================\n",
            "\n",
            "    :Missing Attribute Values: None\n",
            "    :Class Distribution: 33.3% for each of 3 classes.\n",
            "    :Creator: R.A. Fisher\n",
            "    :Donor: Michael Marshall (MARSHALL%PLU@io.arc.nasa.gov)\n",
            "    :Date: July, 1988\n",
            "\n",
            "The famous Iris database, first used by Sir R.A. Fisher. The dataset is taken\n",
            "from Fisher's paper. Note that it's the same as in R, but not as in the UCI\n",
            "Machine Learning Repository, which has two wrong data points.\n",
            "\n",
            "This is perhaps the best known database to be found in the\n",
            "pattern recognition literature.  Fisher's paper is a classic in the field and\n",
            "is referenced frequently to this day.  (See Duda & Hart, for example.)  The\n",
            "data set contains 3 classes of 50 instances each, where each class refers to a\n",
            "type of iris plant.  One class is linearly separable from the other 2; the\n",
            "latter are NOT linearly separable from each other.\n",
            "\n",
            ".. topic:: References\n",
            "\n",
            "   - Fisher, R.A. \"The use of multiple measurements in taxonomic problems\"\n",
            "     Annual Eugenics, 7, Part II, 179-188 (1936); also in \"Contributions to\n",
            "     Mathematical Statistics\" (John Wiley, NY, 1950).\n",
            "   - Duda, R.O., & Hart, P.E. (1973) Pattern Classification and Scene Analysis.\n",
            "     (Q327.D83) John Wiley & Sons.  ISBN 0-471-22361-1.  See page 218.\n",
            "   - Dasarathy, B.V. (1980) \"Nosing Around the Neighborhood: A New System\n",
            "     Structure and Classification Rule for Recognition in Partially Exposed\n",
            "     Environments\".  IEEE Transactions on Pattern Analysis and Machine\n",
            "     Intelligence, Vol. PAMI-2, No. 1, 67-71.\n",
            "   - Gates, G.W. (1972) \"The Reduced Nearest Neighbor Rule\".  IEEE Transactions\n",
            "     on Information Theory, May 1972, 431-433.\n",
            "   - See also: 1988 MLC Proceedings, 54-64.  Cheeseman et al\"s AUTOCLASS II\n",
            "     conceptual clustering system finds 3 classes in the data.\n",
            "   - Many, many more ...\n"
          ]
        }
      ],
      "source": [
        "print(iris.DESCR)"
      ]
    },
    {
      "cell_type": "code",
      "execution_count": 5,
      "metadata": {
        "colab": {
          "base_uri": "https://localhost:8080/"
        },
        "id": "PLlERY7hm93V",
        "outputId": "d2369aee-060e-4590-ac9a-37014da85dba"
      },
      "outputs": [
        {
          "data": {
            "text/plain": [
              "dict_keys(['data', 'target', 'frame', 'target_names', 'DESCR', 'feature_names', 'filename', 'data_module'])"
            ]
          },
          "execution_count": 5,
          "metadata": {},
          "output_type": "execute_result"
        }
      ],
      "source": [
        "iris.keys()"
      ]
    },
    {
      "cell_type": "code",
      "execution_count": 6,
      "metadata": {
        "colab": {
          "base_uri": "https://localhost:8080/"
        },
        "id": "5QyOzigRm_Kl",
        "outputId": "657b304e-610b-420e-e4be-1aafc2422773"
      },
      "outputs": [
        {
          "data": {
            "text/plain": [
              "(numpy.ndarray, numpy.ndarray)"
            ]
          },
          "execution_count": 6,
          "metadata": {},
          "output_type": "execute_result"
        }
      ],
      "source": [
        "type(iris.data), type (iris.target)"
      ]
    },
    {
      "cell_type": "code",
      "execution_count": 7,
      "metadata": {
        "colab": {
          "base_uri": "https://localhost:8080/"
        },
        "id": "Lt7VFss7nBE1",
        "outputId": "f743f7f3-d2ac-4ea8-cb78-860f9ce9236e"
      },
      "outputs": [
        {
          "data": {
            "text/plain": [
              "(150, 4)"
            ]
          },
          "execution_count": 7,
          "metadata": {},
          "output_type": "execute_result"
        }
      ],
      "source": [
        "iris.data.shape"
      ]
    },
    {
      "cell_type": "code",
      "execution_count": 8,
      "metadata": {
        "colab": {
          "base_uri": "https://localhost:8080/"
        },
        "id": "XYHjHoFXnCbF",
        "outputId": "52cc3f1d-264b-4dde-ee78-92e195f506d3"
      },
      "outputs": [
        {
          "data": {
            "text/plain": [
              "array(['setosa', 'versicolor', 'virginica'], dtype='<U10')"
            ]
          },
          "execution_count": 8,
          "metadata": {},
          "output_type": "execute_result"
        }
      ],
      "source": [
        "iris.target_names"
      ]
    },
    {
      "cell_type": "code",
      "execution_count": 9,
      "metadata": {
        "colab": {
          "base_uri": "https://localhost:8080/"
        },
        "id": "W4EfsYIJnECF",
        "outputId": "692c84a7-ffa7-404e-ab1a-f93107f27d61"
      },
      "outputs": [
        {
          "data": {
            "text/plain": [
              "array([0, 0, 0, 0, 0, 0, 0, 0, 0, 0, 0, 0, 0, 0, 0, 0, 0, 0, 0, 0, 0, 0,\n",
              "       0, 0, 0, 0, 0, 0, 0, 0, 0, 0, 0, 0, 0, 0, 0, 0, 0, 0, 0, 0, 0, 0,\n",
              "       0, 0, 0, 0, 0, 0, 1, 1, 1, 1, 1, 1, 1, 1, 1, 1, 1, 1, 1, 1, 1, 1,\n",
              "       1, 1, 1, 1, 1, 1, 1, 1, 1, 1, 1, 1, 1, 1, 1, 1, 1, 1, 1, 1, 1, 1,\n",
              "       1, 1, 1, 1, 1, 1, 1, 1, 1, 1, 1, 1, 2, 2, 2, 2, 2, 2, 2, 2, 2, 2,\n",
              "       2, 2, 2, 2, 2, 2, 2, 2, 2, 2, 2, 2, 2, 2, 2, 2, 2, 2, 2, 2, 2, 2,\n",
              "       2, 2, 2, 2, 2, 2, 2, 2, 2, 2, 2, 2, 2, 2, 2, 2, 2, 2])"
            ]
          },
          "execution_count": 9,
          "metadata": {},
          "output_type": "execute_result"
        }
      ],
      "source": [
        "iris.target"
      ]
    },
    {
      "cell_type": "markdown",
      "metadata": {
        "id": "uYSOdrh2nGoV"
      },
      "source": [
        "**penjelasan**\n",
        "\n",
        "dari variable target kita dapatkan nilai 0 u/ setosa, 1 u/ versicolor, 2 u/ virginica"
      ]
    },
    {
      "cell_type": "code",
      "execution_count": 10,
      "metadata": {
        "colab": {
          "base_uri": "https://localhost:8080/",
          "height": 34
        },
        "id": "ZGZwQrNtnJNF",
        "outputId": "a32eacf2-d13c-4ab2-d307-d0c3b5377570"
      },
      "outputs": [
        {
          "data": {
            "text/plain": [
              "'versicolor'"
            ]
          },
          "execution_count": 10,
          "metadata": {},
          "output_type": "execute_result"
        }
      ],
      "source": [
        "iris.target_names[1]"
      ]
    },
    {
      "cell_type": "code",
      "execution_count": 11,
      "metadata": {
        "colab": {
          "base_uri": "https://localhost:8080/",
          "height": 417
        },
        "id": "0gTmqVBxnNR9",
        "outputId": "70aa407d-fdad-4475-e700-df8be3e7e8d3"
      },
      "outputs": [
        {
          "data": {
            "text/html": [
              "<div>\n",
              "<style scoped>\n",
              "    .dataframe tbody tr th:only-of-type {\n",
              "        vertical-align: middle;\n",
              "    }\n",
              "\n",
              "    .dataframe tbody tr th {\n",
              "        vertical-align: top;\n",
              "    }\n",
              "\n",
              "    .dataframe thead th {\n",
              "        text-align: right;\n",
              "    }\n",
              "</style>\n",
              "<table border=\"1\" class=\"dataframe\">\n",
              "  <thead>\n",
              "    <tr style=\"text-align: right;\">\n",
              "      <th></th>\n",
              "      <th>sepal length (cm)</th>\n",
              "      <th>sepal width (cm)</th>\n",
              "      <th>petal length (cm)</th>\n",
              "      <th>petal width (cm)</th>\n",
              "    </tr>\n",
              "  </thead>\n",
              "  <tbody>\n",
              "    <tr>\n",
              "      <th>0</th>\n",
              "      <td>5.1</td>\n",
              "      <td>3.5</td>\n",
              "      <td>1.4</td>\n",
              "      <td>0.2</td>\n",
              "    </tr>\n",
              "    <tr>\n",
              "      <th>1</th>\n",
              "      <td>4.9</td>\n",
              "      <td>3.0</td>\n",
              "      <td>1.4</td>\n",
              "      <td>0.2</td>\n",
              "    </tr>\n",
              "    <tr>\n",
              "      <th>2</th>\n",
              "      <td>4.7</td>\n",
              "      <td>3.2</td>\n",
              "      <td>1.3</td>\n",
              "      <td>0.2</td>\n",
              "    </tr>\n",
              "    <tr>\n",
              "      <th>3</th>\n",
              "      <td>4.6</td>\n",
              "      <td>3.1</td>\n",
              "      <td>1.5</td>\n",
              "      <td>0.2</td>\n",
              "    </tr>\n",
              "    <tr>\n",
              "      <th>4</th>\n",
              "      <td>5.0</td>\n",
              "      <td>3.6</td>\n",
              "      <td>1.4</td>\n",
              "      <td>0.2</td>\n",
              "    </tr>\n",
              "    <tr>\n",
              "      <th>...</th>\n",
              "      <td>...</td>\n",
              "      <td>...</td>\n",
              "      <td>...</td>\n",
              "      <td>...</td>\n",
              "    </tr>\n",
              "    <tr>\n",
              "      <th>145</th>\n",
              "      <td>6.7</td>\n",
              "      <td>3.0</td>\n",
              "      <td>5.2</td>\n",
              "      <td>2.3</td>\n",
              "    </tr>\n",
              "    <tr>\n",
              "      <th>146</th>\n",
              "      <td>6.3</td>\n",
              "      <td>2.5</td>\n",
              "      <td>5.0</td>\n",
              "      <td>1.9</td>\n",
              "    </tr>\n",
              "    <tr>\n",
              "      <th>147</th>\n",
              "      <td>6.5</td>\n",
              "      <td>3.0</td>\n",
              "      <td>5.2</td>\n",
              "      <td>2.0</td>\n",
              "    </tr>\n",
              "    <tr>\n",
              "      <th>148</th>\n",
              "      <td>6.2</td>\n",
              "      <td>3.4</td>\n",
              "      <td>5.4</td>\n",
              "      <td>2.3</td>\n",
              "    </tr>\n",
              "    <tr>\n",
              "      <th>149</th>\n",
              "      <td>5.9</td>\n",
              "      <td>3.0</td>\n",
              "      <td>5.1</td>\n",
              "      <td>1.8</td>\n",
              "    </tr>\n",
              "  </tbody>\n",
              "</table>\n",
              "<p>150 rows × 4 columns</p>\n",
              "</div>"
            ],
            "text/plain": [
              "     sepal length (cm)  sepal width (cm)  petal length (cm)  petal width (cm)\n",
              "0                  5.1               3.5                1.4               0.2\n",
              "1                  4.9               3.0                1.4               0.2\n",
              "2                  4.7               3.2                1.3               0.2\n",
              "3                  4.6               3.1                1.5               0.2\n",
              "4                  5.0               3.6                1.4               0.2\n",
              "..                 ...               ...                ...               ...\n",
              "145                6.7               3.0                5.2               2.3\n",
              "146                6.3               2.5                5.0               1.9\n",
              "147                6.5               3.0                5.2               2.0\n",
              "148                6.2               3.4                5.4               2.3\n",
              "149                5.9               3.0                5.1               1.8\n",
              "\n",
              "[150 rows x 4 columns]"
            ]
          },
          "execution_count": 11,
          "metadata": {},
          "output_type": "execute_result"
        }
      ],
      "source": [
        "x= iris.data\n",
        "y= iris.target\n",
        "\n",
        "df= pd.DataFrame(x,columns= iris.feature_names)\n",
        "df"
      ]
    },
    {
      "cell_type": "code",
      "execution_count": 12,
      "metadata": {
        "colab": {
          "base_uri": "https://localhost:8080/"
        },
        "id": "_lnWP9iRnVht",
        "outputId": "348c9c3a-fbc2-4871-bae4-efb078cf8d7c"
      },
      "outputs": [
        {
          "name": "stdout",
          "output_type": "stream",
          "text": [
            "[0 0 0 0 0 0 0 0 0 0 0 0 0 0 0 0 0 0 0 0 0 0 0 0 0 0 0 0 0 0 0 0 0 0 0 0 0\n",
            " 0 0 0 0 0 0 0 0 0 0 0 0 0 1 1 1 1 1 1 1 1 1 1 1 1 1 1 1 1 1 1 1 1 1 1 1 1\n",
            " 1 1 1 1 1 1 1 1 1 1 1 1 1 1 1 1 1 1 1 1 1 1 1 1 1 1 2 2 2 2 2 2 2 2 2 2 2\n",
            " 2 2 2 2 2 2 2 2 2 2 2 2 2 2 2 2 2 2 2 2 2 2 2 2 2 2 2 2 2 2 2 2 2 2 2 2 2\n",
            " 2 2]\n"
          ]
        }
      ],
      "source": [
        "print(y)"
      ]
    },
    {
      "cell_type": "code",
      "execution_count": 13,
      "metadata": {
        "id": "8PgeqyyjnYdV"
      },
      "outputs": [],
      "source": [
        "new_df= df.copy()"
      ]
    },
    {
      "cell_type": "code",
      "execution_count": 14,
      "metadata": {
        "colab": {
          "base_uri": "https://localhost:8080/",
          "height": 417
        },
        "id": "cQD-oBa9nZ-9",
        "outputId": "3ac7e77b-92be-4517-b9cf-8ce9ffd0bf46"
      },
      "outputs": [
        {
          "data": {
            "text/html": [
              "<div>\n",
              "<style scoped>\n",
              "    .dataframe tbody tr th:only-of-type {\n",
              "        vertical-align: middle;\n",
              "    }\n",
              "\n",
              "    .dataframe tbody tr th {\n",
              "        vertical-align: top;\n",
              "    }\n",
              "\n",
              "    .dataframe thead th {\n",
              "        text-align: right;\n",
              "    }\n",
              "</style>\n",
              "<table border=\"1\" class=\"dataframe\">\n",
              "  <thead>\n",
              "    <tr style=\"text-align: right;\">\n",
              "      <th></th>\n",
              "      <th>sepal length (cm)</th>\n",
              "      <th>sepal width (cm)</th>\n",
              "      <th>petal length (cm)</th>\n",
              "      <th>petal width (cm)</th>\n",
              "      <th>class</th>\n",
              "    </tr>\n",
              "  </thead>\n",
              "  <tbody>\n",
              "    <tr>\n",
              "      <th>0</th>\n",
              "      <td>5.1</td>\n",
              "      <td>3.5</td>\n",
              "      <td>1.4</td>\n",
              "      <td>0.2</td>\n",
              "      <td>0</td>\n",
              "    </tr>\n",
              "    <tr>\n",
              "      <th>1</th>\n",
              "      <td>4.9</td>\n",
              "      <td>3.0</td>\n",
              "      <td>1.4</td>\n",
              "      <td>0.2</td>\n",
              "      <td>0</td>\n",
              "    </tr>\n",
              "    <tr>\n",
              "      <th>2</th>\n",
              "      <td>4.7</td>\n",
              "      <td>3.2</td>\n",
              "      <td>1.3</td>\n",
              "      <td>0.2</td>\n",
              "      <td>0</td>\n",
              "    </tr>\n",
              "    <tr>\n",
              "      <th>3</th>\n",
              "      <td>4.6</td>\n",
              "      <td>3.1</td>\n",
              "      <td>1.5</td>\n",
              "      <td>0.2</td>\n",
              "      <td>0</td>\n",
              "    </tr>\n",
              "    <tr>\n",
              "      <th>4</th>\n",
              "      <td>5.0</td>\n",
              "      <td>3.6</td>\n",
              "      <td>1.4</td>\n",
              "      <td>0.2</td>\n",
              "      <td>0</td>\n",
              "    </tr>\n",
              "    <tr>\n",
              "      <th>...</th>\n",
              "      <td>...</td>\n",
              "      <td>...</td>\n",
              "      <td>...</td>\n",
              "      <td>...</td>\n",
              "      <td>...</td>\n",
              "    </tr>\n",
              "    <tr>\n",
              "      <th>145</th>\n",
              "      <td>6.7</td>\n",
              "      <td>3.0</td>\n",
              "      <td>5.2</td>\n",
              "      <td>2.3</td>\n",
              "      <td>2</td>\n",
              "    </tr>\n",
              "    <tr>\n",
              "      <th>146</th>\n",
              "      <td>6.3</td>\n",
              "      <td>2.5</td>\n",
              "      <td>5.0</td>\n",
              "      <td>1.9</td>\n",
              "      <td>2</td>\n",
              "    </tr>\n",
              "    <tr>\n",
              "      <th>147</th>\n",
              "      <td>6.5</td>\n",
              "      <td>3.0</td>\n",
              "      <td>5.2</td>\n",
              "      <td>2.0</td>\n",
              "      <td>2</td>\n",
              "    </tr>\n",
              "    <tr>\n",
              "      <th>148</th>\n",
              "      <td>6.2</td>\n",
              "      <td>3.4</td>\n",
              "      <td>5.4</td>\n",
              "      <td>2.3</td>\n",
              "      <td>2</td>\n",
              "    </tr>\n",
              "    <tr>\n",
              "      <th>149</th>\n",
              "      <td>5.9</td>\n",
              "      <td>3.0</td>\n",
              "      <td>5.1</td>\n",
              "      <td>1.8</td>\n",
              "      <td>2</td>\n",
              "    </tr>\n",
              "  </tbody>\n",
              "</table>\n",
              "<p>150 rows × 5 columns</p>\n",
              "</div>"
            ],
            "text/plain": [
              "     sepal length (cm)  sepal width (cm)  petal length (cm)  petal width (cm)  \\\n",
              "0                  5.1               3.5                1.4               0.2   \n",
              "1                  4.9               3.0                1.4               0.2   \n",
              "2                  4.7               3.2                1.3               0.2   \n",
              "3                  4.6               3.1                1.5               0.2   \n",
              "4                  5.0               3.6                1.4               0.2   \n",
              "..                 ...               ...                ...               ...   \n",
              "145                6.7               3.0                5.2               2.3   \n",
              "146                6.3               2.5                5.0               1.9   \n",
              "147                6.5               3.0                5.2               2.0   \n",
              "148                6.2               3.4                5.4               2.3   \n",
              "149                5.9               3.0                5.1               1.8   \n",
              "\n",
              "     class  \n",
              "0        0  \n",
              "1        0  \n",
              "2        0  \n",
              "3        0  \n",
              "4        0  \n",
              "..     ...  \n",
              "145      2  \n",
              "146      2  \n",
              "147      2  \n",
              "148      2  \n",
              "149      2  \n",
              "\n",
              "[150 rows x 5 columns]"
            ]
          },
          "execution_count": 14,
          "metadata": {},
          "output_type": "execute_result"
        }
      ],
      "source": [
        "new_df['class'] = y\n",
        "new_df"
      ]
    },
    {
      "cell_type": "code",
      "execution_count": 15,
      "metadata": {
        "colab": {
          "base_uri": "https://localhost:8080/",
          "height": 203
        },
        "id": "LlpZozAkncGd",
        "outputId": "df1ae7a9-e71d-402e-c4a5-c75993d46c38"
      },
      "outputs": [
        {
          "data": {
            "text/html": [
              "<div>\n",
              "<style scoped>\n",
              "    .dataframe tbody tr th:only-of-type {\n",
              "        vertical-align: middle;\n",
              "    }\n",
              "\n",
              "    .dataframe tbody tr th {\n",
              "        vertical-align: top;\n",
              "    }\n",
              "\n",
              "    .dataframe thead th {\n",
              "        text-align: right;\n",
              "    }\n",
              "</style>\n",
              "<table border=\"1\" class=\"dataframe\">\n",
              "  <thead>\n",
              "    <tr style=\"text-align: right;\">\n",
              "      <th></th>\n",
              "      <th>sepal length (cm)</th>\n",
              "      <th>sepal width (cm)</th>\n",
              "      <th>petal length (cm)</th>\n",
              "      <th>petal width (cm)</th>\n",
              "      <th>class</th>\n",
              "    </tr>\n",
              "  </thead>\n",
              "  <tbody>\n",
              "    <tr>\n",
              "      <th>0</th>\n",
              "      <td>5.1</td>\n",
              "      <td>3.5</td>\n",
              "      <td>1.4</td>\n",
              "      <td>0.2</td>\n",
              "      <td>0</td>\n",
              "    </tr>\n",
              "    <tr>\n",
              "      <th>1</th>\n",
              "      <td>4.9</td>\n",
              "      <td>3.0</td>\n",
              "      <td>1.4</td>\n",
              "      <td>0.2</td>\n",
              "      <td>0</td>\n",
              "    </tr>\n",
              "    <tr>\n",
              "      <th>2</th>\n",
              "      <td>4.7</td>\n",
              "      <td>3.2</td>\n",
              "      <td>1.3</td>\n",
              "      <td>0.2</td>\n",
              "      <td>0</td>\n",
              "    </tr>\n",
              "    <tr>\n",
              "      <th>3</th>\n",
              "      <td>4.6</td>\n",
              "      <td>3.1</td>\n",
              "      <td>1.5</td>\n",
              "      <td>0.2</td>\n",
              "      <td>0</td>\n",
              "    </tr>\n",
              "    <tr>\n",
              "      <th>4</th>\n",
              "      <td>5.0</td>\n",
              "      <td>3.6</td>\n",
              "      <td>1.4</td>\n",
              "      <td>0.2</td>\n",
              "      <td>0</td>\n",
              "    </tr>\n",
              "  </tbody>\n",
              "</table>\n",
              "</div>"
            ],
            "text/plain": [
              "   sepal length (cm)  sepal width (cm)  petal length (cm)  petal width (cm)  \\\n",
              "0                5.1               3.5                1.4               0.2   \n",
              "1                4.9               3.0                1.4               0.2   \n",
              "2                4.7               3.2                1.3               0.2   \n",
              "3                4.6               3.1                1.5               0.2   \n",
              "4                5.0               3.6                1.4               0.2   \n",
              "\n",
              "   class  \n",
              "0      0  \n",
              "1      0  \n",
              "2      0  \n",
              "3      0  \n",
              "4      0  "
            ]
          },
          "execution_count": 15,
          "metadata": {},
          "output_type": "execute_result"
        }
      ],
      "source": [
        "new_df[new_df[\"class\"] == 0].head()"
      ]
    },
    {
      "cell_type": "code",
      "execution_count": 16,
      "metadata": {
        "colab": {
          "base_uri": "https://localhost:8080/"
        },
        "id": "wnq7Jjr8nfAd",
        "outputId": "970b2c37-6365-4a7f-a375-12d130a1193a"
      },
      "outputs": [
        {
          "data": {
            "text/plain": [
              "50"
            ]
          },
          "execution_count": 16,
          "metadata": {},
          "output_type": "execute_result"
        }
      ],
      "source": [
        "len(new_df[new_df[\"class\"] == 0])"
      ]
    },
    {
      "cell_type": "code",
      "execution_count": 17,
      "metadata": {
        "id": "mTWN7bW1p4Qz"
      },
      "outputs": [],
      "source": [
        "X = new_df.iloc[:, :4] #  fitur\n",
        "y= new_df['class'] # target"
      ]
    },
    {
      "cell_type": "code",
      "execution_count": 18,
      "metadata": {
        "colab": {
          "base_uri": "https://localhost:8080/",
          "height": 302
        },
        "id": "rvFmWNR0nmju",
        "outputId": "5da60fbb-abb9-4309-feda-62f97b5e96df"
      },
      "outputs": [
        {
          "data": {
            "image/png": "[encoded data removed]",
            "text/plain": [
              "<Figure size 432x288 with 1 Axes>"
            ]
          },
          "metadata": {
            "needs_background": "light"
          },
          "output_type": "display_data"
        }
      ],
      "source": [
        "# Generate data on commute times.\n",
        "size, scale = 1000, 10\n",
        "ptl_width = new_df['petal width (cm)']\n",
        "#grid untuk garis kisi '-' disetiap sumbu atau axis, bins u/ jmlh pembagian bin 'histogram', rwidth = rentang dari setiap nilai\n",
        "ptl_width.plot.hist(grid=True, bins=10, rwidth=1, color='#607c8e')\n",
        "plt.title('Histogram Petal width Vs frequency')\n",
        "plt.xlabel('Petal width')\n",
        "plt.ylabel('Frequency')\n",
        "plt.grid(axis='y', alpha=0.75)"
      ]
    },
    {
      "cell_type": "markdown",
      "metadata": {
        "id": "PzjVULMinsTt"
      },
      "source": [
        "Kita menggunakan pandas function scatter matrix (fungsi pandas matrix pencar) untuk memvisualisasikan kumpulan data kita.\n",
        "\n",
        "menggunakan df dan juga data target 'y' untuk dilakukan pemberian warna 'c'"
      ]
    },
    {
      "cell_type": "code",
      "execution_count": 19,
      "metadata": {
        "colab": {
          "base_uri": "https://localhost:8080/",
          "height": 611
        },
        "id": "wSdKmoYuns4N",
        "outputId": "c5ba3ec0-3f5b-4899-d535-7f5e8954d212"
      },
      "outputs": [
        {
          "data": {
            "image/png": "[encoded data removed]",
            "text/plain": [
              "<Figure size 720x720 with 16 Axes>"
            ]
          },
          "metadata": {
            "needs_background": "light"
          },
          "output_type": "display_data"
        }
      ],
      "source": [
        "matrix_scatter= pd.plotting.scatter_matrix(df,c=y, figsize= [10,10], s= 150) #bisa tambah ', marker='D' '"
      ]
    },
    {
      "cell_type": "markdown",
      "metadata": {
        "id": "SWr9uyqNnyC1"
      },
      "source": [
        "Hasilnya adalah matriks, yang pada diagonalnya terdapat histogram fitur yang sesuai dengan baris dan kolom. Gambar off-diagonal adalah scatter plots of the column feature versus row feature colored by the target variable (sebaran fitur kolom versus fitur baris yang diwarnai oleh variabel target). Ada banyak informasi dalam matriks pencar (scatter matrix) ini."
      ]
    },
    {
      "cell_type": "markdown",
      "metadata": {
        "id": "ra8fhdV9oFnO"
      },
      "source": [
        "Lihat, gambar diatas, bahwa petal width and length are highly correlated (lebar dan panjang kelopak sangat berkorelasi), seperti yang Anda duga, dan bahwa bunga di klasifikasikan menurut spesies."
      ]
    },
    {
      "cell_type": "markdown",
      "metadata": {
        "id": "wWyZ3T2aszcv"
      },
      "source": [
        "Selanjutnya split data"
      ]
    },
    {
      "cell_type": "code",
      "execution_count": 20,
      "metadata": {
        "id": "ktO6eMfPsy7Y"
      },
      "outputs": [],
      "source": [
        "from sklearn.model_selection import train_test_split, GridSearchCV,StratifiedKFold\n",
        "\n",
        "X_train, X_test, y_train, y_test = train_test_split(X, y, test_size=0.2, random_state=1, stratify = y)"
      ]
    },
    {
      "cell_type": "markdown",
      "metadata": {
        "id": "9pSaLt7TCx2p"
      },
      "source": [
        "https://machinelearningmastery.com/train-test-split-for-evaluating-machine-learning-algorithms/"
      ]
    },
    {
      "cell_type": "markdown",
      "metadata": {
        "id": "hBjQImQFzK-I"
      },
      "source": [
        "stratify Parameter ini membuat pemisahan sehingga proporsi nilai dalam sampel yang dihasilkan akan sama dengan proporsi nilai yang diberikan pada parameter stratify.\n",
        "\n",
        "Misalnya, jika variabel yadalah variabel kategoris biner dengan nilai 0dan 1dan ada 25% dari nol dan 75% dari satu, stratify=yakan memastikan bahwa pemisahan acak Anda memiliki 25% yg 0 dan 75% yg 1.\n",
        "\n"
      ]
    },
    {
      "cell_type": "code",
      "execution_count": 21,
      "metadata": {
        "colab": {
          "base_uri": "https://localhost:8080/"
        },
        "id": "7OES6S_GtSin",
        "outputId": "dd3446ff-c605-4165-d8dd-8d18c8a7bbf1"
      },
      "outputs": [
        {
          "name": "stdout",
          "output_type": "stream",
          "text": [
            "0.8 0.2\n"
          ]
        }
      ],
      "source": [
        "print(len(X_train)/len(X),len(X_test)/len(X))"
      ]
    },
    {
      "cell_type": "code",
      "execution_count": 22,
      "metadata": {
        "id": "pyDfaXiHtV5O"
      },
      "outputs": [],
      "source": [
        "dt = DecisionTreeClassifier(max_depth= 2,random_state=1)"
      ]
    },
    {
      "cell_type": "code",
      "execution_count": 23,
      "metadata": {
        "colab": {
          "base_uri": "https://localhost:8080/"
        },
        "id": "o9XKMc4BteI2",
        "outputId": "a6fda4bd-10dc-4b14-f684-4e0b6f010691"
      },
      "outputs": [
        {
          "data": {
            "text/plain": [
              "DecisionTreeClassifier(max_depth=2, random_state=1)"
            ]
          },
          "execution_count": 23,
          "metadata": {},
          "output_type": "execute_result"
        }
      ],
      "source": [
        "dt.fit(X_train, y_train)"
      ]
    },
    {
      "cell_type": "code",
      "execution_count": 24,
      "metadata": {
        "colab": {
          "base_uri": "https://localhost:8080/",
          "height": 574
        },
        "id": "KqQB_jJdtl09",
        "outputId": "9837467d-5eb3-404c-ce5f-e2d623f955a6"
      },
      "outputs": [
        {
          "data": {
            "image/png": "[encoded data removed]",
            "text/plain": [
              "<Figure size 1440x720 with 1 Axes>"
            ]
          },
          "metadata": {
            "needs_background": "light"
          },
          "output_type": "display_data"
        }
      ],
      "source": [
        "plt.figure(figsize = (20, 10))\n",
        "tree.plot_tree(\n",
        "    dt, feature_names = X.columns, class_names=[\"0\",\"1\",\"2\"], filled=True, fontsize = 10\n",
        ")\n",
        "plt.show()"
      ]
    },
    {
      "cell_type": "code",
      "execution_count": 25,
      "metadata": {
        "id": "ocZqHVLlu8Gz"
      },
      "outputs": [],
      "source": [
        "dt_pred_train = dt.predict(X_train)"
      ]
    },
    {
      "cell_type": "code",
      "execution_count": 26,
      "metadata": {
        "id": "i71DnBznwV5K"
      },
      "outputs": [],
      "source": [
        "from sklearn.metrics import classification_report, confusion_matrix, roc_auc_score, accuracy_score, roc_curve"
      ]
    },
    {
      "cell_type": "code",
      "execution_count": 27,
      "metadata": {
        "colab": {
          "base_uri": "https://localhost:8080/"
        },
        "id": "w9-jN1T-vDGE",
        "outputId": "02fc203e-6143-4ecb-e7f8-94087adeb6f3"
      },
      "outputs": [
        {
          "name": "stdout",
          "output_type": "stream",
          "text": [
            "Decision Tree\n",
            "               precision    recall  f1-score   support\n",
            "\n",
            "           0       1.00      1.00      1.00        40\n",
            "           1       1.00      0.88      0.93        40\n",
            "           2       0.89      1.00      0.94        40\n",
            "\n",
            "    accuracy                           0.96       120\n",
            "   macro avg       0.96      0.96      0.96       120\n",
            "weighted avg       0.96      0.96      0.96       120\n",
            "\n"
          ]
        }
      ],
      "source": [
        "print(\"Decision Tree\\n\", classification_report(y_train, dt_pred_train))"
      ]
    },
    {
      "cell_type": "code",
      "execution_count": 28,
      "metadata": {
        "colab": {
          "base_uri": "https://localhost:8080/"
        },
        "id": "847QC-PEmOcO",
        "outputId": "346b34ec-749a-44de-8434-1e290834337c"
      },
      "outputs": [
        {
          "name": "stdout",
          "output_type": "stream",
          "text": [
            "Confusion matrix\n",
            "\n",
            " [[40  0  0]\n",
            " [ 0 35  5]\n",
            " [ 0  0 40]]\n"
          ]
        }
      ],
      "source": [
        "cm = confusion_matrix(y_train, dt_pred_train)\n",
        "print('Confusion matrix\\n\\n', cm)"
      ]
    },
    {
      "cell_type": "code",
      "execution_count": 29,
      "metadata": {
        "id": "juWRrU8UvPcT"
      },
      "outputs": [],
      "source": [
        "dt_pred_val = dt.predict(X_test)"
      ]
    },
    {
      "cell_type": "code",
      "execution_count": 30,
      "metadata": {
        "colab": {
          "base_uri": "https://localhost:8080/"
        },
        "id": "oXGPPjC9vTFE",
        "outputId": "f6f73260-189f-4b78-c4eb-119aa269552e"
      },
      "outputs": [
        {
          "name": "stdout",
          "output_type": "stream",
          "text": [
            "Decision Tree\n",
            "               precision    recall  f1-score   support\n",
            "\n",
            "           0       1.00      1.00      1.00        10\n",
            "           1       0.90      0.90      0.90        10\n",
            "           2       0.90      0.90      0.90        10\n",
            "\n",
            "    accuracy                           0.93        30\n",
            "   macro avg       0.93      0.93      0.93        30\n",
            "weighted avg       0.93      0.93      0.93        30\n",
            "\n"
          ]
        }
      ],
      "source": [
        "print(\"Decision Tree\\n\", classification_report(y_test, dt_pred_val))"
      ]
    },
    {
      "cell_type": "code",
      "execution_count": 31,
      "metadata": {
        "colab": {
          "base_uri": "https://localhost:8080/"
        },
        "id": "nZG1pctA2L-j",
        "outputId": "73983fe3-8892-4b4d-c79a-dcfdf3c4626f"
      },
      "outputs": [
        {
          "name": "stdout",
          "output_type": "stream",
          "text": [
            "Training set score: 0.9583\n",
            "Test set score: 0.9333\n"
          ]
        }
      ],
      "source": [
        "print('Training set score: {:.4f}'.format(dt.score(X_train, y_train)))\n",
        "\n",
        "print('Test set score: {:.4f}'.format(dt.score(X_test, y_test)))"
      ]
    },
    {
      "cell_type": "code",
      "execution_count": 32,
      "metadata": {
        "colab": {
          "base_uri": "https://localhost:8080/"
        },
        "id": "dyxeJOCNlZG2",
        "outputId": "e61ffec7-a8da-4db8-e00e-e83c6e31b170"
      },
      "outputs": [
        {
          "name": "stdout",
          "output_type": "stream",
          "text": [
            "Confusion matrix\n",
            "\n",
            " [[10  0  0]\n",
            " [ 0  9  1]\n",
            " [ 0  1  9]]\n"
          ]
        }
      ],
      "source": [
        "cm = confusion_matrix(y_test, dt_pred_val)\n",
        "print('Confusion matrix\\n\\n', cm)"
      ]
    },
    {
      "cell_type": "markdown",
      "metadata": {
        "id": "7aUVLwL7vZR7"
      },
      "source": [
        "Hyperparameter Tuning"
      ]
    },
    {
      "cell_type": "code",
      "execution_count": 33,
      "metadata": {
        "colab": {
          "base_uri": "https://localhost:8080/"
        },
        "id": "vNGTIsVcvaNU",
        "outputId": "81672b0e-b318-435e-949e-875157efa5d5"
      },
      "outputs": [
        {
          "data": {
            "text/plain": [
              "GridSearchCV(cv=10, estimator=DecisionTreeClassifier(random_state=1),\n",
              "             param_grid={'max_depth': array([2, 3, 4, 5, 6]),\n",
              "                         'min_samples_split': array([2, 3, 4, 5, 6, 7, 8])},\n",
              "             return_train_score=True, scoring='accuracy')"
            ]
          },
          "execution_count": 33,
          "metadata": {},
          "output_type": "execute_result"
        }
      ],
      "source": [
        "params = {\n",
        "    'min_samples_split' : np.arange(2,9),\n",
        "    'max_depth' : np.arange(2,7)\n",
        "}\n",
        "\n",
        "dt = DecisionTreeClassifier(random_state=1)\n",
        "#cv adalah nilai cross validation\n",
        "dt_grid = GridSearchCV(dt, params, scoring =\"accuracy\", cv = 10, return_train_score=True)\n",
        "dt_grid.fit(X_train, y_train)"
      ]
    },
    {
      "cell_type": "markdown",
      "metadata": {
        "id": "KxBkyRqOHJap"
      },
      "source": [
        "Verbose adalah istilah pemrograman umum untuk menghasilkan banyak keluaran logging. Anda dapat menganggapnya sebagai meminta program untuk \"memberi tahu saya segala sesuatu tentang apa yang Anda lakukan sepanjang waktu\". Atur saja ke true dan lihat apa yang terjadi."
      ]
    },
    {
      "cell_type": "code",
      "execution_count": 34,
      "metadata": {
        "id": "KEQl90_VviTO"
      },
      "outputs": [],
      "source": [
        "# dt_hyperparam_df = pd.DataFrame(dt_grid.cv_results_)\n",
        "# dt_hyperparam_df.sort_values(\"mean_test_score\", ascending=False)[[\"params\", \"mean_test_score\", \"mean_train_score\", \"std_test_score\", \"std_train_score\"]]"
      ]
    },
    {
      "cell_type": "code",
      "execution_count": 35,
      "metadata": {
        "colab": {
          "base_uri": "https://localhost:8080/"
        },
        "id": "DXe3-y_FvlLz",
        "outputId": "60b9d4c2-eb4b-4ad6-875f-f7653a1904d3"
      },
      "outputs": [
        {
          "name": "stdout",
          "output_type": "stream",
          "text": [
            "Best Scores: 0.9416666666666667\n",
            "Best Params: {'max_depth': 3, 'min_samples_split': 2}\n"
          ]
        }
      ],
      "source": [
        "print(f\"Best Scores: {dt_grid.best_score_}\")\n",
        "print(f\"Best Params: {dt_grid.best_params_}\")"
      ]
    },
    {
      "cell_type": "code",
      "execution_count": 37,
      "metadata": {
        "id": "_WjK8p4BtLw-"
      },
      "outputs": [
        {
          "ename": "AttributeError",
          "evalue": "'GridSearchCV' object has no attribute 'tree_'",
          "output_type": "error",
          "traceback": [
            "\u001b[1;31m---------------------------------------------------------------------------\u001b[0m",
            "\u001b[1;31mAttributeError\u001b[0m                            Traceback (most recent call last)",
            "\u001b[1;32m<ipython-input-37-a5fd615f78f3>\u001b[0m in \u001b[0;36m<module>\u001b[1;34m\u001b[0m\n\u001b[0;32m      1\u001b[0m \u001b[0mplt\u001b[0m\u001b[1;33m.\u001b[0m\u001b[0mfigure\u001b[0m\u001b[1;33m(\u001b[0m\u001b[0mfigsize\u001b[0m \u001b[1;33m=\u001b[0m \u001b[1;33m(\u001b[0m\u001b[1;36m20\u001b[0m\u001b[1;33m,\u001b[0m \u001b[1;36m10\u001b[0m\u001b[1;33m)\u001b[0m\u001b[1;33m)\u001b[0m\u001b[1;33m\u001b[0m\u001b[1;33m\u001b[0m\u001b[0m\n\u001b[1;32m----> 2\u001b[1;33m tree.plot_tree(\n\u001b[0m\u001b[0;32m      3\u001b[0m     \u001b[0mdt_grid\u001b[0m\u001b[1;33m,\u001b[0m \u001b[0mfeature_names\u001b[0m \u001b[1;33m=\u001b[0m \u001b[0mX\u001b[0m\u001b[1;33m.\u001b[0m\u001b[0mcolumns\u001b[0m\u001b[1;33m,\u001b[0m \u001b[0mclass_names\u001b[0m\u001b[1;33m=\u001b[0m\u001b[1;33m[\u001b[0m\u001b[1;34m\"0\"\u001b[0m\u001b[1;33m,\u001b[0m\u001b[1;34m\"1\"\u001b[0m\u001b[1;33m,\u001b[0m\u001b[1;34m\"2\"\u001b[0m\u001b[1;33m]\u001b[0m\u001b[1;33m,\u001b[0m \u001b[0mfilled\u001b[0m\u001b[1;33m=\u001b[0m\u001b[1;32mTrue\u001b[0m\u001b[1;33m,\u001b[0m \u001b[0mfontsize\u001b[0m \u001b[1;33m=\u001b[0m \u001b[1;36m10\u001b[0m\u001b[1;33m\u001b[0m\u001b[1;33m\u001b[0m\u001b[0m\n\u001b[0;32m      4\u001b[0m )\n\u001b[0;32m      5\u001b[0m \u001b[0mplt\u001b[0m\u001b[1;33m.\u001b[0m\u001b[0mshow\u001b[0m\u001b[1;33m(\u001b[0m\u001b[1;33m)\u001b[0m\u001b[1;33m\u001b[0m\u001b[1;33m\u001b[0m\u001b[0m\n",
            "\u001b[1;32m~\\anaconda3\\lib\\site-packages\\sklearn\\tree\\_export.py\u001b[0m in \u001b[0;36mplot_tree\u001b[1;34m(decision_tree, max_depth, feature_names, class_names, label, filled, impurity, node_ids, proportion, rounded, precision, ax, fontsize)\u001b[0m\n\u001b[0;32m    193\u001b[0m         \u001b[0mfontsize\u001b[0m\u001b[1;33m=\u001b[0m\u001b[0mfontsize\u001b[0m\u001b[1;33m,\u001b[0m\u001b[1;33m\u001b[0m\u001b[1;33m\u001b[0m\u001b[0m\n\u001b[0;32m    194\u001b[0m     )\n\u001b[1;32m--> 195\u001b[1;33m     \u001b[1;32mreturn\u001b[0m \u001b[0mexporter\u001b[0m\u001b[1;33m.\u001b[0m\u001b[0mexport\u001b[0m\u001b[1;33m(\u001b[0m\u001b[0mdecision_tree\u001b[0m\u001b[1;33m,\u001b[0m \u001b[0max\u001b[0m\u001b[1;33m=\u001b[0m\u001b[0max\u001b[0m\u001b[1;33m)\u001b[0m\u001b[1;33m\u001b[0m\u001b[1;33m\u001b[0m\u001b[0m\n\u001b[0m\u001b[0;32m    196\u001b[0m \u001b[1;33m\u001b[0m\u001b[0m\n\u001b[0;32m    197\u001b[0m \u001b[1;33m\u001b[0m\u001b[0m\n",
            "\u001b[1;32m~\\anaconda3\\lib\\site-packages\\sklearn\\tree\\_export.py\u001b[0m in \u001b[0;36mexport\u001b[1;34m(self, decision_tree, ax)\u001b[0m\n\u001b[0;32m    654\u001b[0m         \u001b[0max\u001b[0m\u001b[1;33m.\u001b[0m\u001b[0mclear\u001b[0m\u001b[1;33m(\u001b[0m\u001b[1;33m)\u001b[0m\u001b[1;33m\u001b[0m\u001b[1;33m\u001b[0m\u001b[0m\n\u001b[0;32m    655\u001b[0m         \u001b[0max\u001b[0m\u001b[1;33m.\u001b[0m\u001b[0mset_axis_off\u001b[0m\u001b[1;33m(\u001b[0m\u001b[1;33m)\u001b[0m\u001b[1;33m\u001b[0m\u001b[1;33m\u001b[0m\u001b[0m\n\u001b[1;32m--> 656\u001b[1;33m         \u001b[0mmy_tree\u001b[0m \u001b[1;33m=\u001b[0m \u001b[0mself\u001b[0m\u001b[1;33m.\u001b[0m\u001b[0m_make_tree\u001b[0m\u001b[1;33m(\u001b[0m\u001b[1;36m0\u001b[0m\u001b[1;33m,\u001b[0m \u001b[0mdecision_tree\u001b[0m\u001b[1;33m.\u001b[0m\u001b[0mtree_\u001b[0m\u001b[1;33m,\u001b[0m \u001b[0mdecision_tree\u001b[0m\u001b[1;33m.\u001b[0m\u001b[0mcriterion\u001b[0m\u001b[1;33m)\u001b[0m\u001b[1;33m\u001b[0m\u001b[1;33m\u001b[0m\u001b[0m\n\u001b[0m\u001b[0;32m    657\u001b[0m         \u001b[0mdraw_tree\u001b[0m \u001b[1;33m=\u001b[0m \u001b[0mbuchheim\u001b[0m\u001b[1;33m(\u001b[0m\u001b[0mmy_tree\u001b[0m\u001b[1;33m)\u001b[0m\u001b[1;33m\u001b[0m\u001b[1;33m\u001b[0m\u001b[0m\n\u001b[0;32m    658\u001b[0m \u001b[1;33m\u001b[0m\u001b[0m\n",
            "\u001b[1;31mAttributeError\u001b[0m: 'GridSearchCV' object has no attribute 'tree_'"
          ]
        },
        {
          "data": {
            "image/png": "[encoded data removed]",
            "text/plain": [
              "<Figure size 1440x720 with 1 Axes>"
            ]
          },
          "metadata": {
            "needs_background": "light"
          },
          "output_type": "display_data"
        }
      ],
      "source": [
        "plt.figure(figsize = (20, 10))\n",
        "tree.plot_tree(\n",
        "    dt_grid, feature_names = X.columns, class_names=[\"0\",\"1\",\"2\"], filled=True, fontsize = 10\n",
        ")\n",
        "plt.show()"
      ]
    },
    {
      "cell_type": "markdown",
      "metadata": {
        "id": "Bor7k11jvp5b"
      },
      "source": [
        "# Model Evaluation"
      ]
    },
    {
      "cell_type": "code",
      "execution_count": null,
      "metadata": {
        "colab": {
          "base_uri": "https://localhost:8080/"
        },
        "id": "miDZes8IvqgL",
        "outputId": "cd22983c-21a5-4022-d8c3-dc711c2b420b"
      },
      "outputs": [
        {
          "name": "stdout",
          "output_type": "stream",
          "text": [
            "DecisionTreeClassifier(ccp_alpha=0.0, class_weight=None, criterion='gini',\n",
            "                       max_depth=3, max_features=None, max_leaf_nodes=None,\n",
            "                       min_impurity_decrease=0.0, min_impurity_split=None,\n",
            "                       min_samples_leaf=1, min_samples_split=2,\n",
            "                       min_weight_fraction_leaf=0.0, presort='deprecated',\n",
            "                       random_state=1, splitter='best')\n"
          ]
        }
      ],
      "source": [
        "dt_best = dt_grid.best_estimator_\n",
        "print(dt_best)"
      ]
    },
    {
      "cell_type": "code",
      "execution_count": null,
      "metadata": {
        "id": "ZEwbC4_Svsg7"
      },
      "outputs": [],
      "source": [
        "dt_train_p = dt_best.predict(X_train)\n",
        "dt_val_p = dt_best.predict(X_test)"
      ]
    },
    {
      "cell_type": "code",
      "execution_count": null,
      "metadata": {
        "colab": {
          "base_uri": "https://localhost:8080/"
        },
        "id": "NLE31G_wvtof",
        "outputId": "b7b9f1b3-3d5f-4c29-fa71-d7f60986193f"
      },
      "outputs": [
        {
          "name": "stdout",
          "output_type": "stream",
          "text": [
            "Decision Tree-TRAIN\n",
            "               precision    recall  f1-score   support\n",
            "\n",
            "           0       1.00      1.00      1.00        40\n",
            "           1       0.91      0.97      0.94        40\n",
            "           2       0.97      0.90      0.94        40\n",
            "\n",
            "    accuracy                           0.96       120\n",
            "   macro avg       0.96      0.96      0.96       120\n",
            "weighted avg       0.96      0.96      0.96       120\n",
            "\n",
            "Decision Tree-VAL:\n",
            "               precision    recall  f1-score   support\n",
            "\n",
            "           0       1.00      1.00      1.00        10\n",
            "           1       0.91      1.00      0.95        10\n",
            "           2       1.00      0.90      0.95        10\n",
            "\n",
            "    accuracy                           0.97        30\n",
            "   macro avg       0.97      0.97      0.97        30\n",
            "weighted avg       0.97      0.97      0.97        30\n",
            "\n"
          ]
        }
      ],
      "source": [
        "print(\"Decision Tree-TRAIN\\n\", classification_report(y_train, dt_train_p))\n",
        "print(\"Decision Tree-VAL:\\n\", classification_report(y_test, dt_val_p))"
      ]
    },
    {
      "cell_type": "markdown",
      "metadata": {
        "id": "4AgxYTgckwPB"
      },
      "source": [
        "https://www.kaggle.com/adityaecdrid/iris-dataset-classifying 0,1,2\n"
      ]
    },
    {
      "cell_type": "code",
      "execution_count": null,
      "metadata": {
        "colab": {
          "base_uri": "https://localhost:8080/"
        },
        "id": "2R981Xsjv0Sq",
        "outputId": "7f79ae8a-7162-45cf-a356-e54b5b02e7e1"
      },
      "outputs": [
        {
          "name": "stdout",
          "output_type": "stream",
          "text": [
            "Decision Tree-TRAIN\n",
            " [[40  0  0]\n",
            " [ 0 39  1]\n",
            " [ 0  4 36]]\n",
            "Decision Tree-VAL:\n",
            " [[10  0  0]\n",
            " [ 0 10  0]\n",
            " [ 0  1  9]]\n"
          ]
        }
      ],
      "source": [
        "print(\"Decision Tree-TRAIN\\n\", confusion_matrix(y_train, dt_train_p))\n",
        "print(\"Decision Tree-VAL:\\n\", confusion_matrix(y_test, dt_val_p))"
      ]
    },
    {
      "cell_type": "markdown",
      "metadata": {
        "id": "skyAcofEj0Jy"
      },
      "source": [
        "https://www.pengalaman-edukasi.com/2020/11/menghitung-confusion-matrix-3-kelas.html\n",
        "\n",
        "https://towardsdatascience.com/confusion-matrix-for-your-multi-class-machine-learning-model-ff9aa3bf7826"
      ]
    },
    {
      "cell_type": "code",
      "execution_count": null,
      "metadata": {
        "colab": {
          "base_uri": "https://localhost:8080/"
        },
        "id": "jjX1P0Ze34vL",
        "outputId": "fd53fb6b-96a1-45c9-8327-9212d75d91c0"
      },
      "outputs": [
        {
          "name": "stdout",
          "output_type": "stream",
          "text": [
            "Training set score: 0.9583\n",
            "Test set score: 0.9667\n"
          ]
        }
      ],
      "source": [
        "print('Training set score: {:.4f}'.format(dt_best.score(X_train, y_train)))\n",
        "\n",
        "print('Test set score: {:.4f}'.format(dt_best.score(X_test, y_test)))"
      ]
    },
    {
      "cell_type": "markdown",
      "metadata": {
        "id": "P59s27pctQpO"
      },
      "source": [
        "cara 2\n"
      ]
    },
    {
      "cell_type": "code",
      "execution_count": null,
      "metadata": {
        "id": "H-ItWKIXtV9u"
      },
      "outputs": [],
      "source": [
        "# from sklearn.metrics import accuracy_score, confusion_matrix, classification_report\n",
        "\n",
        "# def print_score(clf, X_train, y_train, X_test, y_test, train=True):\n",
        "#     if train:\n",
        "#         pred = clf.predict(X_train)\n",
        "#         clf_report = pd.DataFrame(classification_report(y_train, pred, output_dict=True))\n",
        "#         print(\"Train Result:\\n================================================\")\n",
        "#         print(f\"Accuracy Score: {accuracy_score(y_train, pred) * 100:.2f}%\")\n",
        "#         print(\"_______________________________________________\")\n",
        "#         print(f\"CLASSIFICATION REPORT:\\n{clf_report}\")\n",
        "#         print(\"_______________________________________________\")\n",
        "#         print(f\"Confusion Matrix: \\n {confusion_matrix(y_train, pred)}\\n\")\n",
        "        \n",
        "#     elif train==False:\n",
        "#         pred = clf.predict(X_test)\n",
        "#         clf_report = pd.DataFrame(classification_report(y_test, pred, output_dict=True))\n",
        "#         print(\"Test Result:\\n================================================\")        \n",
        "#         print(f\"Accuracy Score: {accuracy_score(y_test, pred) * 100:.2f}%\")\n",
        "#         print(\"_______________________________________________\")\n",
        "#         print(f\"CLASSIFICATION REPORT:\\n{clf_report}\")\n",
        "#         print(\"_______________________________________________\")\n",
        "#         print(f\"Confusion Matrix: \\n {confusion_matrix(y_test, pred)}\\n\")"
      ]
    },
    {
      "cell_type": "markdown",
      "metadata": {
        "id": "mQ1UMdoRHjLq"
      },
      "source": [
        "https://stackoverflow.com/questions/32761556/python-scikit-learn-n-jobs"
      ]
    },
    {
      "cell_type": "code",
      "execution_count": null,
      "metadata": {
        "id": "fn8xIrvatRcO"
      },
      "outputs": [],
      "source": [
        "# from sklearn.tree import DecisionTreeClassifier\n",
        "# from sklearn.model_selection import GridSearchCV\n",
        "\n",
        "# cross_validation = StratifiedKFold(n_splits=10)\n",
        "# params = {\n",
        "#     \"criterion\":(\"gini\", \"entropy\"), \n",
        "#     \"splitter\":(\"best\", \"random\"), \n",
        "#     \"max_depth\":(list(range(1, 10))), \n",
        "#     \"min_samples_split\":[2, 3, 4], \n",
        "#     \"min_samples_leaf\":list(range(1, 10)), \n",
        "# }\n",
        "\n",
        "\n",
        "# tree_clf = DecisionTreeClassifier(random_state=42)\n",
        "# tree_cv = GridSearchCV(tree_clf, params, scoring=\"accuracy\", n_jobs=-1, verbose=1, cv=cross_validation)\n",
        "# tree_cv.fit(X_train, y_train)\n",
        "# best_params = tree_cv.best_params_\n",
        "# print(f\"Best paramters: {best_params})\")\n",
        "\n",
        "# tree_clf = DecisionTreeClassifier(**best_params)\n",
        "# tree_clf.fit(X_train, y_train)\n",
        "# print_score(tree_clf, X_train, y_train, X_test, y_test, train=True)\n",
        "# print_score(tree_clf, X_train, y_train, X_test, y_test, train=False)"
      ]
    },
    {
      "cell_type": "markdown",
      "metadata": {
        "id": "WhoZYYhl4bbi"
      },
      "source": [
        "# Model inference"
      ]
    },
    {
      "cell_type": "code",
      "execution_count": null,
      "metadata": {
        "colab": {
          "base_uri": "https://localhost:8080/",
          "height": 80
        },
        "id": "imRBXa4g4ekw",
        "outputId": "03e3cfd9-a720-4d80-fd4c-0091db69926c"
      },
      "outputs": [
        {
          "data": {
            "text/html": [
              "<div>\n",
              "<style scoped>\n",
              "    .dataframe tbody tr th:only-of-type {\n",
              "        vertical-align: middle;\n",
              "    }\n",
              "\n",
              "    .dataframe tbody tr th {\n",
              "        vertical-align: top;\n",
              "    }\n",
              "\n",
              "    .dataframe thead th {\n",
              "        text-align: right;\n",
              "    }\n",
              "</style>\n",
              "<table border=\"1\" class=\"dataframe\">\n",
              "  <thead>\n",
              "    <tr style=\"text-align: right;\">\n",
              "      <th></th>\n",
              "      <th>sepal length (cm)</th>\n",
              "      <th>sepal width (cm)</th>\n",
              "      <th>petal length (cm)</th>\n",
              "      <th>petal width (cm)</th>\n",
              "    </tr>\n",
              "  </thead>\n",
              "  <tbody>\n",
              "    <tr>\n",
              "      <th>0</th>\n",
              "      <td>5.1</td>\n",
              "      <td>3.5</td>\n",
              "      <td>1.4</td>\n",
              "      <td>0.2</td>\n",
              "    </tr>\n",
              "  </tbody>\n",
              "</table>\n",
              "</div>"
            ],
            "text/plain": [
              "   sepal length (cm)  sepal width (cm)  petal length (cm)  petal width (cm)\n",
              "0                5.1               3.5                1.4               0.2"
            ]
          },
          "execution_count": 672,
          "metadata": {},
          "output_type": "execute_result"
        }
      ],
      "source": [
        "X.head(1)"
      ]
    },
    {
      "cell_type": "code",
      "execution_count": null,
      "metadata": {
        "id": "GGoB-Vnb4FwY"
      },
      "outputs": [],
      "source": [
        "new_data = [[5.1, 3.5, 1.5, 0.3]]"
      ]
    },
    {
      "cell_type": "code",
      "execution_count": null,
      "metadata": {
        "colab": {
          "base_uri": "https://localhost:8080/"
        },
        "id": "-loE-uzS4kt5",
        "outputId": "20ccb131-4281-478b-c3c6-45ffdfce56fa"
      },
      "outputs": [
        {
          "name": "stdout",
          "output_type": "stream",
          "text": [
            "Prediction: {setosa}\n"
          ]
        }
      ],
      "source": [
        "new_prediction= dt_best.predict(new_data)\n",
        "if new_prediction == [1.]:\n",
        "  print(\"Prediction: {versicolor}\")\n",
        "elif new_prediction == [2.0]:\n",
        "  print(\"Prediction: {virginica}\")\n",
        "else:\n",
        "  print(\"Prediction: {setosa}\")"
      ]
    },
    {
      "cell_type": "code",
      "execution_count": null,
      "metadata": {
        "id": "MQnhLiT2_F2H"
      },
      "outputs": [],
      "source": [
        "dt_test_p = dt_best.predict(X_test)"
      ]
    },
    {
      "cell_type": "code",
      "execution_count": null,
      "metadata": {
        "colab": {
          "base_uri": "https://localhost:8080/",
          "height": 975
        },
        "id": "U-zNuXXu_Iox",
        "outputId": "7c43428f-4d6f-4e5a-b7b4-97be7ed91f7c"
      },
      "outputs": [
        {
          "data": {
            "text/html": [
              "<div>\n",
              "<style scoped>\n",
              "    .dataframe tbody tr th:only-of-type {\n",
              "        vertical-align: middle;\n",
              "    }\n",
              "\n",
              "    .dataframe tbody tr th {\n",
              "        vertical-align: top;\n",
              "    }\n",
              "\n",
              "    .dataframe thead th {\n",
              "        text-align: right;\n",
              "    }\n",
              "</style>\n",
              "<table border=\"1\" class=\"dataframe\">\n",
              "  <thead>\n",
              "    <tr style=\"text-align: right;\">\n",
              "      <th></th>\n",
              "      <th>Actual</th>\n",
              "      <th>Prediction</th>\n",
              "    </tr>\n",
              "  </thead>\n",
              "  <tbody>\n",
              "    <tr>\n",
              "      <th>107</th>\n",
              "      <td>2</td>\n",
              "      <td>2</td>\n",
              "    </tr>\n",
              "    <tr>\n",
              "      <th>9</th>\n",
              "      <td>0</td>\n",
              "      <td>0</td>\n",
              "    </tr>\n",
              "    <tr>\n",
              "      <th>98</th>\n",
              "      <td>1</td>\n",
              "      <td>1</td>\n",
              "    </tr>\n",
              "    <tr>\n",
              "      <th>11</th>\n",
              "      <td>0</td>\n",
              "      <td>0</td>\n",
              "    </tr>\n",
              "    <tr>\n",
              "      <th>43</th>\n",
              "      <td>0</td>\n",
              "      <td>0</td>\n",
              "    </tr>\n",
              "    <tr>\n",
              "      <th>0</th>\n",
              "      <td>0</td>\n",
              "      <td>0</td>\n",
              "    </tr>\n",
              "    <tr>\n",
              "      <th>148</th>\n",
              "      <td>2</td>\n",
              "      <td>2</td>\n",
              "    </tr>\n",
              "    <tr>\n",
              "      <th>111</th>\n",
              "      <td>2</td>\n",
              "      <td>2</td>\n",
              "    </tr>\n",
              "    <tr>\n",
              "      <th>121</th>\n",
              "      <td>2</td>\n",
              "      <td>2</td>\n",
              "    </tr>\n",
              "    <tr>\n",
              "      <th>76</th>\n",
              "      <td>1</td>\n",
              "      <td>1</td>\n",
              "    </tr>\n",
              "    <tr>\n",
              "      <th>16</th>\n",
              "      <td>0</td>\n",
              "      <td>0</td>\n",
              "    </tr>\n",
              "    <tr>\n",
              "      <th>53</th>\n",
              "      <td>1</td>\n",
              "      <td>1</td>\n",
              "    </tr>\n",
              "    <tr>\n",
              "      <th>112</th>\n",
              "      <td>2</td>\n",
              "      <td>2</td>\n",
              "    </tr>\n",
              "    <tr>\n",
              "      <th>62</th>\n",
              "      <td>1</td>\n",
              "      <td>1</td>\n",
              "    </tr>\n",
              "    <tr>\n",
              "      <th>113</th>\n",
              "      <td>2</td>\n",
              "      <td>2</td>\n",
              "    </tr>\n",
              "    <tr>\n",
              "      <th>15</th>\n",
              "      <td>0</td>\n",
              "      <td>0</td>\n",
              "    </tr>\n",
              "    <tr>\n",
              "      <th>102</th>\n",
              "      <td>2</td>\n",
              "      <td>2</td>\n",
              "    </tr>\n",
              "    <tr>\n",
              "      <th>71</th>\n",
              "      <td>1</td>\n",
              "      <td>1</td>\n",
              "    </tr>\n",
              "    <tr>\n",
              "      <th>57</th>\n",
              "      <td>1</td>\n",
              "      <td>1</td>\n",
              "    </tr>\n",
              "    <tr>\n",
              "      <th>127</th>\n",
              "      <td>2</td>\n",
              "      <td>2</td>\n",
              "    </tr>\n",
              "    <tr>\n",
              "      <th>74</th>\n",
              "      <td>1</td>\n",
              "      <td>1</td>\n",
              "    </tr>\n",
              "    <tr>\n",
              "      <th>66</th>\n",
              "      <td>1</td>\n",
              "      <td>1</td>\n",
              "    </tr>\n",
              "    <tr>\n",
              "      <th>37</th>\n",
              "      <td>0</td>\n",
              "      <td>0</td>\n",
              "    </tr>\n",
              "    <tr>\n",
              "      <th>8</th>\n",
              "      <td>0</td>\n",
              "      <td>0</td>\n",
              "    </tr>\n",
              "    <tr>\n",
              "      <th>147</th>\n",
              "      <td>2</td>\n",
              "      <td>2</td>\n",
              "    </tr>\n",
              "    <tr>\n",
              "      <th>106</th>\n",
              "      <td>2</td>\n",
              "      <td>1</td>\n",
              "    </tr>\n",
              "    <tr>\n",
              "      <th>5</th>\n",
              "      <td>0</td>\n",
              "      <td>0</td>\n",
              "    </tr>\n",
              "    <tr>\n",
              "      <th>12</th>\n",
              "      <td>0</td>\n",
              "      <td>0</td>\n",
              "    </tr>\n",
              "    <tr>\n",
              "      <th>56</th>\n",
              "      <td>1</td>\n",
              "      <td>1</td>\n",
              "    </tr>\n",
              "    <tr>\n",
              "      <th>54</th>\n",
              "      <td>1</td>\n",
              "      <td>1</td>\n",
              "    </tr>\n",
              "  </tbody>\n",
              "</table>\n",
              "</div>"
            ],
            "text/plain": [
              "     Actual  Prediction\n",
              "107       2           2\n",
              "9         0           0\n",
              "98        1           1\n",
              "11        0           0\n",
              "43        0           0\n",
              "0         0           0\n",
              "148       2           2\n",
              "111       2           2\n",
              "121       2           2\n",
              "76        1           1\n",
              "16        0           0\n",
              "53        1           1\n",
              "112       2           2\n",
              "62        1           1\n",
              "113       2           2\n",
              "15        0           0\n",
              "102       2           2\n",
              "71        1           1\n",
              "57        1           1\n",
              "127       2           2\n",
              "74        1           1\n",
              "66        1           1\n",
              "37        0           0\n",
              "8         0           0\n",
              "147       2           2\n",
              "106       2           1\n",
              "5         0           0\n",
              "12        0           0\n",
              "56        1           1\n",
              "54        1           1"
            ]
          },
          "execution_count": 676,
          "metadata": {},
          "output_type": "execute_result"
        }
      ],
      "source": [
        "pd.DataFrame({\n",
        "    \"Actual\": y_test,\n",
        "    \"Prediction\": dt_test_p\n",
        "})"
      ]
    },
    {
      "cell_type": "markdown",
      "metadata": {
        "id": "X_L6hZ9K_UW_"
      },
      "source": [
        "# Boston"
      ]
    },
    {
      "cell_type": "markdown",
      "metadata": {},
      "source": [
        "https://www.saedsayad.com/decision_tree_reg.htm#:~:text=Decision%20tree%20builds%20regression%20or,decision%20nodes%20and%20leaf%20nodes."
      ]
    },
    {
      "cell_type": "code",
      "execution_count": null,
      "metadata": {
        "id": "dVisP3vBSmjL"
      },
      "outputs": [],
      "source": [
        "import pandas as pd\n",
        "import numpy as np\n",
        "from sklearn import datasets"
      ]
    },
    {
      "cell_type": "code",
      "execution_count": null,
      "metadata": {
        "colab": {
          "base_uri": "https://localhost:8080/",
          "height": 849
        },
        "id": "NCJyQhdbS4bK",
        "outputId": "a9ebbc7b-5b15-476f-af24-b5170f1d599e"
      },
      "outputs": [
        {
          "name": "stdout",
          "output_type": "stream",
          "text": [
            "Dataset structure=  ['DESCR', 'data', 'data_module', 'feature_names', 'filename', 'target']\n"
          ]
        },
        {
          "name": "stderr",
          "output_type": "stream",
          "text": [
            "/usr/local/lib/python3.7/dist-packages/sklearn/utils/deprecation.py:87: FutureWarning: Function load_boston is deprecated; `load_boston` is deprecated in 1.0 and will be removed in 1.2.\n",
            "\n",
            "    The Boston housing prices dataset has an ethical problem. You can refer to\n",
            "    the documentation of this function for further details.\n",
            "\n",
            "    The scikit-learn maintainers therefore strongly discourage the use of this\n",
            "    dataset unless the purpose of the code is to study and educate about\n",
            "    ethical issues in data science and machine learning.\n",
            "\n",
            "    In this special case, you can fetch the dataset from the original\n",
            "    source::\n",
            "\n",
            "        import pandas as pd\n",
            "        import numpy as np\n",
            "\n",
            "\n",
            "        data_url = \"http://lib.stat.cmu.edu/datasets/boston\"\n",
            "        raw_df = pd.read_csv(data_url, sep=\"\\s+\", skiprows=22, header=None)\n",
            "        data = np.hstack([raw_df.values[::2, :], raw_df.values[1::2, :2]])\n",
            "        target = raw_df.values[1::2, 2]\n",
            "\n",
            "    Alternative datasets include the California housing dataset (i.e.\n",
            "    :func:`~sklearn.datasets.fetch_california_housing`) and the Ames housing\n",
            "    dataset. You can load the datasets as follows::\n",
            "\n",
            "        from sklearn.datasets import fetch_california_housing\n",
            "        housing = fetch_california_housing()\n",
            "\n",
            "    for the California housing dataset and::\n",
            "\n",
            "        from sklearn.datasets import fetch_openml\n",
            "        housing = fetch_openml(name=\"house_prices\", as_frame=True)\n",
            "\n",
            "    for the Ames housing dataset.\n",
            "    \n",
            "  warnings.warn(msg, category=FutureWarning)\n"
          ]
        },
        {
          "data": {
            "text/html": [
              "<div>\n",
              "<style scoped>\n",
              "    .dataframe tbody tr th:only-of-type {\n",
              "        vertical-align: middle;\n",
              "    }\n",
              "\n",
              "    .dataframe tbody tr th {\n",
              "        vertical-align: top;\n",
              "    }\n",
              "\n",
              "    .dataframe thead th {\n",
              "        text-align: right;\n",
              "    }\n",
              "</style>\n",
              "<table border=\"1\" class=\"dataframe\">\n",
              "  <thead>\n",
              "    <tr style=\"text-align: right;\">\n",
              "      <th></th>\n",
              "      <th>CRIM</th>\n",
              "      <th>ZN</th>\n",
              "      <th>INDUS</th>\n",
              "      <th>CHAS</th>\n",
              "      <th>NOX</th>\n",
              "      <th>RM</th>\n",
              "      <th>AGE</th>\n",
              "      <th>DIS</th>\n",
              "      <th>RAD</th>\n",
              "      <th>TAX</th>\n",
              "      <th>PTRATIO</th>\n",
              "      <th>B</th>\n",
              "      <th>LSTAT</th>\n",
              "      <th>target</th>\n",
              "    </tr>\n",
              "  </thead>\n",
              "  <tbody>\n",
              "    <tr>\n",
              "      <th>135</th>\n",
              "      <td>0.55778</td>\n",
              "      <td>0.0</td>\n",
              "      <td>21.89</td>\n",
              "      <td>0.0</td>\n",
              "      <td>0.624</td>\n",
              "      <td>6.335</td>\n",
              "      <td>98.2</td>\n",
              "      <td>2.1107</td>\n",
              "      <td>4.0</td>\n",
              "      <td>437.0</td>\n",
              "      <td>21.2</td>\n",
              "      <td>394.67</td>\n",
              "      <td>16.96</td>\n",
              "      <td>18.1</td>\n",
              "    </tr>\n",
              "    <tr>\n",
              "      <th>406</th>\n",
              "      <td>20.71620</td>\n",
              "      <td>0.0</td>\n",
              "      <td>18.10</td>\n",
              "      <td>0.0</td>\n",
              "      <td>0.659</td>\n",
              "      <td>4.138</td>\n",
              "      <td>100.0</td>\n",
              "      <td>1.1781</td>\n",
              "      <td>24.0</td>\n",
              "      <td>666.0</td>\n",
              "      <td>20.2</td>\n",
              "      <td>370.22</td>\n",
              "      <td>23.34</td>\n",
              "      <td>11.9</td>\n",
              "    </tr>\n",
              "    <tr>\n",
              "      <th>253</th>\n",
              "      <td>0.36894</td>\n",
              "      <td>22.0</td>\n",
              "      <td>5.86</td>\n",
              "      <td>0.0</td>\n",
              "      <td>0.431</td>\n",
              "      <td>8.259</td>\n",
              "      <td>8.4</td>\n",
              "      <td>8.9067</td>\n",
              "      <td>7.0</td>\n",
              "      <td>330.0</td>\n",
              "      <td>19.1</td>\n",
              "      <td>396.90</td>\n",
              "      <td>3.54</td>\n",
              "      <td>42.8</td>\n",
              "    </tr>\n",
              "    <tr>\n",
              "      <th>396</th>\n",
              "      <td>5.87205</td>\n",
              "      <td>0.0</td>\n",
              "      <td>18.10</td>\n",
              "      <td>0.0</td>\n",
              "      <td>0.693</td>\n",
              "      <td>6.405</td>\n",
              "      <td>96.0</td>\n",
              "      <td>1.6768</td>\n",
              "      <td>24.0</td>\n",
              "      <td>666.0</td>\n",
              "      <td>20.2</td>\n",
              "      <td>396.90</td>\n",
              "      <td>19.37</td>\n",
              "      <td>12.5</td>\n",
              "    </tr>\n",
              "    <tr>\n",
              "      <th>445</th>\n",
              "      <td>10.67180</td>\n",
              "      <td>0.0</td>\n",
              "      <td>18.10</td>\n",
              "      <td>0.0</td>\n",
              "      <td>0.740</td>\n",
              "      <td>6.459</td>\n",
              "      <td>94.8</td>\n",
              "      <td>1.9879</td>\n",
              "      <td>24.0</td>\n",
              "      <td>666.0</td>\n",
              "      <td>20.2</td>\n",
              "      <td>43.06</td>\n",
              "      <td>23.98</td>\n",
              "      <td>11.8</td>\n",
              "    </tr>\n",
              "  </tbody>\n",
              "</table>\n",
              "</div>"
            ],
            "text/plain": [
              "         CRIM    ZN  INDUS  CHAS    NOX  ...    TAX  PTRATIO       B  LSTAT  target\n",
              "135   0.55778   0.0  21.89   0.0  0.624  ...  437.0     21.2  394.67  16.96    18.1\n",
              "406  20.71620   0.0  18.10   0.0  0.659  ...  666.0     20.2  370.22  23.34    11.9\n",
              "253   0.36894  22.0   5.86   0.0  0.431  ...  330.0     19.1  396.90   3.54    42.8\n",
              "396   5.87205   0.0  18.10   0.0  0.693  ...  666.0     20.2  396.90  19.37    12.5\n",
              "445  10.67180   0.0  18.10   0.0  0.740  ...  666.0     20.2   43.06  23.98    11.8\n",
              "\n",
              "[5 rows x 14 columns]"
            ]
          },
          "execution_count": 3,
          "metadata": {},
          "output_type": "execute_result"
        }
      ],
      "source": [
        "boston = datasets.load_boston()\n",
        "print('Dataset structure= ', dir(boston))\n",
        "\n",
        "df = pd.DataFrame(boston.data, columns = boston.feature_names)\n",
        "df['target'] = boston.target\n",
        "\n",
        "df.sample(5)"
      ]
    },
    {
      "cell_type": "code",
      "execution_count": null,
      "metadata": {
        "colab": {
          "base_uri": "https://localhost:8080/"
        },
        "id": "1T-q4jGoS7g8",
        "outputId": "3f429a1a-9ef0-4b1b-efb2-a870189c8ac1"
      },
      "outputs": [
        {
          "name": "stdout",
          "output_type": "stream",
          "text": [
            "X shape= (506, 13)\n",
            "y shape= (506, 1)\n"
          ]
        }
      ],
      "source": [
        "#Lets create feature matrix X  and y labels\n",
        "X = df[['CRIM', 'ZN', 'INDUS', 'CHAS', 'NOX', 'RM', 'AGE', 'DIS', 'RAD', 'TAX', 'PTRATIO', 'B', 'LSTAT']]\n",
        "y = df[['target']]\n",
        "\n",
        "print('X shape=', X.shape)\n",
        "print('y shape=', y.shape)"
      ]
    },
    {
      "cell_type": "code",
      "execution_count": null,
      "metadata": {
        "colab": {
          "base_uri": "https://localhost:8080/"
        },
        "id": "3T0nfoCoTHE7",
        "outputId": "0cb65c5b-9ece-46f6-ab50-a9be56364b25"
      },
      "outputs": [
        {
          "name": "stdout",
          "output_type": "stream",
          "text": [
            "X_train dimension=  (404, 13)\n",
            "X_test dimension=  (102, 13)\n",
            "y_train dimension=  (404, 1)\n",
            "y_train dimension=  (102, 1)\n"
          ]
        }
      ],
      "source": [
        "from sklearn.model_selection import train_test_split\n",
        "X_train,X_test, y_train, y_test = train_test_split(X, y, test_size= 0.2, random_state= 1)\n",
        "print('X_train dimension= ', X_train.shape)\n",
        "print('X_test dimension= ', X_test.shape)\n",
        "print('y_train dimension= ', y_train.shape)\n",
        "print('y_train dimension= ', y_test.shape)"
      ]
    },
    {
      "cell_type": "code",
      "execution_count": null,
      "metadata": {
        "colab": {
          "base_uri": "https://localhost:8080/"
        },
        "id": "Kfx9PcUoTgWs",
        "outputId": "7f211ff2-37a2-451d-da5b-e4f27edcc409"
      },
      "outputs": [
        {
          "data": {
            "text/plain": [
              "DecisionTreeRegressor(random_state=1)"
            ]
          },
          "execution_count": 11,
          "metadata": {},
          "output_type": "execute_result"
        }
      ],
      "source": [
        "from sklearn.tree import DecisionTreeRegressor\n",
        "dtr = DecisionTreeRegressor(random_state= 1)\n",
        "dtr.fit(X_train ,y_train)"
      ]
    },
    {
      "cell_type": "code",
      "execution_count": null,
      "metadata": {
        "colab": {
          "base_uri": "https://localhost:8080/"
        },
        "id": "7rhkYcKjUqxD",
        "outputId": "3f62f89c-bf16-4c4f-d917-c7002336e6fd"
      },
      "outputs": [
        {
          "data": {
            "text/plain": [
              "0.6762626452032452"
            ]
          },
          "execution_count": 16,
          "metadata": {},
          "output_type": "execute_result"
        }
      ],
      "source": [
        "dtr.score(X_test, y_test)"
      ]
    },
    {
      "cell_type": "code",
      "execution_count": null,
      "metadata": {
        "colab": {
          "base_uri": "https://localhost:8080/"
        },
        "id": "JwYeMpxjUuhT",
        "outputId": "9fb9eeab-451e-4016-95cc-380c59cb2866"
      },
      "outputs": [
        {
          "data": {
            "text/plain": [
              "1.0"
            ]
          },
          "execution_count": 15,
          "metadata": {},
          "output_type": "execute_result"
        }
      ],
      "source": [
        "dtr.score(X_train, y_train)"
      ]
    },
    {
      "cell_type": "code",
      "execution_count": null,
      "metadata": {
        "colab": {
          "base_uri": "https://localhost:8080/"
        },
        "id": "Hu8I2qIKVB_7",
        "outputId": "18cc5c0a-c5c4-4c49-e1ec-abec067a6500"
      },
      "outputs": [
        {
          "data": {
            "text/plain": [
              "31.99411764705883"
            ]
          },
          "execution_count": 19,
          "metadata": {},
          "output_type": "execute_result"
        }
      ],
      "source": [
        "from sklearn.metrics import mean_squared_error \n",
        "y_pred = dtr.predict(X_test)\n",
        "mean_squared_error(y_test, y_pred)"
      ]
    },
    {
      "cell_type": "code",
      "execution_count": null,
      "metadata": {
        "colab": {
          "base_uri": "https://localhost:8080/"
        },
        "id": "gaeK8EkzVE-8",
        "outputId": "2a745a61-ab0d-405a-9da5-283383d00a90"
      },
      "outputs": [
        {
          "data": {
            "text/plain": [
              "0.0"
            ]
          },
          "execution_count": 21,
          "metadata": {},
          "output_type": "execute_result"
        }
      ],
      "source": [
        "y_pred_train = dtr.predict(X_train)\n",
        "mean_squared_error(y_train, y_pred_train)"
      ]
    },
    {
      "cell_type": "code",
      "execution_count": null,
      "metadata": {
        "colab": {
          "base_uri": "https://localhost:8080/"
        },
        "id": "Yz5MsRGWV0T7",
        "outputId": "81668827-e472-4ab2-fdd8-a2a62c5bd2a6"
      },
      "outputs": [
        {
          "data": {
            "text/plain": [
              "GridSearchCV(cv=5, estimator=DecisionTreeRegressor(random_state=1),\n",
              "             param_grid={'criterion': ['absolute_error'],\n",
              "                         'max_depth': [2, 6, 8], 'max_leaf_nodes': [5, 20, 100],\n",
              "                         'min_samples_leaf': [20, 40, 100],\n",
              "                         'min_samples_split': [10, 20, 40]})"
            ]
          },
          "execution_count": 26,
          "metadata": {},
          "output_type": "execute_result"
        }
      ],
      "source": [
        "from sklearn.model_selection import GridSearchCV\n",
        "param_grid = {\"criterion\": [\"absolute_error\"],\n",
        "              \"min_samples_split\": [10, 20, 40],\n",
        "              \"max_depth\": [2, 6, 8],\n",
        "              \"min_samples_leaf\": [20, 40, 100],\n",
        "              \"max_leaf_nodes\": [5, 20, 100],\n",
        "              }\n",
        "\n",
        "## Comment in order to publish in kaggle.\n",
        "\n",
        "grid_cv_dtm = GridSearchCV(dtr, param_grid, cv=5)\n",
        "\n",
        "grid_cv_dtm.fit(X,y)"
      ]
    },
    {
      "cell_type": "code",
      "execution_count": null,
      "metadata": {
        "colab": {
          "base_uri": "https://localhost:8080/"
        },
        "id": "1AI3Qe4xWCMy",
        "outputId": "58763aa8-eee9-468d-b786-e1b15d4174c3"
      },
      "outputs": [
        {
          "name": "stdout",
          "output_type": "stream",
          "text": [
            "Best Score:0.43076914203986616\n",
            "Best Hyperparameters:\n",
            "{'criterion': 'absolute_error', 'max_depth': 8, 'max_leaf_nodes': 20, 'min_samples_leaf': 20, 'min_samples_split': 10}\n"
          ]
        }
      ],
      "source": [
        "print(\"Best Score:{}\".format(grid_cv_dtm.best_score_))\n",
        "print(\"Best Hyperparameters:\\n{}\".format(grid_cv_dtm.best_params_))"
      ]
    },
    {
      "cell_type": "code",
      "execution_count": null,
      "metadata": {
        "colab": {
          "base_uri": "https://localhost:8080/"
        },
        "id": "tRBHOybEWtGD",
        "outputId": "641ea385-0d76-4b7f-f730-cd72f7ef5b31"
      },
      "outputs": [
        {
          "data": {
            "text/plain": [
              "0.8442471551453562"
            ]
          },
          "execution_count": 31,
          "metadata": {},
          "output_type": "execute_result"
        }
      ],
      "source": [
        "best_dtm = grid_cv_dtm.best_estimator_\n",
        "best_dtm.score(X_test, y_test)"
      ]
    },
    {
      "cell_type": "code",
      "execution_count": null,
      "metadata": {
        "colab": {
          "base_uri": "https://localhost:8080/"
        },
        "id": "V5Vo8f3mXEg7",
        "outputId": "6f4e2952-8665-45db-9feb-dd011245c187"
      },
      "outputs": [
        {
          "data": {
            "text/plain": [
              "0.7611417896533291"
            ]
          },
          "execution_count": 32,
          "metadata": {},
          "output_type": "execute_result"
        }
      ],
      "source": [
        "best_dtm.score(X_train, y_train)"
      ]
    },
    {
      "cell_type": "code",
      "execution_count": null,
      "metadata": {
        "colab": {
          "base_uri": "https://localhost:8080/"
        },
        "id": "LPrRRA8dXWPT",
        "outputId": "34c17eeb-8c13-4a25-fd08-aad4eb21a6ea"
      },
      "outputs": [
        {
          "data": {
            "text/plain": [
              "15.39264705882353"
            ]
          },
          "execution_count": 34,
          "metadata": {},
          "output_type": "execute_result"
        }
      ],
      "source": [
        "y_pred_test2 = best_dtm.predict(X_test)\n",
        "mean_squared_error(y_test, y_pred_test2)"
      ]
    },
    {
      "cell_type": "code",
      "execution_count": null,
      "metadata": {
        "colab": {
          "base_uri": "https://localhost:8080/"
        },
        "id": "ieS5gHbsXbO7",
        "outputId": "7c1dc0ec-0386-43ac-be4d-4f2747ae4ecc"
      },
      "outputs": [
        {
          "data": {
            "text/plain": [
              "19.295297029702972"
            ]
          },
          "execution_count": 35,
          "metadata": {},
          "output_type": "execute_result"
        }
      ],
      "source": [
        "y_pred_train2 = best_dtm.predict(X_train)\n",
        "mean_squared_error(y_train, y_pred_train2)"
      ]
    },
    {
      "cell_type": "code",
      "execution_count": null,
      "metadata": {
        "colab": {
          "base_uri": "https://localhost:8080/",
          "height": 110
        },
        "id": "YHMbzbouUcCr",
        "outputId": "0403b5ca-2255-4acf-a7fe-2267aff677c2"
      },
      "outputs": [
        {
          "data": {
            "text/html": [
              "<div>\n",
              "<style scoped>\n",
              "    .dataframe tbody tr th:only-of-type {\n",
              "        vertical-align: middle;\n",
              "    }\n",
              "\n",
              "    .dataframe tbody tr th {\n",
              "        vertical-align: top;\n",
              "    }\n",
              "\n",
              "    .dataframe thead th {\n",
              "        text-align: right;\n",
              "    }\n",
              "</style>\n",
              "<table border=\"1\" class=\"dataframe\">\n",
              "  <thead>\n",
              "    <tr style=\"text-align: right;\">\n",
              "      <th></th>\n",
              "      <th>CRIM</th>\n",
              "      <th>ZN</th>\n",
              "      <th>INDUS</th>\n",
              "      <th>CHAS</th>\n",
              "      <th>NOX</th>\n",
              "      <th>RM</th>\n",
              "      <th>AGE</th>\n",
              "      <th>DIS</th>\n",
              "      <th>RAD</th>\n",
              "      <th>TAX</th>\n",
              "      <th>PTRATIO</th>\n",
              "      <th>B</th>\n",
              "      <th>LSTAT</th>\n",
              "    </tr>\n",
              "  </thead>\n",
              "  <tbody>\n",
              "    <tr>\n",
              "      <th>42</th>\n",
              "      <td>0.14150</td>\n",
              "      <td>0.0</td>\n",
              "      <td>6.91</td>\n",
              "      <td>0.0</td>\n",
              "      <td>0.448</td>\n",
              "      <td>6.169</td>\n",
              "      <td>6.6</td>\n",
              "      <td>5.7209</td>\n",
              "      <td>3.0</td>\n",
              "      <td>233.0</td>\n",
              "      <td>17.9</td>\n",
              "      <td>383.37</td>\n",
              "      <td>5.81</td>\n",
              "    </tr>\n",
              "    <tr>\n",
              "      <th>58</th>\n",
              "      <td>0.15445</td>\n",
              "      <td>25.0</td>\n",
              "      <td>5.13</td>\n",
              "      <td>0.0</td>\n",
              "      <td>0.453</td>\n",
              "      <td>6.145</td>\n",
              "      <td>29.2</td>\n",
              "      <td>7.8148</td>\n",
              "      <td>8.0</td>\n",
              "      <td>284.0</td>\n",
              "      <td>19.7</td>\n",
              "      <td>390.68</td>\n",
              "      <td>6.86</td>\n",
              "    </tr>\n",
              "  </tbody>\n",
              "</table>\n",
              "</div>"
            ],
            "text/plain": [
              "       CRIM    ZN  INDUS  CHAS    NOX  ...  RAD    TAX  PTRATIO       B  LSTAT\n",
              "42  0.14150   0.0   6.91   0.0  0.448  ...  3.0  233.0     17.9  383.37   5.81\n",
              "58  0.15445  25.0   5.13   0.0  0.453  ...  8.0  284.0     19.7  390.68   6.86\n",
              "\n",
              "[2 rows x 13 columns]"
            ]
          },
          "execution_count": 38,
          "metadata": {},
          "output_type": "execute_result"
        }
      ],
      "source": [
        "X_train.head(2)"
      ]
    },
    {
      "cell_type": "code",
      "execution_count": null,
      "metadata": {
        "id": "nzoaLiZ2X4uT"
      },
      "outputs": [],
      "source": [
        "new_data = [[0.15, 25 ,5.13, 0.0, 0.453, 6.145, 29.2, 7.8148, 8.0, 284, 19.7, 390.6, 6.86]]"
      ]
    },
    {
      "cell_type": "code",
      "execution_count": null,
      "metadata": {
        "colab": {
          "base_uri": "https://localhost:8080/"
        },
        "id": "Bev-ph9LYUvi",
        "outputId": "736976a8-5538-49c9-e86f-42ddb6d52378"
      },
      "outputs": [
        {
          "name": "stderr",
          "output_type": "stream",
          "text": [
            "/usr/local/lib/python3.7/dist-packages/sklearn/base.py:446: UserWarning: X does not have valid feature names, but DecisionTreeRegressor was fitted with feature names\n",
            "  \"X does not have valid feature names, but\"\n"
          ]
        },
        {
          "data": {
            "text/plain": [
              "array([23.1])"
            ]
          },
          "execution_count": 40,
          "metadata": {},
          "output_type": "execute_result"
        }
      ],
      "source": [
        "best_dtm.predict(new_data)"
      ]
    },
    {
      "cell_type": "code",
      "execution_count": null,
      "metadata": {
        "colab": {
          "base_uri": "https://localhost:8080/"
        },
        "id": "B2oaWIFGYrLa",
        "outputId": "e017220e-69e0-42f3-c537-90391e0ace3c"
      },
      "outputs": [
        {
          "data": {
            "text/plain": [
              "array([29.8 , 27.95, 19.8 , 20.45, 19.5 , 21.35, 27.95, 19.55, 19.8 ,\n",
              "       24.2 , 27.95, 34.05, 19.5 , 19.5 , 20.55, 19.5 , 10.2 , 46.35,\n",
              "       23.1 , 13.3 , 19.5 , 15.6 , 24.2 , 24.4 , 23.1 , 10.2 , 13.3 ,\n",
              "       20.45, 46.35, 13.3 , 27.95, 19.8 , 46.35, 14.4 , 20.45, 22.2 ,\n",
              "       14.4 , 34.05, 10.2 , 19.55, 23.1 , 23.1 , 27.95, 13.3 , 14.4 ,\n",
              "       29.8 , 46.35, 10.2 , 20.55, 21.35, 29.8 , 21.35, 23.1 , 21.35,\n",
              "       17.5 , 23.1 , 13.3 , 24.4 , 19.55, 46.35, 14.4 , 27.95, 13.3 ,\n",
              "       14.4 , 19.8 , 34.05, 46.35, 24.2 , 20.45, 20.55, 24.4 , 10.2 ,\n",
              "       19.5 , 21.35, 19.55, 19.5 , 34.05, 24.2 , 24.4 , 34.05, 17.5 ,\n",
              "       20.55, 34.05, 13.3 , 23.1 , 23.1 , 13.3 , 24.4 , 19.5 , 17.5 ,\n",
              "       29.8 , 46.35, 17.5 , 20.45, 19.55, 19.55, 24.2 , 24.2 , 46.35,\n",
              "       22.2 , 10.2 , 14.4 ])"
            ]
          },
          "execution_count": 43,
          "metadata": {},
          "output_type": "execute_result"
        }
      ],
      "source": [
        "y_pred_test2"
      ]
    },
    {
      "cell_type": "code",
      "execution_count": null,
      "metadata": {
        "colab": {
          "base_uri": "https://localhost:8080/",
          "height": 417
        },
        "id": "1KnpoYaBa-s6",
        "outputId": "9bbd2e3b-1d19-4016-b7b7-e60f9c7d1a2f"
      },
      "outputs": [
        {
          "data": {
            "text/html": [
              "<div>\n",
              "<style scoped>\n",
              "    .dataframe tbody tr th:only-of-type {\n",
              "        vertical-align: middle;\n",
              "    }\n",
              "\n",
              "    .dataframe tbody tr th {\n",
              "        vertical-align: top;\n",
              "    }\n",
              "\n",
              "    .dataframe thead th {\n",
              "        text-align: right;\n",
              "    }\n",
              "</style>\n",
              "<table border=\"1\" class=\"dataframe\">\n",
              "  <thead>\n",
              "    <tr style=\"text-align: right;\">\n",
              "      <th></th>\n",
              "      <th>target</th>\n",
              "    </tr>\n",
              "  </thead>\n",
              "  <tbody>\n",
              "    <tr>\n",
              "      <th>307</th>\n",
              "      <td>28.2</td>\n",
              "    </tr>\n",
              "    <tr>\n",
              "      <th>343</th>\n",
              "      <td>23.9</td>\n",
              "    </tr>\n",
              "    <tr>\n",
              "      <th>47</th>\n",
              "      <td>16.6</td>\n",
              "    </tr>\n",
              "    <tr>\n",
              "      <th>67</th>\n",
              "      <td>22.0</td>\n",
              "    </tr>\n",
              "    <tr>\n",
              "      <th>362</th>\n",
              "      <td>20.8</td>\n",
              "    </tr>\n",
              "    <tr>\n",
              "      <th>...</th>\n",
              "      <td>...</td>\n",
              "    </tr>\n",
              "    <tr>\n",
              "      <th>92</th>\n",
              "      <td>22.9</td>\n",
              "    </tr>\n",
              "    <tr>\n",
              "      <th>224</th>\n",
              "      <td>44.8</td>\n",
              "    </tr>\n",
              "    <tr>\n",
              "      <th>110</th>\n",
              "      <td>21.7</td>\n",
              "    </tr>\n",
              "    <tr>\n",
              "      <th>426</th>\n",
              "      <td>10.2</td>\n",
              "    </tr>\n",
              "    <tr>\n",
              "      <th>443</th>\n",
              "      <td>15.4</td>\n",
              "    </tr>\n",
              "  </tbody>\n",
              "</table>\n",
              "<p>102 rows × 1 columns</p>\n",
              "</div>"
            ],
            "text/plain": [
              "     target\n",
              "307    28.2\n",
              "343    23.9\n",
              "47     16.6\n",
              "67     22.0\n",
              "362    20.8\n",
              "..      ...\n",
              "92     22.9\n",
              "224    44.8\n",
              "110    21.7\n",
              "426    10.2\n",
              "443    15.4\n",
              "\n",
              "[102 rows x 1 columns]"
            ]
          },
          "execution_count": 44,
          "metadata": {},
          "output_type": "execute_result"
        }
      ],
      "source": [
        "y_test"
      ]
    },
    {
      "cell_type": "code",
      "execution_count": null,
      "metadata": {
        "colab": {
          "base_uri": "https://localhost:8080/",
          "height": 176
        },
        "id": "94Any1oPbVM5",
        "outputId": "d99947c8-ccc6-41bd-b81e-34a10065476c"
      },
      "outputs": [
        {
          "data": {
            "text/html": [
              "<div>\n",
              "<style scoped>\n",
              "    .dataframe tbody tr th:only-of-type {\n",
              "        vertical-align: middle;\n",
              "    }\n",
              "\n",
              "    .dataframe tbody tr th {\n",
              "        vertical-align: top;\n",
              "    }\n",
              "\n",
              "    .dataframe thead th {\n",
              "        text-align: right;\n",
              "    }\n",
              "</style>\n",
              "<table border=\"1\" class=\"dataframe\">\n",
              "  <thead>\n",
              "    <tr style=\"text-align: right;\">\n",
              "      <th></th>\n",
              "      <th>0</th>\n",
              "      <th>1</th>\n",
              "      <th>2</th>\n",
              "      <th>3</th>\n",
              "      <th>4</th>\n",
              "      <th>5</th>\n",
              "      <th>6</th>\n",
              "      <th>7</th>\n",
              "      <th>8</th>\n",
              "      <th>9</th>\n",
              "      <th>10</th>\n",
              "      <th>11</th>\n",
              "      <th>12</th>\n",
              "      <th>13</th>\n",
              "      <th>14</th>\n",
              "      <th>15</th>\n",
              "      <th>16</th>\n",
              "      <th>17</th>\n",
              "      <th>18</th>\n",
              "      <th>19</th>\n",
              "      <th>20</th>\n",
              "      <th>21</th>\n",
              "      <th>22</th>\n",
              "      <th>23</th>\n",
              "      <th>24</th>\n",
              "      <th>25</th>\n",
              "      <th>26</th>\n",
              "      <th>27</th>\n",
              "      <th>28</th>\n",
              "      <th>29</th>\n",
              "      <th>30</th>\n",
              "      <th>31</th>\n",
              "      <th>32</th>\n",
              "      <th>33</th>\n",
              "      <th>34</th>\n",
              "      <th>35</th>\n",
              "      <th>36</th>\n",
              "      <th>37</th>\n",
              "      <th>38</th>\n",
              "      <th>39</th>\n",
              "      <th>...</th>\n",
              "      <th>62</th>\n",
              "      <th>63</th>\n",
              "      <th>64</th>\n",
              "      <th>65</th>\n",
              "      <th>66</th>\n",
              "      <th>67</th>\n",
              "      <th>68</th>\n",
              "      <th>69</th>\n",
              "      <th>70</th>\n",
              "      <th>71</th>\n",
              "      <th>72</th>\n",
              "      <th>73</th>\n",
              "      <th>74</th>\n",
              "      <th>75</th>\n",
              "      <th>76</th>\n",
              "      <th>77</th>\n",
              "      <th>78</th>\n",
              "      <th>79</th>\n",
              "      <th>80</th>\n",
              "      <th>81</th>\n",
              "      <th>82</th>\n",
              "      <th>83</th>\n",
              "      <th>84</th>\n",
              "      <th>85</th>\n",
              "      <th>86</th>\n",
              "      <th>87</th>\n",
              "      <th>88</th>\n",
              "      <th>89</th>\n",
              "      <th>90</th>\n",
              "      <th>91</th>\n",
              "      <th>92</th>\n",
              "      <th>93</th>\n",
              "      <th>94</th>\n",
              "      <th>95</th>\n",
              "      <th>96</th>\n",
              "      <th>97</th>\n",
              "      <th>98</th>\n",
              "      <th>99</th>\n",
              "      <th>100</th>\n",
              "      <th>101</th>\n",
              "    </tr>\n",
              "  </thead>\n",
              "  <tbody>\n",
              "    <tr>\n",
              "      <th>target</th>\n",
              "      <td>28.2</td>\n",
              "      <td>23.90</td>\n",
              "      <td>16.6</td>\n",
              "      <td>22.00</td>\n",
              "      <td>20.8</td>\n",
              "      <td>23.00</td>\n",
              "      <td>27.90</td>\n",
              "      <td>14.50</td>\n",
              "      <td>21.5</td>\n",
              "      <td>22.6</td>\n",
              "      <td>23.70</td>\n",
              "      <td>31.20</td>\n",
              "      <td>19.3</td>\n",
              "      <td>19.4</td>\n",
              "      <td>19.40</td>\n",
              "      <td>27.9</td>\n",
              "      <td>13.9</td>\n",
              "      <td>50.00</td>\n",
              "      <td>24.1</td>\n",
              "      <td>14.6</td>\n",
              "      <td>16.2</td>\n",
              "      <td>15.6</td>\n",
              "      <td>23.8</td>\n",
              "      <td>25.0</td>\n",
              "      <td>23.5</td>\n",
              "      <td>8.3</td>\n",
              "      <td>13.5</td>\n",
              "      <td>17.50</td>\n",
              "      <td>43.10</td>\n",
              "      <td>11.5</td>\n",
              "      <td>24.10</td>\n",
              "      <td>18.5</td>\n",
              "      <td>50.00</td>\n",
              "      <td>12.6</td>\n",
              "      <td>19.80</td>\n",
              "      <td>24.5</td>\n",
              "      <td>14.9</td>\n",
              "      <td>36.20</td>\n",
              "      <td>11.9</td>\n",
              "      <td>19.10</td>\n",
              "      <td>...</td>\n",
              "      <td>8.5</td>\n",
              "      <td>14.5</td>\n",
              "      <td>23.7</td>\n",
              "      <td>37.20</td>\n",
              "      <td>41.70</td>\n",
              "      <td>16.5</td>\n",
              "      <td>21.70</td>\n",
              "      <td>22.70</td>\n",
              "      <td>23.0</td>\n",
              "      <td>10.5</td>\n",
              "      <td>21.9</td>\n",
              "      <td>21.00</td>\n",
              "      <td>20.40</td>\n",
              "      <td>21.8</td>\n",
              "      <td>50.00</td>\n",
              "      <td>22.0</td>\n",
              "      <td>23.3</td>\n",
              "      <td>37.30</td>\n",
              "      <td>18.0</td>\n",
              "      <td>19.20</td>\n",
              "      <td>34.90</td>\n",
              "      <td>13.4</td>\n",
              "      <td>22.9</td>\n",
              "      <td>22.5</td>\n",
              "      <td>13.0</td>\n",
              "      <td>24.6</td>\n",
              "      <td>18.3</td>\n",
              "      <td>18.1</td>\n",
              "      <td>23.9</td>\n",
              "      <td>50.00</td>\n",
              "      <td>13.6</td>\n",
              "      <td>22.90</td>\n",
              "      <td>10.90</td>\n",
              "      <td>18.90</td>\n",
              "      <td>22.4</td>\n",
              "      <td>22.9</td>\n",
              "      <td>44.80</td>\n",
              "      <td>21.7</td>\n",
              "      <td>10.2</td>\n",
              "      <td>15.4</td>\n",
              "    </tr>\n",
              "    <tr>\n",
              "      <th>Predicted Price</th>\n",
              "      <td>29.8</td>\n",
              "      <td>27.95</td>\n",
              "      <td>19.8</td>\n",
              "      <td>20.45</td>\n",
              "      <td>19.5</td>\n",
              "      <td>21.35</td>\n",
              "      <td>27.95</td>\n",
              "      <td>19.55</td>\n",
              "      <td>19.8</td>\n",
              "      <td>24.2</td>\n",
              "      <td>27.95</td>\n",
              "      <td>34.05</td>\n",
              "      <td>19.5</td>\n",
              "      <td>19.5</td>\n",
              "      <td>20.55</td>\n",
              "      <td>19.5</td>\n",
              "      <td>10.2</td>\n",
              "      <td>46.35</td>\n",
              "      <td>23.1</td>\n",
              "      <td>13.3</td>\n",
              "      <td>19.5</td>\n",
              "      <td>15.6</td>\n",
              "      <td>24.2</td>\n",
              "      <td>24.4</td>\n",
              "      <td>23.1</td>\n",
              "      <td>10.2</td>\n",
              "      <td>13.3</td>\n",
              "      <td>20.45</td>\n",
              "      <td>46.35</td>\n",
              "      <td>13.3</td>\n",
              "      <td>27.95</td>\n",
              "      <td>19.8</td>\n",
              "      <td>46.35</td>\n",
              "      <td>14.4</td>\n",
              "      <td>20.45</td>\n",
              "      <td>22.2</td>\n",
              "      <td>14.4</td>\n",
              "      <td>34.05</td>\n",
              "      <td>10.2</td>\n",
              "      <td>19.55</td>\n",
              "      <td>...</td>\n",
              "      <td>13.3</td>\n",
              "      <td>14.4</td>\n",
              "      <td>19.8</td>\n",
              "      <td>34.05</td>\n",
              "      <td>46.35</td>\n",
              "      <td>24.2</td>\n",
              "      <td>20.45</td>\n",
              "      <td>20.55</td>\n",
              "      <td>24.4</td>\n",
              "      <td>10.2</td>\n",
              "      <td>19.5</td>\n",
              "      <td>21.35</td>\n",
              "      <td>19.55</td>\n",
              "      <td>19.5</td>\n",
              "      <td>34.05</td>\n",
              "      <td>24.2</td>\n",
              "      <td>24.4</td>\n",
              "      <td>34.05</td>\n",
              "      <td>17.5</td>\n",
              "      <td>20.55</td>\n",
              "      <td>34.05</td>\n",
              "      <td>13.3</td>\n",
              "      <td>23.1</td>\n",
              "      <td>23.1</td>\n",
              "      <td>13.3</td>\n",
              "      <td>24.4</td>\n",
              "      <td>19.5</td>\n",
              "      <td>17.5</td>\n",
              "      <td>29.8</td>\n",
              "      <td>46.35</td>\n",
              "      <td>17.5</td>\n",
              "      <td>20.45</td>\n",
              "      <td>19.55</td>\n",
              "      <td>19.55</td>\n",
              "      <td>24.2</td>\n",
              "      <td>24.2</td>\n",
              "      <td>46.35</td>\n",
              "      <td>22.2</td>\n",
              "      <td>10.2</td>\n",
              "      <td>14.4</td>\n",
              "    </tr>\n",
              "  </tbody>\n",
              "</table>\n",
              "<p>2 rows × 102 columns</p>\n",
              "</div>"
            ],
            "text/plain": [
              "                  0      1     2      3     4    ...   97     98    99    100   101\n",
              "target           28.2  23.90  16.6  22.00  20.8  ...  22.9  44.80  21.7  10.2  15.4\n",
              "Predicted Price  29.8  27.95  19.8  20.45  19.5  ...  24.2  46.35  22.2  10.2  14.4\n",
              "\n",
              "[2 rows x 102 columns]"
            ]
          },
          "execution_count": 45,
          "metadata": {},
          "output_type": "execute_result"
        }
      ],
      "source": [
        "predicted_price= pd.DataFrame(best_dtm.predict(X_test), columns=['Predicted Price'])\n",
        "actual_price = pd.DataFrame(y_test, columns=['target'])\n",
        "actual_price = actual_price.reset_index(drop=True) # Drop the index so that we can concat it, to create new dataframe\n",
        "df_actual_vs_predicted = pd.concat([actual_price,predicted_price],axis =1)\n",
        "df_actual_vs_predicted.T"
      ]
    }
  ],
  "metadata": {
    "colab": {
      "collapsed_sections": [
        "_2iiBt5N1wk4",
        "WhoZYYhl4bbi",
        "_2CXpNg6vV4k"
      ],
      "name": "Tes_DTS_decision_trees2.ipynb",
      "provenance": []
    },
    "kernelspec": {
      "display_name": "Python 3",
      "language": "python",
      "name": "python3"
    },
    "language_info": {
      "codemirror_mode": {
        "name": "ipython",
        "version": 3
      },
      "file_extension": ".py",
      "mimetype": "text/x-python",
      "name": "python",
      "nbconvert_exporter": "python",
      "pygments_lexer": "ipython3",
      "version": "3.8.8"
    },
    "nav_menu": {
      "height": "309px",
      "width": "468px"
    },
    "toc": {
      "navigate_menu": true,
      "number_sections": true,
      "sideBar": true,
      "threshold": 6,
      "toc_cell": false,
      "toc_section_display": "block",
      "toc_window_display": false
    }
  },
  "nbformat": 4,
  "nbformat_minor": 0
}
