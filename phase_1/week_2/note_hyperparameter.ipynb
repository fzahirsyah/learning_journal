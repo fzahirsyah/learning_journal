{
 "cells": [
  {
   "cell_type": "markdown",
   "metadata": {},
   "source": [
    "overfitting : pintar saat latihan, ujian masih kurang \n",
    "\n",
    "train>test = overfit\n",
    "\n",
    "test>train = ini masih namanya overfit\n",
    "\n",
    "underfit : masih perlu latihan lagi (train&test masih jelek)\n",
    "\n",
    "rule of thumb +- 2% \n",
    "\n",
    "---\n",
    "parameter itu rules yang dibuat oleh model\n",
    "\n",
    "hyperparameter itu ditentukan oleh data scientist.\n",
    "\n",
    "hyperparameter tuning merubah2 atau mencoba \n",
    "\n",
    "\n",
    "---\n",
    "\n",
    "test leakage karena terlalu sering di tuning karena beberapakali dituning sesuai dengan data testnya. biasanya karena data scientistnya\n"
   ]
  },
  {
   "cell_type": "markdown",
   "metadata": {},
   "source": [
    "Bila pada hyper parameter testnya "
   ]
  },
  {
   "cell_type": "markdown",
   "metadata": {},
   "source": [
    "cross validation = acc tinggi, stdev kecil\n",
    "\n",
    "nilai k 5-10"
   ]
  },
  {
   "cell_type": "code",
   "execution_count": null,
   "metadata": {},
   "outputs": [],
   "source": []
  }
 ],
 "metadata": {
  "language_info": {
   "name": "python"
  },
  "orig_nbformat": 4
 },
 "nbformat": 4,
 "nbformat_minor": 2
}
