{
  "nbformat": 4,
  "nbformat_minor": 0,
  "metadata": {
    "colab": {
      "name": "simulasi_linear_regression.ipynb",
      "provenance": []
    },
    "kernelspec": {
      "name": "python3",
      "display_name": "Python 3"
    },
    "language_info": {
      "name": "python"
    }
  },
  "cells": [
    {
      "cell_type": "code",
      "execution_count": null,
      "metadata": {
        "id": "ohTKoM7JZ7En"
      },
      "outputs": [],
      "source": [
        "import numpy as np\n",
        "import matplotlib.pyplot as plt"
      ]
    },
    {
      "cell_type": "code",
      "source": [
        "def create_dummy_data():\n",
        "  X = np.random.random(size=(20, 1))\n",
        "  y = 8 * X.squeeze() + 3 + np.random.randn(20)\n",
        "  data = np.column_stack([X,y])\n",
        "  return data"
      ],
      "metadata": {
        "id": "tcmkQ7Rja9vo"
      },
      "execution_count": null,
      "outputs": []
    },
    {
      "cell_type": "code",
      "source": [
        "def plot_data(data):\n",
        "  x = data[:,0]\n",
        "  y = data[:,1]\n",
        "  plt.scatter(x, y)\n",
        "\n",
        "def plot_line(w, b):\n",
        "  xfit = np.linspace(0, 1, 1000)\n",
        "  yfit = w*xfit + b\n",
        "\n",
        "  plt.plot(xfit, yfit, color='red')"
      ],
      "metadata": {
        "id": "KVju_6ecbLOb"
      },
      "execution_count": null,
      "outputs": []
    },
    {
      "cell_type": "code",
      "source": [
        "def hitung_cost(w, b, data):\n",
        "    total_cost = 0\n",
        "    \n",
        "    N = float(len(data))\n",
        "    \n",
        "    for i in range(0, len(data)):\n",
        "        x = data[i, 0]\n",
        "        y = data[i, 1]\n",
        "        total_cost += (y - (w * x + b)) ** 2\n",
        "        \n",
        "    return total_cost/(N)"
      ],
      "metadata": {
        "id": "T_Fv8mu6d3ZK"
      },
      "execution_count": null,
      "outputs": []
    },
    {
      "cell_type": "code",
      "source": [
        "def hitung_gradien(w, b):\n",
        "  gradien_w = 0\n",
        "  gradien_b = 0\n",
        "  N = float(len(data))\n",
        "\n",
        "  # Calculate Gradient\n",
        "  for i in range(0, len(data)):\n",
        "      x = data[i, 0]\n",
        "      y = data[i, 1]\n",
        "      gradien_w += - (2/N) * x * (y - (w * x + b))\n",
        "      gradien_b += - (2/N) * (y - (w * x + b))\n",
        "  return gradien_w, gradien_b"
      ],
      "metadata": {
        "id": "L0elY1ljgzQD"
      },
      "execution_count": null,
      "outputs": []
    },
    {
      "cell_type": "code",
      "source": [
        "def update_parameter(gradien_w, gradien_b, w, b, alpha=0.01):\n",
        "  w = w - alpha * gradien_w\n",
        "  b = b - alpha * gradien_b\n",
        "  return w,b"
      ],
      "metadata": {
        "id": "QoDSwOexhBMr"
      },
      "execution_count": null,
      "outputs": []
    },
    {
      "cell_type": "markdown",
      "source": [
        "## Simulasi Linear Regression"
      ],
      "metadata": {
        "id": "YlNg29qaf9ff"
      }
    },
    {
      "cell_type": "code",
      "source": [
        "data = create_dummy_data()\n",
        "plot_data(data)"
      ],
      "metadata": {
        "colab": {
          "base_uri": "https://localhost:8080/",
          "height": 265
        },
        "id": "MB7alUj1bwp2",
        "outputId": "158472cb-30c5-430b-fb77-8e49dee4c1b2"
      },
      "execution_count": null,
      "outputs": [
        {
          "output_type": "display_data",
          "data": {
            "text/plain": [
              "<Figure size 432x288 with 1 Axes>"
            ],
            "image/png": "[encoded data removed]"
          },
          "metadata": {
            "needs_background": "light"
          }
        }
      ]
    },
    {
      "cell_type": "code",
      "source": [
        "w = 1\n",
        "b = 2\n",
        "plot_data(data)\n",
        "plot_line(w, b)"
      ],
      "metadata": {
        "colab": {
          "base_uri": "https://localhost:8080/",
          "height": 265
        },
        "id": "nYloK5wUb39P",
        "outputId": "bfe434bd-67a8-48a6-86ae-8d4fe295ff01"
      },
      "execution_count": null,
      "outputs": [
        {
          "output_type": "display_data",
          "data": {
            "text/plain": [
              "<Figure size 432x288 with 1 Axes>"
            ],
            "image/png": "[encoded data removed]"
          },
          "metadata": {
            "needs_background": "light"
          }
        }
      ]
    },
    {
      "cell_type": "code",
      "source": [
        "hitung_cost(w, b, data)"
      ],
      "metadata": {
        "colab": {
          "base_uri": "https://localhost:8080/"
        },
        "id": "q-b8dROUcJ-O",
        "outputId": "639e7510-00c3-4098-8b33-3bff35fc4c76"
      },
      "execution_count": null,
      "outputs": [
        {
          "output_type": "execute_result",
          "data": {
            "text/plain": [
              "25.763361984521033"
            ]
          },
          "metadata": {},
          "execution_count": 85
        }
      ]
    },
    {
      "cell_type": "code",
      "source": [
        "gradien_w, gradien_b = hitung_gradien(w,b)"
      ],
      "metadata": {
        "id": "f_DXeplieoKR"
      },
      "execution_count": null,
      "outputs": []
    },
    {
      "cell_type": "code",
      "source": [
        "# update w & b\n",
        "w,b = update_parameter(gradien_w, gradien_b, w, b)"
      ],
      "metadata": {
        "id": "YgzkURfCgb75"
      },
      "execution_count": null,
      "outputs": []
    },
    {
      "cell_type": "code",
      "source": [
        "w"
      ],
      "metadata": {
        "colab": {
          "base_uri": "https://localhost:8080/"
        },
        "id": "Eh6ywMvngpbg",
        "outputId": "699fa663-e04d-41aa-8dce-24b4f47152e9"
      },
      "execution_count": null,
      "outputs": [
        {
          "output_type": "execute_result",
          "data": {
            "text/plain": [
              "1.0606016085892085"
            ]
          },
          "metadata": {},
          "execution_count": 88
        }
      ]
    },
    {
      "cell_type": "code",
      "source": [
        "b"
      ],
      "metadata": {
        "colab": {
          "base_uri": "https://localhost:8080/"
        },
        "id": "wXctRkyXgqTl",
        "outputId": "e1f6c50a-5879-496a-ee8c-fac3add7418c"
      },
      "execution_count": null,
      "outputs": [
        {
          "output_type": "execute_result",
          "data": {
            "text/plain": [
              "2.09075965245577"
            ]
          },
          "metadata": {},
          "execution_count": 89
        }
      ]
    },
    {
      "cell_type": "code",
      "source": [
        "plot_data(data)\n",
        "plot_line(w, b)"
      ],
      "metadata": {
        "colab": {
          "base_uri": "https://localhost:8080/",
          "height": 265
        },
        "id": "eFJv_2F2z067",
        "outputId": "1b65af8f-fdbc-4617-c1d0-3abf6fa91a3e"
      },
      "execution_count": null,
      "outputs": [
        {
          "output_type": "display_data",
          "data": {
            "text/plain": [
              "<Figure size 432x288 with 1 Axes>"
            ],
            "image/png": "[encoded data removed]"
          },
          "metadata": {
            "needs_background": "light"
          }
        }
      ]
    },
    {
      "cell_type": "code",
      "source": [
        "# lakukan berulang\n",
        "\n",
        "losses = []\n",
        "for i in range(500):\n",
        "  loss = hitung_cost(w, b, data)\n",
        "  losses.append(loss)\n",
        "  gradien_w, gradien_b = hitung_gradien(w,b)\n",
        "  w,b = update_parameter(gradien_w, gradien_b, w, b)\n"
      ],
      "metadata": {
        "id": "a5ultzTfgrWB"
      },
      "execution_count": null,
      "outputs": []
    },
    {
      "cell_type": "code",
      "source": [
        "x_loss = np.arange(len(losses))\n",
        "plt.plot(x_loss, losses)"
      ],
      "metadata": {
        "colab": {
          "base_uri": "https://localhost:8080/",
          "height": 282
        },
        "id": "XTbHRSYnhyhH",
        "outputId": "f75d83b5-6e4d-428d-aa18-8704b57daf87"
      },
      "execution_count": null,
      "outputs": [
        {
          "output_type": "execute_result",
          "data": {
            "text/plain": [
              "[<matplotlib.lines.Line2D at 0x7fc994cc5f90>]"
            ]
          },
          "metadata": {},
          "execution_count": 92
        },
        {
          "output_type": "display_data",
          "data": {
            "text/plain": [
              "<Figure size 432x288 with 1 Axes>"
            ],
            "image/png": "[encoded data removed]"
          },
          "metadata": {
            "needs_background": "light"
          }
        }
      ]
    },
    {
      "cell_type": "code",
      "source": [
        "plot_data(data)\n",
        "plot_line(w, b)"
      ],
      "metadata": {
        "colab": {
          "base_uri": "https://localhost:8080/",
          "height": 265
        },
        "id": "rwrVH3ms0RD3",
        "outputId": "c456f7bf-0147-48a0-929f-5fb60655a09b"
      },
      "execution_count": null,
      "outputs": [
        {
          "output_type": "display_data",
          "data": {
            "text/plain": [
              "<Figure size 432x288 with 1 Axes>"
            ],
            "image/png": "[encoded data removed]"
          },
          "metadata": {
            "needs_background": "light"
          }
        }
      ]
    },
    {
      "cell_type": "code",
      "source": [
        ""
      ],
      "metadata": {
        "id": "GfmYvJK10YJs"
      },
      "execution_count": null,
      "outputs": []
    }
  ]
}