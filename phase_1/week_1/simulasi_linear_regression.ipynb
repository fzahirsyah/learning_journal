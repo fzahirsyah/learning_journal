{
  "nbformat": 4,
  "nbformat_minor": 0,
  "metadata": {
    "colab": {
      "name": "simulasi_linear_regression.ipynb",
      "provenance": []
    },
    "kernelspec": {
      "name": "python3",
      "display_name": "Python 3"
    },
    "language_info": {
      "name": "python"
    }
  },
  "cells": [
    {
      "cell_type": "code",
      "execution_count": 1,
      "metadata": {
        "id": "ohTKoM7JZ7En"
      },
      "outputs": [],
      "source": [
        "import numpy as np\n",
        "import matplotlib.pyplot as plt"
      ]
    },
    {
      "cell_type": "code",
      "source": [
        "def create_dummy_data():\n",
        "  X = np.random.random(size=(20, 1))\n",
        "  y = 8 * X.squeeze() + 3 + np.random.randn(20)\n",
        "  data = np.column_stack([X,y])\n",
        "  return data"
      ],
      "metadata": {
        "id": "tcmkQ7Rja9vo"
      },
      "execution_count": 2,
      "outputs": []
    },
    {
      "cell_type": "code",
      "source": [
        "def plot_data(data):\n",
        "  x = data[:,0]\n",
        "  y = data[:,1]\n",
        "  plt.scatter(x, y)\n",
        "\n",
        "def plot_line(w, b):\n",
        "  xfit = np.linspace(0, 1, 1000)\n",
        "  yfit = w*xfit + b\n",
        "\n",
        "  plt.plot(xfit, yfit)"
      ],
      "metadata": {
        "id": "KVju_6ecbLOb"
      },
      "execution_count": 3,
      "outputs": []
    },
    {
      "cell_type": "code",
      "source": [
        "def hitung_cost(w, b, data):\n",
        "    total_cost = 0\n",
        "    \n",
        "    N = float(len(data))\n",
        "    \n",
        "    for i in range(0, len(data)):\n",
        "        x = data[i, 0]\n",
        "        y = data[i, 1]\n",
        "        total_cost += (y - (w * x + b)) ** 2\n",
        "        \n",
        "    return total_cost/(N)"
      ],
      "metadata": {
        "id": "T_Fv8mu6d3ZK"
      },
      "execution_count": 4,
      "outputs": []
    },
    {
      "cell_type": "code",
      "source": [
        "def hitung_gradien(w, b):\n",
        "  gradien_w = 0\n",
        "  gradien_b = 0\n",
        "  N = float(len(data))\n",
        "\n",
        "  # Calculate Gradient\n",
        "  for i in range(0, len(data)):\n",
        "      x = data[i, 0]\n",
        "      y = data[i, 1]\n",
        "      gradien_w += - (2/N) * x * (y - (w * x + b))\n",
        "      gradien_b += - (2/N) * (y - (w * x + b))\n",
        "  return gradien_w, gradien_b"
      ],
      "metadata": {
        "id": "L0elY1ljgzQD"
      },
      "execution_count": 5,
      "outputs": []
    },
    {
      "cell_type": "code",
      "source": [
        "def update_parameter(gradien_w, gradien_b, w, b, alpha=0.01):\n",
        "  w = w - alpha * gradien_w\n",
        "  b = b - alpha * gradien_b\n",
        "  return w,b"
      ],
      "metadata": {
        "id": "QoDSwOexhBMr"
      },
      "execution_count": 6,
      "outputs": []
    },
    {
      "cell_type": "markdown",
      "source": [
        "## Simulasi Linear Regression"
      ],
      "metadata": {
        "id": "YlNg29qaf9ff"
      }
    },
    {
      "cell_type": "code",
      "source": [
        "data = create_dummy_data()\n",
        "plot_data(data)"
      ],
      "metadata": {
        "colab": {
          "base_uri": "https://localhost:8080/",
          "height": 265
        },
        "id": "MB7alUj1bwp2",
        "outputId": "6b7f7d24-fea3-4fea-d4b0-9e6f049a07b0"
      },
      "execution_count": 7,
      "outputs": [
        {
          "output_type": "display_data",
          "data": {
            "text/plain": [
              "<Figure size 432x288 with 1 Axes>"
            ],
            "image/png": "[encoded data removed]"
          },
          "metadata": {
            "needs_background": "light"
          }
        }
      ]
    },
    {
      "cell_type": "code",
      "source": [
        "w = 1\n",
        "b = 2\n",
        "plot_data(data)\n",
        "plot_line(w, b)"
      ],
      "metadata": {
        "colab": {
          "base_uri": "https://localhost:8080/",
          "height": 265
        },
        "id": "nYloK5wUb39P",
        "outputId": "c470def0-f425-4ba0-d812-c82f1e0317a9"
      },
      "execution_count": 8,
      "outputs": [
        {
          "output_type": "display_data",
          "data": {
            "text/plain": [
              "<Figure size 432x288 with 1 Axes>"
            ],
            "image/png": "[encoded data removed]"
          },
          "metadata": {
            "needs_background": "light"
          }
        }
      ]
    },
    {
      "cell_type": "code",
      "source": [
        "hitung_cost(w, b, data)"
      ],
      "metadata": {
        "colab": {
          "base_uri": "https://localhost:8080/"
        },
        "id": "q-b8dROUcJ-O",
        "outputId": "b9e41dc3-cdab-4c62-fe01-5aa1111ee868"
      },
      "execution_count": 9,
      "outputs": [
        {
          "output_type": "execute_result",
          "data": {
            "text/plain": [
              "25.10570807323493"
            ]
          },
          "metadata": {},
          "execution_count": 9
        }
      ]
    },
    {
      "cell_type": "code",
      "source": [
        "gradien_w, gradien_b = hitung_gradien(w,b)"
      ],
      "metadata": {
        "id": "f_DXeplieoKR"
      },
      "execution_count": 10,
      "outputs": []
    },
    {
      "cell_type": "code",
      "source": [
        "# update w & b\n",
        "w,b = update_parameter(gradien_w, gradien_b, w, b)"
      ],
      "metadata": {
        "id": "YgzkURfCgb75"
      },
      "execution_count": 11,
      "outputs": []
    },
    {
      "cell_type": "code",
      "source": [
        "w"
      ],
      "metadata": {
        "colab": {
          "base_uri": "https://localhost:8080/"
        },
        "id": "Eh6ywMvngpbg",
        "outputId": "1ea55a6b-5330-492e-e06f-ddf278e3081b"
      },
      "execution_count": 12,
      "outputs": [
        {
          "output_type": "execute_result",
          "data": {
            "text/plain": [
              "1.0524417495644447"
            ]
          },
          "metadata": {},
          "execution_count": 12
        }
      ]
    },
    {
      "cell_type": "code",
      "source": [
        "b"
      ],
      "metadata": {
        "colab": {
          "base_uri": "https://localhost:8080/"
        },
        "id": "wXctRkyXgqTl",
        "outputId": "c76a8773-aa23-4ab2-ce27-c1efb0e092e4"
      },
      "execution_count": 13,
      "outputs": [
        {
          "output_type": "execute_result",
          "data": {
            "text/plain": [
              "2.086886216168344"
            ]
          },
          "metadata": {},
          "execution_count": 13
        }
      ]
    },
    {
      "cell_type": "code",
      "source": [
        "# lakukan berulang\n",
        "w = 1\n",
        "b = 1\n",
        "losses = []\n",
        "for i in range(100):\n",
        "  loss = hitung_cost(w, b, data)\n",
        "  losses.append(loss)\n",
        "  gradien_w, gradien_b = hitung_gradien(w,b)\n",
        "  w,b = update_parameter(gradien_w, gradien_b, w, b)\n"
      ],
      "metadata": {
        "id": "a5ultzTfgrWB"
      },
      "execution_count": 14,
      "outputs": []
    },
    {
      "cell_type": "code",
      "source": [
        ""
      ],
      "metadata": {
        "id": "XTbHRSYnhyhH"
      },
      "execution_count": 14,
      "outputs": []
    }
  ]
}