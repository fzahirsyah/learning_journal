{
 "cells": [
  {
   "cell_type": "markdown",
   "metadata": {},
   "source": [
    "#### EDA\n",
    "- chceck missing data\n",
    "- cek distribusi\n",
    "- cek hubungan antar variabel bisa pakai heatmap\n",
    "\n",
    "\n",
    "\n",
    "\n",
    "normal pakai mean\n",
    "\n",
    "tdk normal pake median\n",
    "\n",
    "categorical cek pakai corr. chi square.\n",
    "\n",
    "#### Encoding\n",
    "- Ordinal encoding : utnuk data ordinal (berlevel)\n",
    "- one hot encoding : untuk data numerical (wilayah)\n",
    "\n",
    "error regressi\n",
    "MSE \n",
    "\n",
    "\n",
    "Classification error\n",
    "F1 scrore\n",
    "ROC AUC\n",
    "\n",
    "\n",
    "\n",
    "ada hubungan MAR dari kolom lain\n",
    "\n",
    "MNAR karena kolom itu sendiri\n",
    "\n",
    "\n",
    "MCAR pakai mean median replacement. imputasi\n",
    "\n",
    "knn untuk target yang missing\n"
   ]
  },
  {
   "cell_type": "code",
   "execution_count": null,
   "metadata": {},
   "outputs": [],
   "source": []
  }
 ],
 "metadata": {
  "language_info": {
   "name": "python"
  },
  "orig_nbformat": 4
 },
 "nbformat": 4,
 "nbformat_minor": 2
}
