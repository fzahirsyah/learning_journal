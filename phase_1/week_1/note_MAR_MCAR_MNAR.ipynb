{
 "cells": [
  {
   "cell_type": "markdown",
   "metadata": {},
   "source": [
    "\"\"\"\n",
    "1- MCAR: missing completely at random: gaada hubungan data yg missing sama kolom lain\n",
    "        - handling: biasanya drop (CCA - complete case analysis)\n",
    "            - jika jumlah missing kecil (<5%??)\n",
    "            - lihat patokan dari 1 kolom aja(?), yg jumlah missing value di kolom cm dikit\n",
    "        - handling: imputasi mean (normal) / median (skewed) / mode (bila categorical, tp jangan kalo ada hubungan sm kolom lain)\n",
    "        *cara imputasi\n",
    "        - fit thdp train\n",
    "        - random forest roc-auc ori vs imputation_mean/_mean/_zero\n",
    "        *random sampling\n",
    "        - split train/test\n",
    "        - isi pake random\n",
    "        - fit thdp train\n",
    "        *arbitrary value\n",
    "\n",
    "2- MAR: missing at random: ada hubungan antara missing, hilangnya ada sebabnya\n",
    "    3- MNAR: missing not at random: penyebab missing krn kolomnya tsb\n",
    "\n",
    "\n",
    "Check of missing data mechanism :\n",
    "MCAR :\n",
    "    Complete Case Analysis,\n",
    "    Mean Imputaion (numeric variable with Gaussian/Normal Distribution),\n",
    "    Median Impuation (numeric variable with skewed distribution)\n",
    "    Mode Imputation (categorical variable)\n",
    "    Add Missing Label Imputation (categorical variable)\n",
    "    Random Sample Imputation\n",
    "    Arbitrary Value Imputation\n",
    "MAR, MNAR :\n",
    "    Add 0/1 Imputation\n",
    "    Arbitrary Value Imputation\n",
    "    Add Missing Label Imputation (categorical variable)\n",
    "    You can combine it with Mean/Median/Mode Imputation\n",
    "If missing values are too small : Complete Case Analysis\n",
    "If missing values are less than 5% of the variable :\n",
    "    Mean Imputation\n",
    "    Median Imputation\n",
    "    Mode Imputation\n",
    "    Random Sample Imputation\n",
    "If missing values are more than 5% of the variable:\n",
    "    Mean/Median/Mode Imputation + adding 0/1 Imputation\n",
    "    Add Missing Label Imputation (categorical variable)\n",
    "\"\"\""
   ]
  },
  {
   "cell_type": "code",
   "execution_count": null,
   "metadata": {},
   "outputs": [],
   "source": []
  }
 ],
 "metadata": {
  "language_info": {
   "name": "python"
  },
  "orig_nbformat": 4
 },
 "nbformat": 4,
 "nbformat_minor": 2
}
