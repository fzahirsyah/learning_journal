{
 "cells": [
  {
   "cell_type": "markdown",
   "metadata": {},
   "source": [
    "\n",
    "# NON GRADED PROBABILITY\n",
    "\n",
    "Muhammad Farhan Zahirsyah\n",
    "\n",
    "Batch 10\n",
    "\n",
    "---\n"
   ]
  },
  {
   "cell_type": "markdown",
   "metadata": {},
   "source": [
    "## ASSIGNMENT INSTRUCTIONS\n",
    "- Buatlah sebuah kode untuk mensimulasikan melempar koin sebanyak 50.000 kali dengan assign value random berupa 0 dan 1 untuk kepala atau ekor. Setiap kali koin dilempar, peluang untuk mendapatkan kepala atau ekor adalah 50%."
   ]
  },
  {
   "cell_type": "markdown",
   "metadata": {},
   "source": [
    "### Import library"
   ]
  },
  {
   "cell_type": "code",
   "execution_count": 3,
   "metadata": {},
   "outputs": [],
   "source": [
    "import pandas as pd\n",
    "import numpy as np\n",
    "import random\n",
    "import matplotlib\n",
    "import matplotlib.pyplot as plt\n",
    "\n",
    "\n",
    "%matplotlib inline"
   ]
  },
  {
   "cell_type": "code",
   "execution_count": 6,
   "metadata": {},
   "outputs": [
    {
     "name": "stdout",
     "output_type": "stream",
     "text": [
      "Pandas Version    : 1.4.1\n",
      "Numpy Version     : 1.22.3\n",
      "Matplotlib Version: 3.5.1\n"
     ]
    }
   ],
   "source": [
    "print('Pandas Version    :',pd.__version__)\n",
    "print('Numpy Version     :',np.__version__)\n",
    "print('Matplotlib Version:',matplotlib.__version__)"
   ]
  },
  {
   "cell_type": "markdown",
   "metadata": {},
   "source": [
    "### Answer"
   ]
  },
  {
   "cell_type": "code",
   "execution_count": 10,
   "metadata": {},
   "outputs": [
    {
     "data": {
      "image/png": "[encoded data removed]",
      "text/plain": [
       "<Figure size 720x432 with 1 Axes>"
      ]
     },
     "metadata": {},
     "output_type": "display_data"
    }
   ],
   "source": [
    "lemparan = 50000\n",
    "head = 0\n",
    "tail = 0\n",
    "\n",
    "for i in range(0,lemparan):\n",
    "    flip = random.randint(0,1)\n",
    "    if flip == 0:\n",
    "        head += 1\n",
    "    else:\n",
    "        tail += 1\n",
    "\n",
    "plt.figure(figsize=(10,6))\n",
    "plt.title('Heads and Tails')\n",
    "plt.pie([head,tail],labels=['Heads','Tails'],autopct='%1.1f%%',startangle=90)\n",
    "plt.show()"
   ]
  }
 ],
 "metadata": {
  "interpreter": {
   "hash": "2cb429e42aadf9192a22141566cdc28102d449c233897aeac42bf86880738b14"
  },
  "kernelspec": {
   "display_name": "Python 3.9.7 ('base')",
   "language": "python",
   "name": "python3"
  },
  "language_info": {
   "codemirror_mode": {
    "name": "ipython",
    "version": 3
   },
   "file_extension": ".py",
   "mimetype": "text/x-python",
   "name": "python",
   "nbconvert_exporter": "python",
   "pygments_lexer": "ipython3",
   "version": "3.9.7"
  },
  "orig_nbformat": 4
 },
 "nbformat": 4,
 "nbformat_minor": 2
}
