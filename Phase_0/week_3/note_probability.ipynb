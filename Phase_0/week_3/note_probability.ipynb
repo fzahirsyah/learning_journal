{
 "cells": [
  {
   "cell_type": "markdown",
   "metadata": {},
   "source": [
    "Notes probability\n"
   ]
  },
  {
   "cell_type": "markdown",
   "metadata": {},
   "source": [
    "- experiment = action yang menghasilkan outcome (melempar satu dadu)\n",
    "- sample space = set atau kumpulan dari semua possible outcome [1,2,3,4,5,6]\n",
    "- sample point = single possible outcome 1/2/3/4/5/6\n",
    "- event = specific outcome (misal ProbA = 2 maka P(A)=1/6)"
   ]
  },
  {
   "cell_type": "markdown",
   "metadata": {},
   "source": [
    "P(A iris B) = P(A) x P(B)\n",
    "\n",
    "P(A gabung B)= P(A) + P(B) - P(A iris B)\n",
    "\n",
    "P(B|A)= P(A iris B) / P(A)"
   ]
  },
  {
   "cell_type": "markdown",
   "metadata": {},
   "source": [
    "**Probability**\n",
    "- independent\n",
    "- dependent\n",
    "- mutually exclusive"
   ]
  },
  {
   "cell_type": "markdown",
   "metadata": {},
   "source": [
    "probability \n",
    "\n",
    "random variable\n",
    "- cdf\n",
    "- cmf\n",
    "\n",
    "dan\n",
    "\n",
    "- pdf\n",
    "- pmf\n",
    "\n",
    "keduanya itu masuk central limit theorem"
   ]
  },
  {
   "cell_type": "markdown",
   "metadata": {},
   "source": [
    "---\n",
    "Distribussion\n",
    "\n",
    "discrete\n",
    "- gaussian (normal)\n",
    "- binomial (skewed)\n",
    "\n",
    "continue\n",
    "- gamma (normal)\n",
    "- poisson (skewed)\n"
   ]
  },
  {
   "cell_type": "markdown",
   "metadata": {},
   "source": [
    "\n"
   ]
  },
  {
   "cell_type": "code",
   "execution_count": null,
   "metadata": {},
   "outputs": [],
   "source": []
  }
 ],
 "metadata": {
  "language_info": {
   "name": "python"
  },
  "orig_nbformat": 4
 },
 "nbformat": 4,
 "nbformat_minor": 2
}
