{
 "cells": [
  {
   "cell_type": "code",
   "execution_count": 3,
   "metadata": {},
   "outputs": [
    {
     "name": "stdout",
     "output_type": "stream",
     "text": [
      "zack\n"
     ]
    }
   ],
   "source": [
    "import person as ps\n",
    "print(ps.name)"
   ]
  },
  {
   "cell_type": "code",
   "execution_count": 4,
   "metadata": {},
   "outputs": [
    {
     "name": "stdout",
     "output_type": "stream",
     "text": [
      "['c:\\\\Users\\\\Farhan Zahirsyah\\\\Documents\\\\python\\\\HACKTIV8\\\\Learning_journal\\\\Phase_0\\\\week_1\\\\package', 'Q:\\\\anaconda\\\\python39.zip', 'Q:\\\\anaconda\\\\DLLs', 'Q:\\\\anaconda\\\\lib', 'Q:\\\\anaconda', '', 'Q:\\\\anaconda\\\\lib\\\\site-packages', 'Q:\\\\anaconda\\\\lib\\\\site-packages\\\\win32', 'Q:\\\\anaconda\\\\lib\\\\site-packages\\\\win32\\\\lib', 'Q:\\\\anaconda\\\\lib\\\\site-packages\\\\Pythonwin', 'C:\\\\Users\\\\Farhan Zahirsyah\\\\AppData\\\\Roaming\\\\Python\\\\Python39\\\\site-packages']\n"
     ]
    }
   ],
   "source": [
    "import sys \n",
    "print(sys.path)"
   ]
  },
  {
   "cell_type": "code",
   "execution_count": 5,
   "metadata": {},
   "outputs": [
    {
     "name": "stdout",
     "output_type": "stream",
     "text": [
      "zack\n",
      "['laptop', 'smartphone', 'tablet']\n"
     ]
    }
   ],
   "source": [
    "print(ps.name)\n",
    "print(ps.devices)"
   ]
  },
  {
   "cell_type": "code",
   "execution_count": null,
   "metadata": {},
   "outputs": [],
   "source": []
  }
 ],
 "metadata": {
  "interpreter": {
   "hash": "2cb429e42aadf9192a22141566cdc28102d449c233897aeac42bf86880738b14"
  },
  "kernelspec": {
   "display_name": "Python 3.9.7 ('base')",
   "language": "python",
   "name": "python3"
  },
  "language_info": {
   "codemirror_mode": {
    "name": "ipython",
    "version": 3
   },
   "file_extension": ".py",
   "mimetype": "text/x-python",
   "name": "python",
   "nbconvert_exporter": "python",
   "pygments_lexer": "ipython3",
   "version": "3.9.7"
  },
  "orig_nbformat": 4
 },
 "nbformat": 4,
 "nbformat_minor": 2
}
