{
 "cells": [
  {
   "cell_type": "code",
   "execution_count": 280,
   "metadata": {},
   "outputs": [
    {
     "name": "stdout",
     "output_type": "stream",
     "text": [
      "True\n"
     ]
    }
   ],
   "source": [
    "def error_handling(nilai,satuan,satuan_tujuan):\n",
    "    # mengecek apakah nilai berbentuk string huruf atau string angka, bila string angka maka dirubah float, jika tidak, akan di tangkap error di elif bawah\n",
    "    # saya pakai try karena kalau langsung diubah nilai float akan error programnya apabila value nya \"huruf\"\n",
    "    try:\n",
    "        if type(nilai)  == str:\n",
    "            nilai = float(nilai)\n",
    "    except:\n",
    "            nilai = nilai\n",
    "\n",
    "    # mengecek setiap input apabila ada yang kosong\n",
    "    if nilai == '' or satuan == '' or satuan_tujuan == '':\n",
    "        return 'Error: inputan ada yang kosong'\n",
    "\n",
    "    # mengecek penulisan typo pada variabel satuan\n",
    "    elif satuan.upper() != 'KELVIN' and satuan.upper() != 'CELCIUS' and satuan.upper() != 'FAHRENHEIT':\n",
    "        return f'anda salah memasukan input satuan, {satuan} tidak ada dalam satuan temperatur'\n",
    "\n",
    "    # mengecek penulisan typo pada variabel satuan_tujuan\n",
    "    elif satuan_tujuan.upper() != 'KELVIN' and satuan_tujuan.upper() != 'CELCIUS' and satuan_tujuan.upper() != 'FAHRENHEIT' and satuan_tujuan != '':\n",
    "        return f'anda salah memasukan input satuan tujuan, {satuan_tujuan} tidak ada dalam satuan temperatur'\n",
    "\n",
    "    # mengecek apabila satuan dan satuan tujuan keduanya sama\n",
    "    elif satuan.upper() == satuan_tujuan.upper():\n",
    "        return f'Error: tidak bisa mengubah {satuan} ke {satuan_tujuan}, nilai akan tetap {nilai} {satuan}'\n",
    "\n",
    "    # mengecek variabel nilai bila inputannya berupa huruf\n",
    "    elif type(nilai) == str:\n",
    "        return f'Error: nilai temperatur bukan angka'\n",
    "            \n",
    "    else: \n",
    "        return True\n",
    "\n",
    "# mengecek function sudah berfungsi atau belum\n",
    "print(error_handling('22','celcius','kelvin'))\n"
   ]
  },
  {
   "cell_type": "code",
   "execution_count": 281,
   "metadata": {},
   "outputs": [
    {
     "name": "stdout",
     "output_type": "stream",
     "text": [
      "10 kelvin adalah -263.15 Celcius\n"
     ]
    }
   ],
   "source": [
    "def converter_k_dan_c(nilai, satuan,satuan_tujuan):\n",
    "    # melakukan seleksi kondisi input satuan, apabila kelvin>>celcius dan celcius>>kelvin\n",
    "    if satuan.upper() == \"KELVIN\":\n",
    "        temperature = nilai - 273.15\n",
    "        satuan_tujuan = 'Celcius' \n",
    "    elif satuan.upper() == \"CELCIUS\":\n",
    "        temperature = nilai + 273.15\n",
    "        satuan_tujuan = 'Kelvin'\n",
    "\n",
    "    temperature = round(temperature,2) \n",
    "    # mengembalikan semua nilai variable untuk jadi output function\n",
    "    return nilai,satuan,temperature,satuan_tujuan  \n",
    "\n",
    "\n",
    "# mengecek function sudah berfungsi atau belum\n",
    "nilai,satuan,temperature,satuan_tujuan  = converter_k_dan_c(10,'kelvin','')\n",
    "print(f'{nilai} {satuan} adalah {temperature} {satuan_tujuan}')"
   ]
  },
  {
   "cell_type": "code",
   "execution_count": 282,
   "metadata": {},
   "outputs": [
    {
     "name": "stdout",
     "output_type": "stream",
     "text": [
      "45 kelvin adalah -378.67 fahrenheit\n"
     ]
    }
   ],
   "source": [
    "def dari_fahrenheit(nilai, satuan, satuan_tujuan):\n",
    "    \n",
    "    if satuan.upper() == \"FAHRENHEIT\":\n",
    "        if satuan_tujuan.upper() == 'CELCIUS':\n",
    "            temperature = (nilai-32)*(5/9)\n",
    "        elif satuan_tujuan.upper() == 'KELVIN':\n",
    "            temperature = ((nilai - 32) * (5/9)) + 273.15\n",
    "    elif satuan.upper() == 'CELCIUS':\n",
    "        if satuan_tujuan.upper() == 'FAHRENHEIT':\n",
    "            temperature = (nilai * (9/5)) + 32\n",
    "        else:\n",
    "            # memanggil function converter_k_dan_c untuk perubahan dari celcius ke kelvin\n",
    "            nilai,satuan,temperature,satuan_tujuan = converter_k_dan_c(nilai,satuan,satuan_tujuan)\n",
    "    elif satuan.upper() == \"KELVIN\":\n",
    "        if satuan_tujuan.upper() == 'FAHRENHEIT':\n",
    "            temperature = ((nilai - 273.15) * (9/5)) + 32\n",
    "        else:\n",
    "            # memanggil function converter_k_dan_c untuk perubahan dari kelvin ke celcius\n",
    "            nilai,satuan,temperature,satuan_tujuan = converter_k_dan_c(nilai,satuan,satuan_tujuan)\n",
    "    temperature = round(temperature,2)\n",
    "    \n",
    "    # mengembalikan semua nilai variable untuk jadi output function\n",
    "    return nilai,satuan,temperature,satuan_tujuan\n",
    "\n",
    "\n",
    "# mengecek function sudah berfungsi atau belum\n",
    "nilai,satuan,temperature,satuan_tujuan = dari_fahrenheit(45,'kelvin','fahrenheit')\n",
    "print(f'{nilai} {satuan} adalah {temperature} {satuan_tujuan}')\n"
   ]
  },
  {
   "cell_type": "code",
   "execution_count": 283,
   "metadata": {},
   "outputs": [
    {
     "name": "stdout",
     "output_type": "stream",
     "text": [
      "23.0 celcius adalah 73.4 fahrenheit\n"
     ]
    }
   ],
   "source": [
    "if __name__ == \"__main__\" :\n",
    "    # user memasukain input suhu dengan dengan variabel nilai, satuan, satuan_tujuan\n",
    "    nilai = input('Masukan nilai suhu temperatur    :')\n",
    "    satuan = input('Masukan satuan suhu (Kelvin/Celcius/Fahrenheit)  :')\n",
    "    satuan_tujuan = input('Mau dirubah menjadi suhu apa? (Kelvin/Celcius/Fahrenheit)  :')\n",
    "\n",
    "    # dilakukan try karena input nilai berupa string, dan bisa saja itu huruf bukan angka\n",
    "    # bila tidak pakai try program akan error karena mengubah huruf menjadi float\n",
    "    try:\n",
    "        if type(nilai)  == str:\n",
    "            nilai = float(nilai)\n",
    "    except:\n",
    "        # dilakukan pemanggilan error handling karena inputan nilai berupa huruf\n",
    "        print(error_handling(nilai,satuan,satuan_tujuan))\n",
    "    \n",
    "    # dipanggil kembali error handling untuk pengecekan terakhir semua input\n",
    "    if error_handling(nilai,satuan,satuan_tujuan) == True:\n",
    "        nilai,satuan,temperature,satuan_tujuan = dari_fahrenheit(nilai,satuan,satuan_tujuan)\n",
    "        print(f'{nilai} {satuan} adalah {temperature} {satuan_tujuan}')\n",
    "\n"
   ]
  }
 ],
 "metadata": {
  "interpreter": {
   "hash": "2cb429e42aadf9192a22141566cdc28102d449c233897aeac42bf86880738b14"
  },
  "kernelspec": {
   "display_name": "Python 3.9.7 ('base')",
   "language": "python",
   "name": "python3"
  },
  "language_info": {
   "codemirror_mode": {
    "name": "ipython",
    "version": 3
   },
   "file_extension": ".py",
   "mimetype": "text/x-python",
   "name": "python",
   "nbconvert_exporter": "python",
   "pygments_lexer": "ipython3",
   "version": "3.9.7"
  },
  "orig_nbformat": 4
 },
 "nbformat": 4,
 "nbformat_minor": 2
}
