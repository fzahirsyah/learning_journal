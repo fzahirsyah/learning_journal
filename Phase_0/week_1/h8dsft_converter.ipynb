{
 "cells": [
  {
   "cell_type": "code",
   "execution_count": 39,
   "metadata": {},
   "outputs": [
    {
     "name": "stdout",
     "output_type": "stream",
     "text": [
      "200 celcius, adalah 473.15 Kelvin \n"
     ]
    }
   ],
   "source": [
    "def converter_k_dan_c(nilai, satuan):\n",
    "    if satuan.upper() != 'KELVIN' and satuan.upper() != 'CELCIUS':\n",
    "        return f'anda salah memasukan input, tidak ada {satuan} dalam satuan temperatur'\n",
    "    elif satuan.upper() == \"KELVIN\":\n",
    "        temperature = nilai - 273.15\n",
    "        satuan_tujuan = 'Celcius'\n",
    "    elif satuan.upper() == \"CELCIUS\":\n",
    "        temperature = nilai + 273.15\n",
    "        satuan_tujuan = 'Kelvin'\n",
    "\n",
    "    temperature = round(temperature,2)\n",
    "    return f'{nilai} {satuan}, adalah {temperature} {satuan_tujuan} '\n",
    "\n",
    "print(converter_k_dan_c(200,'celcius'))"
   ]
  },
  {
   "cell_type": "code",
   "execution_count": 37,
   "metadata": {},
   "outputs": [
    {
     "name": "stdout",
     "output_type": "stream",
     "text": [
      "90 fahrenheit adalah 32.22 celcius\n"
     ]
    }
   ],
   "source": [
    "def fahrenheit(nilai, satuan, satuan_tujuan):\n",
    "    if satuan.upper() != 'KELVIN' and satuan.upper() != 'CELCIUS' and satuan.upper() != 'FAHRENHEIT':\n",
    "        return f'anda salah memasukan input, tidak ada {satuan} dalam satuan temperatur'\n",
    "    elif satuan_tujuan.upper() != 'KELVIN' and satuan_tujuan.upper() != 'CELCIUS' and satuan_tujuan.upper() != 'FAHRENHEIT':\n",
    "        return f'anda salah memasukan input, tidak ada {satuan} dalam satuan temperatur'\n",
    "\n",
    "    elif satuan.upper() == satuan_tujuan.upper():\n",
    "        return f'Error: tidak bisa mengubah {satuan} ke {satuan_tujuan}'\n",
    "    elif satuan.upper() == \"FAHRENHEIT\":\n",
    "        if satuan_tujuan.upper() == 'CELCIUS':\n",
    "            temperature = (nilai-32)*(5/9)\n",
    "        elif satuan_tujuan.upper() == 'KELVIN':\n",
    "            temperature = ((nilai - 32) * (5/9)) + 273.15\n",
    "\n",
    "    temperature = round(temperature,2)\n",
    "    return f'{nilai} {satuan} adalah {temperature} {satuan_tujuan}'\n",
    "\n",
    "print(fahrenheit(90,'fahrenheit','celcius'))\n"
   ]
  },
  {
   "cell_type": "code",
   "execution_count": null,
   "metadata": {},
   "outputs": [],
   "source": [
    "def fahrenheit(nilai, satuan, satuan_tujuan):\n",
    "    if satuan.upper() == satuan_tujuan.upper():\n",
    "        return print(f'Error: tidak bisa mengubah {satuan} ke {satuan_tujuan}')\n",
    "\n",
    "    elif satuan.upper() == \"FAHRENHEIT\":\n",
    "        if satuan_tujuan.upper() == 'CELCIUS':\n",
    "            temperature = (nilai-32)*(5/9)\n",
    "        elif satuan_tujuan.upper() == 'KELVIN':\n",
    "            temperature = ((nilai - 32) * (5/9)) + 273.15\n",
    "        else:\n",
    "            return print(f'Error: tidak bisa mengubah {satuan} ke {satuan_tujuan}')\n",
    "    elif satuan.upper() == \"CELCIUS\":\n",
    "        if satuan_tujuan.upper() == 'FAHRENHEIT':\n",
    "            temperature = (nilai * (9/5)) + 32\n",
    "        else:\n",
    "            converter_k_dan_c(nilai,satuan)\n",
    "    elif satuan.upper() == \"KELVIN\":\n",
    "        if satuan_tujuan.upper() == 'FAHRENHEIT':\n",
    "            temperature = ((nilai - 273.15) * (9/5)) + 32\n",
    "        else:\n",
    "            converter_k_dan_c(nilai,satuan)\n",
    "    else:\n",
    "        return print('ERROR: penulisan input salah atau tidak diketahui satuan suhunya')"
   ]
  }
 ],
 "metadata": {
  "interpreter": {
   "hash": "2cb429e42aadf9192a22141566cdc28102d449c233897aeac42bf86880738b14"
  },
  "kernelspec": {
   "display_name": "Python 3.9.7 ('base')",
   "language": "python",
   "name": "python3"
  },
  "language_info": {
   "codemirror_mode": {
    "name": "ipython",
    "version": 3
   },
   "file_extension": ".py",
   "mimetype": "text/x-python",
   "name": "python",
   "nbconvert_exporter": "python",
   "pygments_lexer": "ipython3",
   "version": "3.9.7"
  },
  "orig_nbformat": 4
 },
 "nbformat": 4,
 "nbformat_minor": 2
}
