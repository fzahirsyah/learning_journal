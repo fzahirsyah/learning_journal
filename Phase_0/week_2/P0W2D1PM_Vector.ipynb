{
  "nbformat": 4,
  "nbformat_minor": 0,
  "metadata": {
    "colab": {
      "name": "P0W2D1PM - Vector.ipynb",
      "provenance": [],
      "collapsed_sections": []
    },
    "kernelspec": {
      "name": "python3",
      "display_name": "Python 3"
    },
    "language_info": {
      "name": "python"
    }
  },
  "cells": [
    {
      "cell_type": "markdown",
      "source": [
        "# **VECTOR**"
      ],
      "metadata": {
        "id": "-TaGxfgkMLMX"
      }
    },
    {
      "cell_type": "code",
      "execution_count": null,
      "metadata": {
        "id": "9YyTle56L6zo"
      },
      "outputs": [],
      "source": [
        "import numpy as np"
      ]
    },
    {
      "cell_type": "code",
      "source": [
        "np.array([1, 2, 3])"
      ],
      "metadata": {
        "colab": {
          "base_uri": "https://localhost:8080/"
        },
        "id": "QcEsb8-zMJ9_",
        "outputId": "97a2e6f2-71eb-49d1-a78d-de3b1940f06b"
      },
      "execution_count": null,
      "outputs": [
        {
          "output_type": "execute_result",
          "data": {
            "text/plain": [
              "array([1, 2, 3])"
            ]
          },
          "metadata": {},
          "execution_count": 2
        }
      ]
    },
    {
      "cell_type": "code",
      "source": [
        "list_1 = [1, 2, 3]\n",
        "list_2 = [4, 5, 6]\n",
        "\n",
        "list_1 + list_2"
      ],
      "metadata": {
        "colab": {
          "base_uri": "https://localhost:8080/"
        },
        "id": "-0ZZb0sARtPg",
        "outputId": "b5fa9bfd-02b6-4852-b45e-a3fc57a3ac12"
      },
      "execution_count": null,
      "outputs": [
        {
          "output_type": "execute_result",
          "data": {
            "text/plain": [
              "[1, 2, 3, 4, 5, 6]"
            ]
          },
          "metadata": {},
          "execution_count": 4
        }
      ]
    },
    {
      "cell_type": "code",
      "source": [
        "arr_1 = np.array(list_1)\n",
        "arr_2 = np.array(list_2)\n",
        "\n",
        "arr_1 + arr_2"
      ],
      "metadata": {
        "colab": {
          "base_uri": "https://localhost:8080/"
        },
        "id": "xJVsC2v1SFqn",
        "outputId": "6211cb88-0763-4626-e133-237aa5d00063"
      },
      "execution_count": null,
      "outputs": [
        {
          "output_type": "execute_result",
          "data": {
            "text/plain": [
              "array([5, 7, 9])"
            ]
          },
          "metadata": {},
          "execution_count": 5
        }
      ]
    },
    {
      "cell_type": "code",
      "source": [
        "arr_1"
      ],
      "metadata": {
        "colab": {
          "base_uri": "https://localhost:8080/"
        },
        "id": "NIWayuWySbv2",
        "outputId": "a55e9aba-e3ac-4362-bf2b-514b73d8ff84"
      },
      "execution_count": null,
      "outputs": [
        {
          "output_type": "execute_result",
          "data": {
            "text/plain": [
              "array([1, 2, 3])"
            ]
          },
          "metadata": {},
          "execution_count": 6
        }
      ]
    },
    {
      "cell_type": "code",
      "source": [
        "arr_1[-1]"
      ],
      "metadata": {
        "colab": {
          "base_uri": "https://localhost:8080/"
        },
        "id": "hiS9hvq-Sepz",
        "outputId": "2969d7bb-a430-4667-8f3d-1de0af616f43"
      },
      "execution_count": null,
      "outputs": [
        {
          "output_type": "execute_result",
          "data": {
            "text/plain": [
              "3"
            ]
          },
          "metadata": {},
          "execution_count": 8
        }
      ]
    },
    {
      "cell_type": "code",
      "source": [
        "arr_1.size"
      ],
      "metadata": {
        "colab": {
          "base_uri": "https://localhost:8080/"
        },
        "id": "7TucbMg2SpB7",
        "outputId": "c0dd0464-f532-4b05-97ec-ba9289874d3b"
      },
      "execution_count": null,
      "outputs": [
        {
          "output_type": "execute_result",
          "data": {
            "text/plain": [
              "3"
            ]
          },
          "metadata": {},
          "execution_count": 9
        }
      ]
    },
    {
      "cell_type": "markdown",
      "source": [
        "## vector norm\n",
        "`np.linalp.norm(v)`"
      ],
      "metadata": {
        "id": "OEY6fB7STHpO"
      }
    },
    {
      "cell_type": "code",
      "source": [
        "vec_1 = np.array([6,8])\n",
        "\n",
        "# np.linalg.norm(vec_1) default\n",
        "np.linalg.norm(vec_1, 2)"
      ],
      "metadata": {
        "colab": {
          "base_uri": "https://localhost:8080/"
        },
        "id": "6HB8l44gTHIr",
        "outputId": "3c97a229-60a8-4b70-d344-58c50cf31438"
      },
      "execution_count": null,
      "outputs": [
        {
          "output_type": "execute_result",
          "data": {
            "text/plain": [
              "10.0"
            ]
          },
          "metadata": {},
          "execution_count": 12
        }
      ]
    },
    {
      "cell_type": "code",
      "source": [
        "np.linalg.norm(vec_1, 1)"
      ],
      "metadata": {
        "colab": {
          "base_uri": "https://localhost:8080/"
        },
        "id": "X-SRlNPeT2wk",
        "outputId": "71f682f0-0632-4261-e426-c06ff98d59b6"
      },
      "execution_count": null,
      "outputs": [
        {
          "output_type": "execute_result",
          "data": {
            "text/plain": [
              "14.0"
            ]
          },
          "metadata": {},
          "execution_count": 11
        }
      ]
    },
    {
      "cell_type": "markdown",
      "source": [
        "## **Operasi Aritmatika**"
      ],
      "metadata": {
        "id": "7aiOsks-U41r"
      }
    },
    {
      "cell_type": "markdown",
      "source": [
        "## penjumlahan"
      ],
      "metadata": {
        "id": "Xd7AAP_RU-Zi"
      }
    },
    {
      "cell_type": "code",
      "source": [
        "print(arr_1, arr_2)"
      ],
      "metadata": {
        "colab": {
          "base_uri": "https://localhost:8080/"
        },
        "id": "RtRjeHetVJEW",
        "outputId": "2237c9b5-e9a2-4a7b-8eeb-d2e35d954d05"
      },
      "execution_count": null,
      "outputs": [
        {
          "output_type": "stream",
          "name": "stdout",
          "text": [
            "[1 2 3] [4 5 6]\n"
          ]
        }
      ]
    },
    {
      "cell_type": "code",
      "source": [
        "# penjumlahan vector dengan scalar/bilangan\n",
        "arr_1 + 10"
      ],
      "metadata": {
        "colab": {
          "base_uri": "https://localhost:8080/"
        },
        "id": "h_1KHSLcU4nT",
        "outputId": "4e0022de-3c40-42b8-8b03-561f9af5a36d"
      },
      "execution_count": null,
      "outputs": [
        {
          "output_type": "execute_result",
          "data": {
            "text/plain": [
              "array([11, 12, 13])"
            ]
          },
          "metadata": {},
          "execution_count": 14
        }
      ]
    },
    {
      "cell_type": "code",
      "source": [
        "# penjumlahan vector dengan vector\n",
        "arr_1 + arr_2"
      ],
      "metadata": {
        "colab": {
          "base_uri": "https://localhost:8080/"
        },
        "id": "J93kygGEVWRn",
        "outputId": "4d10de62-1743-40ea-a97c-85e3849aed5a"
      },
      "execution_count": null,
      "outputs": [
        {
          "output_type": "execute_result",
          "data": {
            "text/plain": [
              "array([5, 7, 9])"
            ]
          },
          "metadata": {},
          "execution_count": 15
        }
      ]
    },
    {
      "cell_type": "code",
      "source": [
        "arr_3 = np.array([2, 5, 6, 1, 3])\n",
        "\n",
        "arr_1 + arr_3 # akan mucul error karena jumlah elemen tidak sama"
      ],
      "metadata": {
        "colab": {
          "base_uri": "https://localhost:8080/",
          "height": 200
        },
        "id": "mVO25V-yVkB3",
        "outputId": "ce159382-e826-4f12-d699-b6c3f6d9a2bc"
      },
      "execution_count": null,
      "outputs": [
        {
          "output_type": "error",
          "ename": "ValueError",
          "evalue": "ignored",
          "traceback": [
            "\u001b[0;31m---------------------------------------------------------------------------\u001b[0m",
            "\u001b[0;31mValueError\u001b[0m                                Traceback (most recent call last)",
            "\u001b[0;32m<ipython-input-16-dcc6f8d637ab>\u001b[0m in \u001b[0;36m<module>\u001b[0;34m()\u001b[0m\n\u001b[1;32m      1\u001b[0m \u001b[0marr_3\u001b[0m \u001b[0;34m=\u001b[0m \u001b[0mnp\u001b[0m\u001b[0;34m.\u001b[0m\u001b[0marray\u001b[0m\u001b[0;34m(\u001b[0m\u001b[0;34m[\u001b[0m\u001b[0;36m2\u001b[0m\u001b[0;34m,\u001b[0m \u001b[0;36m5\u001b[0m\u001b[0;34m,\u001b[0m \u001b[0;36m6\u001b[0m\u001b[0;34m,\u001b[0m \u001b[0;36m1\u001b[0m\u001b[0;34m,\u001b[0m \u001b[0;36m3\u001b[0m\u001b[0;34m]\u001b[0m\u001b[0;34m)\u001b[0m\u001b[0;34m\u001b[0m\u001b[0;34m\u001b[0m\u001b[0m\n\u001b[1;32m      2\u001b[0m \u001b[0;34m\u001b[0m\u001b[0m\n\u001b[0;32m----> 3\u001b[0;31m \u001b[0marr_1\u001b[0m \u001b[0;34m+\u001b[0m \u001b[0marr_3\u001b[0m\u001b[0;34m\u001b[0m\u001b[0;34m\u001b[0m\u001b[0m\n\u001b[0m",
            "\u001b[0;31mValueError\u001b[0m: operands could not be broadcast together with shapes (3,) (5,) "
          ]
        }
      ]
    },
    {
      "cell_type": "markdown",
      "source": [
        "## pengurangan"
      ],
      "metadata": {
        "id": "dqk-bdqMV8wY"
      }
    },
    {
      "cell_type": "code",
      "source": [
        "print(arr_1, arr_2)"
      ],
      "metadata": {
        "colab": {
          "base_uri": "https://localhost:8080/"
        },
        "id": "ygp7dR1pWE7L",
        "outputId": "ee4b7954-8760-4c06-d203-253afd13601f"
      },
      "execution_count": null,
      "outputs": [
        {
          "output_type": "stream",
          "name": "stdout",
          "text": [
            "[1 2 3] [4 5 6]\n"
          ]
        }
      ]
    },
    {
      "cell_type": "code",
      "source": [
        "# pengurangan vector dengan scalar/bilangan\n",
        "10 - arr_1"
      ],
      "metadata": {
        "colab": {
          "base_uri": "https://localhost:8080/"
        },
        "id": "1xZMRL-PV9Z7",
        "outputId": "1d7d6064-e8b8-4bfa-e744-bea2ff67a10e"
      },
      "execution_count": null,
      "outputs": [
        {
          "output_type": "execute_result",
          "data": {
            "text/plain": [
              "array([9, 8, 7])"
            ]
          },
          "metadata": {},
          "execution_count": 19
        }
      ]
    },
    {
      "cell_type": "code",
      "source": [
        "# pengurangan vector dengan vector\n",
        "arr_1 - arr_2"
      ],
      "metadata": {
        "colab": {
          "base_uri": "https://localhost:8080/"
        },
        "id": "hX6wognyWRXG",
        "outputId": "6e4e7844-2d03-431d-deba-633ed9fae4bd"
      },
      "execution_count": null,
      "outputs": [
        {
          "output_type": "execute_result",
          "data": {
            "text/plain": [
              "array([-3, -3, -3])"
            ]
          },
          "metadata": {},
          "execution_count": 20
        }
      ]
    },
    {
      "cell_type": "markdown",
      "source": [
        "## pembagian"
      ],
      "metadata": {
        "id": "RRYcOGxWWcK7"
      }
    },
    {
      "cell_type": "code",
      "source": [
        "print(arr_1, arr_2)"
      ],
      "metadata": {
        "colab": {
          "base_uri": "https://localhost:8080/"
        },
        "id": "wro1aFAuWgaT",
        "outputId": "f8440bb2-6b28-463d-8c8f-b5a1d0dbbc94"
      },
      "execution_count": null,
      "outputs": [
        {
          "output_type": "stream",
          "name": "stdout",
          "text": [
            "[1 2 3] [4 5 6]\n"
          ]
        }
      ]
    },
    {
      "cell_type": "code",
      "source": [
        "# pembagian vector terhadap scalar/bilangan\n",
        "arr_1 / 2"
      ],
      "metadata": {
        "colab": {
          "base_uri": "https://localhost:8080/"
        },
        "id": "khxwSCA2Wm71",
        "outputId": "6320a4a7-bc65-4aa3-a841-ea2c542aa6ec"
      },
      "execution_count": null,
      "outputs": [
        {
          "output_type": "execute_result",
          "data": {
            "text/plain": [
              "array([0.5, 1. , 1.5])"
            ]
          },
          "metadata": {},
          "execution_count": 22
        }
      ]
    },
    {
      "cell_type": "code",
      "source": [
        "# pembagian vector terhadap vector\n",
        "arr_2 / arr_1"
      ],
      "metadata": {
        "colab": {
          "base_uri": "https://localhost:8080/"
        },
        "id": "NPgKDNfPW23T",
        "outputId": "c4dcccb8-ec62-468f-fd39-279c4f742afb"
      },
      "execution_count": null,
      "outputs": [
        {
          "output_type": "execute_result",
          "data": {
            "text/plain": [
              "array([4. , 2.5, 2. ])"
            ]
          },
          "metadata": {},
          "execution_count": 24
        }
      ]
    },
    {
      "cell_type": "markdown",
      "source": [
        "## perkalian\n",
        "- dengan scalar/bilangan\n",
        "- dengan vector (element-wise multiplication)\n",
        "- dot product"
      ],
      "metadata": {
        "id": "oSODFAsIXM6H"
      }
    },
    {
      "cell_type": "code",
      "source": [
        "print(arr_1, arr_2)"
      ],
      "metadata": {
        "colab": {
          "base_uri": "https://localhost:8080/"
        },
        "id": "zruBz1iGXoco",
        "outputId": "ecac313e-2b04-4bbd-f177-a810f1120c83"
      },
      "execution_count": null,
      "outputs": [
        {
          "output_type": "stream",
          "name": "stdout",
          "text": [
            "[1 2 3] [4 5 6]\n"
          ]
        }
      ]
    },
    {
      "cell_type": "code",
      "source": [
        "# perkalian vector dengan scalar/bilangan\n",
        "arr_1 * 10"
      ],
      "metadata": {
        "colab": {
          "base_uri": "https://localhost:8080/"
        },
        "id": "UZJAbwp9XMb2",
        "outputId": "22fefb5d-de29-43ff-b85e-7be46b01f0b7"
      },
      "execution_count": null,
      "outputs": [
        {
          "output_type": "execute_result",
          "data": {
            "text/plain": [
              "array([10, 20, 30])"
            ]
          },
          "metadata": {},
          "execution_count": 26
        }
      ]
    },
    {
      "cell_type": "code",
      "source": [
        "# perkalian vector dengan vector (element-wise multiplication)\n",
        "arr_1 * arr_2"
      ],
      "metadata": {
        "colab": {
          "base_uri": "https://localhost:8080/"
        },
        "id": "qhBxISCGX0Iz",
        "outputId": "c26c1c84-bcc7-4820-b7d3-e50209a84b9f"
      },
      "execution_count": null,
      "outputs": [
        {
          "output_type": "execute_result",
          "data": {
            "text/plain": [
              "array([ 4, 10, 18])"
            ]
          },
          "metadata": {},
          "execution_count": 27
        }
      ]
    },
    {
      "cell_type": "code",
      "source": [
        "# perkalian dot-product\n",
        "np.dot(arr_1, arr_2)"
      ],
      "metadata": {
        "colab": {
          "base_uri": "https://localhost:8080/"
        },
        "id": "DA_2o3ckYkDE",
        "outputId": "10a1bb98-730f-4e7c-9f3d-4313767397a6"
      },
      "execution_count": null,
      "outputs": [
        {
          "output_type": "execute_result",
          "data": {
            "text/plain": [
              "32"
            ]
          },
          "metadata": {},
          "execution_count": 28
        }
      ]
    },
    {
      "cell_type": "code",
      "source": [
        "arr_1.dot(arr_2)"
      ],
      "metadata": {
        "colab": {
          "base_uri": "https://localhost:8080/"
        },
        "id": "rW6WDAWGYt91",
        "outputId": "8f7f1233-9846-49eb-85eb-5535f0071cd0"
      },
      "execution_count": null,
      "outputs": [
        {
          "output_type": "execute_result",
          "data": {
            "text/plain": [
              "32"
            ]
          },
          "metadata": {},
          "execution_count": 29
        }
      ]
    },
    {
      "cell_type": "code",
      "source": [
        "arr_1 @ arr_2"
      ],
      "metadata": {
        "colab": {
          "base_uri": "https://localhost:8080/"
        },
        "id": "b9lhKamLYy-x",
        "outputId": "cfef8486-4eb8-4621-e888-9abee5ad483e"
      },
      "execution_count": null,
      "outputs": [
        {
          "output_type": "execute_result",
          "data": {
            "text/plain": [
              "32"
            ]
          },
          "metadata": {},
          "execution_count": 30
        }
      ]
    },
    {
      "cell_type": "markdown",
      "source": [
        "## cosine similarity"
      ],
      "metadata": {
        "id": "kRhcwiH0Zj9H"
      }
    },
    {
      "cell_type": "code",
      "source": [
        "print(arr_1, arr_2)"
      ],
      "metadata": {
        "colab": {
          "base_uri": "https://localhost:8080/"
        },
        "id": "GgN2T-saZguT",
        "outputId": "b41ba2d3-727a-4b84-bd34-6cd4638c3046"
      },
      "execution_count": null,
      "outputs": [
        {
          "output_type": "stream",
          "name": "stdout",
          "text": [
            "[1 2 3] [4 5 6]\n"
          ]
        }
      ]
    },
    {
      "cell_type": "code",
      "source": [
        "cos_theta = arr_1 @ arr_2 / (np.linalg.norm(arr_1) * np.linalg.norm(arr_2))\n",
        "cos_theta"
      ],
      "metadata": {
        "colab": {
          "base_uri": "https://localhost:8080/"
        },
        "id": "IyNDVy2mZrxa",
        "outputId": "97f84219-b713-40de-f35d-b98516062d8a"
      },
      "execution_count": null,
      "outputs": [
        {
          "output_type": "execute_result",
          "data": {
            "text/plain": [
              "0.9746318461970762"
            ]
          },
          "metadata": {},
          "execution_count": 33
        }
      ]
    },
    {
      "cell_type": "code",
      "source": [
        "v_1 = np.array([5, 0])\n",
        "v_2 = np.array([8, 0])\n",
        "\n",
        "cos_theta = v_1 @ v_2 / (np.linalg.norm(v_1) * np.linalg.norm(v_2))\n",
        "cos_theta"
      ],
      "metadata": {
        "colab": {
          "base_uri": "https://localhost:8080/"
        },
        "id": "xPp61btwaBmZ",
        "outputId": "c8159869-9d69-4730-8115-6ec7d850d286"
      },
      "execution_count": null,
      "outputs": [
        {
          "output_type": "execute_result",
          "data": {
            "text/plain": [
              "1.0"
            ]
          },
          "metadata": {},
          "execution_count": 34
        }
      ]
    },
    {
      "cell_type": "markdown",
      "source": [
        "convert cos theta to radian to degree"
      ],
      "metadata": {
        "id": "WXC7OORHiuqF"
      }
    },
    {
      "cell_type": "code",
      "source": [
        "# cos theta dengan sudut 90\n",
        "vec_1 = np.array([0, 4])\n",
        "vec_2 = np.array([6, 0])\n",
        "\n",
        "cos_theta = vec_1 @ vec_2 / (np.linalg.norm(vec_1) * np.linalg.norm(vec_2))\n",
        "cos_theta"
      ],
      "metadata": {
        "colab": {
          "base_uri": "https://localhost:8080/"
        },
        "id": "MyrPY0v2h-PM",
        "outputId": "251e25aa-0f90-4f46-a05b-e5bf88ef97ae"
      },
      "execution_count": null,
      "outputs": [
        {
          "output_type": "execute_result",
          "data": {
            "text/plain": [
              "0.0"
            ]
          },
          "metadata": {},
          "execution_count": 44
        }
      ]
    },
    {
      "cell_type": "code",
      "source": [
        "# cos theta menjadi radian\n",
        "rad = np.arccos(cos_theta)\n",
        "rad"
      ],
      "metadata": {
        "colab": {
          "base_uri": "https://localhost:8080/"
        },
        "id": "roDoS4ByiTm3",
        "outputId": "5c7c96e1-ec64-45c3-abfb-428cd2af936f"
      },
      "execution_count": null,
      "outputs": [
        {
          "output_type": "execute_result",
          "data": {
            "text/plain": [
              "1.5707963267948966"
            ]
          },
          "metadata": {},
          "execution_count": 45
        }
      ]
    },
    {
      "cell_type": "code",
      "source": [
        "# radian menjadi degree\n",
        "degr = np.degrees(rad)\n",
        "degr"
      ],
      "metadata": {
        "colab": {
          "base_uri": "https://localhost:8080/"
        },
        "id": "YbmQbbdriiDw",
        "outputId": "61618410-1732-4c24-e000-b2bd01100bc0"
      },
      "execution_count": null,
      "outputs": [
        {
          "output_type": "execute_result",
          "data": {
            "text/plain": [
              "90.0"
            ]
          },
          "metadata": {},
          "execution_count": 46
        }
      ]
    },
    {
      "cell_type": "markdown",
      "source": [
        "## viz"
      ],
      "metadata": {
        "id": "YBSj0uvtjxfn"
      }
    },
    {
      "cell_type": "code",
      "source": [
        "import matplotlib.pyplot as plt\n",
        "\n",
        "def plot_vector2d(vector2d, origin=[0, 0], **options):\n",
        "    return plt.arrow(origin[0], origin[1], vector2d[0], vector2d[1],\n",
        "              head_width=0.2, head_length=0.3, length_includes_head=True,\n",
        "              **options)"
      ],
      "metadata": {
        "id": "xSI7cmshi5AL"
      },
      "execution_count": null,
      "outputs": []
    },
    {
      "cell_type": "code",
      "source": [
        "arr_5 = np.array([0, 4])\n",
        "arr_6 = np.array([6, 0])\n",
        "\n",
        "plot_vector2d(arr_5, color=\"r\")\n",
        "plot_vector2d(arr_6, color=\"b\")\n",
        "plt.axis([0, 9, 0, 6])\n",
        "plt.grid()\n",
        "plt.show()"
      ],
      "metadata": {
        "colab": {
          "base_uri": "https://localhost:8080/",
          "height": 269
        },
        "id": "3r3-3BNnjAwg",
        "outputId": "900267e9-08d0-4156-fabe-0ae64f515eb1"
      },
      "execution_count": null,
      "outputs": [
        {
          "output_type": "display_data",
          "data": {
            "text/plain": [
              "<Figure size 432x288 with 1 Axes>"
            ],
            "image/png": "[encoded data removed]"
          },
          "metadata": {
            "needs_background": "light"
          }
        }
      ]
    },
    {
      "cell_type": "markdown",
      "source": [
        "## implementasi cosine similarity"
      ],
      "metadata": {
        "id": "4jNPKlUqdbdM"
      }
    },
    {
      "cell_type": "markdown",
      "source": [
        "- kalimat 1 = saya pergi ke rumah nenek saya\n",
        "- kalimat 2 = saya pergi ke rumah kakek saya"
      ],
      "metadata": {
        "id": "MTf1Q2Todtqf"
      }
    },
    {
      "cell_type": "code",
      "source": [
        "kal_1 = [2, 1, 1, 1, 1, 0]\n",
        "kal_2 = [2, 1, 1, 1, 0, 1]\n",
        "\n",
        "kal_1 = np.array(kal_1)\n",
        "kal_2 = np.array(kal_2)\n",
        "\n",
        "print(kal_1, kal_2)"
      ],
      "metadata": {
        "colab": {
          "base_uri": "https://localhost:8080/"
        },
        "id": "tk6sxytpdaFj",
        "outputId": "81a002cc-2d92-42cc-bfdf-91e76f096971"
      },
      "execution_count": null,
      "outputs": [
        {
          "output_type": "stream",
          "name": "stdout",
          "text": [
            "[2 1 1 1 1 0] [2 1 1 1 0 1]\n"
          ]
        }
      ]
    },
    {
      "cell_type": "code",
      "source": [
        "cos_theta = kal_1 @ kal_2/ (np.linalg.norm(kal_1) * np.linalg.norm(kal_2))\n",
        "cos_theta"
      ],
      "metadata": {
        "colab": {
          "base_uri": "https://localhost:8080/"
        },
        "id": "dp7iWHNHeuFO",
        "outputId": "4e678b79-d9bd-4b44-9871-089c432c9ab9"
      },
      "execution_count": null,
      "outputs": [
        {
          "output_type": "execute_result",
          "data": {
            "text/plain": [
              "0.8749999999999998"
            ]
          },
          "metadata": {},
          "execution_count": 40
        }
      ]
    },
    {
      "cell_type": "markdown",
      "source": [
        "- kalimat 1 = kemarin saya pergi ke surabaya\n",
        "- kalimat 2 = ibu saya sedang berbelanja"
      ],
      "metadata": {
        "id": "fB5RUd3rfJM8"
      }
    },
    {
      "cell_type": "code",
      "source": [
        "vec_1 = [1, 1, 1, 1, 1, 0, 0, 0]\n",
        "vec_2 = [0, 1, 0, 0, 0, 1, 1, 1]\n",
        "\n",
        "vec_1 = np.array(vec_1)\n",
        "vec_2 = np.array(vec_2)"
      ],
      "metadata": {
        "id": "4BeQqh7TfGlc"
      },
      "execution_count": null,
      "outputs": []
    },
    {
      "cell_type": "code",
      "source": [
        "cos_theta = vec_1 @ vec_2/ (np.linalg.norm(vec_1) * np.linalg.norm(vec_2))\n",
        "cos_theta"
      ],
      "metadata": {
        "colab": {
          "base_uri": "https://localhost:8080/"
        },
        "id": "wPmR4HoAgBEn",
        "outputId": "f7f963bc-be11-4a4b-89c9-0cb8285a8405"
      },
      "execution_count": null,
      "outputs": [
        {
          "output_type": "execute_result",
          "data": {
            "text/plain": [
              "0.22360679774997896"
            ]
          },
          "metadata": {},
          "execution_count": 42
        }
      ]
    },
    {
      "cell_type": "code",
      "source": [
        "cos_theta = np.array([1,1,1]) @ np.array([1,1,1])/ (np.linalg.norm(np.array([1,1,1])) * np.linalg.norm(np.array([1,1,1])))\n",
        "cos_theta"
      ],
      "metadata": {
        "colab": {
          "base_uri": "https://localhost:8080/"
        },
        "id": "dyaTWw4pg3by",
        "outputId": "bb39d70e-f296-4aec-da33-096c0b86860c"
      },
      "execution_count": null,
      "outputs": [
        {
          "output_type": "execute_result",
          "data": {
            "text/plain": [
              "1.0000000000000002"
            ]
          },
          "metadata": {},
          "execution_count": 43
        }
      ]
    }
  ]
}