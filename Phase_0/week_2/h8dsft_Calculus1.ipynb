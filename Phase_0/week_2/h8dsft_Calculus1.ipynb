{
 "cells": [
  {
   "cell_type": "markdown",
   "metadata": {},
   "source": [
    "\n",
    "# NON GRADED CHALLENGE CALCULUS 1\n",
    "Muhammad Farhan Zahirsyah\n",
    "\n",
    "Batch 10\n"
   ]
  },
  {
   "cell_type": "markdown",
   "metadata": {},
   "source": [
    "---\n",
    "## Assignment Instructions\n",
    "\n",
    "- Carilah derivative dari sebuah fungsi:\n",
    "  - $y = x^{2} + 2x + 1$\n",
    "  - $y = 4x^{3} - 3x^{2} + 2x -1$"
   ]
  },
  {
   "cell_type": "code",
   "execution_count": 1,
   "metadata": {},
   "outputs": [],
   "source": [
    "import  sympy as sy\n",
    "import numpy as np\n",
    "import matplotlib.pyplot as plt"
   ]
  },
  {
   "cell_type": "code",
   "execution_count": 2,
   "metadata": {},
   "outputs": [],
   "source": [
    "x = sy.symbols('x')"
   ]
  },
  {
   "cell_type": "markdown",
   "metadata": {},
   "source": [
    "---\n",
    "## fungsi y pertama"
   ]
  },
  {
   "cell_type": "code",
   "execution_count": 3,
   "metadata": {},
   "outputs": [
    {
     "data": {
      "text/latex": [
       "$\\displaystyle x^{2} + 2 x + 1$"
      ],
      "text/plain": [
       "x**2 + 2*x + 1"
      ]
     },
     "execution_count": 3,
     "metadata": {},
     "output_type": "execute_result"
    }
   ],
   "source": [
    "y1 = x**2 + 2*x + 1\n",
    "y1"
   ]
  },
  {
   "cell_type": "markdown",
   "metadata": {},
   "source": [
    "Turunan fungsinya secara symbolic\n"
   ]
  },
  {
   "cell_type": "code",
   "execution_count": 4,
   "metadata": {},
   "outputs": [
    {
     "data": {
      "text/latex": [
       "$\\displaystyle 2 x + 2$"
      ],
      "text/plain": [
       "2*x + 2"
      ]
     },
     "execution_count": 4,
     "metadata": {},
     "output_type": "execute_result"
    }
   ],
   "source": [
    "sy.diff(y1)"
   ]
  },
  {
   "cell_type": "markdown",
   "metadata": {},
   "source": [
    "Turunan fungsinya secara numerik"
   ]
  },
  {
   "cell_type": "code",
   "execution_count": 5,
   "metadata": {},
   "outputs": [],
   "source": [
    "x1 = np.linspace(-100,100)\n",
    "y1 = x1**2 + 2*x1 + 1"
   ]
  },
  {
   "cell_type": "code",
   "execution_count": 6,
   "metadata": {},
   "outputs": [
    {
     "data": {
      "text/plain": [
       "array([-100.        ,  -95.91836735,  -91.83673469,  -87.75510204,\n",
       "        -83.67346939,  -79.59183673,  -75.51020408,  -71.42857143,\n",
       "        -67.34693878,  -63.26530612,  -59.18367347,  -55.10204082,\n",
       "        -51.02040816,  -46.93877551,  -42.85714286,  -38.7755102 ,\n",
       "        -34.69387755,  -30.6122449 ,  -26.53061224,  -22.44897959,\n",
       "        -18.36734694,  -14.28571429,  -10.20408163,   -6.12244898,\n",
       "         -2.04081633,    2.04081633,    6.12244898,   10.20408163,\n",
       "         14.28571429,   18.36734694,   22.44897959,   26.53061224,\n",
       "         30.6122449 ,   34.69387755,   38.7755102 ,   42.85714286,\n",
       "         46.93877551,   51.02040816,   55.10204082,   59.18367347,\n",
       "         63.26530612,   67.34693878,   71.42857143,   75.51020408,\n",
       "         79.59183673,   83.67346939,   87.75510204,   91.83673469,\n",
       "         95.91836735,  100.        ])"
      ]
     },
     "execution_count": 6,
     "metadata": {},
     "output_type": "execute_result"
    }
   ],
   "source": [
    "x1"
   ]
  },
  {
   "cell_type": "code",
   "execution_count": 7,
   "metadata": {},
   "outputs": [
    {
     "data": {
      "text/plain": [
       "array([9.80100000e+03, 9.00949646e+03, 8.25131237e+03, 7.52644773e+03,\n",
       "       6.83490254e+03, 6.17667680e+03, 5.55177051e+03, 4.96018367e+03,\n",
       "       4.40191628e+03, 3.87696835e+03, 3.38533986e+03, 2.92703082e+03,\n",
       "       2.50204123e+03, 2.11037110e+03, 1.75202041e+03, 1.42698917e+03,\n",
       "       1.13527738e+03, 8.76885048e+02, 6.51812162e+02, 4.60058726e+02,\n",
       "       3.01624740e+02, 1.76510204e+02, 8.47151187e+01, 2.62394835e+01,\n",
       "       1.08329863e+00, 9.24656393e+00, 5.07292795e+01, 1.25531445e+02,\n",
       "       2.33653061e+02, 3.75094127e+02, 5.49854644e+02, 7.57934611e+02,\n",
       "       9.99334027e+02, 1.27405289e+03, 1.58209121e+03, 1.92344898e+03,\n",
       "       2.29812620e+03, 2.70612287e+03, 3.14743898e+03, 3.62207455e+03,\n",
       "       4.13002957e+03, 4.67130404e+03, 5.24589796e+03, 5.85381133e+03,\n",
       "       6.49504415e+03, 7.16959642e+03, 7.87746814e+03, 8.61865931e+03,\n",
       "       9.39316993e+03, 1.02010000e+04])"
      ]
     },
     "execution_count": 7,
     "metadata": {},
     "output_type": "execute_result"
    }
   ],
   "source": [
    "y1"
   ]
  },
  {
   "cell_type": "code",
   "execution_count": 8,
   "metadata": {},
   "outputs": [
    {
     "data": {
      "text/plain": [
       "array([-193.91836735, -189.83673469, -181.67346939, -173.51020408,\n",
       "       -165.34693878, -157.18367347, -149.02040816, -140.85714286,\n",
       "       -132.69387755, -124.53061224, -116.36734694, -108.20408163,\n",
       "       -100.04081633,  -91.87755102,  -83.71428571,  -75.55102041,\n",
       "        -67.3877551 ,  -59.2244898 ,  -51.06122449,  -42.89795918,\n",
       "        -34.73469388,  -26.57142857,  -18.40816327,  -10.24489796,\n",
       "         -2.08163265,    6.08163265,   14.24489796,   22.40816327,\n",
       "         30.57142857,   38.73469388,   46.89795918,   55.06122449,\n",
       "         63.2244898 ,   71.3877551 ,   79.55102041,   87.71428571,\n",
       "         95.87755102,  104.04081633,  112.20408163,  120.36734694,\n",
       "        128.53061224,  136.69387755,  144.85714286,  153.02040816,\n",
       "        161.18367347,  169.34693878,  177.51020408,  185.67346939,\n",
       "        193.83673469,  197.91836735])"
      ]
     },
     "execution_count": 8,
     "metadata": {},
     "output_type": "execute_result"
    }
   ],
   "source": [
    "derivative1 = np.gradient(y1,x1)\n",
    "derivative1"
   ]
  },
  {
   "cell_type": "code",
   "execution_count": 9,
   "metadata": {},
   "outputs": [
    {
     "data": {
      "text/plain": [
       "[<matplotlib.lines.Line2D at 0x2314e31afd0>]"
      ]
     },
     "execution_count": 9,
     "metadata": {},
     "output_type": "execute_result"
    },
    {
     "data": {
      "image/png": "[encoded data removed]",
      "text/plain": [
       "<Figure size 432x288 with 1 Axes>"
      ]
     },
     "metadata": {
      "needs_background": "light"
     },
     "output_type": "display_data"
    }
   ],
   "source": [
    "plt.plot(x1,derivative1)"
   ]
  },
  {
   "cell_type": "markdown",
   "metadata": {},
   "source": [
    "Optimasi"
   ]
  },
  {
   "cell_type": "code",
   "execution_count": 10,
   "metadata": {},
   "outputs": [
    {
     "data": {
      "text/plain": [
       "     fun: 0.0\n",
       "    nfev: 9\n",
       "     nit: 4\n",
       " success: True\n",
       "       x: -1.0000000000000002"
      ]
     },
     "execution_count": 10,
     "metadata": {},
     "output_type": "execute_result"
    }
   ],
   "source": [
    "from scipy.optimize import minimize_scalar\n",
    "\n",
    "def f(x):\n",
    "    return x**2 + 2*x + 1\n",
    "\n",
    "optimize1 = minimize_scalar(f)\n",
    "optimize1"
   ]
  },
  {
   "cell_type": "markdown",
   "metadata": {},
   "source": [
    "---\n",
    "## Fungsi y kedua"
   ]
  },
  {
   "cell_type": "code",
   "execution_count": 11,
   "metadata": {},
   "outputs": [
    {
     "data": {
      "text/latex": [
       "$\\displaystyle 4 x^{3} - 3 x^{2} + 2 x - 1$"
      ],
      "text/plain": [
       "4*x**3 - 3*x**2 + 2*x - 1"
      ]
     },
     "execution_count": 11,
     "metadata": {},
     "output_type": "execute_result"
    }
   ],
   "source": [
    "y2 = 4*x**3 - 3*x**2 + 2*x -1\n",
    "y2"
   ]
  },
  {
   "cell_type": "markdown",
   "metadata": {},
   "source": [
    "Turunan Fungsinya"
   ]
  },
  {
   "cell_type": "code",
   "execution_count": 12,
   "metadata": {},
   "outputs": [
    {
     "data": {
      "text/latex": [
       "$\\displaystyle 12 x^{2} - 6 x + 2$"
      ],
      "text/plain": [
       "12*x**2 - 6*x + 2"
      ]
     },
     "execution_count": 12,
     "metadata": {},
     "output_type": "execute_result"
    }
   ],
   "source": [
    "sy.diff(y2)"
   ]
  },
  {
   "cell_type": "markdown",
   "metadata": {},
   "source": [
    "Turunan Fungsi Secara Numerik"
   ]
  },
  {
   "cell_type": "code",
   "execution_count": 13,
   "metadata": {},
   "outputs": [],
   "source": [
    "x2 = np.linspace(-100,100)\n",
    "y2 = 4*x2**3 - 3*x2**2 + 2*x2 -1"
   ]
  },
  {
   "cell_type": "code",
   "execution_count": 14,
   "metadata": {},
   "outputs": [
    {
     "data": {
      "text/plain": [
       "array([-100.        ,  -95.91836735,  -91.83673469,  -87.75510204,\n",
       "        -83.67346939,  -79.59183673,  -75.51020408,  -71.42857143,\n",
       "        -67.34693878,  -63.26530612,  -59.18367347,  -55.10204082,\n",
       "        -51.02040816,  -46.93877551,  -42.85714286,  -38.7755102 ,\n",
       "        -34.69387755,  -30.6122449 ,  -26.53061224,  -22.44897959,\n",
       "        -18.36734694,  -14.28571429,  -10.20408163,   -6.12244898,\n",
       "         -2.04081633,    2.04081633,    6.12244898,   10.20408163,\n",
       "         14.28571429,   18.36734694,   22.44897959,   26.53061224,\n",
       "         30.6122449 ,   34.69387755,   38.7755102 ,   42.85714286,\n",
       "         46.93877551,   51.02040816,   55.10204082,   59.18367347,\n",
       "         63.26530612,   67.34693878,   71.42857143,   75.51020408,\n",
       "         79.59183673,   83.67346939,   87.75510204,   91.83673469,\n",
       "         95.91836735,  100.        ])"
      ]
     },
     "execution_count": 14,
     "metadata": {},
     "output_type": "execute_result"
    }
   ],
   "source": [
    "x2"
   ]
  },
  {
   "cell_type": "code",
   "execution_count": 15,
   "metadata": {},
   "outputs": [
    {
     "data": {
      "text/plain": [
       "array([-4.03020100e+06, -3.55771759e+06, -3.12368551e+06, -2.72647278e+06,\n",
       "       -2.36444743e+06, -2.03597749e+06, -1.73943098e+06, -1.47317593e+06,\n",
       "       -1.23558036e+06, -1.02501232e+06, -8.39839807e+05, -6.78430867e+05,\n",
       "       -5.39153521e+05, -4.20375798e+05, -3.20465723e+05, -2.37791324e+05,\n",
       "       -1.70720627e+05, -1.17621660e+05, -7.68624489e+04, -4.68110213e+04,\n",
       "       -2.58354040e+04, -1.23036239e+04, -4.58370789e+03, -1.04368290e+03,\n",
       "       -5.15758655e+01,  2.45862778e+01,  8.16776607e+02,  3.95696819e+03,\n",
       "        1.10771341e+04,  2.38092474e+04,  4.37852812e+04,  7.26372086e+04,\n",
       "        1.11997003e+05,  1.63496636e+05,  2.28768083e+05,  3.09443315e+05,\n",
       "        4.07154306e+05,  5.23533029e+05,  6.60211457e+05,  8.18821564e+05,\n",
       "        1.00099532e+06,  1.20836470e+06,  1.44256168e+06,  1.70521823e+06,\n",
       "        1.99796632e+06,  2.32243793e+06,  2.68026503e+06,  3.07307960e+06,\n",
       "        3.50251359e+06,  3.97019900e+06])"
      ]
     },
     "execution_count": 15,
     "metadata": {},
     "output_type": "execute_result"
    }
   ],
   "source": [
    "y2"
   ]
  },
  {
   "cell_type": "code",
   "execution_count": 16,
   "metadata": {},
   "outputs": [
    {
     "data": {
      "text/plain": [
       "array([1.15758435e+05, 1.06337860e+05, 9.73171187e+04, 8.86962107e+04,\n",
       "       8.04751362e+04, 7.26538950e+04, 6.52324873e+04, 5.82109130e+04,\n",
       "       5.15891720e+04, 4.53672645e+04, 3.95451903e+04, 3.41229496e+04,\n",
       "       2.91005423e+04, 2.44779683e+04, 2.02552278e+04, 1.64323207e+04,\n",
       "       1.30092470e+04, 9.98600666e+03, 7.36259975e+03, 5.13902624e+03,\n",
       "       3.31528613e+03, 1.89137943e+03, 8.67306122e+02, 2.43066222e+02,\n",
       "       1.86597251e+01, 1.94086631e+02, 7.69346939e+02, 1.74444065e+03,\n",
       "       3.11936776e+03, 4.89412828e+03, 7.06872220e+03, 9.64314952e+03,\n",
       "       1.26174102e+04, 1.59915044e+04, 1.97654319e+04, 2.39391928e+04,\n",
       "       2.85127872e+04, 3.34862149e+04, 3.88594761e+04, 4.46325706e+04,\n",
       "       5.08054985e+04, 5.73782599e+04, 6.43508546e+04, 7.17232828e+04,\n",
       "       7.94955444e+04, 8.76676393e+04, 9.62395677e+04, 1.05211329e+05,\n",
       "       1.14582925e+05])"
      ]
     },
     "execution_count": 16,
     "metadata": {},
     "output_type": "execute_result"
    }
   ],
   "source": [
    "derivative2 = np.diff(y2)/np.diff(x2)\n",
    "derivative2"
   ]
  },
  {
   "cell_type": "code",
   "execution_count": 17,
   "metadata": {},
   "outputs": [
    {
     "data": {
      "text/plain": [
       "[<matplotlib.lines.Line2D at 0x23151c67e20>]"
      ]
     },
     "execution_count": 17,
     "metadata": {},
     "output_type": "execute_result"
    },
    {
     "data": {
      "image/png": "[encoded data removed]",
      "text/plain": [
       "<Figure size 432x288 with 1 Axes>"
      ]
     },
     "metadata": {
      "needs_background": "light"
     },
     "output_type": "display_data"
    }
   ],
   "source": [
    "plt.plot(x2[:-1],derivative2)"
   ]
  },
  {
   "cell_type": "code",
   "execution_count": 21,
   "metadata": {},
   "outputs": [],
   "source": [
    "derivative2 = np.gradient(y2,x2)"
   ]
  }
 ],
 "metadata": {
  "interpreter": {
   "hash": "2cb429e42aadf9192a22141566cdc28102d449c233897aeac42bf86880738b14"
  },
  "kernelspec": {
   "display_name": "Python 3.9.7 ('base')",
   "language": "python",
   "name": "python3"
  },
  "language_info": {
   "codemirror_mode": {
    "name": "ipython",
    "version": 3
   },
   "file_extension": ".py",
   "mimetype": "text/x-python",
   "name": "python",
   "nbconvert_exporter": "python",
   "pygments_lexer": "ipython3",
   "version": "3.9.7"
  },
  "orig_nbformat": 4
 },
 "nbformat": 4,
 "nbformat_minor": 2
}
