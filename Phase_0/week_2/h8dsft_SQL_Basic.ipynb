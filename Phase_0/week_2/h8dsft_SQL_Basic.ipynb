{
 "cells": [
  {
   "cell_type": "markdown",
   "metadata": {},
   "source": [
    "\n",
    "# NON GRADED CHALLENGE SQL BASIC\n",
    "\n",
    "Muhammad Farhan Zahirsyah\n",
    "\n",
    "Batch 10"
   ]
  },
  {
   "cell_type": "markdown",
   "metadata": {},
   "source": [
    "---\n",
    "Langkah - langkah sebelum mengerjakan : \n",
    "- Gunakan dataset dari URL ini.\n",
    "- Buatlah table teachers dan courses. \n",
    "- Masukkan semua data pada masing-masing table.\n",
    "- Table teachers akan memiliki 15 data.\n",
    "- Table courses akan memiliki 20 data.\n",
    "\n",
    "\n",
    "Soal : Carilah dosen yang memiliki gaji tertinggi per masing-masing mata kuliah. Tampilkan semua atribut dosen dan semua atribut mata kuliahnya. Urutkan hasilnya berdasarkan nama mata kuliahnya secara ascending (A-Z).\n"
   ]
  },
  {
   "cell_type": "markdown",
   "metadata": {},
   "source": [
    "## ANSWER"
   ]
  },
  {
   "cell_type": "markdown",
   "metadata": {},
   "source": [
    "### CREATING TEACHERS TABLE"
   ]
  },
  {
   "cell_type": "code",
   "execution_count": null,
   "metadata": {},
   "outputs": [],
   "source": [
    "-- CREATING TEACHER TABLE\n",
    "CREATE TABLE teachers (\n",
    "    id INT NOT NULL PRIMARY KEY AUTO_INCREMENT,\n",
    "    first_name varchar(25) NOT NULL,\n",
    "    last_name varchar(50),\n",
    "    school varchar(50) NOT NULL,\n",
    "    hire_date date,\n",
    "    salary numeric\n",
    "    );"
   ]
  },
  {
   "cell_type": "code",
   "execution_count": null,
   "metadata": {},
   "outputs": [],
   "source": [
    "-- INSERT DATA TO TEACHER TABLE\n",
    "INSERT INTO teachers (id,first_name, last_name, school, hire_date, salary)\n",
    "    VALUES (1,'Janet', 'Smith', 'MIT', '2011-10-30', 36200),\n",
    "           (2,'Lee', 'Reynolds', 'MIT', '1993-05-22', 65000),\n",
    "           (3,'Samuel', 'Cole', 'Cambridge University', '2005-08-01', 43500),\n",
    "           (4,'Samantha', 'Bush', 'Cambridge University', '2011-10-30', 36200),\n",
    "           (5,'Betty', 'Diaz', 'Cambridge University', '2005-08-30', 43500),\n",
    "           (6,'Kathleen', 'Roush', 'MIT', '2010-10-22', 38500),\n",
    "           (7,'James', 'Diaz', 'Harvard University', '2003-07-18', 61000),\n",
    "           (8,'Zack', 'Smith', 'Harvard University', '2000-12-29', 55500),\n",
    "           (9,'Luis', 'Gonzales', 'Standford University', '2002-12-01', 50000),\n",
    "           (10,'Frank', 'Abbers', 'Standford University', '1999-01-30', 66000);"
   ]
  },
  {
   "cell_type": "code",
   "execution_count": null,
   "metadata": {},
   "outputs": [],
   "source": [
    "-- INSERT DATA TO TEACHER TABLE WITHOUT PARAMETER ID\n",
    "INSERT INTO teachers (first_name, last_name, school, hire_date, salary)\n",
    "    VALUES ('Samuel', 'Abbers', 'Standford University', '2006-01-30', 32000),\n",
    "           ('Jessica', 'Abbers', 'Standford University', '2005-01-30', 33000),\n",
    "           ('Tom', 'Massi', 'Harvard University', '1999-09-09', 39500),\n",
    "           ('Esteban', 'Brown', 'MIT', '2007-01-30', 36000),\n",
    "           ('Carlos', 'Alonso', 'Standford University', '2001-01-30', 44000);"
   ]
  },
  {
   "cell_type": "markdown",
   "metadata": {},
   "source": [
    "### CREATING COURSES TABLE"
   ]
  },
  {
   "cell_type": "code",
   "execution_count": null,
   "metadata": {},
   "outputs": [],
   "source": [
    "-- CREATING COURSES TABLE\n",
    "CREATE TABLE courses (\n",
    "    id INT NOT NULL PRIMARY KEY AUTO_INCREMENT,\n",
    "    name varchar(20),\n",
    "    teachers_id INT,\n",
    "    total_students INT\n",
    "    );"
   ]
  },
  {
   "cell_type": "code",
   "execution_count": null,
   "metadata": {},
   "outputs": [],
   "source": [
    "-- INSERT DATA TO COURSES TABLE\n",
    "INSERT INTO courses (name, teachers_id, total_students)\n",
    "    VALUES  ('Calculus', 2, 20),\n",
    "            ('Physics', 2, 10),\n",
    "            ('Calculus', 1, 30),\n",
    "            ('Computer Science', 1, 20),\n",
    "            ('Politic', 4, 15),\n",
    "            ('Algebra', 2, 10),\n",
    "            ('Algebra', 13, 30),\n",
    "            ('Computer Science', 10, 35),\n",
    "            ('Life Science', 11, 20),\n",
    "            ('Chemistry', 9, 22),\n",
    "            ('Chemistry', 8, 16),\n",
    "            ('Calculus', 5, 19),\n",
    "            ('Politic', 4, 17),\n",
    "            ('Biology', 6, 22),\n",
    "            ('Physics', 3, 29),\n",
    "            ('Biology', 8, 28),\n",
    "            ('Calculus', 12, 34),\n",
    "            ('Physics', 13, 34),\n",
    "            ('Biology', 14, 25),\n",
    "            ('Calculus', 15, 20);"
   ]
  },
  {
   "cell_type": "markdown",
   "metadata": {},
   "source": [
    "### Mencari dosen yang memiliki gaji tertinggi per masing-masing mata kuliah. kemudian tampilkan semua atribut dosen dan semua atribut mata kuliahnya. Urutkan hasilnya berdasarkan nama mata kuliahnya secara ascending (A-Z)."
   ]
  },
  {
   "cell_type": "code",
   "execution_count": null,
   "metadata": {},
   "outputs": [],
   "source": [
    "SELECT *\n",
    "FROM teachers\n",
    "join courses on teachers.id = courses.teachers_id\n",
    "WHERE (courses.name, teachers.salary) IN (\n",
    "  \tSELECT courses.name, max(teachers.salary)\n",
    "  \tFROM teachers\n",
    "  \tJOIN courses on teachers.id = courses.teachers_id\n",
    "  \tGROUP BY courses.name\t\n",
    ") ORDER by NAME ASC"
   ]
  }
 ],
 "metadata": {
  "interpreter": {
   "hash": "2cb429e42aadf9192a22141566cdc28102d449c233897aeac42bf86880738b14"
  },
  "kernelspec": {
   "display_name": "Python 3.9.7 ('base')",
   "language": "python",
   "name": "python3"
  },
  "language_info": {
   "codemirror_mode": {
    "name": "ipython",
    "version": 3
   },
   "file_extension": ".py",
   "mimetype": "text/x-python",
   "name": "python",
   "nbconvert_exporter": "python",
   "pygments_lexer": "ipython3",
   "version": "3.9.7"
  },
  "orig_nbformat": 4
 },
 "nbformat": 4,
 "nbformat_minor": 2
}
