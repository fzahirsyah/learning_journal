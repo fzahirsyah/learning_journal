{
 "cells": [
  {
   "cell_type": "markdown",
   "metadata": {},
   "source": [
    "\n",
    "# NON GRADED CHALLENGE CALCULUS 3\n",
    "Muhammad Farhan Zahirsyah\n",
    "\n",
    "Batch 10"
   ]
  },
  {
   "cell_type": "markdown",
   "metadata": {},
   "source": [
    "---\n",
    "## Assignment Instructions\n",
    "\n",
    "Carilah gradient dari sebuah fungsi:\n",
    "  - $3x+4y=5$"
   ]
  },
  {
   "cell_type": "code",
   "execution_count": 1,
   "metadata": {},
   "outputs": [],
   "source": [
    "import sympy as sy\n",
    "import numpy as np\n",
    "import matplotlib.pyplot as plt"
   ]
  },
  {
   "cell_type": "markdown",
   "metadata": {},
   "source": [
    "Cara Symbolic"
   ]
  },
  {
   "cell_type": "code",
   "execution_count": 2,
   "metadata": {},
   "outputs": [],
   "source": [
    "x,y = sy.symbols('x,y')"
   ]
  },
  {
   "cell_type": "code",
   "execution_count": 3,
   "metadata": {},
   "outputs": [
    {
     "data": {
      "text/latex": [
       "$\\displaystyle 3 x + 4 y - 5$"
      ],
      "text/plain": [
       "3*x + 4*y - 5"
      ]
     },
     "execution_count": 3,
     "metadata": {},
     "output_type": "execute_result"
    }
   ],
   "source": [
    "f = 3*x + 4*y - 5\n",
    "f"
   ]
  },
  {
   "cell_type": "markdown",
   "metadata": {},
   "source": [
    "Turunan parsial terhadap X"
   ]
  },
  {
   "cell_type": "code",
   "execution_count": 4,
   "metadata": {},
   "outputs": [
    {
     "data": {
      "text/latex": [
       "$\\displaystyle 3$"
      ],
      "text/plain": [
       "3"
      ]
     },
     "execution_count": 4,
     "metadata": {},
     "output_type": "execute_result"
    }
   ],
   "source": [
    "sy.diff(f,x)"
   ]
  },
  {
   "cell_type": "markdown",
   "metadata": {},
   "source": [
    "Turunan parsial terhadap y"
   ]
  },
  {
   "cell_type": "code",
   "execution_count": 5,
   "metadata": {},
   "outputs": [
    {
     "data": {
      "text/latex": [
       "$\\displaystyle 4$"
      ],
      "text/plain": [
       "4"
      ]
     },
     "execution_count": 5,
     "metadata": {},
     "output_type": "execute_result"
    }
   ],
   "source": [
    "sy.diff(f,y)"
   ]
  },
  {
   "cell_type": "markdown",
   "metadata": {},
   "source": [
    "Vektor gradien"
   ]
  },
  {
   "cell_type": "code",
   "execution_count": 6,
   "metadata": {},
   "outputs": [
    {
     "data": {
      "text/latex": [
       "$\\displaystyle \\left[\\begin{matrix}3 & 4\\end{matrix}\\right]$"
      ],
      "text/plain": [
       "[3, 4]"
      ]
     },
     "execution_count": 6,
     "metadata": {},
     "output_type": "execute_result"
    }
   ],
   "source": [
    "vektor_gradien = sy.tensor.array.derive_by_array(f,(x,y))\n",
    "vektor_gradien"
   ]
  },
  {
   "cell_type": "code",
   "execution_count": 7,
   "metadata": {},
   "outputs": [
    {
     "data": {
      "text/plain": [
       "sympy.tensor.array.dense_ndim_array.ImmutableDenseNDimArray"
      ]
     },
     "execution_count": 7,
     "metadata": {},
     "output_type": "execute_result"
    }
   ],
   "source": [
    "type(vektor_gradien)"
   ]
  },
  {
   "cell_type": "markdown",
   "metadata": {},
   "source": [
    "Hessian"
   ]
  },
  {
   "cell_type": "code",
   "execution_count": 8,
   "metadata": {},
   "outputs": [
    {
     "data": {
      "text/latex": [
       "$\\displaystyle 3 x + 4 y - 5$"
      ],
      "text/plain": [
       "3*x + 4*y - 5"
      ]
     },
     "execution_count": 8,
     "metadata": {},
     "output_type": "execute_result"
    }
   ],
   "source": [
    "f"
   ]
  },
  {
   "cell_type": "code",
   "execution_count": 9,
   "metadata": {},
   "outputs": [
    {
     "data": {
      "text/latex": [
       "$\\displaystyle \\left[\\begin{matrix}0 & 0\\\\0 & 0\\end{matrix}\\right]$"
      ],
      "text/plain": [
       "Matrix([\n",
       "[0, 0],\n",
       "[0, 0]])"
      ]
     },
     "execution_count": 9,
     "metadata": {},
     "output_type": "execute_result"
    }
   ],
   "source": [
    "sy.hessian(f,(x,y))"
   ]
  },
  {
   "cell_type": "markdown",
   "metadata": {},
   "source": [
    "Cara Numeric"
   ]
  },
  {
   "cell_type": "code",
   "execution_count": 28,
   "metadata": {},
   "outputs": [],
   "source": [
    "def f2(x,y):\n",
    "    return 3*x + 4*y - 5\n",
    "\n",
    "x = np.linspace(1,10)\n",
    "y = np.linspace(1,10)\n",
    "\n",
    "z=np.array( [[f2(i,j) for i in x] for j in y] )\n",
    "\n",
    "dx,dy=np.gradient(z)"
   ]
  },
  {
   "cell_type": "code",
   "execution_count": 29,
   "metadata": {},
   "outputs": [
    {
     "data": {
      "text/plain": [
       "array([[ 2.        ,  2.55102041,  3.10204082, ..., 27.89795918,\n",
       "        28.44897959, 29.        ],\n",
       "       [ 2.73469388,  3.28571429,  3.83673469, ..., 28.63265306,\n",
       "        29.18367347, 29.73469388],\n",
       "       [ 3.46938776,  4.02040816,  4.57142857, ..., 29.36734694,\n",
       "        29.91836735, 30.46938776],\n",
       "       ...,\n",
       "       [36.53061224, 37.08163265, 37.63265306, ..., 62.42857143,\n",
       "        62.97959184, 63.53061224],\n",
       "       [37.26530612, 37.81632653, 38.36734694, ..., 63.16326531,\n",
       "        63.71428571, 64.26530612],\n",
       "       [38.        , 38.55102041, 39.10204082, ..., 63.89795918,\n",
       "        64.44897959, 65.        ]])"
      ]
     },
     "execution_count": 29,
     "metadata": {},
     "output_type": "execute_result"
    }
   ],
   "source": [
    "z"
   ]
  },
  {
   "cell_type": "code",
   "execution_count": 30,
   "metadata": {},
   "outputs": [
    {
     "data": {
      "text/plain": [
       "array([[0.73469388, 0.73469388, 0.73469388, ..., 0.73469388, 0.73469388,\n",
       "        0.73469388],\n",
       "       [0.73469388, 0.73469388, 0.73469388, ..., 0.73469388, 0.73469388,\n",
       "        0.73469388],\n",
       "       [0.73469388, 0.73469388, 0.73469388, ..., 0.73469388, 0.73469388,\n",
       "        0.73469388],\n",
       "       ...,\n",
       "       [0.73469388, 0.73469388, 0.73469388, ..., 0.73469388, 0.73469388,\n",
       "        0.73469388],\n",
       "       [0.73469388, 0.73469388, 0.73469388, ..., 0.73469388, 0.73469388,\n",
       "        0.73469388],\n",
       "       [0.73469388, 0.73469388, 0.73469388, ..., 0.73469388, 0.73469388,\n",
       "        0.73469388]])"
      ]
     },
     "execution_count": 30,
     "metadata": {},
     "output_type": "execute_result"
    }
   ],
   "source": [
    "dx"
   ]
  },
  {
   "cell_type": "code",
   "execution_count": 31,
   "metadata": {},
   "outputs": [
    {
     "data": {
      "text/plain": [
       "array([[0.55102041, 0.55102041, 0.55102041, ..., 0.55102041, 0.55102041,\n",
       "        0.55102041],\n",
       "       [0.55102041, 0.55102041, 0.55102041, ..., 0.55102041, 0.55102041,\n",
       "        0.55102041],\n",
       "       [0.55102041, 0.55102041, 0.55102041, ..., 0.55102041, 0.55102041,\n",
       "        0.55102041],\n",
       "       ...,\n",
       "       [0.55102041, 0.55102041, 0.55102041, ..., 0.55102041, 0.55102041,\n",
       "        0.55102041],\n",
       "       [0.55102041, 0.55102041, 0.55102041, ..., 0.55102041, 0.55102041,\n",
       "        0.55102041],\n",
       "       [0.55102041, 0.55102041, 0.55102041, ..., 0.55102041, 0.55102041,\n",
       "        0.55102041]])"
      ]
     },
     "execution_count": 31,
     "metadata": {},
     "output_type": "execute_result"
    }
   ],
   "source": [
    "dy"
   ]
  },
  {
   "cell_type": "code",
   "execution_count": 32,
   "metadata": {},
   "outputs": [
    {
     "data": {
      "text/plain": [
       "Text(0.5, 1.0, 'dy')"
      ]
     },
     "execution_count": 32,
     "metadata": {},
     "output_type": "execute_result"
    },
    {
     "data": {
      "image/png": "[encoded data removed]",
      "text/plain": [
       "<Figure size 1224x360 with 3 Axes>"
      ]
     },
     "metadata": {
      "needs_background": "light"
     },
     "output_type": "display_data"
    }
   ],
   "source": [
    "fig, ax = plt.subplots(ncols=3,figsize=(17,5))\n",
    "ax[0].imshow(z)\n",
    "ax[0].set_title('f(x,y)')\n",
    "ax[1].imshow(dx)\n",
    "ax[1].set_title('dx')\n",
    "ax[2].imshow(dy)\n",
    "ax[2].set_title('dy')"
   ]
  },
  {
   "cell_type": "code",
   "execution_count": 7,
   "metadata": {},
   "outputs": [
    {
     "data": {
      "text/plain": [
       "['A', 'B', 'C', 'D', 'E', 'F', 'G']"
      ]
     },
     "execution_count": 7,
     "metadata": {},
     "output_type": "execute_result"
    }
   ],
   "source": [
    "import string\n",
    "list(string.ascii_uppercase)[0:7]"
   ]
  },
  {
   "cell_type": "code",
   "execution_count": null,
   "metadata": {},
   "outputs": [],
   "source": []
  }
 ],
 "metadata": {
  "interpreter": {
   "hash": "2cb429e42aadf9192a22141566cdc28102d449c233897aeac42bf86880738b14"
  },
  "kernelspec": {
   "display_name": "Python 3.9.7 ('base')",
   "language": "python",
   "name": "python3"
  },
  "language_info": {
   "codemirror_mode": {
    "name": "ipython",
    "version": 3
   },
   "file_extension": ".py",
   "mimetype": "text/x-python",
   "name": "python",
   "nbconvert_exporter": "python",
   "pygments_lexer": "ipython3",
   "version": "3.9.7"
  },
  "orig_nbformat": 4
 },
 "nbformat": 4,
 "nbformat_minor": 2
}
