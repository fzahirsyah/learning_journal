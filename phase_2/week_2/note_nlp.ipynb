{
 "cells": [
  {
   "cell_type": "markdown",
   "metadata": {},
   "source": [
    "# feature extraction"
   ]
  },
  {
   "cell_type": "code",
   "execution_count": 1,
   "metadata": {},
   "outputs": [],
   "source": [
    "corpus = [\n",
    "    'Saya mau beli apa hari ini?',\n",
    "    'aku ingin makan nasi goreng.',\n",
    "    'aku suka, makan nasi goreng',\n",
    "    'data yang saya :proeses adalah data teks',\n",
    "    'NLP adalah cabang =besar dalam data science',\n",
    "]"
   ]
  },
  {
   "cell_type": "code",
   "execution_count": 2,
   "metadata": {},
   "outputs": [],
   "source": [
    "from sklearn.feature_extraction.text import CountVectorizer\n",
    "import pandas as pd"
   ]
  },
  {
   "cell_type": "code",
   "execution_count": 3,
   "metadata": {},
   "outputs": [
    {
     "data": {
      "text/plain": [
       "CountVectorizer()"
      ]
     },
     "execution_count": 3,
     "metadata": {},
     "output_type": "execute_result"
    }
   ],
   "source": [
    "vect = CountVectorizer()\n",
    "vect.fit(corpus)"
   ]
  },
  {
   "cell_type": "code",
   "execution_count": 4,
   "metadata": {},
   "outputs": [
    {
     "data": {
      "text/plain": [
       "array(['adalah', 'aku', 'apa', 'beli', 'besar', 'cabang', 'dalam', 'data',\n",
       "       'goreng', 'hari', 'ingin', 'ini', 'makan', 'mau', 'nasi', 'nlp',\n",
       "       'proeses', 'saya', 'science', 'suka', 'teks', 'yang'], dtype=object)"
      ]
     },
     "execution_count": 4,
     "metadata": {},
     "output_type": "execute_result"
    }
   ],
   "source": [
    "vect.get_feature_names_out()"
   ]
  },
  {
   "cell_type": "code",
   "execution_count": 5,
   "metadata": {},
   "outputs": [
    {
     "name": "stdout",
     "output_type": "stream",
     "text": [
      "  (0, 2)\t1\n",
      "  (0, 3)\t1\n",
      "  (0, 9)\t1\n",
      "  (0, 11)\t1\n",
      "  (0, 13)\t1\n",
      "  (0, 17)\t1\n",
      "  (1, 1)\t1\n",
      "  (1, 8)\t1\n",
      "  (1, 10)\t1\n",
      "  (1, 12)\t1\n",
      "  (1, 14)\t1\n",
      "  (2, 1)\t1\n",
      "  (2, 8)\t1\n",
      "  (2, 12)\t1\n",
      "  (2, 14)\t1\n",
      "  (2, 19)\t1\n",
      "  (3, 0)\t1\n",
      "  (3, 7)\t2\n",
      "  (3, 16)\t1\n",
      "  (3, 17)\t1\n",
      "  (3, 20)\t1\n",
      "  (3, 21)\t1\n",
      "  (4, 0)\t1\n",
      "  (4, 4)\t1\n",
      "  (4, 5)\t1\n",
      "  (4, 6)\t1\n",
      "  (4, 7)\t1\n",
      "  (4, 15)\t1\n",
      "  (4, 18)\t1\n"
     ]
    }
   ],
   "source": [
    "corpus_vect = vect.transform(corpus)\n",
    "print(corpus_vect)"
   ]
  },
  {
   "cell_type": "code",
   "execution_count": 6,
   "metadata": {},
   "outputs": [
    {
     "data": {
      "text/plain": [
       "array([[0, 0, 1, 1, 0, 0, 0, 0, 0, 1, 0, 1, 0, 1, 0, 0, 0, 1, 0, 0, 0, 0],\n",
       "       [0, 1, 0, 0, 0, 0, 0, 0, 1, 0, 1, 0, 1, 0, 1, 0, 0, 0, 0, 0, 0, 0],\n",
       "       [0, 1, 0, 0, 0, 0, 0, 0, 1, 0, 0, 0, 1, 0, 1, 0, 0, 0, 0, 1, 0, 0],\n",
       "       [1, 0, 0, 0, 0, 0, 0, 2, 0, 0, 0, 0, 0, 0, 0, 0, 1, 1, 0, 0, 1, 1],\n",
       "       [1, 0, 0, 0, 1, 1, 1, 1, 0, 0, 0, 0, 0, 0, 0, 1, 0, 0, 1, 0, 0, 0]],\n",
       "      dtype=int64)"
      ]
     },
     "execution_count": 6,
     "metadata": {},
     "output_type": "execute_result"
    }
   ],
   "source": [
    "corpus_vect.toarray()"
   ]
  },
  {
   "cell_type": "code",
   "execution_count": 7,
   "metadata": {},
   "outputs": [
    {
     "data": {
      "text/html": [
       "<div>\n",
       "<style scoped>\n",
       "    .dataframe tbody tr th:only-of-type {\n",
       "        vertical-align: middle;\n",
       "    }\n",
       "\n",
       "    .dataframe tbody tr th {\n",
       "        vertical-align: top;\n",
       "    }\n",
       "\n",
       "    .dataframe thead th {\n",
       "        text-align: right;\n",
       "    }\n",
       "</style>\n",
       "<table border=\"1\" class=\"dataframe\">\n",
       "  <thead>\n",
       "    <tr style=\"text-align: right;\">\n",
       "      <th></th>\n",
       "      <th>adalah</th>\n",
       "      <th>aku</th>\n",
       "      <th>apa</th>\n",
       "      <th>beli</th>\n",
       "      <th>besar</th>\n",
       "      <th>cabang</th>\n",
       "      <th>dalam</th>\n",
       "      <th>data</th>\n",
       "      <th>goreng</th>\n",
       "      <th>hari</th>\n",
       "      <th>...</th>\n",
       "      <th>makan</th>\n",
       "      <th>mau</th>\n",
       "      <th>nasi</th>\n",
       "      <th>nlp</th>\n",
       "      <th>proeses</th>\n",
       "      <th>saya</th>\n",
       "      <th>science</th>\n",
       "      <th>suka</th>\n",
       "      <th>teks</th>\n",
       "      <th>yang</th>\n",
       "    </tr>\n",
       "  </thead>\n",
       "  <tbody>\n",
       "    <tr>\n",
       "      <th>0</th>\n",
       "      <td>0</td>\n",
       "      <td>0</td>\n",
       "      <td>1</td>\n",
       "      <td>1</td>\n",
       "      <td>0</td>\n",
       "      <td>0</td>\n",
       "      <td>0</td>\n",
       "      <td>0</td>\n",
       "      <td>0</td>\n",
       "      <td>1</td>\n",
       "      <td>...</td>\n",
       "      <td>0</td>\n",
       "      <td>1</td>\n",
       "      <td>0</td>\n",
       "      <td>0</td>\n",
       "      <td>0</td>\n",
       "      <td>1</td>\n",
       "      <td>0</td>\n",
       "      <td>0</td>\n",
       "      <td>0</td>\n",
       "      <td>0</td>\n",
       "    </tr>\n",
       "    <tr>\n",
       "      <th>1</th>\n",
       "      <td>0</td>\n",
       "      <td>1</td>\n",
       "      <td>0</td>\n",
       "      <td>0</td>\n",
       "      <td>0</td>\n",
       "      <td>0</td>\n",
       "      <td>0</td>\n",
       "      <td>0</td>\n",
       "      <td>1</td>\n",
       "      <td>0</td>\n",
       "      <td>...</td>\n",
       "      <td>1</td>\n",
       "      <td>0</td>\n",
       "      <td>1</td>\n",
       "      <td>0</td>\n",
       "      <td>0</td>\n",
       "      <td>0</td>\n",
       "      <td>0</td>\n",
       "      <td>0</td>\n",
       "      <td>0</td>\n",
       "      <td>0</td>\n",
       "    </tr>\n",
       "    <tr>\n",
       "      <th>2</th>\n",
       "      <td>0</td>\n",
       "      <td>1</td>\n",
       "      <td>0</td>\n",
       "      <td>0</td>\n",
       "      <td>0</td>\n",
       "      <td>0</td>\n",
       "      <td>0</td>\n",
       "      <td>0</td>\n",
       "      <td>1</td>\n",
       "      <td>0</td>\n",
       "      <td>...</td>\n",
       "      <td>1</td>\n",
       "      <td>0</td>\n",
       "      <td>1</td>\n",
       "      <td>0</td>\n",
       "      <td>0</td>\n",
       "      <td>0</td>\n",
       "      <td>0</td>\n",
       "      <td>1</td>\n",
       "      <td>0</td>\n",
       "      <td>0</td>\n",
       "    </tr>\n",
       "    <tr>\n",
       "      <th>3</th>\n",
       "      <td>1</td>\n",
       "      <td>0</td>\n",
       "      <td>0</td>\n",
       "      <td>0</td>\n",
       "      <td>0</td>\n",
       "      <td>0</td>\n",
       "      <td>0</td>\n",
       "      <td>2</td>\n",
       "      <td>0</td>\n",
       "      <td>0</td>\n",
       "      <td>...</td>\n",
       "      <td>0</td>\n",
       "      <td>0</td>\n",
       "      <td>0</td>\n",
       "      <td>0</td>\n",
       "      <td>1</td>\n",
       "      <td>1</td>\n",
       "      <td>0</td>\n",
       "      <td>0</td>\n",
       "      <td>1</td>\n",
       "      <td>1</td>\n",
       "    </tr>\n",
       "    <tr>\n",
       "      <th>4</th>\n",
       "      <td>1</td>\n",
       "      <td>0</td>\n",
       "      <td>0</td>\n",
       "      <td>0</td>\n",
       "      <td>1</td>\n",
       "      <td>1</td>\n",
       "      <td>1</td>\n",
       "      <td>1</td>\n",
       "      <td>0</td>\n",
       "      <td>0</td>\n",
       "      <td>...</td>\n",
       "      <td>0</td>\n",
       "      <td>0</td>\n",
       "      <td>0</td>\n",
       "      <td>1</td>\n",
       "      <td>0</td>\n",
       "      <td>0</td>\n",
       "      <td>1</td>\n",
       "      <td>0</td>\n",
       "      <td>0</td>\n",
       "      <td>0</td>\n",
       "    </tr>\n",
       "  </tbody>\n",
       "</table>\n",
       "<p>5 rows × 22 columns</p>\n",
       "</div>"
      ],
      "text/plain": [
       "   adalah  aku  apa  beli  besar  cabang  dalam  data  goreng  hari  ...  \\\n",
       "0       0    0    1     1      0       0      0     0       0     1  ...   \n",
       "1       0    1    0     0      0       0      0     0       1     0  ...   \n",
       "2       0    1    0     0      0       0      0     0       1     0  ...   \n",
       "3       1    0    0     0      0       0      0     2       0     0  ...   \n",
       "4       1    0    0     0      1       1      1     1       0     0  ...   \n",
       "\n",
       "   makan  mau  nasi  nlp  proeses  saya  science  suka  teks  yang  \n",
       "0      0    1     0    0        0     1        0     0     0     0  \n",
       "1      1    0     1    0        0     0        0     0     0     0  \n",
       "2      1    0     1    0        0     0        0     1     0     0  \n",
       "3      0    0     0    0        1     1        0     0     1     1  \n",
       "4      0    0     0    1        0     0        1     0     0     0  \n",
       "\n",
       "[5 rows x 22 columns]"
      ]
     },
     "execution_count": 7,
     "metadata": {},
     "output_type": "execute_result"
    }
   ],
   "source": [
    "pd.DataFrame(corpus_vect.toarray(), columns=vect.get_feature_names_out())"
   ]
  },
  {
   "cell_type": "code",
   "execution_count": 8,
   "metadata": {},
   "outputs": [
    {
     "name": "stdout",
     "output_type": "stream",
     "text": [
      "['Saya mau beli apa hari ini?', 'aku ingin makan nasi goreng.', 'aku suka, makan nasi goreng', 'data yang saya :proeses adalah data teks', 'NLP adalah cabang =besar dalam data science']\n"
     ]
    }
   ],
   "source": [
    "print(corpus)"
   ]
  },
  {
   "cell_type": "markdown",
   "metadata": {},
   "source": [
    "## Pemodelan machine learning"
   ]
  },
  {
   "cell_type": "code",
   "execution_count": 11,
   "metadata": {},
   "outputs": [],
   "source": [
    "import pandas as pd\n",
    "from sklearn.feature_extraction.text import CountVectorizer\n",
    "from sklearn.model_selection import train_test_split\n",
    "from sklearn.naive_bayes import MultinomialNB\n",
    "from sklearn.metrics import classification_report\n",
    "from Sastrawi.StopWordRemover.StopWordRemoverFactory import StopWordRemoverFactory"
   ]
  },
  {
   "cell_type": "code",
   "execution_count": 12,
   "metadata": {},
   "outputs": [],
   "source": [
    "df = pd.read_csv('data/dataset_sms_spam _v1.csv')"
   ]
  },
  {
   "cell_type": "code",
   "execution_count": 13,
   "metadata": {},
   "outputs": [
    {
     "data": {
      "text/html": [
       "<div>\n",
       "<style scoped>\n",
       "    .dataframe tbody tr th:only-of-type {\n",
       "        vertical-align: middle;\n",
       "    }\n",
       "\n",
       "    .dataframe tbody tr th {\n",
       "        vertical-align: top;\n",
       "    }\n",
       "\n",
       "    .dataframe thead th {\n",
       "        text-align: right;\n",
       "    }\n",
       "</style>\n",
       "<table border=\"1\" class=\"dataframe\">\n",
       "  <thead>\n",
       "    <tr style=\"text-align: right;\">\n",
       "      <th></th>\n",
       "      <th>Teks</th>\n",
       "      <th>label</th>\n",
       "    </tr>\n",
       "  </thead>\n",
       "  <tbody>\n",
       "    <tr>\n",
       "      <th>0</th>\n",
       "      <td>[PROMO] Beli paket Flash mulai 1GB di MY TELKO...</td>\n",
       "      <td>2</td>\n",
       "    </tr>\n",
       "    <tr>\n",
       "      <th>1</th>\n",
       "      <td>2.5 GB/30 hari hanya Rp 35 Ribu Spesial buat A...</td>\n",
       "      <td>2</td>\n",
       "    </tr>\n",
       "    <tr>\n",
       "      <th>2</th>\n",
       "      <td>2016-07-08 11:47:11.Plg Yth, sisa kuota Flash ...</td>\n",
       "      <td>2</td>\n",
       "    </tr>\n",
       "    <tr>\n",
       "      <th>3</th>\n",
       "      <td>2016-08-07 11:29:47.Plg Yth, sisa kuota Flash ...</td>\n",
       "      <td>2</td>\n",
       "    </tr>\n",
       "    <tr>\n",
       "      <th>4</th>\n",
       "      <td>4.5GB/30 hari hanya Rp 55 Ribu Spesial buat an...</td>\n",
       "      <td>2</td>\n",
       "    </tr>\n",
       "  </tbody>\n",
       "</table>\n",
       "</div>"
      ],
      "text/plain": [
       "                                                Teks  label\n",
       "0  [PROMO] Beli paket Flash mulai 1GB di MY TELKO...      2\n",
       "1  2.5 GB/30 hari hanya Rp 35 Ribu Spesial buat A...      2\n",
       "2  2016-07-08 11:47:11.Plg Yth, sisa kuota Flash ...      2\n",
       "3  2016-08-07 11:29:47.Plg Yth, sisa kuota Flash ...      2\n",
       "4  4.5GB/30 hari hanya Rp 55 Ribu Spesial buat an...      2"
      ]
     },
     "execution_count": 13,
     "metadata": {},
     "output_type": "execute_result"
    }
   ],
   "source": [
    "df.head()"
   ]
  },
  {
   "cell_type": "code",
   "execution_count": 14,
   "metadata": {},
   "outputs": [
    {
     "data": {
      "text/html": [
       "<div>\n",
       "<style scoped>\n",
       "    .dataframe tbody tr th:only-of-type {\n",
       "        vertical-align: middle;\n",
       "    }\n",
       "\n",
       "    .dataframe tbody tr th {\n",
       "        vertical-align: top;\n",
       "    }\n",
       "\n",
       "    .dataframe thead th {\n",
       "        text-align: right;\n",
       "    }\n",
       "</style>\n",
       "<table border=\"1\" class=\"dataframe\">\n",
       "  <thead>\n",
       "    <tr style=\"text-align: right;\">\n",
       "      <th></th>\n",
       "      <th>Teks</th>\n",
       "      <th>label</th>\n",
       "    </tr>\n",
       "  </thead>\n",
       "  <tbody>\n",
       "    <tr>\n",
       "      <th>0</th>\n",
       "      <td>[PROMO] Beli paket Flash mulai 1GB di MY TELKO...</td>\n",
       "      <td>2</td>\n",
       "    </tr>\n",
       "    <tr>\n",
       "      <th>1</th>\n",
       "      <td>2.5 GB/30 hari hanya Rp 35 Ribu Spesial buat A...</td>\n",
       "      <td>2</td>\n",
       "    </tr>\n",
       "    <tr>\n",
       "      <th>2</th>\n",
       "      <td>2016-07-08 11:47:11.Plg Yth, sisa kuota Flash ...</td>\n",
       "      <td>2</td>\n",
       "    </tr>\n",
       "    <tr>\n",
       "      <th>3</th>\n",
       "      <td>2016-08-07 11:29:47.Plg Yth, sisa kuota Flash ...</td>\n",
       "      <td>2</td>\n",
       "    </tr>\n",
       "    <tr>\n",
       "      <th>4</th>\n",
       "      <td>4.5GB/30 hari hanya Rp 55 Ribu Spesial buat an...</td>\n",
       "      <td>2</td>\n",
       "    </tr>\n",
       "    <tr>\n",
       "      <th>...</th>\n",
       "      <td>...</td>\n",
       "      <td>...</td>\n",
       "    </tr>\n",
       "    <tr>\n",
       "      <th>234</th>\n",
       "      <td>Yuk INTERNET-an NGEBUT utk akses FB, Twitter, ...</td>\n",
       "      <td>2</td>\n",
       "    </tr>\n",
       "    <tr>\n",
       "      <th>235</th>\n",
       "      <td>Yuk temen belanja di google play, mudah banget...</td>\n",
       "      <td>2</td>\n",
       "    </tr>\n",
       "    <tr>\n",
       "      <th>236</th>\n",
       "      <td>Yuk tetap gunakan Flash Volume Ultima utk upda...</td>\n",
       "      <td>2</td>\n",
       "    </tr>\n",
       "    <tr>\n",
       "      <th>237</th>\n",
       "      <td>Mau nonton bioskop gratis bersama keluarga? Ci...</td>\n",
       "      <td>2</td>\n",
       "    </tr>\n",
       "    <tr>\n",
       "      <th>238</th>\n",
       "      <td>Yuks internetan seru-seruan dg Flash Volume Ul...</td>\n",
       "      <td>2</td>\n",
       "    </tr>\n",
       "  </tbody>\n",
       "</table>\n",
       "<p>239 rows × 2 columns</p>\n",
       "</div>"
      ],
      "text/plain": [
       "                                                  Teks  label\n",
       "0    [PROMO] Beli paket Flash mulai 1GB di MY TELKO...      2\n",
       "1    2.5 GB/30 hari hanya Rp 35 Ribu Spesial buat A...      2\n",
       "2    2016-07-08 11:47:11.Plg Yth, sisa kuota Flash ...      2\n",
       "3    2016-08-07 11:29:47.Plg Yth, sisa kuota Flash ...      2\n",
       "4    4.5GB/30 hari hanya Rp 55 Ribu Spesial buat an...      2\n",
       "..                                                 ...    ...\n",
       "234  Yuk INTERNET-an NGEBUT utk akses FB, Twitter, ...      2\n",
       "235  Yuk temen belanja di google play, mudah banget...      2\n",
       "236  Yuk tetap gunakan Flash Volume Ultima utk upda...      2\n",
       "237  Mau nonton bioskop gratis bersama keluarga? Ci...      2\n",
       "238  Yuks internetan seru-seruan dg Flash Volume Ul...      2\n",
       "\n",
       "[239 rows x 2 columns]"
      ]
     },
     "execution_count": 14,
     "metadata": {},
     "output_type": "execute_result"
    }
   ],
   "source": [
    "df[df['label']==2]"
   ]
  },
  {
   "cell_type": "code",
   "execution_count": 15,
   "metadata": {},
   "outputs": [],
   "source": [
    "df.replace({'label': {0:'sms biasa',1:'sms penipuan',2:'sms operator'}}, inplace=True)"
   ]
  },
  {
   "cell_type": "code",
   "execution_count": 16,
   "metadata": {},
   "outputs": [
    {
     "data": {
      "text/html": [
       "<div>\n",
       "<style scoped>\n",
       "    .dataframe tbody tr th:only-of-type {\n",
       "        vertical-align: middle;\n",
       "    }\n",
       "\n",
       "    .dataframe tbody tr th {\n",
       "        vertical-align: top;\n",
       "    }\n",
       "\n",
       "    .dataframe thead th {\n",
       "        text-align: right;\n",
       "    }\n",
       "</style>\n",
       "<table border=\"1\" class=\"dataframe\">\n",
       "  <thead>\n",
       "    <tr style=\"text-align: right;\">\n",
       "      <th></th>\n",
       "      <th>Teks</th>\n",
       "      <th>label</th>\n",
       "    </tr>\n",
       "  </thead>\n",
       "  <tbody>\n",
       "    <tr>\n",
       "      <th>0</th>\n",
       "      <td>[PROMO] Beli paket Flash mulai 1GB di MY TELKO...</td>\n",
       "      <td>sms operator</td>\n",
       "    </tr>\n",
       "    <tr>\n",
       "      <th>1</th>\n",
       "      <td>2.5 GB/30 hari hanya Rp 35 Ribu Spesial buat A...</td>\n",
       "      <td>sms operator</td>\n",
       "    </tr>\n",
       "    <tr>\n",
       "      <th>2</th>\n",
       "      <td>2016-07-08 11:47:11.Plg Yth, sisa kuota Flash ...</td>\n",
       "      <td>sms operator</td>\n",
       "    </tr>\n",
       "    <tr>\n",
       "      <th>3</th>\n",
       "      <td>2016-08-07 11:29:47.Plg Yth, sisa kuota Flash ...</td>\n",
       "      <td>sms operator</td>\n",
       "    </tr>\n",
       "    <tr>\n",
       "      <th>4</th>\n",
       "      <td>4.5GB/30 hari hanya Rp 55 Ribu Spesial buat an...</td>\n",
       "      <td>sms operator</td>\n",
       "    </tr>\n",
       "  </tbody>\n",
       "</table>\n",
       "</div>"
      ],
      "text/plain": [
       "                                                Teks         label\n",
       "0  [PROMO] Beli paket Flash mulai 1GB di MY TELKO...  sms operator\n",
       "1  2.5 GB/30 hari hanya Rp 35 Ribu Spesial buat A...  sms operator\n",
       "2  2016-07-08 11:47:11.Plg Yth, sisa kuota Flash ...  sms operator\n",
       "3  2016-08-07 11:29:47.Plg Yth, sisa kuota Flash ...  sms operator\n",
       "4  4.5GB/30 hari hanya Rp 55 Ribu Spesial buat an...  sms operator"
      ]
     },
     "execution_count": 16,
     "metadata": {},
     "output_type": "execute_result"
    }
   ],
   "source": [
    "df.head()"
   ]
  },
  {
   "cell_type": "code",
   "execution_count": 17,
   "metadata": {},
   "outputs": [
    {
     "data": {
      "text/plain": [
       "(1143, 2)"
      ]
     },
     "execution_count": 17,
     "metadata": {},
     "output_type": "execute_result"
    }
   ],
   "source": [
    "df.shape"
   ]
  },
  {
   "cell_type": "code",
   "execution_count": 18,
   "metadata": {},
   "outputs": [
    {
     "data": {
      "text/plain": [
       "<AxesSubplot:>"
      ]
     },
     "execution_count": 18,
     "metadata": {},
     "output_type": "execute_result"
    },
    {
     "data": {
      "image/png": "[encoded data removed]",
      "text/plain": [
       "<Figure size 432x288 with 1 Axes>"
      ]
     },
     "metadata": {
      "needs_background": "light"
     },
     "output_type": "display_data"
    }
   ],
   "source": [
    "import matplotlib.pyplot as plt\n",
    "\n",
    "df.label.value_counts().plot(kind='bar')"
   ]
  },
  {
   "cell_type": "code",
   "execution_count": 19,
   "metadata": {},
   "outputs": [],
   "source": [
    "x_train, x_test, y_train, y_test = train_test_split(df['Teks'], df['label'], test_size=0.15, random_state=46, stratify=df['label'])"
   ]
  },
  {
   "cell_type": "code",
   "execution_count": 20,
   "metadata": {},
   "outputs": [],
   "source": [
    "stp = StopWordRemoverFactory().get_stop_words()\n"
   ]
  },
  {
   "cell_type": "code",
   "execution_count": 21,
   "metadata": {},
   "outputs": [],
   "source": [
    "# vektorisasi\n",
    "vect = CountVectorizer(stop_words=stp)\n",
    "\n",
    "# fitting\n",
    "x_train_vec = vect.fit_transform(x_train)\n",
    "x_test_vec = vect.transform(x_test)"
   ]
  },
  {
   "cell_type": "code",
   "execution_count": 22,
   "metadata": {},
   "outputs": [
    {
     "data": {
      "text/plain": [
       "<971x4432 sparse matrix of type '<class 'numpy.int64'>'\n",
       "\twith 14192 stored elements in Compressed Sparse Row format>"
      ]
     },
     "execution_count": 22,
     "metadata": {},
     "output_type": "execute_result"
    }
   ],
   "source": [
    "x_train_vec"
   ]
  },
  {
   "cell_type": "code",
   "execution_count": 23,
   "metadata": {},
   "outputs": [
    {
     "data": {
      "text/plain": [
       "<172x4432 sparse matrix of type '<class 'numpy.int64'>'\n",
       "\twith 2046 stored elements in Compressed Sparse Row format>"
      ]
     },
     "execution_count": 23,
     "metadata": {},
     "output_type": "execute_result"
    }
   ],
   "source": [
    "x_test_vec"
   ]
  },
  {
   "cell_type": "code",
   "execution_count": 24,
   "metadata": {},
   "outputs": [
    {
     "data": {
      "text/plain": [
       "MultinomialNB()"
      ]
     },
     "execution_count": 24,
     "metadata": {},
     "output_type": "execute_result"
    }
   ],
   "source": [
    "# modeling\n",
    "model = MultinomialNB()\n",
    "model.fit(x_train_vec, y_train)\n"
   ]
  },
  {
   "cell_type": "code",
   "execution_count": 25,
   "metadata": {},
   "outputs": [
    {
     "data": {
      "text/plain": [
       "RandomForestClassifier(criterion='entropy')"
      ]
     },
     "execution_count": 25,
     "metadata": {},
     "output_type": "execute_result"
    }
   ],
   "source": [
    "from sklearn.ensemble import RandomForestClassifier\n",
    "\n",
    "model_rf = RandomForestClassifier(n_estimators=100,criterion='entropy')\n",
    "model_rf.fit(x_train_vec, y_train)"
   ]
  },
  {
   "cell_type": "code",
   "execution_count": 26,
   "metadata": {},
   "outputs": [],
   "source": [
    "# evaluasi\n",
    "y_pred = model.predict(x_test_vec)\n",
    "y_pred_rf = model_rf.predict(x_test_vec)"
   ]
  },
  {
   "cell_type": "code",
   "execution_count": 27,
   "metadata": {},
   "outputs": [
    {
     "name": "stdout",
     "output_type": "stream",
     "text": [
      "              precision    recall  f1-score   support\n",
      "\n",
      "   sms biasa       1.00      0.93      0.96        86\n",
      "sms operator       0.84      1.00      0.91        36\n",
      "sms penipuan       0.96      0.94      0.95        50\n",
      "\n",
      "    accuracy                           0.95       172\n",
      "   macro avg       0.93      0.96      0.94       172\n",
      "weighted avg       0.95      0.95      0.95       172\n",
      "\n",
      "              precision    recall  f1-score   support\n",
      "\n",
      "   sms biasa       0.93      0.94      0.94        86\n",
      "sms operator       0.84      0.89      0.86        36\n",
      "sms penipuan       0.94      0.88      0.91        50\n",
      "\n",
      "    accuracy                           0.91       172\n",
      "   macro avg       0.90      0.90      0.90       172\n",
      "weighted avg       0.91      0.91      0.91       172\n",
      "\n"
     ]
    }
   ],
   "source": [
    "print(classification_report(y_test, y_pred))\n",
    "print(classification_report(y_test, y_pred_rf))"
   ]
  },
  {
   "cell_type": "code",
   "execution_count": 28,
   "metadata": {},
   "outputs": [
    {
     "name": "stdout",
     "output_type": "stream",
     "text": [
      "['sms biasa']\n"
     ]
    }
   ],
   "source": [
    "sms_baru = [\"selamat ulang taun han, semoga panjang umur\"]\n",
    "sms_baru_vect = vect.transform(sms_baru)\n",
    "res = model.predict(sms_baru_vect)\n",
    "print(res)"
   ]
  },
  {
   "cell_type": "code",
   "execution_count": 29,
   "metadata": {},
   "outputs": [],
   "source": [
    "res2 = model.predict_proba(sms_baru_vect)"
   ]
  },
  {
   "cell_type": "code",
   "execution_count": 30,
   "metadata": {},
   "outputs": [
    {
     "name": "stdout",
     "output_type": "stream",
     "text": [
      "0.7407755908558674\n",
      "0\n"
     ]
    }
   ],
   "source": [
    "import numpy as np\n",
    "print(np.max(res2))\n",
    "print(np.argmax(res2))"
   ]
  },
  {
   "cell_type": "code",
   "execution_count": null,
   "metadata": {},
   "outputs": [],
   "source": []
  },
  {
   "cell_type": "markdown",
   "metadata": {},
   "source": [
    "## Kelas siang"
   ]
  },
  {
   "cell_type": "markdown",
   "metadata": {},
   "source": [
    "# model deep learning"
   ]
  },
  {
   "cell_type": "code",
   "execution_count": 116,
   "metadata": {},
   "outputs": [],
   "source": [
    "import pandas as pd\n",
    "from sklearn.model_selection import train_test_split\n",
    "from sklearn.feature_extraction.text import CountVectorizer\n",
    "from sklearn.naive_bayes import MultinomialNB"
   ]
  },
  {
   "cell_type": "code",
   "execution_count": 117,
   "metadata": {},
   "outputs": [
    {
     "data": {
      "text/html": [
       "<div>\n",
       "<style scoped>\n",
       "    .dataframe tbody tr th:only-of-type {\n",
       "        vertical-align: middle;\n",
       "    }\n",
       "\n",
       "    .dataframe tbody tr th {\n",
       "        vertical-align: top;\n",
       "    }\n",
       "\n",
       "    .dataframe thead th {\n",
       "        text-align: right;\n",
       "    }\n",
       "</style>\n",
       "<table border=\"1\" class=\"dataframe\">\n",
       "  <thead>\n",
       "    <tr style=\"text-align: right;\">\n",
       "      <th></th>\n",
       "      <th>Teks</th>\n",
       "      <th>label</th>\n",
       "    </tr>\n",
       "  </thead>\n",
       "  <tbody>\n",
       "    <tr>\n",
       "      <th>0</th>\n",
       "      <td>[PROMO] Beli paket Flash mulai 1GB di MY TELKO...</td>\n",
       "      <td>2</td>\n",
       "    </tr>\n",
       "    <tr>\n",
       "      <th>1</th>\n",
       "      <td>2.5 GB/30 hari hanya Rp 35 Ribu Spesial buat A...</td>\n",
       "      <td>2</td>\n",
       "    </tr>\n",
       "    <tr>\n",
       "      <th>2</th>\n",
       "      <td>2016-07-08 11:47:11.Plg Yth, sisa kuota Flash ...</td>\n",
       "      <td>2</td>\n",
       "    </tr>\n",
       "    <tr>\n",
       "      <th>3</th>\n",
       "      <td>2016-08-07 11:29:47.Plg Yth, sisa kuota Flash ...</td>\n",
       "      <td>2</td>\n",
       "    </tr>\n",
       "    <tr>\n",
       "      <th>4</th>\n",
       "      <td>4.5GB/30 hari hanya Rp 55 Ribu Spesial buat an...</td>\n",
       "      <td>2</td>\n",
       "    </tr>\n",
       "  </tbody>\n",
       "</table>\n",
       "</div>"
      ],
      "text/plain": [
       "                                                Teks  label\n",
       "0  [PROMO] Beli paket Flash mulai 1GB di MY TELKO...      2\n",
       "1  2.5 GB/30 hari hanya Rp 35 Ribu Spesial buat A...      2\n",
       "2  2016-07-08 11:47:11.Plg Yth, sisa kuota Flash ...      2\n",
       "3  2016-08-07 11:29:47.Plg Yth, sisa kuota Flash ...      2\n",
       "4  4.5GB/30 hari hanya Rp 55 Ribu Spesial buat an...      2"
      ]
     },
     "execution_count": 117,
     "metadata": {},
     "output_type": "execute_result"
    }
   ],
   "source": [
    "df = pd.read_csv('data/dataset_sms_spam _v1.csv')\n",
    "df.head()"
   ]
  },
  {
   "cell_type": "code",
   "execution_count": 118,
   "metadata": {},
   "outputs": [],
   "source": [
    "train_df, test_df = train_test_split(df, test_size=0.15, random_state=46, stratify=df['label'])\n",
    "train_df, val_df = train_test_split(train_df, test_size=0.1, random_state=46, stratify=train_df['label'])"
   ]
  },
  {
   "cell_type": "code",
   "execution_count": 119,
   "metadata": {},
   "outputs": [
    {
     "name": "stdout",
     "output_type": "stream",
     "text": [
      "(873, 2)\n",
      "(98, 2)\n",
      "(172, 2)\n"
     ]
    }
   ],
   "source": [
    "print(train_df.shape)\n",
    "print(val_df.shape)\n",
    "print(test_df.shape)"
   ]
  },
  {
   "cell_type": "code",
   "execution_count": 120,
   "metadata": {},
   "outputs": [
    {
     "data": {
      "text/html": [
       "<div>\n",
       "<style scoped>\n",
       "    .dataframe tbody tr th:only-of-type {\n",
       "        vertical-align: middle;\n",
       "    }\n",
       "\n",
       "    .dataframe tbody tr th {\n",
       "        vertical-align: top;\n",
       "    }\n",
       "\n",
       "    .dataframe thead th {\n",
       "        text-align: right;\n",
       "    }\n",
       "</style>\n",
       "<table border=\"1\" class=\"dataframe\">\n",
       "  <thead>\n",
       "    <tr style=\"text-align: right;\">\n",
       "      <th></th>\n",
       "      <th>Teks</th>\n",
       "      <th>label</th>\n",
       "    </tr>\n",
       "  </thead>\n",
       "  <tbody>\n",
       "    <tr>\n",
       "      <th>42</th>\n",
       "      <td>Buktikan hematnya pakai argo tetap di Bandung ...</td>\n",
       "      <td>2</td>\n",
       "    </tr>\n",
       "    <tr>\n",
       "      <th>114</th>\n",
       "      <td>Lebih hemat langganan paket Internet MINGGUAN ...</td>\n",
       "      <td>2</td>\n",
       "    </tr>\n",
       "    <tr>\n",
       "      <th>174</th>\n",
       "      <td>Plg yth,Mohon memberikan nilai kepuasan pengal...</td>\n",
       "      <td>2</td>\n",
       "    </tr>\n",
       "    <tr>\n",
       "      <th>129</th>\n",
       "      <td>Mau paket data 1.5GB buat SEBULAN Cuma 20ribua...</td>\n",
       "      <td>2</td>\n",
       "    </tr>\n",
       "    <tr>\n",
       "      <th>866</th>\n",
       "      <td>Kalo udah ad progres besok aja jam 2an kesini..</td>\n",
       "      <td>0</td>\n",
       "    </tr>\n",
       "  </tbody>\n",
       "</table>\n",
       "</div>"
      ],
      "text/plain": [
       "                                                  Teks  label\n",
       "42   Buktikan hematnya pakai argo tetap di Bandung ...      2\n",
       "114  Lebih hemat langganan paket Internet MINGGUAN ...      2\n",
       "174  Plg yth,Mohon memberikan nilai kepuasan pengal...      2\n",
       "129  Mau paket data 1.5GB buat SEBULAN Cuma 20ribua...      2\n",
       "866    Kalo udah ad progres besok aja jam 2an kesini..      0"
      ]
     },
     "execution_count": 120,
     "metadata": {},
     "output_type": "execute_result"
    }
   ],
   "source": [
    "train_df.sample(5)"
   ]
  },
  {
   "cell_type": "code",
   "execution_count": 121,
   "metadata": {},
   "outputs": [],
   "source": [
    "from tensorflow.keras.utils import to_categorical\n",
    "\n",
    "x_train, y_train = train_df['Teks'], train_df['label']\n",
    "x_val, y_val = val_df['Teks'], val_df['label']\n",
    "x_test, y_test = test_df['Teks'], test_df['label']\n",
    "\n",
    "y_train_ohe = to_categorical(y_train)\n",
    "y_val_ohe = to_categorical(y_val)\n",
    "y_test_ohe = to_categorical(y_test)\n"
   ]
  },
  {
   "cell_type": "code",
   "execution_count": 122,
   "metadata": {},
   "outputs": [],
   "source": [
    "import tensorflow as tf\n",
    "from tensorflow.keras.layers import TextVectorization"
   ]
  },
  {
   "cell_type": "code",
   "execution_count": 123,
   "metadata": {},
   "outputs": [
    {
     "data": {
      "text/plain": [
       "17"
      ]
     },
     "execution_count": 123,
     "metadata": {},
     "output_type": "execute_result"
    }
   ],
   "source": [
    "round(sum([len(i.split()) for i in x_train])/len(x_train))"
   ]
  },
  {
   "cell_type": "code",
   "execution_count": 124,
   "metadata": {},
   "outputs": [],
   "source": [
    "max_vocab_length = 3500\n",
    "max_length = 17\n",
    "\n",
    "text_vectorization = TextVectorization(max_tokens=max_vocab_length,\n",
    "                                        standardize=\"lower_and_strip_punctuation\",\n",
    "                                        split=\"whitespace\",\n",
    "                                        ngrams=None,\n",
    "                                        output_mode=\"int\",\n",
    "                                        output_sequence_length=max_length,\n",
    "                                        input_shape=(1,))\n"
   ]
  },
  {
   "cell_type": "code",
   "execution_count": 125,
   "metadata": {},
   "outputs": [],
   "source": [
    "text_vectorization.adapt(x_train)"
   ]
  },
  {
   "cell_type": "code",
   "execution_count": 126,
   "metadata": {},
   "outputs": [
    {
     "data": {
      "text/plain": [
       "<tf.Tensor: shape=(1, 17), dtype=int64, numpy=\n",
       "array([[33,  3, 85, 88,  1, 71,  0,  0,  0,  0,  0,  0,  0,  0,  0,  0,\n",
       "         0]], dtype=int64)>"
      ]
     },
     "execution_count": 126,
     "metadata": {},
     "output_type": "execute_result"
    }
   ],
   "source": [
    "# sms baru\n",
    "sms_baru = [\"selamat anda mendapatkan undian berhadiah mobil\"]\n",
    "text_vectorization([sms_baru])"
   ]
  },
  {
   "cell_type": "code",
   "execution_count": 127,
   "metadata": {},
   "outputs": [],
   "source": [
    "# embedding layer\n",
    "\n",
    "from tensorflow.keras.layers import Embedding\n",
    "\n",
    "embedding = Embedding(input_dim=max_vocab_length,\n",
    "                        output_dim=128,\n",
    "                        embeddings_initializer=\"uniform\",\n",
    "                        input_length=max_length,\n",
    "                        )"
   ]
  },
  {
   "cell_type": "code",
   "execution_count": 128,
   "metadata": {},
   "outputs": [
    {
     "data": {
      "text/plain": [
       "<tf.Tensor: shape=(128,), dtype=float32, numpy=\n",
       "array([-0.01997879,  0.00415457, -0.00488695,  0.01011198,  0.03096971,\n",
       "        0.04302377, -0.02977818,  0.01640861,  0.04311205, -0.02525045,\n",
       "       -0.01386625,  0.00140053,  0.00501411, -0.02368467,  0.03507564,\n",
       "       -0.04088489, -0.04555131, -0.04438898,  0.0235468 ,  0.02788803,\n",
       "       -0.01240102,  0.04862436, -0.04493449, -0.03464118, -0.00800793,\n",
       "        0.01923044,  0.0413064 , -0.02799189,  0.04892529,  0.00303364,\n",
       "       -0.01074654, -0.02064862,  0.03637559,  0.01357892,  0.02778946,\n",
       "        0.00627363, -0.03798189, -0.04553924,  0.03867967, -0.01449909,\n",
       "        0.03189648,  0.03129164, -0.04697654, -0.04983811, -0.04795078,\n",
       "       -0.01748908,  0.02438399, -0.00177912, -0.01903019, -0.04632026,\n",
       "        0.02974002, -0.01908355,  0.04893347,  0.01356775, -0.04339299,\n",
       "       -0.03917925,  0.03655717, -0.04380441,  0.04945334, -0.00982074,\n",
       "       -0.02026709,  0.00340364, -0.01474873, -0.01660464, -0.01581382,\n",
       "        0.03338436,  0.0338716 ,  0.01228795,  0.00899658,  0.0005666 ,\n",
       "       -0.02881556,  0.00201913, -0.02666823,  0.01505708, -0.00270063,\n",
       "        0.04750438,  0.00562421, -0.00881964, -0.0151247 , -0.03008462,\n",
       "        0.00512373,  0.01115105, -0.01245377,  0.01870579, -0.03708458,\n",
       "        0.04817457, -0.03043391,  0.00684146,  0.03270533, -0.02147348,\n",
       "       -0.04268846, -0.04815305, -0.02611616, -0.00577661, -0.04263656,\n",
       "        0.00224527, -0.02213662,  0.01641264, -0.00192901, -0.00898445,\n",
       "       -0.00435245,  0.01577059,  0.02729351, -0.01811781, -0.02906302,\n",
       "        0.03690172,  0.03073737,  0.04504463, -0.04463592, -0.03990066,\n",
       "       -0.03854913, -0.04151397, -0.01612727, -0.03413943, -0.00783256,\n",
       "        0.01372777, -0.01711299,  0.03159967,  0.04684471, -0.04196066,\n",
       "       -0.03740035, -0.03689903,  0.029023  ,  0.04369773, -0.02224153,\n",
       "       -0.02386335, -0.00606513, -0.01455859], dtype=float32)>"
      ]
     },
     "execution_count": 128,
     "metadata": {},
     "output_type": "execute_result"
    }
   ],
   "source": [
    "sms_baru = [\"selamat anda mendapatkan undian berhadiah mobil\"]\n",
    "emb_res = (embedding(text_vectorization([sms_baru])))\n",
    "emb_res[0][0]"
   ]
  },
  {
   "cell_type": "code",
   "execution_count": 129,
   "metadata": {},
   "outputs": [],
   "source": [
    "# fully connected layer\n",
    "\n",
    "from tensorflow.keras.layers import Dense, Dropout, Activation, GlobalAvgPool1D, Flatten, Input\n",
    "from tensorflow.keras.models import Model, Sequential"
   ]
  },
  {
   "cell_type": "code",
   "execution_count": 145,
   "metadata": {},
   "outputs": [],
   "source": [
    "model = Sequential()\n",
    "model.add(text_vectorization)\n",
    "model.add(embedding)\n",
    "model.add(GlobalAvgPool1D())\n",
    "model.add(Dropout(0.5))\n",
    "model.add(Dense(64, activation='relu'))\n",
    "model.add(Dropout(0.5))\n",
    "model.add(Dense(3, activation='softmax'))\n",
    "\n",
    "# inputs = Input(shape=(1,), dtype='string')\n",
    "# layer1 = text_vectorization(inputs)\n",
    "# layer2 = embedding(layer1)\n",
    "# layer3 = GlobalAvgPool1D()(layer2)\n",
    "# layer4 = Dense(32, activation='relu')(layer3)\n",
    "# out = Dense(3, activation='softmax')(layer4)\n",
    "# model = Model(inputs=inputs, outputs=out)\n",
    "\n",
    "model.compile(loss='categorical_crossentropy',\n",
    "                optimizer='adam',\n",
    "                metrics=['accuracy'])"
   ]
  },
  {
   "cell_type": "code",
   "execution_count": 146,
   "metadata": {},
   "outputs": [
    {
     "name": "stdout",
     "output_type": "stream",
     "text": [
      "Epoch 1/50\n",
      "28/28 [==============================] - 1s 17ms/step - loss: 0.7492 - accuracy: 0.7915 - val_loss: 0.4623 - val_accuracy: 0.8673\n",
      "Epoch 2/50\n",
      "28/28 [==============================] - 0s 16ms/step - loss: 0.2794 - accuracy: 0.9885 - val_loss: 0.2655 - val_accuracy: 0.9184\n",
      "Epoch 3/50\n",
      "28/28 [==============================] - 0s 12ms/step - loss: 0.1133 - accuracy: 0.9966 - val_loss: 0.2259 - val_accuracy: 0.9082\n",
      "Epoch 4/50\n",
      "28/28 [==============================] - 1s 24ms/step - loss: 0.0578 - accuracy: 0.9977 - val_loss: 0.2178 - val_accuracy: 0.9082\n",
      "Epoch 5/50\n",
      "28/28 [==============================] - 1s 18ms/step - loss: 0.0401 - accuracy: 1.0000 - val_loss: 0.2251 - val_accuracy: 0.9082\n",
      "Epoch 6/50\n",
      "28/28 [==============================] - 0s 15ms/step - loss: 0.0260 - accuracy: 1.0000 - val_loss: 0.2323 - val_accuracy: 0.9082\n",
      "Epoch 7/50\n",
      "28/28 [==============================] - 0s 13ms/step - loss: 0.0190 - accuracy: 1.0000 - val_loss: 0.2408 - val_accuracy: 0.9184\n",
      "Epoch 8/50\n",
      "28/28 [==============================] - 1s 21ms/step - loss: 0.0152 - accuracy: 0.9989 - val_loss: 0.2473 - val_accuracy: 0.9082\n",
      "Epoch 9/50\n",
      "28/28 [==============================] - 0s 13ms/step - loss: 0.0137 - accuracy: 0.9989 - val_loss: 0.2566 - val_accuracy: 0.9082\n",
      "Epoch 10/50\n",
      "28/28 [==============================] - 0s 10ms/step - loss: 0.0081 - accuracy: 1.0000 - val_loss: 0.2657 - val_accuracy: 0.9082\n",
      "Epoch 11/50\n",
      "28/28 [==============================] - 0s 11ms/step - loss: 0.0087 - accuracy: 0.9989 - val_loss: 0.2757 - val_accuracy: 0.9082\n",
      "Epoch 12/50\n",
      "28/28 [==============================] - 0s 7ms/step - loss: 0.0087 - accuracy: 1.0000 - val_loss: 0.2678 - val_accuracy: 0.9082\n",
      "Epoch 13/50\n",
      "28/28 [==============================] - 0s 7ms/step - loss: 0.0063 - accuracy: 1.0000 - val_loss: 0.2753 - val_accuracy: 0.9082\n",
      "Epoch 14/50\n",
      "28/28 [==============================] - 0s 8ms/step - loss: 0.0052 - accuracy: 1.0000 - val_loss: 0.2997 - val_accuracy: 0.9082\n",
      "Epoch 15/50\n",
      "28/28 [==============================] - 0s 10ms/step - loss: 0.0061 - accuracy: 1.0000 - val_loss: 0.3188 - val_accuracy: 0.8980\n",
      "Epoch 16/50\n",
      "28/28 [==============================] - 0s 10ms/step - loss: 0.0037 - accuracy: 1.0000 - val_loss: 0.3238 - val_accuracy: 0.8980\n",
      "Epoch 17/50\n",
      "28/28 [==============================] - 0s 9ms/step - loss: 0.0059 - accuracy: 0.9989 - val_loss: 0.3331 - val_accuracy: 0.9082\n",
      "Epoch 18/50\n",
      "28/28 [==============================] - 0s 11ms/step - loss: 0.0036 - accuracy: 1.0000 - val_loss: 0.3295 - val_accuracy: 0.9082\n",
      "Epoch 19/50\n",
      "28/28 [==============================] - 0s 9ms/step - loss: 0.0042 - accuracy: 1.0000 - val_loss: 0.3329 - val_accuracy: 0.9082\n",
      "Epoch 20/50\n",
      "28/28 [==============================] - 0s 9ms/step - loss: 0.0032 - accuracy: 1.0000 - val_loss: 0.3290 - val_accuracy: 0.9082\n",
      "Epoch 21/50\n",
      "28/28 [==============================] - 0s 9ms/step - loss: 0.0030 - accuracy: 1.0000 - val_loss: 0.3325 - val_accuracy: 0.9082\n",
      "Epoch 22/50\n",
      "28/28 [==============================] - 0s 11ms/step - loss: 0.0025 - accuracy: 1.0000 - val_loss: 0.3433 - val_accuracy: 0.9082\n",
      "Epoch 23/50\n",
      "28/28 [==============================] - 0s 11ms/step - loss: 0.0028 - accuracy: 1.0000 - val_loss: 0.3307 - val_accuracy: 0.9082\n",
      "Epoch 24/50\n",
      "28/28 [==============================] - 0s 16ms/step - loss: 0.0028 - accuracy: 1.0000 - val_loss: 0.3293 - val_accuracy: 0.9082\n",
      "Epoch 25/50\n",
      "28/28 [==============================] - 0s 10ms/step - loss: 0.0022 - accuracy: 1.0000 - val_loss: 0.3433 - val_accuracy: 0.9082\n",
      "Epoch 26/50\n",
      "28/28 [==============================] - 0s 9ms/step - loss: 0.0020 - accuracy: 1.0000 - val_loss: 0.3481 - val_accuracy: 0.9082\n",
      "Epoch 27/50\n",
      "28/28 [==============================] - 0s 10ms/step - loss: 0.0019 - accuracy: 1.0000 - val_loss: 0.3489 - val_accuracy: 0.9082\n",
      "Epoch 28/50\n",
      "28/28 [==============================] - 0s 14ms/step - loss: 0.0027 - accuracy: 1.0000 - val_loss: 0.3659 - val_accuracy: 0.9082\n",
      "Epoch 29/50\n",
      "28/28 [==============================] - 0s 11ms/step - loss: 0.0015 - accuracy: 1.0000 - val_loss: 0.3729 - val_accuracy: 0.9082\n",
      "Epoch 30/50\n",
      "28/28 [==============================] - 0s 16ms/step - loss: 0.0021 - accuracy: 1.0000 - val_loss: 0.3630 - val_accuracy: 0.9082\n",
      "Epoch 31/50\n",
      "28/28 [==============================] - 0s 13ms/step - loss: 0.0018 - accuracy: 1.0000 - val_loss: 0.3471 - val_accuracy: 0.9082\n",
      "Epoch 32/50\n",
      "28/28 [==============================] - 0s 11ms/step - loss: 0.0016 - accuracy: 1.0000 - val_loss: 0.3495 - val_accuracy: 0.9082\n",
      "Epoch 33/50\n",
      "28/28 [==============================] - 0s 12ms/step - loss: 0.0016 - accuracy: 1.0000 - val_loss: 0.3643 - val_accuracy: 0.9082\n",
      "Epoch 34/50\n",
      "28/28 [==============================] - 0s 10ms/step - loss: 0.0012 - accuracy: 1.0000 - val_loss: 0.3696 - val_accuracy: 0.9082\n",
      "Epoch 35/50\n",
      "28/28 [==============================] - 0s 9ms/step - loss: 0.0013 - accuracy: 1.0000 - val_loss: 0.3770 - val_accuracy: 0.9082\n",
      "Epoch 36/50\n",
      "28/28 [==============================] - 0s 15ms/step - loss: 0.0013 - accuracy: 1.0000 - val_loss: 0.3747 - val_accuracy: 0.9082\n",
      "Epoch 37/50\n",
      "28/28 [==============================] - 0s 13ms/step - loss: 9.3641e-04 - accuracy: 1.0000 - val_loss: 0.3731 - val_accuracy: 0.9082\n",
      "Epoch 38/50\n",
      "28/28 [==============================] - 0s 11ms/step - loss: 0.0016 - accuracy: 1.0000 - val_loss: 0.3656 - val_accuracy: 0.9082\n",
      "Epoch 39/50\n",
      "28/28 [==============================] - 0s 15ms/step - loss: 7.7557e-04 - accuracy: 1.0000 - val_loss: 0.3654 - val_accuracy: 0.9082\n",
      "Epoch 40/50\n",
      "28/28 [==============================] - 0s 10ms/step - loss: 9.1537e-04 - accuracy: 1.0000 - val_loss: 0.3700 - val_accuracy: 0.9082\n",
      "Epoch 41/50\n",
      "28/28 [==============================] - 0s 14ms/step - loss: 0.0014 - accuracy: 1.0000 - val_loss: 0.3901 - val_accuracy: 0.9082\n",
      "Epoch 42/50\n",
      "28/28 [==============================] - 0s 12ms/step - loss: 7.4475e-04 - accuracy: 1.0000 - val_loss: 0.4048 - val_accuracy: 0.9082\n",
      "Epoch 43/50\n",
      "28/28 [==============================] - 0s 10ms/step - loss: 0.0016 - accuracy: 1.0000 - val_loss: 0.4117 - val_accuracy: 0.9082\n",
      "Epoch 44/50\n",
      "28/28 [==============================] - 0s 9ms/step - loss: 0.0012 - accuracy: 1.0000 - val_loss: 0.4228 - val_accuracy: 0.9082\n",
      "Epoch 45/50\n",
      "28/28 [==============================] - 0s 13ms/step - loss: 4.4655e-04 - accuracy: 1.0000 - val_loss: 0.4361 - val_accuracy: 0.9082\n",
      "Epoch 46/50\n",
      "28/28 [==============================] - 1s 19ms/step - loss: 0.0010 - accuracy: 1.0000 - val_loss: 0.4347 - val_accuracy: 0.9082\n",
      "Epoch 47/50\n",
      "28/28 [==============================] - 0s 12ms/step - loss: 0.0011 - accuracy: 1.0000 - val_loss: 0.4418 - val_accuracy: 0.9082\n",
      "Epoch 48/50\n",
      "28/28 [==============================] - 0s 15ms/step - loss: 6.1536e-04 - accuracy: 1.0000 - val_loss: 0.4431 - val_accuracy: 0.9082\n",
      "Epoch 49/50\n",
      "28/28 [==============================] - 0s 9ms/step - loss: 5.5627e-04 - accuracy: 1.0000 - val_loss: 0.4389 - val_accuracy: 0.9082\n",
      "Epoch 50/50\n",
      "28/28 [==============================] - 0s 10ms/step - loss: 5.6787e-04 - accuracy: 1.0000 - val_loss: 0.4363 - val_accuracy: 0.9082\n"
     ]
    }
   ],
   "source": [
    "model_1_history = model.fit(x_train, y_train_ohe, epochs=50,validation_data=(x_val, y_val_ohe))"
   ]
  },
  {
   "cell_type": "code",
   "execution_count": 147,
   "metadata": {},
   "outputs": [
    {
     "data": {
      "text/plain": [
       "<AxesSubplot:>"
      ]
     },
     "execution_count": 147,
     "metadata": {},
     "output_type": "execute_result"
    },
    {
     "data": {
      "image/png": "[encoded data removed]",
      "text/plain": [
       "<Figure size 432x288 with 1 Axes>"
      ]
     },
     "metadata": {
      "needs_background": "light"
     },
     "output_type": "display_data"
    }
   ],
   "source": [
    "metrics = pd.DataFrame(model_1_history.history)\n",
    "metrics.plot()"
   ]
  },
  {
   "cell_type": "code",
   "execution_count": 150,
   "metadata": {},
   "outputs": [
    {
     "name": "stdout",
     "output_type": "stream",
     "text": [
      "6/6 [==============================] - 0s 7ms/step\n",
      "              precision    recall  f1-score   support\n",
      "\n",
      "           0       0.98      0.93      0.95        86\n",
      "           1       0.87      0.96      0.91        50\n",
      "           2       0.91      0.89      0.90        36\n",
      "\n",
      "    accuracy                           0.93       172\n",
      "   macro avg       0.92      0.93      0.92       172\n",
      "weighted avg       0.93      0.93      0.93       172\n",
      "\n"
     ]
    }
   ],
   "source": [
    "y_pred = model.predict(x_test)\n",
    "y_pred = np.argmax(y_pred, axis=1)\n",
    "print(classification_report(y_test, y_pred))"
   ]
  },
  {
   "cell_type": "code",
   "execution_count": 154,
   "metadata": {},
   "outputs": [],
   "source": [
    "# sms_baru = [\"selamat anda mendapatkan undian berhadiah mobil\",\n",
    "#             \"pesugihan halal, lunasi hutang anda,\",\n",
    "#             \"selamat ulang taun han, semoga panjang umur\"]\n",
    "\n",
    "# hasil = model.predict([sms_baru])\n",
    "# hasil.argmax(axis=1)\n",
    "\n"
   ]
  },
  {
   "cell_type": "code",
   "execution_count": 163,
   "metadata": {},
   "outputs": [
    {
     "name": "stdout",
     "output_type": "stream",
     "text": [
      "Epoch 1/50\n",
      "28/28 [==============================] - 4s 43ms/step - loss: 1.0065 - accuracy: 0.6289 - val_loss: 0.9547 - val_accuracy: 0.6735\n",
      "Epoch 2/50\n",
      "28/28 [==============================] - 1s 34ms/step - loss: 0.8365 - accuracy: 0.7675 - val_loss: 0.8400 - val_accuracy: 0.8163\n",
      "Epoch 3/50\n",
      "28/28 [==============================] - 1s 22ms/step - loss: 0.6797 - accuracy: 0.8328 - val_loss: 0.7686 - val_accuracy: 0.8469\n",
      "Epoch 4/50\n",
      "28/28 [==============================] - 1s 26ms/step - loss: 0.5975 - accuracy: 0.8121 - val_loss: 0.6562 - val_accuracy: 0.8469\n",
      "Epoch 5/50\n",
      "28/28 [==============================] - 1s 31ms/step - loss: 0.5207 - accuracy: 0.8053 - val_loss: 0.5858 - val_accuracy: 0.8776\n",
      "Epoch 6/50\n",
      "28/28 [==============================] - 1s 32ms/step - loss: 0.4809 - accuracy: 0.8282 - val_loss: 0.4883 - val_accuracy: 0.9184\n",
      "Epoch 7/50\n",
      "28/28 [==============================] - 1s 46ms/step - loss: 0.4290 - accuracy: 0.8522 - val_loss: 0.4465 - val_accuracy: 0.9286\n",
      "Epoch 8/50\n",
      "28/28 [==============================] - 1s 20ms/step - loss: 0.4259 - accuracy: 0.8362 - val_loss: 0.4208 - val_accuracy: 0.9286\n",
      "Epoch 9/50\n",
      "28/28 [==============================] - 1s 19ms/step - loss: 0.4212 - accuracy: 0.8305 - val_loss: 0.3695 - val_accuracy: 0.9388\n",
      "Epoch 10/50\n",
      "28/28 [==============================] - 1s 24ms/step - loss: 0.4042 - accuracy: 0.8385 - val_loss: 0.3645 - val_accuracy: 0.9388\n",
      "Epoch 11/50\n",
      "28/28 [==============================] - 1s 19ms/step - loss: 0.3951 - accuracy: 0.8408 - val_loss: 0.3818 - val_accuracy: 0.9286\n",
      "Epoch 12/50\n",
      "28/28 [==============================] - 1s 25ms/step - loss: 0.3511 - accuracy: 0.8488 - val_loss: 0.3553 - val_accuracy: 0.9388\n",
      "Epoch 13/50\n",
      "28/28 [==============================] - 1s 19ms/step - loss: 0.3666 - accuracy: 0.8419 - val_loss: 0.3758 - val_accuracy: 0.9388\n",
      "Epoch 14/50\n",
      "28/28 [==============================] - 1s 24ms/step - loss: 0.3753 - accuracy: 0.8259 - val_loss: 0.3332 - val_accuracy: 0.9286\n",
      "Epoch 15/50\n",
      "28/28 [==============================] - 1s 30ms/step - loss: 0.3273 - accuracy: 0.8534 - val_loss: 0.3242 - val_accuracy: 0.9286\n",
      "Epoch 16/50\n",
      "28/28 [==============================] - 1s 24ms/step - loss: 0.3191 - accuracy: 0.8557 - val_loss: 0.3246 - val_accuracy: 0.9286\n",
      "Epoch 17/50\n",
      "28/28 [==============================] - 1s 33ms/step - loss: 0.3018 - accuracy: 0.8603 - val_loss: 0.3308 - val_accuracy: 0.9388\n",
      "Epoch 18/50\n",
      "28/28 [==============================] - 1s 24ms/step - loss: 0.3026 - accuracy: 0.8614 - val_loss: 0.3343 - val_accuracy: 0.9388\n",
      "Epoch 19/50\n",
      "28/28 [==============================] - 1s 24ms/step - loss: 0.2930 - accuracy: 0.8477 - val_loss: 0.3310 - val_accuracy: 0.9388\n",
      "Epoch 20/50\n",
      "28/28 [==============================] - 1s 23ms/step - loss: 0.2907 - accuracy: 0.8568 - val_loss: 0.3376 - val_accuracy: 0.9490\n",
      "Epoch 21/50\n",
      "28/28 [==============================] - 0s 15ms/step - loss: 0.2932 - accuracy: 0.8545 - val_loss: 0.3429 - val_accuracy: 0.9490\n",
      "Epoch 22/50\n",
      "28/28 [==============================] - 0s 13ms/step - loss: 0.2799 - accuracy: 0.8637 - val_loss: 0.3426 - val_accuracy: 0.9388\n",
      "Epoch 23/50\n",
      "28/28 [==============================] - 0s 15ms/step - loss: 0.2851 - accuracy: 0.8648 - val_loss: 0.3391 - val_accuracy: 0.9388\n",
      "Epoch 24/50\n",
      "28/28 [==============================] - 0s 12ms/step - loss: 0.2560 - accuracy: 0.8900 - val_loss: 0.3413 - val_accuracy: 0.9388\n",
      "Epoch 25/50\n",
      "28/28 [==============================] - 1s 19ms/step - loss: 0.2851 - accuracy: 0.8568 - val_loss: 0.3459 - val_accuracy: 0.9490\n",
      "Epoch 26/50\n",
      "28/28 [==============================] - 1s 25ms/step - loss: 0.2415 - accuracy: 0.8855 - val_loss: 0.3524 - val_accuracy: 0.9388\n",
      "Epoch 27/50\n",
      "28/28 [==============================] - 1s 29ms/step - loss: 0.2834 - accuracy: 0.8557 - val_loss: 0.3561 - val_accuracy: 0.9388\n",
      "Epoch 28/50\n",
      "28/28 [==============================] - 1s 31ms/step - loss: 0.2719 - accuracy: 0.8625 - val_loss: 0.3643 - val_accuracy: 0.9286\n",
      "Epoch 29/50\n",
      "28/28 [==============================] - 1s 19ms/step - loss: 0.2509 - accuracy: 0.8832 - val_loss: 0.3725 - val_accuracy: 0.9388\n",
      "Epoch 30/50\n",
      "28/28 [==============================] - 1s 23ms/step - loss: 0.2420 - accuracy: 0.8809 - val_loss: 0.3771 - val_accuracy: 0.9388\n",
      "Epoch 31/50\n",
      "28/28 [==============================] - 1s 29ms/step - loss: 0.2628 - accuracy: 0.8660 - val_loss: 0.3917 - val_accuracy: 0.9286\n",
      "Epoch 32/50\n",
      "28/28 [==============================] - 0s 18ms/step - loss: 0.2391 - accuracy: 0.8740 - val_loss: 0.4000 - val_accuracy: 0.9388\n",
      "Epoch 33/50\n",
      "28/28 [==============================] - 0s 12ms/step - loss: 0.2186 - accuracy: 0.9015 - val_loss: 0.4102 - val_accuracy: 0.9388\n",
      "Epoch 34/50\n",
      "28/28 [==============================] - 0s 16ms/step - loss: 0.2390 - accuracy: 0.8809 - val_loss: 0.4131 - val_accuracy: 0.9388\n",
      "Epoch 35/50\n",
      "28/28 [==============================] - 1s 28ms/step - loss: 0.2307 - accuracy: 0.8832 - val_loss: 0.4251 - val_accuracy: 0.9286\n",
      "Epoch 36/50\n",
      "28/28 [==============================] - 1s 32ms/step - loss: 0.2333 - accuracy: 0.9141 - val_loss: 0.4356 - val_accuracy: 0.9286\n",
      "Epoch 37/50\n",
      "28/28 [==============================] - 1s 37ms/step - loss: 0.2466 - accuracy: 0.9118 - val_loss: 0.4435 - val_accuracy: 0.9286\n",
      "Epoch 38/50\n",
      "28/28 [==============================] - 1s 27ms/step - loss: 0.2173 - accuracy: 0.9072 - val_loss: 0.4558 - val_accuracy: 0.9388\n",
      "Epoch 39/50\n",
      "28/28 [==============================] - 1s 32ms/step - loss: 0.2403 - accuracy: 0.9152 - val_loss: 0.4723 - val_accuracy: 0.9286\n",
      "Epoch 40/50\n",
      "28/28 [==============================] - 1s 31ms/step - loss: 0.2111 - accuracy: 0.9118 - val_loss: 0.4804 - val_accuracy: 0.9388\n",
      "Epoch 41/50\n",
      "28/28 [==============================] - 1s 35ms/step - loss: 0.2114 - accuracy: 0.9118 - val_loss: 0.4876 - val_accuracy: 0.9388\n",
      "Epoch 42/50\n",
      "28/28 [==============================] - 1s 20ms/step - loss: 0.1898 - accuracy: 0.9336 - val_loss: 0.4980 - val_accuracy: 0.9388\n",
      "Epoch 43/50\n",
      "28/28 [==============================] - 1s 18ms/step - loss: 0.1961 - accuracy: 0.9221 - val_loss: 0.5070 - val_accuracy: 0.9286\n",
      "Epoch 44/50\n",
      "28/28 [==============================] - 1s 20ms/step - loss: 0.1912 - accuracy: 0.9336 - val_loss: 0.5078 - val_accuracy: 0.9388\n",
      "Epoch 45/50\n",
      "28/28 [==============================] - 1s 20ms/step - loss: 0.1824 - accuracy: 0.9221 - val_loss: 0.5154 - val_accuracy: 0.9388\n",
      "Epoch 46/50\n",
      "28/28 [==============================] - 0s 15ms/step - loss: 0.1884 - accuracy: 0.9187 - val_loss: 0.5175 - val_accuracy: 0.9388\n",
      "Epoch 47/50\n",
      "28/28 [==============================] - 1s 19ms/step - loss: 0.1882 - accuracy: 0.9164 - val_loss: 0.5227 - val_accuracy: 0.9388\n",
      "Epoch 48/50\n",
      "28/28 [==============================] - 1s 31ms/step - loss: 0.1979 - accuracy: 0.9198 - val_loss: 0.5348 - val_accuracy: 0.9388\n",
      "Epoch 49/50\n",
      "28/28 [==============================] - 1s 26ms/step - loss: 0.1955 - accuracy: 0.9187 - val_loss: 0.5492 - val_accuracy: 0.9388\n",
      "Epoch 50/50\n",
      "28/28 [==============================] - 0s 16ms/step - loss: 0.1968 - accuracy: 0.9210 - val_loss: 0.5616 - val_accuracy: 0.9490\n"
     ]
    }
   ],
   "source": [
    "from tensorflow.keras.layers import LSTM\n",
    "\n",
    "model_2 = Sequential()\n",
    "model_2.add(text_vectorization)\n",
    "model_2.add(embedding)\n",
    "model_2.add(Dropout(0.4))\n",
    "model_2.add(LSTM(2))\n",
    "model_2.add(Dropout(0.4))\n",
    "model_2.add(Dense(64, activation='relu'))\n",
    "model_2.add(Dense(3, activation='softmax'))\n",
    "\n",
    "\n",
    "model_2.compile(loss='categorical_crossentropy',\n",
    "                optimizer='adam',\n",
    "                metrics=['accuracy'])\n",
    "\n",
    "model_2_history = model_2.fit(x_train, y_train_ohe, epochs=50,validation_data=(x_val, y_val_ohe))"
   ]
  },
  {
   "cell_type": "code",
   "execution_count": 165,
   "metadata": {},
   "outputs": [
    {
     "data": {
      "text/plain": [
       "<AxesSubplot:>"
      ]
     },
     "execution_count": 165,
     "metadata": {},
     "output_type": "execute_result"
    },
    {
     "data": {
      "image/png": "[encoded data removed]",
      "text/plain": [
       "<Figure size 432x288 with 1 Axes>"
      ]
     },
     "metadata": {
      "needs_background": "light"
     },
     "output_type": "display_data"
    }
   ],
   "source": [
    "metrics2 = pd.DataFrame(model_2_history.history)\n",
    "metrics2.plot()"
   ]
  },
  {
   "cell_type": "code",
   "execution_count": 166,
   "metadata": {},
   "outputs": [
    {
     "name": "stdout",
     "output_type": "stream",
     "text": [
      "6/6 [==============================] - 1s 9ms/step\n",
      "              precision    recall  f1-score   support\n",
      "\n",
      "           0       0.89      0.93      0.91        86\n",
      "           1       0.94      0.88      0.91        50\n",
      "           2       0.91      0.89      0.90        36\n",
      "\n",
      "    accuracy                           0.91       172\n",
      "   macro avg       0.91      0.90      0.91       172\n",
      "weighted avg       0.91      0.91      0.91       172\n",
      "\n"
     ]
    }
   ],
   "source": [
    "y_pred2 = model_2.predict(x_test)\n",
    "y_pred2 = np.argmax(y_pred2, axis=1)\n",
    "print(classification_report(y_test, y_pred2))"
   ]
  },
  {
   "cell_type": "code",
   "execution_count": 178,
   "metadata": {},
   "outputs": [
    {
     "name": "stdout",
     "output_type": "stream",
     "text": [
      "Epoch 1/50\n",
      "28/28 [==============================] - 3s 40ms/step - loss: 1.0613 - accuracy: 0.5029 - val_loss: 1.0439 - val_accuracy: 0.5000\n",
      "Epoch 2/50\n",
      "28/28 [==============================] - 1s 18ms/step - loss: 1.0349 - accuracy: 0.5395 - val_loss: 1.0226 - val_accuracy: 0.5408\n",
      "Epoch 3/50\n",
      "28/28 [==============================] - 0s 15ms/step - loss: 1.0192 - accuracy: 0.5682 - val_loss: 1.0007 - val_accuracy: 0.6837\n",
      "Epoch 4/50\n",
      "28/28 [==============================] - 0s 13ms/step - loss: 0.9946 - accuracy: 0.5979 - val_loss: 0.9782 - val_accuracy: 0.6939\n",
      "Epoch 5/50\n",
      "28/28 [==============================] - 0s 16ms/step - loss: 0.9731 - accuracy: 0.6186 - val_loss: 0.9549 - val_accuracy: 0.6939\n",
      "Epoch 6/50\n",
      "28/28 [==============================] - 0s 15ms/step - loss: 0.9505 - accuracy: 0.6598 - val_loss: 0.9323 - val_accuracy: 0.6939\n",
      "Epoch 7/50\n",
      "28/28 [==============================] - 1s 18ms/step - loss: 0.9251 - accuracy: 0.6747 - val_loss: 0.9102 - val_accuracy: 0.6939\n",
      "Epoch 8/50\n",
      "28/28 [==============================] - 0s 15ms/step - loss: 0.8918 - accuracy: 0.6804 - val_loss: 0.8885 - val_accuracy: 0.6939\n",
      "Epoch 9/50\n",
      "28/28 [==============================] - 0s 18ms/step - loss: 0.8753 - accuracy: 0.6919 - val_loss: 0.8671 - val_accuracy: 0.6939\n",
      "Epoch 10/50\n",
      "28/28 [==============================] - 1s 20ms/step - loss: 0.8499 - accuracy: 0.6942 - val_loss: 0.8467 - val_accuracy: 0.6939\n",
      "Epoch 11/50\n",
      "28/28 [==============================] - 1s 22ms/step - loss: 0.8251 - accuracy: 0.7125 - val_loss: 0.8254 - val_accuracy: 0.6939\n",
      "Epoch 12/50\n",
      "28/28 [==============================] - 0s 12ms/step - loss: 0.8021 - accuracy: 0.7136 - val_loss: 0.8031 - val_accuracy: 0.7143\n",
      "Epoch 13/50\n",
      "28/28 [==============================] - 1s 28ms/step - loss: 0.7817 - accuracy: 0.7159 - val_loss: 0.7812 - val_accuracy: 0.7245\n",
      "Epoch 14/50\n",
      "28/28 [==============================] - 1s 26ms/step - loss: 0.7634 - accuracy: 0.7228 - val_loss: 0.7601 - val_accuracy: 0.7245\n",
      "Epoch 15/50\n",
      "28/28 [==============================] - 1s 19ms/step - loss: 0.7403 - accuracy: 0.7239 - val_loss: 0.7380 - val_accuracy: 0.7449\n",
      "Epoch 16/50\n",
      "28/28 [==============================] - 1s 20ms/step - loss: 0.7100 - accuracy: 0.7365 - val_loss: 0.7162 - val_accuracy: 0.7449\n",
      "Epoch 17/50\n",
      "28/28 [==============================] - 0s 13ms/step - loss: 0.6838 - accuracy: 0.7388 - val_loss: 0.6946 - val_accuracy: 0.7551\n",
      "Epoch 18/50\n",
      "28/28 [==============================] - 0s 15ms/step - loss: 0.6610 - accuracy: 0.7331 - val_loss: 0.6741 - val_accuracy: 0.7551\n",
      "Epoch 19/50\n",
      "28/28 [==============================] - 1s 25ms/step - loss: 0.6310 - accuracy: 0.7457 - val_loss: 0.6535 - val_accuracy: 0.7551\n",
      "Epoch 20/50\n",
      "28/28 [==============================] - 0s 16ms/step - loss: 0.6226 - accuracy: 0.7434 - val_loss: 0.6345 - val_accuracy: 0.7551\n",
      "Epoch 21/50\n",
      "28/28 [==============================] - 0s 13ms/step - loss: 0.5948 - accuracy: 0.7514 - val_loss: 0.6168 - val_accuracy: 0.7551\n",
      "Epoch 22/50\n",
      "28/28 [==============================] - 0s 17ms/step - loss: 0.5755 - accuracy: 0.7480 - val_loss: 0.5996 - val_accuracy: 0.7551\n",
      "Epoch 23/50\n",
      "28/28 [==============================] - 0s 13ms/step - loss: 0.5459 - accuracy: 0.7537 - val_loss: 0.5823 - val_accuracy: 0.7551\n",
      "Epoch 24/50\n",
      "28/28 [==============================] - 0s 15ms/step - loss: 0.5531 - accuracy: 0.7491 - val_loss: 0.5646 - val_accuracy: 0.7653\n",
      "Epoch 25/50\n",
      "28/28 [==============================] - 0s 14ms/step - loss: 0.5242 - accuracy: 0.7595 - val_loss: 0.5491 - val_accuracy: 0.7755\n",
      "Epoch 26/50\n",
      "28/28 [==============================] - 0s 12ms/step - loss: 0.5056 - accuracy: 0.7652 - val_loss: 0.5353 - val_accuracy: 0.7755\n",
      "Epoch 27/50\n",
      "28/28 [==============================] - 1s 19ms/step - loss: 0.5022 - accuracy: 0.7652 - val_loss: 0.5228 - val_accuracy: 0.7755\n",
      "Epoch 28/50\n",
      "28/28 [==============================] - 0s 17ms/step - loss: 0.4832 - accuracy: 0.7595 - val_loss: 0.5111 - val_accuracy: 0.7857\n",
      "Epoch 29/50\n",
      "28/28 [==============================] - 0s 18ms/step - loss: 0.4805 - accuracy: 0.7583 - val_loss: 0.5008 - val_accuracy: 0.7857\n",
      "Epoch 30/50\n",
      "28/28 [==============================] - 0s 17ms/step - loss: 0.4639 - accuracy: 0.7606 - val_loss: 0.4916 - val_accuracy: 0.7857\n",
      "Epoch 31/50\n",
      "28/28 [==============================] - 1s 18ms/step - loss: 0.4577 - accuracy: 0.7675 - val_loss: 0.4831 - val_accuracy: 0.7755\n",
      "Epoch 32/50\n",
      "28/28 [==============================] - 0s 14ms/step - loss: 0.4496 - accuracy: 0.7663 - val_loss: 0.4749 - val_accuracy: 0.7755\n",
      "Epoch 33/50\n",
      "28/28 [==============================] - 0s 15ms/step - loss: 0.4291 - accuracy: 0.7698 - val_loss: 0.4677 - val_accuracy: 0.7755\n",
      "Epoch 34/50\n",
      "28/28 [==============================] - 0s 13ms/step - loss: 0.4357 - accuracy: 0.7640 - val_loss: 0.4608 - val_accuracy: 0.7857\n",
      "Epoch 35/50\n",
      "28/28 [==============================] - 0s 16ms/step - loss: 0.4162 - accuracy: 0.7709 - val_loss: 0.4543 - val_accuracy: 0.7857\n",
      "Epoch 36/50\n",
      "28/28 [==============================] - 1s 20ms/step - loss: 0.4294 - accuracy: 0.7606 - val_loss: 0.4488 - val_accuracy: 0.7959\n",
      "Epoch 37/50\n",
      "28/28 [==============================] - 0s 16ms/step - loss: 0.3959 - accuracy: 0.7789 - val_loss: 0.4427 - val_accuracy: 0.7959\n",
      "Epoch 38/50\n",
      "28/28 [==============================] - 0s 17ms/step - loss: 0.4039 - accuracy: 0.7881 - val_loss: 0.4383 - val_accuracy: 0.7959\n",
      "Epoch 39/50\n",
      "28/28 [==============================] - 0s 13ms/step - loss: 0.3896 - accuracy: 0.7869 - val_loss: 0.4334 - val_accuracy: 0.8163\n",
      "Epoch 40/50\n",
      "28/28 [==============================] - 1s 25ms/step - loss: 0.3897 - accuracy: 0.7973 - val_loss: 0.4294 - val_accuracy: 0.8163\n",
      "Epoch 41/50\n",
      "28/28 [==============================] - 0s 17ms/step - loss: 0.3854 - accuracy: 0.7973 - val_loss: 0.4243 - val_accuracy: 0.8163\n",
      "Epoch 42/50\n",
      "28/28 [==============================] - 0s 16ms/step - loss: 0.3856 - accuracy: 0.7961 - val_loss: 0.4200 - val_accuracy: 0.8163\n",
      "Epoch 43/50\n",
      "28/28 [==============================] - 0s 15ms/step - loss: 0.3842 - accuracy: 0.7881 - val_loss: 0.4162 - val_accuracy: 0.8163\n",
      "Epoch 44/50\n",
      "28/28 [==============================] - 0s 14ms/step - loss: 0.3681 - accuracy: 0.7950 - val_loss: 0.4118 - val_accuracy: 0.8163\n",
      "Epoch 45/50\n",
      "28/28 [==============================] - 0s 16ms/step - loss: 0.3719 - accuracy: 0.7892 - val_loss: 0.4090 - val_accuracy: 0.8265\n",
      "Epoch 46/50\n",
      "28/28 [==============================] - 1s 19ms/step - loss: 0.3650 - accuracy: 0.8064 - val_loss: 0.4057 - val_accuracy: 0.8265\n",
      "Epoch 47/50\n",
      "28/28 [==============================] - 0s 13ms/step - loss: 0.3535 - accuracy: 0.8247 - val_loss: 0.4020 - val_accuracy: 0.8265\n",
      "Epoch 48/50\n",
      "28/28 [==============================] - 0s 14ms/step - loss: 0.3747 - accuracy: 0.8087 - val_loss: 0.3990 - val_accuracy: 0.8163\n",
      "Epoch 49/50\n",
      "28/28 [==============================] - 1s 19ms/step - loss: 0.3650 - accuracy: 0.8133 - val_loss: 0.3960 - val_accuracy: 0.8061\n",
      "Epoch 50/50\n",
      "28/28 [==============================] - 1s 19ms/step - loss: 0.3485 - accuracy: 0.8247 - val_loss: 0.3935 - val_accuracy: 0.8163\n"
     ]
    }
   ],
   "source": [
    "from tensorflow.keras.layers import GRU\n",
    "\n",
    "model_3 = Sequential()\n",
    "model_3.add(text_vectorization)\n",
    "model_3.add(embedding)\n",
    "model_3.add(Dropout(0.4))\n",
    "model_3.add(GRU(2))\n",
    "model_3.add(Dropout(0.3))\n",
    "model_3.add(Dense(64, activation='relu'))\n",
    "model_3.add(Dense(3, activation='softmax'))\n",
    "\n",
    "\n",
    "model_3.compile(loss='categorical_crossentropy',\n",
    "                optimizer='adam',\n",
    "                metrics=['accuracy'])\n",
    "\n",
    "model_3_history = model_3.fit(x_train, y_train_ohe, epochs=50,validation_data=(x_val, y_val_ohe))"
   ]
  },
  {
   "cell_type": "code",
   "execution_count": 181,
   "metadata": {},
   "outputs": [
    {
     "data": {
      "text/plain": [
       "<AxesSubplot:>"
      ]
     },
     "execution_count": 181,
     "metadata": {},
     "output_type": "execute_result"
    },
    {
     "data": {
      "image/png": "[encoded data removed]",
      "text/plain": [
       "<Figure size 432x288 with 1 Axes>"
      ]
     },
     "metadata": {
      "needs_background": "light"
     },
     "output_type": "display_data"
    }
   ],
   "source": [
    "metrics3 = pd.DataFrame(model_3_history.history)\n",
    "metrics3.plot()"
   ]
  },
  {
   "cell_type": "code",
   "execution_count": 182,
   "metadata": {},
   "outputs": [
    {
     "name": "stdout",
     "output_type": "stream",
     "text": [
      "6/6 [==============================] - 0s 4ms/step\n",
      "              precision    recall  f1-score   support\n",
      "\n",
      "           0       0.88      0.91      0.89        86\n",
      "           1       0.69      0.90      0.78        50\n",
      "           2       0.72      0.36      0.48        36\n",
      "\n",
      "    accuracy                           0.79       172\n",
      "   macro avg       0.76      0.72      0.72       172\n",
      "weighted avg       0.79      0.79      0.77       172\n",
      "\n"
     ]
    }
   ],
   "source": [
    "y_pred3 = model_3.predict(x_test)\n",
    "y_pred3 = np.argmax(y_pred3, axis=1)\n",
    "print(classification_report(y_test, y_pred3))"
   ]
  },
  {
   "cell_type": "code",
   "execution_count": null,
   "metadata": {},
   "outputs": [],
   "source": []
  }
 ],
 "metadata": {
  "interpreter": {
   "hash": "235c1eb46b7fa25887433b6684ca89cc6429ded5460d2b6822cc33e42398b603"
  },
  "kernelspec": {
   "display_name": "Python 3.10.4 ('python10')",
   "language": "python",
   "name": "python3"
  },
  "language_info": {
   "codemirror_mode": {
    "name": "ipython",
    "version": 3
   },
   "file_extension": ".py",
   "mimetype": "text/x-python",
   "name": "python",
   "nbconvert_exporter": "python",
   "pygments_lexer": "ipython3",
   "version": "3.10.4"
  },
  "orig_nbformat": 4
 },
 "nbformat": 4,
 "nbformat_minor": 2
}
