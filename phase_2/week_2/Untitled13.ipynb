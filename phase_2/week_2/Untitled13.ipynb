{
  "nbformat": 4,
  "nbformat_minor": 0,
  "metadata": {
    "colab": {
      "name": "Untitled13.ipynb",
      "provenance": []
    },
    "kernelspec": {
      "name": "python3",
      "display_name": "Python 3"
    },
    "language_info": {
      "name": "python"
    },
    "accelerator": "GPU"
  },
  "cells": [
    {
      "cell_type": "code",
      "execution_count": null,
      "metadata": {
        "id": "pw4eIFUWUlJE"
      },
      "outputs": [],
      "source": [
        "corpus = [\n",
        "          \"Saya sedang belajar data science\",\n",
        "          \"data yang saya proses adalah data teks\",\n",
        "          \"NLP adalah cabang besar didalam data science\"\n",
        "]"
      ]
    },
    {
      "cell_type": "code",
      "source": [
        "from sklearn.feature_extraction.text import CountVectorizer\n",
        "import pandas as pd"
      ],
      "metadata": {
        "id": "wORHD36vVWDR"
      },
      "execution_count": null,
      "outputs": []
    },
    {
      "cell_type": "code",
      "source": [
        "vect = CountVectorizer()\n",
        "vect.fit(corpus)"
      ],
      "metadata": {
        "colab": {
          "base_uri": "https://localhost:8080/"
        },
        "id": "GZ40rjlbV1o2",
        "outputId": "ff439cb2-6166-4ee8-de0b-774710a80ecf"
      },
      "execution_count": null,
      "outputs": [
        {
          "output_type": "execute_result",
          "data": {
            "text/plain": [
              "CountVectorizer()"
            ]
          },
          "metadata": {},
          "execution_count": 3
        }
      ]
    },
    {
      "cell_type": "code",
      "source": [
        "vect.get_feature_names()"
      ],
      "metadata": {
        "colab": {
          "base_uri": "https://localhost:8080/"
        },
        "id": "NDHrzRWHWCDs",
        "outputId": "01abfc50-5b46-460a-c016-a53d4c8602dc"
      },
      "execution_count": null,
      "outputs": [
        {
          "output_type": "stream",
          "name": "stderr",
          "text": [
            "/usr/local/lib/python3.7/dist-packages/sklearn/utils/deprecation.py:87: FutureWarning: Function get_feature_names is deprecated; get_feature_names is deprecated in 1.0 and will be removed in 1.2. Please use get_feature_names_out instead.\n",
            "  warnings.warn(msg, category=FutureWarning)\n"
          ]
        },
        {
          "output_type": "execute_result",
          "data": {
            "text/plain": [
              "['adalah',\n",
              " 'belajar',\n",
              " 'besar',\n",
              " 'cabang',\n",
              " 'data',\n",
              " 'didalam',\n",
              " 'nlp',\n",
              " 'proses',\n",
              " 'saya',\n",
              " 'science',\n",
              " 'sedang',\n",
              " 'teks',\n",
              " 'yang']"
            ]
          },
          "metadata": {},
          "execution_count": 4
        }
      ]
    },
    {
      "cell_type": "code",
      "source": [
        "corpus_vect = vect.transform(corpus)\n",
        "print(corpus_vect)"
      ],
      "metadata": {
        "colab": {
          "base_uri": "https://localhost:8080/"
        },
        "id": "xh9nOMRGWLtK",
        "outputId": "427d72c6-0ca0-43a1-8f9d-86874f78c2c8"
      },
      "execution_count": null,
      "outputs": [
        {
          "output_type": "stream",
          "name": "stdout",
          "text": [
            "  (0, 1)\t1\n",
            "  (0, 4)\t1\n",
            "  (0, 8)\t1\n",
            "  (0, 9)\t1\n",
            "  (0, 10)\t1\n",
            "  (1, 0)\t1\n",
            "  (1, 4)\t2\n",
            "  (1, 7)\t1\n",
            "  (1, 8)\t1\n",
            "  (1, 11)\t1\n",
            "  (1, 12)\t1\n",
            "  (2, 0)\t1\n",
            "  (2, 2)\t1\n",
            "  (2, 3)\t1\n",
            "  (2, 4)\t1\n",
            "  (2, 5)\t1\n",
            "  (2, 6)\t1\n",
            "  (2, 9)\t1\n"
          ]
        }
      ]
    },
    {
      "cell_type": "code",
      "source": [
        "corpus_vect.toarray()"
      ],
      "metadata": {
        "colab": {
          "base_uri": "https://localhost:8080/"
        },
        "id": "fUF3ju2uWmZc",
        "outputId": "cd603a67-939f-494c-a2ae-1aa6c0d566df"
      },
      "execution_count": null,
      "outputs": [
        {
          "output_type": "execute_result",
          "data": {
            "text/plain": [
              "array([[0, 1, 0, 0, 1, 0, 0, 0, 1, 1, 1, 0, 0],\n",
              "       [1, 0, 0, 0, 2, 0, 0, 1, 1, 0, 0, 1, 1],\n",
              "       [1, 0, 1, 1, 1, 1, 1, 0, 0, 1, 0, 0, 0]])"
            ]
          },
          "metadata": {},
          "execution_count": 8
        }
      ]
    },
    {
      "cell_type": "code",
      "source": [
        "pd.DataFrame(corpus_vect.toarray(), columns=vect.get_feature_names())"
      ],
      "metadata": {
        "colab": {
          "base_uri": "https://localhost:8080/",
          "height": 199
        },
        "id": "UZFLiV2PW-sy",
        "outputId": "b0b09558-3df1-4ead-9797-a5c74e1f6ae5"
      },
      "execution_count": null,
      "outputs": [
        {
          "output_type": "stream",
          "name": "stderr",
          "text": [
            "/usr/local/lib/python3.7/dist-packages/sklearn/utils/deprecation.py:87: FutureWarning: Function get_feature_names is deprecated; get_feature_names is deprecated in 1.0 and will be removed in 1.2. Please use get_feature_names_out instead.\n",
            "  warnings.warn(msg, category=FutureWarning)\n"
          ]
        },
        {
          "output_type": "execute_result",
          "data": {
            "text/plain": [
              "   adalah  belajar  besar  cabang  data  didalam  nlp  proses  saya  science  \\\n",
              "0       0        1      0       0     1        0    0       0     1        1   \n",
              "1       1        0      0       0     2        0    0       1     1        0   \n",
              "2       1        0      1       1     1        1    1       0     0        1   \n",
              "\n",
              "   sedang  teks  yang  \n",
              "0       1     0     0  \n",
              "1       0     1     1  \n",
              "2       0     0     0  "
            ],
            "text/html": [
              "\n",
              "  <div id=\"df-c45c2504-a7dd-40a1-a7cb-a6e730d75c79\">\n",
              "    <div class=\"colab-df-container\">\n",
              "      <div>\n",
              "<style scoped>\n",
              "    .dataframe tbody tr th:only-of-type {\n",
              "        vertical-align: middle;\n",
              "    }\n",
              "\n",
              "    .dataframe tbody tr th {\n",
              "        vertical-align: top;\n",
              "    }\n",
              "\n",
              "    .dataframe thead th {\n",
              "        text-align: right;\n",
              "    }\n",
              "</style>\n",
              "<table border=\"1\" class=\"dataframe\">\n",
              "  <thead>\n",
              "    <tr style=\"text-align: right;\">\n",
              "      <th></th>\n",
              "      <th>adalah</th>\n",
              "      <th>belajar</th>\n",
              "      <th>besar</th>\n",
              "      <th>cabang</th>\n",
              "      <th>data</th>\n",
              "      <th>didalam</th>\n",
              "      <th>nlp</th>\n",
              "      <th>proses</th>\n",
              "      <th>saya</th>\n",
              "      <th>science</th>\n",
              "      <th>sedang</th>\n",
              "      <th>teks</th>\n",
              "      <th>yang</th>\n",
              "    </tr>\n",
              "  </thead>\n",
              "  <tbody>\n",
              "    <tr>\n",
              "      <th>0</th>\n",
              "      <td>0</td>\n",
              "      <td>1</td>\n",
              "      <td>0</td>\n",
              "      <td>0</td>\n",
              "      <td>1</td>\n",
              "      <td>0</td>\n",
              "      <td>0</td>\n",
              "      <td>0</td>\n",
              "      <td>1</td>\n",
              "      <td>1</td>\n",
              "      <td>1</td>\n",
              "      <td>0</td>\n",
              "      <td>0</td>\n",
              "    </tr>\n",
              "    <tr>\n",
              "      <th>1</th>\n",
              "      <td>1</td>\n",
              "      <td>0</td>\n",
              "      <td>0</td>\n",
              "      <td>0</td>\n",
              "      <td>2</td>\n",
              "      <td>0</td>\n",
              "      <td>0</td>\n",
              "      <td>1</td>\n",
              "      <td>1</td>\n",
              "      <td>0</td>\n",
              "      <td>0</td>\n",
              "      <td>1</td>\n",
              "      <td>1</td>\n",
              "    </tr>\n",
              "    <tr>\n",
              "      <th>2</th>\n",
              "      <td>1</td>\n",
              "      <td>0</td>\n",
              "      <td>1</td>\n",
              "      <td>1</td>\n",
              "      <td>1</td>\n",
              "      <td>1</td>\n",
              "      <td>1</td>\n",
              "      <td>0</td>\n",
              "      <td>0</td>\n",
              "      <td>1</td>\n",
              "      <td>0</td>\n",
              "      <td>0</td>\n",
              "      <td>0</td>\n",
              "    </tr>\n",
              "  </tbody>\n",
              "</table>\n",
              "</div>\n",
              "      <button class=\"colab-df-convert\" onclick=\"convertToInteractive('df-c45c2504-a7dd-40a1-a7cb-a6e730d75c79')\"\n",
              "              title=\"Convert this dataframe to an interactive table.\"\n",
              "              style=\"display:none;\">\n",
              "        \n",
              "  <svg xmlns=\"http://www.w3.org/2000/svg\" height=\"24px\"viewBox=\"0 0 24 24\"\n",
              "       width=\"24px\">\n",
              "    <path d=\"M0 0h24v24H0V0z\" fill=\"none\"/>\n",
              "    <path d=\"M18.56 5.44l.94 2.06.94-2.06 2.06-.94-2.06-.94-.94-2.06-.94 2.06-2.06.94zm-11 1L8.5 8.5l.94-2.06 2.06-.94-2.06-.94L8.5 2.5l-.94 2.06-2.06.94zm10 10l.94 2.06.94-2.06 2.06-.94-2.06-.94-.94-2.06-.94 2.06-2.06.94z\"/><path d=\"M17.41 7.96l-1.37-1.37c-.4-.4-.92-.59-1.43-.59-.52 0-1.04.2-1.43.59L10.3 9.45l-7.72 7.72c-.78.78-.78 2.05 0 2.83L4 21.41c.39.39.9.59 1.41.59.51 0 1.02-.2 1.41-.59l7.78-7.78 2.81-2.81c.8-.78.8-2.07 0-2.86zM5.41 20L4 18.59l7.72-7.72 1.47 1.35L5.41 20z\"/>\n",
              "  </svg>\n",
              "      </button>\n",
              "      \n",
              "  <style>\n",
              "    .colab-df-container {\n",
              "      display:flex;\n",
              "      flex-wrap:wrap;\n",
              "      gap: 12px;\n",
              "    }\n",
              "\n",
              "    .colab-df-convert {\n",
              "      background-color: #E8F0FE;\n",
              "      border: none;\n",
              "      border-radius: 50%;\n",
              "      cursor: pointer;\n",
              "      display: none;\n",
              "      fill: #1967D2;\n",
              "      height: 32px;\n",
              "      padding: 0 0 0 0;\n",
              "      width: 32px;\n",
              "    }\n",
              "\n",
              "    .colab-df-convert:hover {\n",
              "      background-color: #E2EBFA;\n",
              "      box-shadow: 0px 1px 2px rgba(60, 64, 67, 0.3), 0px 1px 3px 1px rgba(60, 64, 67, 0.15);\n",
              "      fill: #174EA6;\n",
              "    }\n",
              "\n",
              "    [theme=dark] .colab-df-convert {\n",
              "      background-color: #3B4455;\n",
              "      fill: #D2E3FC;\n",
              "    }\n",
              "\n",
              "    [theme=dark] .colab-df-convert:hover {\n",
              "      background-color: #434B5C;\n",
              "      box-shadow: 0px 1px 3px 1px rgba(0, 0, 0, 0.15);\n",
              "      filter: drop-shadow(0px 1px 2px rgba(0, 0, 0, 0.3));\n",
              "      fill: #FFFFFF;\n",
              "    }\n",
              "  </style>\n",
              "\n",
              "      <script>\n",
              "        const buttonEl =\n",
              "          document.querySelector('#df-c45c2504-a7dd-40a1-a7cb-a6e730d75c79 button.colab-df-convert');\n",
              "        buttonEl.style.display =\n",
              "          google.colab.kernel.accessAllowed ? 'block' : 'none';\n",
              "\n",
              "        async function convertToInteractive(key) {\n",
              "          const element = document.querySelector('#df-c45c2504-a7dd-40a1-a7cb-a6e730d75c79');\n",
              "          const dataTable =\n",
              "            await google.colab.kernel.invokeFunction('convertToInteractive',\n",
              "                                                     [key], {});\n",
              "          if (!dataTable) return;\n",
              "\n",
              "          const docLinkHtml = 'Like what you see? Visit the ' +\n",
              "            '<a target=\"_blank\" href=https://colab.research.google.com/notebooks/data_table.ipynb>data table notebook</a>'\n",
              "            + ' to learn more about interactive tables.';\n",
              "          element.innerHTML = '';\n",
              "          dataTable['output_type'] = 'display_data';\n",
              "          await google.colab.output.renderOutput(dataTable, element);\n",
              "          const docLink = document.createElement('div');\n",
              "          docLink.innerHTML = docLinkHtml;\n",
              "          element.appendChild(docLink);\n",
              "        }\n",
              "      </script>\n",
              "    </div>\n",
              "  </div>\n",
              "  "
            ]
          },
          "metadata": {},
          "execution_count": 9
        }
      ]
    },
    {
      "cell_type": "code",
      "source": [
        "print(corpus)"
      ],
      "metadata": {
        "colab": {
          "base_uri": "https://localhost:8080/"
        },
        "id": "ss0gXBtGXK1j",
        "outputId": "f76e065f-72f5-40fb-c5aa-0e0b7eae48bf"
      },
      "execution_count": null,
      "outputs": [
        {
          "output_type": "stream",
          "name": "stdout",
          "text": [
            "['Saya sedang belajar data science', 'data yang saya proses adalah data teks', 'NLP adalah cabang besar didalam data science']\n"
          ]
        }
      ]
    },
    {
      "cell_type": "markdown",
      "source": [
        "## Pemodelan Machine Learning untuk SMS Spam"
      ],
      "metadata": {
        "id": "tklOT2WeZW8Q"
      }
    },
    {
      "cell_type": "code",
      "source": [
        "! pip install pysastrawi"
      ],
      "metadata": {
        "colab": {
          "base_uri": "https://localhost:8080/"
        },
        "id": "bo64L3CjZ1wt",
        "outputId": "70d104f9-8789-49fb-bf15-0d5b645f3d82"
      },
      "execution_count": null,
      "outputs": [
        {
          "output_type": "stream",
          "name": "stdout",
          "text": [
            "Looking in indexes: https://pypi.org/simple, https://us-python.pkg.dev/colab-wheels/public/simple/\n",
            "Collecting pysastrawi\n",
            "  Downloading PySastrawi-1.2.0-py2.py3-none-any.whl (210 kB)\n",
            "\u001b[K     |████████████████████████████████| 210 kB 24.7 MB/s \n",
            "\u001b[?25hInstalling collected packages: pysastrawi\n",
            "Successfully installed pysastrawi-1.2.0\n"
          ]
        }
      ]
    },
    {
      "cell_type": "code",
      "source": [
        "import pandas as pd\n",
        "from sklearn.feature_extraction.text import CountVectorizer\n",
        "from sklearn.model_selection import train_test_split\n",
        "from sklearn.naive_bayes import MultinomialNB\n",
        "from sklearn.metrics import classification_report\n",
        "from Sastrawi.StopWordRemover.StopWordRemoverFactory import StopWordRemoverFactory\n",
        "from Sastrawi.Stemmer.StemmerFactory import StemmerFactory\n",
        "import matplotlib.pyplot as plt"
      ],
      "metadata": {
        "id": "PoatoOfYXOGX"
      },
      "execution_count": null,
      "outputs": []
    },
    {
      "cell_type": "code",
      "source": [
        "df = pd.read_csv(\"https://raw.githubusercontent.com/afifai/hacktiv8-trial-class-spamdetector/main/data/dataset_sms_spam%20_v1.csv\")\n",
        "df.head()"
      ],
      "metadata": {
        "colab": {
          "base_uri": "https://localhost:8080/",
          "height": 206
        },
        "id": "Ki5hn5cOZ1Lk",
        "outputId": "a363e22d-8ef2-43ae-822a-2136fec0b850"
      },
      "execution_count": null,
      "outputs": [
        {
          "output_type": "execute_result",
          "data": {
            "text/plain": [
              "                                                Teks  label\n",
              "0  [PROMO] Beli paket Flash mulai 1GB di MY TELKO...      2\n",
              "1  2.5 GB/30 hari hanya Rp 35 Ribu Spesial buat A...      2\n",
              "2  2016-07-08 11:47:11.Plg Yth, sisa kuota Flash ...      2\n",
              "3  2016-08-07 11:29:47.Plg Yth, sisa kuota Flash ...      2\n",
              "4  4.5GB/30 hari hanya Rp 55 Ribu Spesial buat an...      2"
            ],
            "text/html": [
              "\n",
              "  <div id=\"df-a6be1a7f-36a7-4dc8-a363-173cfe6a5358\">\n",
              "    <div class=\"colab-df-container\">\n",
              "      <div>\n",
              "<style scoped>\n",
              "    .dataframe tbody tr th:only-of-type {\n",
              "        vertical-align: middle;\n",
              "    }\n",
              "\n",
              "    .dataframe tbody tr th {\n",
              "        vertical-align: top;\n",
              "    }\n",
              "\n",
              "    .dataframe thead th {\n",
              "        text-align: right;\n",
              "    }\n",
              "</style>\n",
              "<table border=\"1\" class=\"dataframe\">\n",
              "  <thead>\n",
              "    <tr style=\"text-align: right;\">\n",
              "      <th></th>\n",
              "      <th>Teks</th>\n",
              "      <th>label</th>\n",
              "    </tr>\n",
              "  </thead>\n",
              "  <tbody>\n",
              "    <tr>\n",
              "      <th>0</th>\n",
              "      <td>[PROMO] Beli paket Flash mulai 1GB di MY TELKO...</td>\n",
              "      <td>2</td>\n",
              "    </tr>\n",
              "    <tr>\n",
              "      <th>1</th>\n",
              "      <td>2.5 GB/30 hari hanya Rp 35 Ribu Spesial buat A...</td>\n",
              "      <td>2</td>\n",
              "    </tr>\n",
              "    <tr>\n",
              "      <th>2</th>\n",
              "      <td>2016-07-08 11:47:11.Plg Yth, sisa kuota Flash ...</td>\n",
              "      <td>2</td>\n",
              "    </tr>\n",
              "    <tr>\n",
              "      <th>3</th>\n",
              "      <td>2016-08-07 11:29:47.Plg Yth, sisa kuota Flash ...</td>\n",
              "      <td>2</td>\n",
              "    </tr>\n",
              "    <tr>\n",
              "      <th>4</th>\n",
              "      <td>4.5GB/30 hari hanya Rp 55 Ribu Spesial buat an...</td>\n",
              "      <td>2</td>\n",
              "    </tr>\n",
              "  </tbody>\n",
              "</table>\n",
              "</div>\n",
              "      <button class=\"colab-df-convert\" onclick=\"convertToInteractive('df-a6be1a7f-36a7-4dc8-a363-173cfe6a5358')\"\n",
              "              title=\"Convert this dataframe to an interactive table.\"\n",
              "              style=\"display:none;\">\n",
              "        \n",
              "  <svg xmlns=\"http://www.w3.org/2000/svg\" height=\"24px\"viewBox=\"0 0 24 24\"\n",
              "       width=\"24px\">\n",
              "    <path d=\"M0 0h24v24H0V0z\" fill=\"none\"/>\n",
              "    <path d=\"M18.56 5.44l.94 2.06.94-2.06 2.06-.94-2.06-.94-.94-2.06-.94 2.06-2.06.94zm-11 1L8.5 8.5l.94-2.06 2.06-.94-2.06-.94L8.5 2.5l-.94 2.06-2.06.94zm10 10l.94 2.06.94-2.06 2.06-.94-2.06-.94-.94-2.06-.94 2.06-2.06.94z\"/><path d=\"M17.41 7.96l-1.37-1.37c-.4-.4-.92-.59-1.43-.59-.52 0-1.04.2-1.43.59L10.3 9.45l-7.72 7.72c-.78.78-.78 2.05 0 2.83L4 21.41c.39.39.9.59 1.41.59.51 0 1.02-.2 1.41-.59l7.78-7.78 2.81-2.81c.8-.78.8-2.07 0-2.86zM5.41 20L4 18.59l7.72-7.72 1.47 1.35L5.41 20z\"/>\n",
              "  </svg>\n",
              "      </button>\n",
              "      \n",
              "  <style>\n",
              "    .colab-df-container {\n",
              "      display:flex;\n",
              "      flex-wrap:wrap;\n",
              "      gap: 12px;\n",
              "    }\n",
              "\n",
              "    .colab-df-convert {\n",
              "      background-color: #E8F0FE;\n",
              "      border: none;\n",
              "      border-radius: 50%;\n",
              "      cursor: pointer;\n",
              "      display: none;\n",
              "      fill: #1967D2;\n",
              "      height: 32px;\n",
              "      padding: 0 0 0 0;\n",
              "      width: 32px;\n",
              "    }\n",
              "\n",
              "    .colab-df-convert:hover {\n",
              "      background-color: #E2EBFA;\n",
              "      box-shadow: 0px 1px 2px rgba(60, 64, 67, 0.3), 0px 1px 3px 1px rgba(60, 64, 67, 0.15);\n",
              "      fill: #174EA6;\n",
              "    }\n",
              "\n",
              "    [theme=dark] .colab-df-convert {\n",
              "      background-color: #3B4455;\n",
              "      fill: #D2E3FC;\n",
              "    }\n",
              "\n",
              "    [theme=dark] .colab-df-convert:hover {\n",
              "      background-color: #434B5C;\n",
              "      box-shadow: 0px 1px 3px 1px rgba(0, 0, 0, 0.15);\n",
              "      filter: drop-shadow(0px 1px 2px rgba(0, 0, 0, 0.3));\n",
              "      fill: #FFFFFF;\n",
              "    }\n",
              "  </style>\n",
              "\n",
              "      <script>\n",
              "        const buttonEl =\n",
              "          document.querySelector('#df-a6be1a7f-36a7-4dc8-a363-173cfe6a5358 button.colab-df-convert');\n",
              "        buttonEl.style.display =\n",
              "          google.colab.kernel.accessAllowed ? 'block' : 'none';\n",
              "\n",
              "        async function convertToInteractive(key) {\n",
              "          const element = document.querySelector('#df-a6be1a7f-36a7-4dc8-a363-173cfe6a5358');\n",
              "          const dataTable =\n",
              "            await google.colab.kernel.invokeFunction('convertToInteractive',\n",
              "                                                     [key], {});\n",
              "          if (!dataTable) return;\n",
              "\n",
              "          const docLinkHtml = 'Like what you see? Visit the ' +\n",
              "            '<a target=\"_blank\" href=https://colab.research.google.com/notebooks/data_table.ipynb>data table notebook</a>'\n",
              "            + ' to learn more about interactive tables.';\n",
              "          element.innerHTML = '';\n",
              "          dataTable['output_type'] = 'display_data';\n",
              "          await google.colab.output.renderOutput(dataTable, element);\n",
              "          const docLink = document.createElement('div');\n",
              "          docLink.innerHTML = docLinkHtml;\n",
              "          element.appendChild(docLink);\n",
              "        }\n",
              "      </script>\n",
              "    </div>\n",
              "  </div>\n",
              "  "
            ]
          },
          "metadata": {},
          "execution_count": 15
        }
      ]
    },
    {
      "cell_type": "code",
      "source": [
        "df.label = df.label.map({0:\"SMS Biasa\", 1:\"SMS Penipuan\", 2:\"SMS Operator\"})"
      ],
      "metadata": {
        "id": "wSFbDlaZahO8"
      },
      "execution_count": null,
      "outputs": []
    },
    {
      "cell_type": "code",
      "source": [
        "df.tail()"
      ],
      "metadata": {
        "colab": {
          "base_uri": "https://localhost:8080/",
          "height": 206
        },
        "id": "NUIrGwa1a_7v",
        "outputId": "635f434a-d0db-44ad-e0b3-b61cc0ef1250"
      },
      "execution_count": null,
      "outputs": [
        {
          "output_type": "execute_result",
          "data": {
            "text/plain": [
              "                                                   Teks      label\n",
              "1138     Yooo sama2, oke nanti aku umumin di grup kelas  SMS Biasa\n",
              "1139  😁 sebelumnya ga ad nulis kerudung. Kirain warn...  SMS Biasa\n",
              "1140                               Mba mau kirim 300 ya  SMS Biasa\n",
              "1141  nama1  beaok bwrangkat pagi...mau cas atay tra...  SMS Biasa\n",
              "1142                         No bri atas nama kamu mana  SMS Biasa"
            ],
            "text/html": [
              "\n",
              "  <div id=\"df-00b26e76-e60b-40ee-a344-177e4cd35c49\">\n",
              "    <div class=\"colab-df-container\">\n",
              "      <div>\n",
              "<style scoped>\n",
              "    .dataframe tbody tr th:only-of-type {\n",
              "        vertical-align: middle;\n",
              "    }\n",
              "\n",
              "    .dataframe tbody tr th {\n",
              "        vertical-align: top;\n",
              "    }\n",
              "\n",
              "    .dataframe thead th {\n",
              "        text-align: right;\n",
              "    }\n",
              "</style>\n",
              "<table border=\"1\" class=\"dataframe\">\n",
              "  <thead>\n",
              "    <tr style=\"text-align: right;\">\n",
              "      <th></th>\n",
              "      <th>Teks</th>\n",
              "      <th>label</th>\n",
              "    </tr>\n",
              "  </thead>\n",
              "  <tbody>\n",
              "    <tr>\n",
              "      <th>1138</th>\n",
              "      <td>Yooo sama2, oke nanti aku umumin di grup kelas</td>\n",
              "      <td>SMS Biasa</td>\n",
              "    </tr>\n",
              "    <tr>\n",
              "      <th>1139</th>\n",
              "      <td>😁 sebelumnya ga ad nulis kerudung. Kirain warn...</td>\n",
              "      <td>SMS Biasa</td>\n",
              "    </tr>\n",
              "    <tr>\n",
              "      <th>1140</th>\n",
              "      <td>Mba mau kirim 300 ya</td>\n",
              "      <td>SMS Biasa</td>\n",
              "    </tr>\n",
              "    <tr>\n",
              "      <th>1141</th>\n",
              "      <td>nama1  beaok bwrangkat pagi...mau cas atay tra...</td>\n",
              "      <td>SMS Biasa</td>\n",
              "    </tr>\n",
              "    <tr>\n",
              "      <th>1142</th>\n",
              "      <td>No bri atas nama kamu mana</td>\n",
              "      <td>SMS Biasa</td>\n",
              "    </tr>\n",
              "  </tbody>\n",
              "</table>\n",
              "</div>\n",
              "      <button class=\"colab-df-convert\" onclick=\"convertToInteractive('df-00b26e76-e60b-40ee-a344-177e4cd35c49')\"\n",
              "              title=\"Convert this dataframe to an interactive table.\"\n",
              "              style=\"display:none;\">\n",
              "        \n",
              "  <svg xmlns=\"http://www.w3.org/2000/svg\" height=\"24px\"viewBox=\"0 0 24 24\"\n",
              "       width=\"24px\">\n",
              "    <path d=\"M0 0h24v24H0V0z\" fill=\"none\"/>\n",
              "    <path d=\"M18.56 5.44l.94 2.06.94-2.06 2.06-.94-2.06-.94-.94-2.06-.94 2.06-2.06.94zm-11 1L8.5 8.5l.94-2.06 2.06-.94-2.06-.94L8.5 2.5l-.94 2.06-2.06.94zm10 10l.94 2.06.94-2.06 2.06-.94-2.06-.94-.94-2.06-.94 2.06-2.06.94z\"/><path d=\"M17.41 7.96l-1.37-1.37c-.4-.4-.92-.59-1.43-.59-.52 0-1.04.2-1.43.59L10.3 9.45l-7.72 7.72c-.78.78-.78 2.05 0 2.83L4 21.41c.39.39.9.59 1.41.59.51 0 1.02-.2 1.41-.59l7.78-7.78 2.81-2.81c.8-.78.8-2.07 0-2.86zM5.41 20L4 18.59l7.72-7.72 1.47 1.35L5.41 20z\"/>\n",
              "  </svg>\n",
              "      </button>\n",
              "      \n",
              "  <style>\n",
              "    .colab-df-container {\n",
              "      display:flex;\n",
              "      flex-wrap:wrap;\n",
              "      gap: 12px;\n",
              "    }\n",
              "\n",
              "    .colab-df-convert {\n",
              "      background-color: #E8F0FE;\n",
              "      border: none;\n",
              "      border-radius: 50%;\n",
              "      cursor: pointer;\n",
              "      display: none;\n",
              "      fill: #1967D2;\n",
              "      height: 32px;\n",
              "      padding: 0 0 0 0;\n",
              "      width: 32px;\n",
              "    }\n",
              "\n",
              "    .colab-df-convert:hover {\n",
              "      background-color: #E2EBFA;\n",
              "      box-shadow: 0px 1px 2px rgba(60, 64, 67, 0.3), 0px 1px 3px 1px rgba(60, 64, 67, 0.15);\n",
              "      fill: #174EA6;\n",
              "    }\n",
              "\n",
              "    [theme=dark] .colab-df-convert {\n",
              "      background-color: #3B4455;\n",
              "      fill: #D2E3FC;\n",
              "    }\n",
              "\n",
              "    [theme=dark] .colab-df-convert:hover {\n",
              "      background-color: #434B5C;\n",
              "      box-shadow: 0px 1px 3px 1px rgba(0, 0, 0, 0.15);\n",
              "      filter: drop-shadow(0px 1px 2px rgba(0, 0, 0, 0.3));\n",
              "      fill: #FFFFFF;\n",
              "    }\n",
              "  </style>\n",
              "\n",
              "      <script>\n",
              "        const buttonEl =\n",
              "          document.querySelector('#df-00b26e76-e60b-40ee-a344-177e4cd35c49 button.colab-df-convert');\n",
              "        buttonEl.style.display =\n",
              "          google.colab.kernel.accessAllowed ? 'block' : 'none';\n",
              "\n",
              "        async function convertToInteractive(key) {\n",
              "          const element = document.querySelector('#df-00b26e76-e60b-40ee-a344-177e4cd35c49');\n",
              "          const dataTable =\n",
              "            await google.colab.kernel.invokeFunction('convertToInteractive',\n",
              "                                                     [key], {});\n",
              "          if (!dataTable) return;\n",
              "\n",
              "          const docLinkHtml = 'Like what you see? Visit the ' +\n",
              "            '<a target=\"_blank\" href=https://colab.research.google.com/notebooks/data_table.ipynb>data table notebook</a>'\n",
              "            + ' to learn more about interactive tables.';\n",
              "          element.innerHTML = '';\n",
              "          dataTable['output_type'] = 'display_data';\n",
              "          await google.colab.output.renderOutput(dataTable, element);\n",
              "          const docLink = document.createElement('div');\n",
              "          docLink.innerHTML = docLinkHtml;\n",
              "          element.appendChild(docLink);\n",
              "        }\n",
              "      </script>\n",
              "    </div>\n",
              "  </div>\n",
              "  "
            ]
          },
          "metadata": {},
          "execution_count": 20
        }
      ]
    },
    {
      "cell_type": "code",
      "source": [
        "df.label.value_counts().plot(kind='bar');"
      ],
      "metadata": {
        "colab": {
          "base_uri": "https://localhost:8080/",
          "height": 326
        },
        "id": "PVBAwtI5bC0w",
        "outputId": "720535a8-f4b6-4329-c132-a9d696088577"
      },
      "execution_count": null,
      "outputs": [
        {
          "output_type": "display_data",
          "data": {
            "text/plain": [
              "<Figure size 432x288 with 1 Axes>"
            ],
            "image/png": "[encoded data removed]"
          },
          "metadata": {
            "needs_background": "light"
          }
        }
      ]
    },
    {
      "cell_type": "code",
      "source": [
        "df.label.value_counts()"
      ],
      "metadata": {
        "colab": {
          "base_uri": "https://localhost:8080/"
        },
        "id": "5mFRC7__bQ1-",
        "outputId": "2fda7dd9-26e4-443b-c992-abb151615f7a"
      },
      "execution_count": null,
      "outputs": [
        {
          "output_type": "execute_result",
          "data": {
            "text/plain": [
              "SMS Biasa       569\n",
              "SMS Penipuan    335\n",
              "SMS Operator    239\n",
              "Name: label, dtype: int64"
            ]
          },
          "metadata": {},
          "execution_count": 23
        }
      ]
    },
    {
      "cell_type": "code",
      "source": [
        "X_train, X_test, y_train, y_test = train_test_split(df.Teks, df.label, test_size=0.15, random_state=46, stratify=df.label)"
      ],
      "metadata": {
        "id": "mumQ46kXbgap"
      },
      "execution_count": null,
      "outputs": []
    },
    {
      "cell_type": "code",
      "source": [
        "# create stemmer\n",
        "factory = StemmerFactory()\n",
        "stemmer = factory.create_stemmer()\n",
        "\n",
        "# buat fungsi stem untuk series\n",
        "def stem_sent(sent):\n",
        "  output   = stemmer.stem(sent)\n",
        "  return output\n",
        "\n",
        "X_train = X_train.apply(stem_sent)\n",
        "X_test = X_test.apply(stem_sent)"
      ],
      "metadata": {
        "id": "JQ4YzVG4fMIS"
      },
      "execution_count": null,
      "outputs": []
    },
    {
      "cell_type": "code",
      "source": [
        "# vektorisasi\n",
        "vect = CountVectorizer()\n",
        "\n",
        "# train\n",
        "X_train_vec = vect.fit_transform(X_train)\n",
        "X_test_vec = vect.transform(X_test)"
      ],
      "metadata": {
        "id": "77rW0K5dcAjJ"
      },
      "execution_count": null,
      "outputs": []
    },
    {
      "cell_type": "code",
      "source": [
        "X_train_vec"
      ],
      "metadata": {
        "colab": {
          "base_uri": "https://localhost:8080/"
        },
        "id": "YtDhZNQUdCiI",
        "outputId": "85318b7b-ae63-4397-fd47-c7676098b305"
      },
      "execution_count": null,
      "outputs": [
        {
          "output_type": "execute_result",
          "data": {
            "text/plain": [
              "<971x4043 sparse matrix of type '<class 'numpy.int64'>'\n",
              "\twith 16282 stored elements in Compressed Sparse Row format>"
            ]
          },
          "metadata": {},
          "execution_count": 64
        }
      ]
    },
    {
      "cell_type": "code",
      "source": [
        "X_test_vec"
      ],
      "metadata": {
        "colab": {
          "base_uri": "https://localhost:8080/"
        },
        "id": "FoaBtPvTdWHn",
        "outputId": "1f755cca-bf7a-4e95-a16e-3a54ee2b2c79"
      },
      "execution_count": null,
      "outputs": [
        {
          "output_type": "execute_result",
          "data": {
            "text/plain": [
              "<172x4043 sparse matrix of type '<class 'numpy.int64'>'\n",
              "\twith 2458 stored elements in Compressed Sparse Row format>"
            ]
          },
          "metadata": {},
          "execution_count": 65
        }
      ]
    },
    {
      "cell_type": "code",
      "source": [
        "# modelling\n",
        "nb = MultinomialNB()\n",
        "nb.fit(X_train_vec, y_train)"
      ],
      "metadata": {
        "colab": {
          "base_uri": "https://localhost:8080/"
        },
        "id": "dFz_z7Vodm1S",
        "outputId": "0aacdfd7-faad-4754-9259-ef96380f05ef"
      },
      "execution_count": null,
      "outputs": [
        {
          "output_type": "execute_result",
          "data": {
            "text/plain": [
              "MultinomialNB()"
            ]
          },
          "metadata": {},
          "execution_count": 66
        }
      ]
    },
    {
      "cell_type": "code",
      "source": [
        "# evaluasi\n",
        "y_pred = nb.predict(X_test_vec)\n",
        "print(classification_report(y_test, y_pred))"
      ],
      "metadata": {
        "colab": {
          "base_uri": "https://localhost:8080/"
        },
        "id": "SJWrJ0PKeCHq",
        "outputId": "10b5a280-87f1-4fbc-91c8-85a0e3e92b6b"
      },
      "execution_count": null,
      "outputs": [
        {
          "output_type": "stream",
          "name": "stdout",
          "text": [
            "              precision    recall  f1-score   support\n",
            "\n",
            "   SMS Biasa       1.00      0.93      0.96        86\n",
            "SMS Operator       0.84      1.00      0.91        36\n",
            "SMS Penipuan       0.96      0.94      0.95        50\n",
            "\n",
            "    accuracy                           0.95       172\n",
            "   macro avg       0.93      0.96      0.94       172\n",
            "weighted avg       0.95      0.95      0.95       172\n",
            "\n"
          ]
        }
      ]
    },
    {
      "cell_type": "code",
      "source": [
        "y_pred = nb.predict(X_test_vec)\n",
        "print(classification_report(y_test, y_pred))"
      ],
      "metadata": {
        "colab": {
          "base_uri": "https://localhost:8080/"
        },
        "id": "4i2DzjJljtql",
        "outputId": "92fef640-a1e2-4623-e14b-84cf4d53baac"
      },
      "execution_count": null,
      "outputs": [
        {
          "output_type": "stream",
          "name": "stdout",
          "text": [
            "              precision    recall  f1-score   support\n",
            "\n",
            "   SMS Biasa       0.99      0.93      0.96        86\n",
            "SMS Operator       0.82      1.00      0.90        36\n",
            "SMS Penipuan       0.96      0.90      0.93        50\n",
            "\n",
            "    accuracy                           0.94       172\n",
            "   macro avg       0.92      0.94      0.93       172\n",
            "weighted avg       0.94      0.94      0.94       172\n",
            "\n"
          ]
        }
      ]
    },
    {
      "cell_type": "code",
      "source": [
        "sms_baru = [\"met ulang tahun bro\"]\n",
        "sms_baru = [stemmer.stem(sms_baru[0])]\n",
        "sms_baru_vect = vect.transform(sms_baru)\n",
        "res = nb.predict(sms_baru_vect)\n",
        "print(res)"
      ],
      "metadata": {
        "colab": {
          "base_uri": "https://localhost:8080/"
        },
        "id": "2UHq6qeheOt_",
        "outputId": "6d2de2e5-e4d4-4ba6-f684-b462fbeece94"
      },
      "execution_count": null,
      "outputs": [
        {
          "output_type": "stream",
          "name": "stdout",
          "text": [
            "['SMS Operator']\n"
          ]
        }
      ]
    },
    {
      "cell_type": "markdown",
      "source": [
        "## Model Deep Learning & Embedding"
      ],
      "metadata": {
        "id": "9lFjDulWDgK1"
      }
    },
    {
      "cell_type": "code",
      "source": [
        "import pandas as pd\n",
        "from sklearn.model_selection import train_test_split"
      ],
      "metadata": {
        "id": "xQSAIEZKeq-y"
      },
      "execution_count": null,
      "outputs": []
    },
    {
      "cell_type": "code",
      "source": [
        "df = pd.read_csv(\"https://raw.githubusercontent.com/afifai/hacktiv8-trial-class-spamdetector/main/data/dataset_sms_spam%20_v1.csv\")\n",
        "df.head()"
      ],
      "metadata": {
        "colab": {
          "base_uri": "https://localhost:8080/",
          "height": 206
        },
        "id": "uTkjTD3XD9Bt",
        "outputId": "c1eeb596-ceac-4b70-841b-6d8e0a838da9"
      },
      "execution_count": null,
      "outputs": [
        {
          "output_type": "execute_result",
          "data": {
            "text/plain": [
              "                                                Teks  label\n",
              "0  [PROMO] Beli paket Flash mulai 1GB di MY TELKO...      2\n",
              "1  2.5 GB/30 hari hanya Rp 35 Ribu Spesial buat A...      2\n",
              "2  2016-07-08 11:47:11.Plg Yth, sisa kuota Flash ...      2\n",
              "3  2016-08-07 11:29:47.Plg Yth, sisa kuota Flash ...      2\n",
              "4  4.5GB/30 hari hanya Rp 55 Ribu Spesial buat an...      2"
            ],
            "text/html": [
              "\n",
              "  <div id=\"df-8e558877-8a7a-4c01-ab1b-6c19d152983d\">\n",
              "    <div class=\"colab-df-container\">\n",
              "      <div>\n",
              "<style scoped>\n",
              "    .dataframe tbody tr th:only-of-type {\n",
              "        vertical-align: middle;\n",
              "    }\n",
              "\n",
              "    .dataframe tbody tr th {\n",
              "        vertical-align: top;\n",
              "    }\n",
              "\n",
              "    .dataframe thead th {\n",
              "        text-align: right;\n",
              "    }\n",
              "</style>\n",
              "<table border=\"1\" class=\"dataframe\">\n",
              "  <thead>\n",
              "    <tr style=\"text-align: right;\">\n",
              "      <th></th>\n",
              "      <th>Teks</th>\n",
              "      <th>label</th>\n",
              "    </tr>\n",
              "  </thead>\n",
              "  <tbody>\n",
              "    <tr>\n",
              "      <th>0</th>\n",
              "      <td>[PROMO] Beli paket Flash mulai 1GB di MY TELKO...</td>\n",
              "      <td>2</td>\n",
              "    </tr>\n",
              "    <tr>\n",
              "      <th>1</th>\n",
              "      <td>2.5 GB/30 hari hanya Rp 35 Ribu Spesial buat A...</td>\n",
              "      <td>2</td>\n",
              "    </tr>\n",
              "    <tr>\n",
              "      <th>2</th>\n",
              "      <td>2016-07-08 11:47:11.Plg Yth, sisa kuota Flash ...</td>\n",
              "      <td>2</td>\n",
              "    </tr>\n",
              "    <tr>\n",
              "      <th>3</th>\n",
              "      <td>2016-08-07 11:29:47.Plg Yth, sisa kuota Flash ...</td>\n",
              "      <td>2</td>\n",
              "    </tr>\n",
              "    <tr>\n",
              "      <th>4</th>\n",
              "      <td>4.5GB/30 hari hanya Rp 55 Ribu Spesial buat an...</td>\n",
              "      <td>2</td>\n",
              "    </tr>\n",
              "  </tbody>\n",
              "</table>\n",
              "</div>\n",
              "      <button class=\"colab-df-convert\" onclick=\"convertToInteractive('df-8e558877-8a7a-4c01-ab1b-6c19d152983d')\"\n",
              "              title=\"Convert this dataframe to an interactive table.\"\n",
              "              style=\"display:none;\">\n",
              "        \n",
              "  <svg xmlns=\"http://www.w3.org/2000/svg\" height=\"24px\"viewBox=\"0 0 24 24\"\n",
              "       width=\"24px\">\n",
              "    <path d=\"M0 0h24v24H0V0z\" fill=\"none\"/>\n",
              "    <path d=\"M18.56 5.44l.94 2.06.94-2.06 2.06-.94-2.06-.94-.94-2.06-.94 2.06-2.06.94zm-11 1L8.5 8.5l.94-2.06 2.06-.94-2.06-.94L8.5 2.5l-.94 2.06-2.06.94zm10 10l.94 2.06.94-2.06 2.06-.94-2.06-.94-.94-2.06-.94 2.06-2.06.94z\"/><path d=\"M17.41 7.96l-1.37-1.37c-.4-.4-.92-.59-1.43-.59-.52 0-1.04.2-1.43.59L10.3 9.45l-7.72 7.72c-.78.78-.78 2.05 0 2.83L4 21.41c.39.39.9.59 1.41.59.51 0 1.02-.2 1.41-.59l7.78-7.78 2.81-2.81c.8-.78.8-2.07 0-2.86zM5.41 20L4 18.59l7.72-7.72 1.47 1.35L5.41 20z\"/>\n",
              "  </svg>\n",
              "      </button>\n",
              "      \n",
              "  <style>\n",
              "    .colab-df-container {\n",
              "      display:flex;\n",
              "      flex-wrap:wrap;\n",
              "      gap: 12px;\n",
              "    }\n",
              "\n",
              "    .colab-df-convert {\n",
              "      background-color: #E8F0FE;\n",
              "      border: none;\n",
              "      border-radius: 50%;\n",
              "      cursor: pointer;\n",
              "      display: none;\n",
              "      fill: #1967D2;\n",
              "      height: 32px;\n",
              "      padding: 0 0 0 0;\n",
              "      width: 32px;\n",
              "    }\n",
              "\n",
              "    .colab-df-convert:hover {\n",
              "      background-color: #E2EBFA;\n",
              "      box-shadow: 0px 1px 2px rgba(60, 64, 67, 0.3), 0px 1px 3px 1px rgba(60, 64, 67, 0.15);\n",
              "      fill: #174EA6;\n",
              "    }\n",
              "\n",
              "    [theme=dark] .colab-df-convert {\n",
              "      background-color: #3B4455;\n",
              "      fill: #D2E3FC;\n",
              "    }\n",
              "\n",
              "    [theme=dark] .colab-df-convert:hover {\n",
              "      background-color: #434B5C;\n",
              "      box-shadow: 0px 1px 3px 1px rgba(0, 0, 0, 0.15);\n",
              "      filter: drop-shadow(0px 1px 2px rgba(0, 0, 0, 0.3));\n",
              "      fill: #FFFFFF;\n",
              "    }\n",
              "  </style>\n",
              "\n",
              "      <script>\n",
              "        const buttonEl =\n",
              "          document.querySelector('#df-8e558877-8a7a-4c01-ab1b-6c19d152983d button.colab-df-convert');\n",
              "        buttonEl.style.display =\n",
              "          google.colab.kernel.accessAllowed ? 'block' : 'none';\n",
              "\n",
              "        async function convertToInteractive(key) {\n",
              "          const element = document.querySelector('#df-8e558877-8a7a-4c01-ab1b-6c19d152983d');\n",
              "          const dataTable =\n",
              "            await google.colab.kernel.invokeFunction('convertToInteractive',\n",
              "                                                     [key], {});\n",
              "          if (!dataTable) return;\n",
              "\n",
              "          const docLinkHtml = 'Like what you see? Visit the ' +\n",
              "            '<a target=\"_blank\" href=https://colab.research.google.com/notebooks/data_table.ipynb>data table notebook</a>'\n",
              "            + ' to learn more about interactive tables.';\n",
              "          element.innerHTML = '';\n",
              "          dataTable['output_type'] = 'display_data';\n",
              "          await google.colab.output.renderOutput(dataTable, element);\n",
              "          const docLink = document.createElement('div');\n",
              "          docLink.innerHTML = docLinkHtml;\n",
              "          element.appendChild(docLink);\n",
              "        }\n",
              "      </script>\n",
              "    </div>\n",
              "  </div>\n",
              "  "
            ]
          },
          "metadata": {},
          "execution_count": 2
        }
      ]
    },
    {
      "cell_type": "code",
      "source": [
        "train_df, test_df = train_test_split(df, test_size=0.15, random_state=46, stratify=df.label)\n",
        "train_df, val_df = train_test_split(train_df, test_size=0.1, random_state=46, stratify=train_df.label)"
      ],
      "metadata": {
        "id": "XIcx02qvEBJ8"
      },
      "execution_count": null,
      "outputs": []
    },
    {
      "cell_type": "code",
      "source": [
        "train_df.shape"
      ],
      "metadata": {
        "colab": {
          "base_uri": "https://localhost:8080/"
        },
        "id": "8X1WoqRqEPtj",
        "outputId": "ee69730e-2442-492a-fe2e-e04fab1dc092"
      },
      "execution_count": null,
      "outputs": [
        {
          "output_type": "execute_result",
          "data": {
            "text/plain": [
              "(873, 2)"
            ]
          },
          "metadata": {},
          "execution_count": 4
        }
      ]
    },
    {
      "cell_type": "code",
      "source": [
        "val_df.shape"
      ],
      "metadata": {
        "colab": {
          "base_uri": "https://localhost:8080/"
        },
        "id": "6WdSGcpDEhqV",
        "outputId": "5d035ba3-cac7-4c0e-82f0-df1529bbac1d"
      },
      "execution_count": null,
      "outputs": [
        {
          "output_type": "execute_result",
          "data": {
            "text/plain": [
              "(98, 2)"
            ]
          },
          "metadata": {},
          "execution_count": 7
        }
      ]
    },
    {
      "cell_type": "code",
      "source": [
        "test_df.shape"
      ],
      "metadata": {
        "colab": {
          "base_uri": "https://localhost:8080/"
        },
        "id": "YMDjLyInEjer",
        "outputId": "d685e9f7-1c57-4fff-a051-ec9e357aee27"
      },
      "execution_count": null,
      "outputs": [
        {
          "output_type": "execute_result",
          "data": {
            "text/plain": [
              "(172, 2)"
            ]
          },
          "metadata": {},
          "execution_count": 8
        }
      ]
    },
    {
      "cell_type": "code",
      "source": [
        "import random\n",
        "random_index = random.randint(0, len(train_df) - 5)\n",
        "for row in train_df[['Teks', \"label\"]][random_index:random_index + 5].itertuples():\n",
        "  _, teks, target = row\n",
        "  if target == 0:\n",
        "    print(f\"Label : {target} (SMS BIASA)\")\n",
        "  elif target == 1:\n",
        "    print(f\"Label : {target} (SMS PENIPUAN)\")\n",
        "  elif target == 2:\n",
        "    print(f\"Label : {target} (SMS OPERATOR)\")\n",
        "  print(f\"Teks: {teks}\\n\")\n",
        "  print(\"--\\n\")"
      ],
      "metadata": {
        "colab": {
          "base_uri": "https://localhost:8080/"
        },
        "id": "yFVnxm6jEsmR",
        "outputId": "341a1dc1-778d-4172-f409-fce9e8911bce"
      },
      "execution_count": null,
      "outputs": [
        {
          "output_type": "stream",
          "name": "stdout",
          "text": [
            "Label : 2 (SMS OPERATOR)\n",
            "Teks: Mau Cepat GIFT Paket/Extra Kuota Internet & ga mau ribet isi ulang Pulsa? Download aja aplikasi myCare, smuanya jadi mudah. Install di http://bit.ly/mycarepLy\n",
            "\n",
            "--\n",
            "\n",
            "Label : 0 (SMS BIASA)\n",
            "Teks: nama1 .. Saya masih di perjalanan.. Besok aja habis jumatan ketemu di kanto.. Web service nya juga sudah bisa di akses\n",
            "\n",
            "--\n",
            "\n",
            "Label : 1 (SMS PENIPUAN)\n",
            "Teks: Surat keputusan PT.TRI.3 SimCard anda Resmi M-dptakan Hadiah HONDA JAZZ Rs Pin Undian: 477BFG7S. Info Hub: 089667794299 KLIK : www.gebyar-tricare.com\n",
            "\n",
            "--\n",
            "\n",
            "Label : 0 (SMS BIASA)\n",
            "Teks: Maaf Anda tidak bisa mengaktifkan paket FLASH ini karena nomor anda tidak terdaftar\n",
            "\n",
            "--\n",
            "\n",
            "Label : 0 (SMS BIASA)\n",
            "Teks: Ga ada birthday nya ? Wkwk\n",
            "\n",
            "--\n",
            "\n"
          ]
        }
      ]
    },
    {
      "cell_type": "code",
      "source": [
        "# siapkan label\n",
        "from tensorflow.keras.utils import to_categorical\n",
        "\n",
        "X_train, y_train = train_df.Teks, train_df.label\n",
        "X_val, y_val = val_df.Teks, val_df.label\n",
        "X_test, y_test = test_df.Teks, test_df.label\n",
        "\n",
        "y_train_ohe = to_categorical(y_train)\n",
        "y_val_ohe = to_categorical(y_val)\n",
        "y_test_ohe = to_categorical(y_test)"
      ],
      "metadata": {
        "id": "A7QOtsuCFid6"
      },
      "execution_count": null,
      "outputs": []
    },
    {
      "cell_type": "code",
      "source": [
        "# tokenisasi\n",
        "import tensorflow as tf\n",
        "from tensorflow.keras.layers import TextVectorization"
      ],
      "metadata": {
        "id": "98z1gWlOGVX0"
      },
      "execution_count": null,
      "outputs": []
    },
    {
      "cell_type": "code",
      "source": [
        "round(sum([len(i.split()) for i in X_train]) / len(X_train))"
      ],
      "metadata": {
        "colab": {
          "base_uri": "https://localhost:8080/"
        },
        "id": "ijPsRL6UJdfq",
        "outputId": "092fede8-b91d-4cf4-afb5-5bbadb24d3a9"
      },
      "execution_count": null,
      "outputs": [
        {
          "output_type": "execute_result",
          "data": {
            "text/plain": [
              "17"
            ]
          },
          "metadata": {},
          "execution_count": 8
        }
      ]
    },
    {
      "cell_type": "code",
      "source": [
        "# setup vect\n",
        "max_vocab_length = 3500\n",
        "max_length = 17\n",
        "\n",
        "text_vectorization = TextVectorization(max_tokens=max_vocab_length,\n",
        "                                       standardize=\"lower_and_strip_punctuation\",\n",
        "                                       split=\"whitespace\",\n",
        "                                       ngrams=None,\n",
        "                                       output_mode=\"int\",\n",
        "                                       output_sequence_length=max_length,\n",
        "                                       input_shape=(1,) # jika ingin menggunakan sequential API\n",
        "                                       )"
      ],
      "metadata": {
        "id": "s0daj49NJK19"
      },
      "execution_count": null,
      "outputs": []
    },
    {
      "cell_type": "code",
      "source": [
        "text_vectorization.adapt(X_train)"
      ],
      "metadata": {
        "id": "gAB3ceJOK0jT"
      },
      "execution_count": null,
      "outputs": []
    },
    {
      "cell_type": "code",
      "source": [
        "# sms baru\n",
        "sample_sms = \"selamat no anda memenangkan undian berhadiah babi ngepet\"\n",
        "text_vectorization([sample_sms])"
      ],
      "metadata": {
        "colab": {
          "base_uri": "https://localhost:8080/"
        },
        "id": "hPwNFjD_LAj0",
        "outputId": "8bac521b-8ae8-4515-92b6-f6cc89cebfde"
      },
      "execution_count": null,
      "outputs": [
        {
          "output_type": "execute_result",
          "data": {
            "text/plain": [
              "<tf.Tensor: shape=(1, 17), dtype=int64, numpy=\n",
              "array([[  33,   15,    3, 2748,   88,    1,    1,    1,    0,    0,    0,\n",
              "           0,    0,    0,    0,    0,    0]])>"
            ]
          },
          "metadata": {},
          "execution_count": 26
        }
      ]
    },
    {
      "cell_type": "code",
      "source": [
        "text_vectorization.get_vocabulary()[:5]"
      ],
      "metadata": {
        "colab": {
          "base_uri": "https://localhost:8080/"
        },
        "id": "dAUP5nD4LNoY",
        "outputId": "e5f42d7b-9e73-4480-b583-d638b45f9ab0"
      },
      "execution_count": null,
      "outputs": [
        {
          "output_type": "execute_result",
          "data": {
            "text/plain": [
              "['', '[UNK]', 'di', 'anda', 'ke']"
            ]
          },
          "metadata": {},
          "execution_count": 30
        }
      ]
    },
    {
      "cell_type": "code",
      "source": [
        "# embedding layer\n",
        "from tensorflow.keras.layers import Embedding\n",
        "\n",
        "embedding = Embedding(input_dim=max_vocab_length,\n",
        "                      output_dim=128,\n",
        "                      embeddings_initializer=\"uniform\",\n",
        "                      input_length=max_length\n",
        "                      )"
      ],
      "metadata": {
        "id": "MRyaxr1jLaMC"
      },
      "execution_count": null,
      "outputs": []
    },
    {
      "cell_type": "code",
      "source": [
        "sample_sms = \"selamat no anda memenangkan undian berhadiah babi ngepet\"\n",
        "emb_res = embedding(text_vectorization([sample_sms]))\n",
        "emb_res[0][2]"
      ],
      "metadata": {
        "colab": {
          "base_uri": "https://localhost:8080/"
        },
        "id": "joj4qqKgNWhr",
        "outputId": "fec3d866-5e8e-4ff3-cfb6-8d3ab4fcd3ea"
      },
      "execution_count": null,
      "outputs": [
        {
          "output_type": "execute_result",
          "data": {
            "text/plain": [
              "<tf.Tensor: shape=(128,), dtype=float32, numpy=\n",
              "array([ 0.03428899, -0.03451946, -0.00781988, -0.01979145, -0.01756976,\n",
              "        0.01296284, -0.02123101, -0.0342186 , -0.03339412, -0.01709861,\n",
              "        0.042089  , -0.0336923 , -0.00153359, -0.02194235,  0.00663483,\n",
              "        0.00992731,  0.04292   , -0.00398896, -0.00653485, -0.00213157,\n",
              "        0.03198905,  0.00679966, -0.03914181,  0.0151224 , -0.02015319,\n",
              "       -0.00472694, -0.04250383, -0.00182178,  0.01981303,  0.02769691,\n",
              "       -0.02540262,  0.03351225, -0.02605178,  0.03884189, -0.00264082,\n",
              "       -0.04444594, -0.01699115, -0.03713491,  0.04675516,  0.01800003,\n",
              "       -0.0422403 , -0.0247187 ,  0.00427764,  0.01529999, -0.04272334,\n",
              "        0.04593444,  0.00353203, -0.04356933, -0.0064467 , -0.03528144,\n",
              "        0.02189305,  0.02998096, -0.01041186,  0.01969199,  0.00283235,\n",
              "       -0.00583165,  0.00835796,  0.04030584, -0.00940956,  0.01464887,\n",
              "        0.03000981, -0.02854207,  0.03990506,  0.03118839, -0.00274731,\n",
              "       -0.00091293, -0.04080015,  0.00150398, -0.00385731,  0.03954059,\n",
              "       -0.00561877,  0.02720532,  0.02705473, -0.01215823, -0.00131125,\n",
              "       -0.02562419, -0.01387707, -0.00138227, -0.02114319, -0.04377156,\n",
              "        0.03864216, -0.04132981, -0.01016544, -0.03717637, -0.04792633,\n",
              "       -0.02895041, -0.00349406, -0.02007265, -0.04317973, -0.04499006,\n",
              "       -0.01250577, -0.00190333, -0.03023417, -0.01100166,  0.00939701,\n",
              "       -0.04279799,  0.0220666 ,  0.02901841, -0.00303746,  0.03760302,\n",
              "       -0.01932701, -0.02269859,  0.02032957, -0.0255344 , -0.00852362,\n",
              "        0.00183258, -0.00084219,  0.02113192, -0.04378949,  0.02459447,\n",
              "        0.04559583, -0.04305575, -0.00511473, -0.04821564,  0.03697101,\n",
              "        0.03548208,  0.03483706, -0.04600124,  0.00033913, -0.00288725,\n",
              "        0.04344988,  0.03060443,  0.00964755,  0.00275476,  0.02948659,\n",
              "       -0.03392432,  0.01034837, -0.04533825], dtype=float32)>"
            ]
          },
          "metadata": {},
          "execution_count": 41
        }
      ]
    },
    {
      "cell_type": "markdown",
      "source": [
        "Pemodelan"
      ],
      "metadata": {
        "id": "dUzJtbf3RC7w"
      }
    },
    {
      "cell_type": "code",
      "source": [
        "# fully connected layer\n",
        "from tensorflow.keras.layers import Dense, GlobalAveragePooling1D, Input\n",
        "from tensorflow.keras.models import Model, Sequential\n",
        "\n",
        "model = Sequential()\n",
        "model.add(text_vectorization)\n",
        "model.add(embedding)\n",
        "model.add(GlobalAveragePooling1D())\n",
        "model.add(Dense(32, activation='relu'))\n",
        "model.add(Dense(3, activation='softmax'))\n",
        "\n",
        "# inputs = Input(shape=(1,), dtype=\"string\")\n",
        "# x = text_vectorization(inputs)\n",
        "# x = embedding(x)\n",
        "# x = GlobalAveragePooling1D()(x)\n",
        "# x = Dense(32, activation='relu')(x)\n",
        "# out = Dense(3, activation='softmax')(x)\n",
        "# model = Model(inputs, out)\n",
        "\n",
        "\n",
        "\n",
        "model.compile(loss='categorical_crossentropy',\n",
        "              optimizer='adam',\n",
        "              metrics=['accuracy'])"
      ],
      "metadata": {
        "id": "daRN37YHRFPh"
      },
      "execution_count": null,
      "outputs": []
    },
    {
      "cell_type": "code",
      "source": [
        "model_1_hist = model.fit(X_train,\n",
        "                         y_train_ohe,\n",
        "                         epochs=50,\n",
        "                         validation_data=(X_val, y_val_ohe))"
      ],
      "metadata": {
        "colab": {
          "base_uri": "https://localhost:8080/"
        },
        "id": "5skoX_p0S7-4",
        "outputId": "a528f3e1-2381-4f92-ee47-14411c9207e6"
      },
      "execution_count": null,
      "outputs": [
        {
          "output_type": "stream",
          "name": "stdout",
          "text": [
            "Epoch 1/50\n",
            "28/28 [==============================] - 1s 11ms/step - loss: 0.9054 - accuracy: 0.9049 - val_loss: 0.7339 - val_accuracy: 0.8776\n",
            "Epoch 2/50\n",
            "28/28 [==============================] - 0s 5ms/step - loss: 0.5277 - accuracy: 0.9920 - val_loss: 0.4424 - val_accuracy: 0.8980\n",
            "Epoch 3/50\n",
            "28/28 [==============================] - 0s 5ms/step - loss: 0.2585 - accuracy: 0.9931 - val_loss: 0.2931 - val_accuracy: 0.9184\n",
            "Epoch 4/50\n",
            "28/28 [==============================] - 0s 5ms/step - loss: 0.1248 - accuracy: 0.9966 - val_loss: 0.2441 - val_accuracy: 0.8980\n",
            "Epoch 5/50\n",
            "28/28 [==============================] - 0s 5ms/step - loss: 0.0683 - accuracy: 0.9977 - val_loss: 0.2277 - val_accuracy: 0.9082\n",
            "Epoch 6/50\n",
            "28/28 [==============================] - 0s 6ms/step - loss: 0.0428 - accuracy: 0.9977 - val_loss: 0.2174 - val_accuracy: 0.9082\n",
            "Epoch 7/50\n",
            "28/28 [==============================] - 0s 6ms/step - loss: 0.0288 - accuracy: 0.9989 - val_loss: 0.2183 - val_accuracy: 0.9184\n",
            "Epoch 8/50\n",
            "28/28 [==============================] - 0s 5ms/step - loss: 0.0211 - accuracy: 1.0000 - val_loss: 0.2185 - val_accuracy: 0.9184\n",
            "Epoch 9/50\n",
            "28/28 [==============================] - 0s 5ms/step - loss: 0.0160 - accuracy: 1.0000 - val_loss: 0.2160 - val_accuracy: 0.9184\n",
            "Epoch 10/50\n",
            "28/28 [==============================] - 0s 5ms/step - loss: 0.0125 - accuracy: 1.0000 - val_loss: 0.2179 - val_accuracy: 0.9184\n",
            "Epoch 11/50\n",
            "28/28 [==============================] - 0s 5ms/step - loss: 0.0101 - accuracy: 1.0000 - val_loss: 0.2228 - val_accuracy: 0.9184\n",
            "Epoch 12/50\n",
            "28/28 [==============================] - 0s 5ms/step - loss: 0.0082 - accuracy: 1.0000 - val_loss: 0.2223 - val_accuracy: 0.9082\n",
            "Epoch 13/50\n",
            "28/28 [==============================] - 0s 5ms/step - loss: 0.0069 - accuracy: 1.0000 - val_loss: 0.2236 - val_accuracy: 0.9082\n",
            "Epoch 14/50\n",
            "28/28 [==============================] - 0s 6ms/step - loss: 0.0058 - accuracy: 1.0000 - val_loss: 0.2264 - val_accuracy: 0.9082\n",
            "Epoch 15/50\n",
            "28/28 [==============================] - 0s 6ms/step - loss: 0.0050 - accuracy: 1.0000 - val_loss: 0.2296 - val_accuracy: 0.9082\n",
            "Epoch 16/50\n",
            "28/28 [==============================] - 0s 5ms/step - loss: 0.0043 - accuracy: 1.0000 - val_loss: 0.2323 - val_accuracy: 0.9082\n",
            "Epoch 17/50\n",
            "28/28 [==============================] - 0s 5ms/step - loss: 0.0038 - accuracy: 1.0000 - val_loss: 0.2319 - val_accuracy: 0.9082\n",
            "Epoch 18/50\n",
            "28/28 [==============================] - 0s 5ms/step - loss: 0.0033 - accuracy: 1.0000 - val_loss: 0.2360 - val_accuracy: 0.9082\n",
            "Epoch 19/50\n",
            "28/28 [==============================] - 0s 6ms/step - loss: 0.0030 - accuracy: 1.0000 - val_loss: 0.2382 - val_accuracy: 0.9082\n",
            "Epoch 20/50\n",
            "28/28 [==============================] - 0s 5ms/step - loss: 0.0026 - accuracy: 1.0000 - val_loss: 0.2401 - val_accuracy: 0.9082\n",
            "Epoch 21/50\n",
            "28/28 [==============================] - 0s 5ms/step - loss: 0.0024 - accuracy: 1.0000 - val_loss: 0.2433 - val_accuracy: 0.9082\n",
            "Epoch 22/50\n",
            "28/28 [==============================] - 0s 6ms/step - loss: 0.0021 - accuracy: 1.0000 - val_loss: 0.2446 - val_accuracy: 0.9082\n",
            "Epoch 23/50\n",
            "28/28 [==============================] - 0s 5ms/step - loss: 0.0019 - accuracy: 1.0000 - val_loss: 0.2454 - val_accuracy: 0.9082\n",
            "Epoch 24/50\n",
            "28/28 [==============================] - 0s 5ms/step - loss: 0.0017 - accuracy: 1.0000 - val_loss: 0.2488 - val_accuracy: 0.9082\n",
            "Epoch 25/50\n",
            "28/28 [==============================] - 0s 5ms/step - loss: 0.0016 - accuracy: 1.0000 - val_loss: 0.2511 - val_accuracy: 0.9184\n",
            "Epoch 26/50\n",
            "28/28 [==============================] - 0s 5ms/step - loss: 0.0014 - accuracy: 1.0000 - val_loss: 0.2518 - val_accuracy: 0.9184\n",
            "Epoch 27/50\n",
            "28/28 [==============================] - 0s 5ms/step - loss: 0.0013 - accuracy: 1.0000 - val_loss: 0.2537 - val_accuracy: 0.9184\n",
            "Epoch 28/50\n",
            "28/28 [==============================] - 0s 5ms/step - loss: 0.0012 - accuracy: 1.0000 - val_loss: 0.2560 - val_accuracy: 0.9184\n",
            "Epoch 29/50\n",
            "28/28 [==============================] - 0s 5ms/step - loss: 0.0011 - accuracy: 1.0000 - val_loss: 0.2578 - val_accuracy: 0.9184\n",
            "Epoch 30/50\n",
            "28/28 [==============================] - 0s 5ms/step - loss: 0.0010 - accuracy: 1.0000 - val_loss: 0.2602 - val_accuracy: 0.9184\n",
            "Epoch 31/50\n",
            "28/28 [==============================] - 0s 5ms/step - loss: 9.6407e-04 - accuracy: 1.0000 - val_loss: 0.2607 - val_accuracy: 0.9184\n",
            "Epoch 32/50\n",
            "28/28 [==============================] - 0s 6ms/step - loss: 8.9717e-04 - accuracy: 1.0000 - val_loss: 0.2621 - val_accuracy: 0.9184\n",
            "Epoch 33/50\n",
            "28/28 [==============================] - 0s 5ms/step - loss: 8.3187e-04 - accuracy: 1.0000 - val_loss: 0.2648 - val_accuracy: 0.9184\n",
            "Epoch 34/50\n",
            "28/28 [==============================] - 0s 5ms/step - loss: 7.7754e-04 - accuracy: 1.0000 - val_loss: 0.2672 - val_accuracy: 0.9184\n",
            "Epoch 35/50\n",
            "28/28 [==============================] - 0s 6ms/step - loss: 7.2437e-04 - accuracy: 1.0000 - val_loss: 0.2681 - val_accuracy: 0.9184\n",
            "Epoch 36/50\n",
            "28/28 [==============================] - 0s 5ms/step - loss: 6.7748e-04 - accuracy: 1.0000 - val_loss: 0.2681 - val_accuracy: 0.9184\n",
            "Epoch 37/50\n",
            "28/28 [==============================] - 0s 6ms/step - loss: 6.3383e-04 - accuracy: 1.0000 - val_loss: 0.2733 - val_accuracy: 0.9184\n",
            "Epoch 38/50\n",
            "28/28 [==============================] - 0s 5ms/step - loss: 5.9613e-04 - accuracy: 1.0000 - val_loss: 0.2731 - val_accuracy: 0.9184\n",
            "Epoch 39/50\n",
            "28/28 [==============================] - 0s 5ms/step - loss: 5.5636e-04 - accuracy: 1.0000 - val_loss: 0.2737 - val_accuracy: 0.9184\n",
            "Epoch 40/50\n",
            "28/28 [==============================] - 0s 6ms/step - loss: 5.2538e-04 - accuracy: 1.0000 - val_loss: 0.2736 - val_accuracy: 0.9184\n",
            "Epoch 41/50\n",
            "28/28 [==============================] - 0s 5ms/step - loss: 4.9359e-04 - accuracy: 1.0000 - val_loss: 0.2753 - val_accuracy: 0.9184\n",
            "Epoch 42/50\n",
            "28/28 [==============================] - 0s 5ms/step - loss: 4.6715e-04 - accuracy: 1.0000 - val_loss: 0.2768 - val_accuracy: 0.9184\n",
            "Epoch 43/50\n",
            "28/28 [==============================] - 0s 5ms/step - loss: 4.4053e-04 - accuracy: 1.0000 - val_loss: 0.2769 - val_accuracy: 0.9184\n",
            "Epoch 44/50\n",
            "28/28 [==============================] - 0s 5ms/step - loss: 4.2013e-04 - accuracy: 1.0000 - val_loss: 0.2814 - val_accuracy: 0.9184\n",
            "Epoch 45/50\n",
            "28/28 [==============================] - 0s 5ms/step - loss: 3.9314e-04 - accuracy: 1.0000 - val_loss: 0.2822 - val_accuracy: 0.9184\n",
            "Epoch 46/50\n",
            "28/28 [==============================] - 0s 5ms/step - loss: 3.7273e-04 - accuracy: 1.0000 - val_loss: 0.2829 - val_accuracy: 0.9184\n",
            "Epoch 47/50\n",
            "28/28 [==============================] - 0s 5ms/step - loss: 3.5310e-04 - accuracy: 1.0000 - val_loss: 0.2836 - val_accuracy: 0.9184\n",
            "Epoch 48/50\n",
            "28/28 [==============================] - 0s 5ms/step - loss: 3.3600e-04 - accuracy: 1.0000 - val_loss: 0.2847 - val_accuracy: 0.9184\n",
            "Epoch 49/50\n",
            "28/28 [==============================] - 0s 5ms/step - loss: 3.1882e-04 - accuracy: 1.0000 - val_loss: 0.2876 - val_accuracy: 0.9184\n",
            "Epoch 50/50\n",
            "28/28 [==============================] - 0s 5ms/step - loss: 3.0322e-04 - accuracy: 1.0000 - val_loss: 0.2881 - val_accuracy: 0.9184\n"
          ]
        }
      ]
    },
    {
      "cell_type": "code",
      "source": [
        "metrics = pd.DataFrame(model_1_hist.history)\n",
        "metrics[['loss', 'val_loss']].plot()"
      ],
      "metadata": {
        "colab": {
          "base_uri": "https://localhost:8080/",
          "height": 283
        },
        "id": "Gv7MolP_TfcO",
        "outputId": "1cb3eec5-31fb-47d8-ebcb-cba5aee711c2"
      },
      "execution_count": null,
      "outputs": [
        {
          "output_type": "execute_result",
          "data": {
            "text/plain": [
              "<matplotlib.axes._subplots.AxesSubplot at 0x7f2cec947a50>"
            ]
          },
          "metadata": {},
          "execution_count": 17
        },
        {
          "output_type": "display_data",
          "data": {
            "text/plain": [
              "<Figure size 432x288 with 1 Axes>"
            ],
            "image/png": "[encoded data removed]"
          },
          "metadata": {
            "needs_background": "light"
          }
        }
      ]
    },
    {
      "cell_type": "code",
      "source": [
        "from sklearn.metrics import classification_report\n",
        "\n",
        "y_pred = model.predict(X_val)\n",
        "y_pred = y_pred.argmax(axis=1)\n",
        "print(classification_report(y_val, y_pred))"
      ],
      "metadata": {
        "colab": {
          "base_uri": "https://localhost:8080/"
        },
        "id": "0OuBuKvWWAsT",
        "outputId": "b3b88083-f325-477f-b3ff-62eedd52f4bb"
      },
      "execution_count": null,
      "outputs": [
        {
          "output_type": "stream",
          "name": "stdout",
          "text": [
            "              precision    recall  f1-score   support\n",
            "\n",
            "           0       0.98      0.96      0.97        49\n",
            "           1       0.82      0.97      0.89        29\n",
            "           2       0.94      0.75      0.83        20\n",
            "\n",
            "    accuracy                           0.92        98\n",
            "   macro avg       0.91      0.89      0.90        98\n",
            "weighted avg       0.92      0.92      0.92        98\n",
            "\n"
          ]
        }
      ]
    },
    {
      "cell_type": "code",
      "source": [
        "sms_baru = [\n",
        "            \"hai bro, apa kabar?\",\n",
        "            \"dapatkan kuota 1 GB hanya 10 ribu saja, beli di MyGsm\",\n",
        "            \"pesugihan halal, lipatgandakan uang ada dan lunasi hutang anda\"\n",
        "]\n",
        "\n",
        "hasil = model.predict(sms_baru)\n",
        "hasil.argmax(axis=1)"
      ],
      "metadata": {
        "colab": {
          "base_uri": "https://localhost:8080/"
        },
        "id": "kVLgxsZMX5mA",
        "outputId": "08c8ee7c-bd00-4f9a-af3c-e963a683bfc9"
      },
      "execution_count": null,
      "outputs": [
        {
          "output_type": "execute_result",
          "data": {
            "text/plain": [
              "array([0, 2, 0])"
            ]
          },
          "metadata": {},
          "execution_count": 25
        }
      ]
    },
    {
      "cell_type": "code",
      "source": [
        "# model LSTM\n",
        "from tensorflow.keras.layers import LSTM, Dropout\n",
        "\n",
        "model = Sequential()\n",
        "model.add(text_vectorization)\n",
        "model.add(embedding)\n",
        "model.add(Dropout(0.4))\n",
        "model.add(LSTM(4))\n",
        "model.add(Dropout(0.3))\n",
        "model.add(Dense(3, activation='softmax'))\n",
        "\n",
        "\n",
        "model.compile(loss='categorical_crossentropy',\n",
        "              optimizer='adam',\n",
        "              metrics=['accuracy'])"
      ],
      "metadata": {
        "id": "66ukfI2OYN6j"
      },
      "execution_count": null,
      "outputs": []
    },
    {
      "cell_type": "code",
      "source": [
        "model_2_hist = model.fit(X_train,\n",
        "                         y_train_ohe,\n",
        "                         epochs=50,\n",
        "                         validation_data=(X_val, y_val_ohe))"
      ],
      "metadata": {
        "colab": {
          "base_uri": "https://localhost:8080/"
        },
        "id": "VF6ShdHVYxKF",
        "outputId": "f87de57c-fb61-4703-ad36-e6b267ab03f4"
      },
      "execution_count": null,
      "outputs": [
        {
          "output_type": "stream",
          "name": "stdout",
          "text": [
            "Epoch 1/50\n",
            "28/28 [==============================] - 3s 24ms/step - loss: 1.0205 - accuracy: 0.4238 - val_loss: 0.8961 - val_accuracy: 0.7653\n",
            "Epoch 2/50\n",
            "28/28 [==============================] - 0s 6ms/step - loss: 0.7551 - accuracy: 0.7595 - val_loss: 0.6713 - val_accuracy: 0.8776\n",
            "Epoch 3/50\n",
            "28/28 [==============================] - 0s 6ms/step - loss: 0.5552 - accuracy: 0.8511 - val_loss: 0.5496 - val_accuracy: 0.8776\n",
            "Epoch 4/50\n",
            "28/28 [==============================] - 0s 6ms/step - loss: 0.4239 - accuracy: 0.9198 - val_loss: 0.4957 - val_accuracy: 0.8776\n",
            "Epoch 5/50\n",
            "28/28 [==============================] - 0s 6ms/step - loss: 0.3524 - accuracy: 0.9381 - val_loss: 0.4989 - val_accuracy: 0.8469\n",
            "Epoch 6/50\n",
            "28/28 [==============================] - 0s 6ms/step - loss: 0.2923 - accuracy: 0.9404 - val_loss: 0.4217 - val_accuracy: 0.8878\n",
            "Epoch 7/50\n",
            "28/28 [==============================] - 0s 7ms/step - loss: 0.2714 - accuracy: 0.9496 - val_loss: 0.4133 - val_accuracy: 0.8878\n",
            "Epoch 8/50\n",
            "28/28 [==============================] - 0s 7ms/step - loss: 0.2352 - accuracy: 0.9668 - val_loss: 0.4351 - val_accuracy: 0.8776\n",
            "Epoch 9/50\n",
            "28/28 [==============================] - 0s 6ms/step - loss: 0.2157 - accuracy: 0.9679 - val_loss: 0.3217 - val_accuracy: 0.9184\n",
            "Epoch 10/50\n",
            "28/28 [==============================] - 0s 6ms/step - loss: 0.2056 - accuracy: 0.9553 - val_loss: 0.3049 - val_accuracy: 0.9388\n",
            "Epoch 11/50\n",
            "28/28 [==============================] - 0s 7ms/step - loss: 0.2110 - accuracy: 0.9553 - val_loss: 0.4592 - val_accuracy: 0.8571\n",
            "Epoch 12/50\n",
            "28/28 [==============================] - 0s 7ms/step - loss: 0.1964 - accuracy: 0.9565 - val_loss: 0.2836 - val_accuracy: 0.9184\n",
            "Epoch 13/50\n",
            "28/28 [==============================] - 0s 7ms/step - loss: 0.1888 - accuracy: 0.9599 - val_loss: 0.3098 - val_accuracy: 0.9082\n",
            "Epoch 14/50\n",
            "28/28 [==============================] - 0s 6ms/step - loss: 0.1757 - accuracy: 0.9530 - val_loss: 0.2711 - val_accuracy: 0.9490\n",
            "Epoch 15/50\n",
            "28/28 [==============================] - 0s 6ms/step - loss: 0.1663 - accuracy: 0.9588 - val_loss: 0.2908 - val_accuracy: 0.9184\n",
            "Epoch 16/50\n",
            "28/28 [==============================] - 0s 6ms/step - loss: 0.1546 - accuracy: 0.9714 - val_loss: 0.2837 - val_accuracy: 0.9388\n",
            "Epoch 17/50\n",
            "28/28 [==============================] - 0s 6ms/step - loss: 0.1536 - accuracy: 0.9691 - val_loss: 0.2657 - val_accuracy: 0.9490\n",
            "Epoch 18/50\n",
            "28/28 [==============================] - 0s 7ms/step - loss: 0.1684 - accuracy: 0.9473 - val_loss: 0.2651 - val_accuracy: 0.9490\n",
            "Epoch 19/50\n",
            "28/28 [==============================] - 0s 6ms/step - loss: 0.1515 - accuracy: 0.9565 - val_loss: 0.5266 - val_accuracy: 0.8469\n",
            "Epoch 20/50\n",
            "28/28 [==============================] - 0s 7ms/step - loss: 0.1389 - accuracy: 0.9633 - val_loss: 0.2667 - val_accuracy: 0.9286\n",
            "Epoch 21/50\n",
            "28/28 [==============================] - 0s 6ms/step - loss: 0.1604 - accuracy: 0.9633 - val_loss: 0.2978 - val_accuracy: 0.9184\n",
            "Epoch 22/50\n",
            "28/28 [==============================] - 0s 7ms/step - loss: 0.1361 - accuracy: 0.9725 - val_loss: 0.2785 - val_accuracy: 0.9388\n",
            "Epoch 23/50\n",
            "28/28 [==============================] - 0s 6ms/step - loss: 0.1417 - accuracy: 0.9645 - val_loss: 0.2683 - val_accuracy: 0.9388\n",
            "Epoch 24/50\n",
            "28/28 [==============================] - 0s 7ms/step - loss: 0.1383 - accuracy: 0.9588 - val_loss: 0.2584 - val_accuracy: 0.9388\n",
            "Epoch 25/50\n",
            "28/28 [==============================] - 0s 7ms/step - loss: 0.1427 - accuracy: 0.9576 - val_loss: 0.2536 - val_accuracy: 0.9388\n",
            "Epoch 26/50\n",
            "28/28 [==============================] - 0s 6ms/step - loss: 0.1283 - accuracy: 0.9679 - val_loss: 0.2511 - val_accuracy: 0.9388\n",
            "Epoch 27/50\n",
            "28/28 [==============================] - 0s 6ms/step - loss: 0.1248 - accuracy: 0.9679 - val_loss: 0.2518 - val_accuracy: 0.9490\n",
            "Epoch 28/50\n",
            "28/28 [==============================] - 0s 6ms/step - loss: 0.1243 - accuracy: 0.9714 - val_loss: 0.2519 - val_accuracy: 0.9388\n",
            "Epoch 29/50\n",
            "28/28 [==============================] - 0s 7ms/step - loss: 0.1176 - accuracy: 0.9633 - val_loss: 0.2514 - val_accuracy: 0.9388\n",
            "Epoch 30/50\n",
            "28/28 [==============================] - 0s 7ms/step - loss: 0.1261 - accuracy: 0.9633 - val_loss: 0.2522 - val_accuracy: 0.9388\n",
            "Epoch 31/50\n",
            "28/28 [==============================] - 0s 7ms/step - loss: 0.1204 - accuracy: 0.9645 - val_loss: 0.2528 - val_accuracy: 0.9388\n",
            "Epoch 32/50\n",
            "28/28 [==============================] - 0s 7ms/step - loss: 0.1266 - accuracy: 0.9588 - val_loss: 0.2540 - val_accuracy: 0.9388\n",
            "Epoch 33/50\n",
            "28/28 [==============================] - 0s 7ms/step - loss: 0.1094 - accuracy: 0.9702 - val_loss: 0.2540 - val_accuracy: 0.9388\n",
            "Epoch 34/50\n",
            "28/28 [==============================] - 0s 7ms/step - loss: 0.1077 - accuracy: 0.9668 - val_loss: 0.2546 - val_accuracy: 0.9388\n",
            "Epoch 35/50\n",
            "28/28 [==============================] - 0s 6ms/step - loss: 0.1157 - accuracy: 0.9633 - val_loss: 0.2557 - val_accuracy: 0.9388\n",
            "Epoch 36/50\n",
            "28/28 [==============================] - 0s 7ms/step - loss: 0.1155 - accuracy: 0.9622 - val_loss: 0.2567 - val_accuracy: 0.9388\n",
            "Epoch 37/50\n",
            "28/28 [==============================] - 0s 6ms/step - loss: 0.1156 - accuracy: 0.9611 - val_loss: 0.2574 - val_accuracy: 0.9388\n",
            "Epoch 38/50\n",
            "28/28 [==============================] - 0s 6ms/step - loss: 0.1042 - accuracy: 0.9656 - val_loss: 0.2590 - val_accuracy: 0.9388\n",
            "Epoch 39/50\n",
            "28/28 [==============================] - 0s 6ms/step - loss: 0.1215 - accuracy: 0.9507 - val_loss: 0.2602 - val_accuracy: 0.9388\n",
            "Epoch 40/50\n",
            "28/28 [==============================] - 0s 7ms/step - loss: 0.1105 - accuracy: 0.9565 - val_loss: 0.2614 - val_accuracy: 0.9388\n",
            "Epoch 41/50\n",
            "28/28 [==============================] - 0s 7ms/step - loss: 0.1124 - accuracy: 0.9611 - val_loss: 0.2651 - val_accuracy: 0.9388\n",
            "Epoch 42/50\n",
            "28/28 [==============================] - 0s 6ms/step - loss: 0.0967 - accuracy: 0.9714 - val_loss: 0.2659 - val_accuracy: 0.9388\n",
            "Epoch 43/50\n",
            "28/28 [==============================] - 0s 7ms/step - loss: 0.1137 - accuracy: 0.9519 - val_loss: 0.2673 - val_accuracy: 0.9388\n",
            "Epoch 44/50\n",
            "28/28 [==============================] - 0s 6ms/step - loss: 0.1042 - accuracy: 0.9599 - val_loss: 0.2688 - val_accuracy: 0.9388\n",
            "Epoch 45/50\n",
            "28/28 [==============================] - 0s 8ms/step - loss: 0.1058 - accuracy: 0.9656 - val_loss: 0.2694 - val_accuracy: 0.9388\n",
            "Epoch 46/50\n",
            "28/28 [==============================] - 0s 6ms/step - loss: 0.1091 - accuracy: 0.9611 - val_loss: 0.2708 - val_accuracy: 0.9388\n",
            "Epoch 47/50\n",
            "28/28 [==============================] - 0s 6ms/step - loss: 0.0964 - accuracy: 0.9656 - val_loss: 0.2705 - val_accuracy: 0.9388\n",
            "Epoch 48/50\n",
            "28/28 [==============================] - 0s 6ms/step - loss: 0.0967 - accuracy: 0.9633 - val_loss: 0.2715 - val_accuracy: 0.9388\n",
            "Epoch 49/50\n",
            "28/28 [==============================] - 0s 7ms/step - loss: 0.0994 - accuracy: 0.9645 - val_loss: 0.2724 - val_accuracy: 0.9388\n",
            "Epoch 50/50\n",
            "28/28 [==============================] - 0s 7ms/step - loss: 0.1004 - accuracy: 0.9622 - val_loss: 0.2735 - val_accuracy: 0.9388\n"
          ]
        }
      ]
    },
    {
      "cell_type": "code",
      "source": [
        "metrics = pd.DataFrame(model_2_hist.history)\n",
        "metrics[['loss', 'val_loss']].plot()"
      ],
      "metadata": {
        "colab": {
          "base_uri": "https://localhost:8080/",
          "height": 283
        },
        "id": "4Ueeg2yXY7Jr",
        "outputId": "e32a4058-853b-41ff-de8d-e932d59c6e1e"
      },
      "execution_count": null,
      "outputs": [
        {
          "output_type": "execute_result",
          "data": {
            "text/plain": [
              "<matplotlib.axes._subplots.AxesSubplot at 0x7f2cfc849dd0>"
            ]
          },
          "metadata": {},
          "execution_count": 41
        },
        {
          "output_type": "display_data",
          "data": {
            "text/plain": [
              "<Figure size 432x288 with 1 Axes>"
            ],
            "image/png": "[encoded data removed]"
          },
          "metadata": {
            "needs_background": "light"
          }
        }
      ]
    },
    {
      "cell_type": "code",
      "source": [
        "y_pred = model.predict(X_val)\n",
        "y_pred = y_pred.argmax(axis=1)\n",
        "print(classification_report(y_val, y_pred))"
      ],
      "metadata": {
        "colab": {
          "base_uri": "https://localhost:8080/"
        },
        "id": "dYsAckzLZIRZ",
        "outputId": "f767262e-1aea-45ec-8e22-358f4a13449a"
      },
      "execution_count": null,
      "outputs": [
        {
          "output_type": "stream",
          "name": "stdout",
          "text": [
            "              precision    recall  f1-score   support\n",
            "\n",
            "           0       0.94      1.00      0.97        49\n",
            "           1       0.96      0.90      0.93        29\n",
            "           2       0.89      0.85      0.87        20\n",
            "\n",
            "    accuracy                           0.94        98\n",
            "   macro avg       0.93      0.92      0.92        98\n",
            "weighted avg       0.94      0.94      0.94        98\n",
            "\n"
          ]
        }
      ]
    },
    {
      "cell_type": "code",
      "source": [
        "sms_baru = [\n",
        "            \"hai bro, apa kabar?\",\n",
        "            \"dapatkan kuota 1 GB hanya 10 ribu saja, beli di MyGsm\",\n",
        "            \"pesugihan halal, lipatgandakan uang ada dan lunasi hutang anda\"\n",
        "]\n",
        "\n",
        "hasil = model.predict(sms_baru)\n",
        "hasil.argmax(axis=1)"
      ],
      "metadata": {
        "colab": {
          "base_uri": "https://localhost:8080/"
        },
        "id": "TmLjANcKaJRz",
        "outputId": "ccf1dd76-1062-4723-9694-8806c4cc4df0"
      },
      "execution_count": null,
      "outputs": [
        {
          "output_type": "execute_result",
          "data": {
            "text/plain": [
              "array([0, 2, 0])"
            ]
          },
          "metadata": {},
          "execution_count": 43
        }
      ]
    },
    {
      "cell_type": "code",
      "source": [
        "# model LSTM\n",
        "from tensorflow.keras.layers import GRU\n",
        "\n",
        "model = Sequential()\n",
        "model.add(text_vectorization)\n",
        "model.add(embedding)\n",
        "model.add(Dropout(0.4))\n",
        "model.add(GRU(2))\n",
        "model.add(Dropout(0.3))\n",
        "model.add(Dense(3, activation='softmax'))\n",
        "\n",
        "\n",
        "model.compile(loss='categorical_crossentropy',\n",
        "              optimizer='adam',\n",
        "              metrics=['accuracy'])"
      ],
      "metadata": {
        "id": "JStZ7D4KaPHv"
      },
      "execution_count": null,
      "outputs": []
    },
    {
      "cell_type": "code",
      "source": [
        "model_3_hist = model.fit(X_train,\n",
        "                         y_train_ohe,\n",
        "                         epochs=50,\n",
        "                         validation_data=(X_val, y_val_ohe))"
      ],
      "metadata": {
        "colab": {
          "base_uri": "https://localhost:8080/"
        },
        "id": "t8V1esQ_ah24",
        "outputId": "64ba7b40-bc4d-4588-edb0-33350a79adc3"
      },
      "execution_count": null,
      "outputs": [
        {
          "output_type": "stream",
          "name": "stdout",
          "text": [
            "Epoch 1/50\n",
            "28/28 [==============================] - 3s 24ms/step - loss: 0.9611 - accuracy: 0.6037 - val_loss: 0.8673 - val_accuracy: 0.6939\n",
            "Epoch 2/50\n",
            "28/28 [==============================] - 0s 6ms/step - loss: 0.8123 - accuracy: 0.7148 - val_loss: 0.7674 - val_accuracy: 0.7551\n",
            "Epoch 3/50\n",
            "28/28 [==============================] - 0s 6ms/step - loss: 0.7388 - accuracy: 0.7251 - val_loss: 0.6996 - val_accuracy: 0.7857\n",
            "Epoch 4/50\n",
            "28/28 [==============================] - 0s 6ms/step - loss: 0.6563 - accuracy: 0.7491 - val_loss: 0.6466 - val_accuracy: 0.7857\n",
            "Epoch 5/50\n",
            "28/28 [==============================] - 0s 6ms/step - loss: 0.6032 - accuracy: 0.7927 - val_loss: 0.6048 - val_accuracy: 0.7959\n",
            "Epoch 6/50\n",
            "28/28 [==============================] - 0s 7ms/step - loss: 0.5925 - accuracy: 0.7927 - val_loss: 0.5762 - val_accuracy: 0.8265\n",
            "Epoch 7/50\n",
            "28/28 [==============================] - 0s 6ms/step - loss: 0.5523 - accuracy: 0.8225 - val_loss: 0.5519 - val_accuracy: 0.8265\n",
            "Epoch 8/50\n",
            "28/28 [==============================] - 0s 6ms/step - loss: 0.5431 - accuracy: 0.8202 - val_loss: 0.5317 - val_accuracy: 0.8367\n",
            "Epoch 9/50\n",
            "28/28 [==============================] - 0s 7ms/step - loss: 0.5155 - accuracy: 0.8477 - val_loss: 0.5142 - val_accuracy: 0.8571\n",
            "Epoch 10/50\n",
            "28/28 [==============================] - 0s 6ms/step - loss: 0.4878 - accuracy: 0.8396 - val_loss: 0.4994 - val_accuracy: 0.8571\n",
            "Epoch 11/50\n",
            "28/28 [==============================] - 0s 7ms/step - loss: 0.4837 - accuracy: 0.8247 - val_loss: 0.4870 - val_accuracy: 0.8878\n",
            "Epoch 12/50\n",
            "28/28 [==============================] - 0s 6ms/step - loss: 0.4508 - accuracy: 0.8522 - val_loss: 0.4750 - val_accuracy: 0.8878\n",
            "Epoch 13/50\n",
            "28/28 [==============================] - 0s 6ms/step - loss: 0.4583 - accuracy: 0.8431 - val_loss: 0.4637 - val_accuracy: 0.8878\n",
            "Epoch 14/50\n",
            "28/28 [==============================] - 0s 6ms/step - loss: 0.4480 - accuracy: 0.8408 - val_loss: 0.4541 - val_accuracy: 0.8980\n",
            "Epoch 15/50\n",
            "28/28 [==============================] - 0s 6ms/step - loss: 0.4340 - accuracy: 0.8545 - val_loss: 0.4439 - val_accuracy: 0.8980\n",
            "Epoch 16/50\n",
            "28/28 [==============================] - 0s 7ms/step - loss: 0.4265 - accuracy: 0.8477 - val_loss: 0.4354 - val_accuracy: 0.8776\n",
            "Epoch 17/50\n",
            "28/28 [==============================] - 0s 6ms/step - loss: 0.4209 - accuracy: 0.8373 - val_loss: 0.4293 - val_accuracy: 0.8878\n",
            "Epoch 18/50\n",
            "28/28 [==============================] - 0s 7ms/step - loss: 0.4058 - accuracy: 0.8534 - val_loss: 0.4219 - val_accuracy: 0.8878\n",
            "Epoch 19/50\n",
            "28/28 [==============================] - 0s 6ms/step - loss: 0.4028 - accuracy: 0.8454 - val_loss: 0.4146 - val_accuracy: 0.8878\n",
            "Epoch 20/50\n",
            "28/28 [==============================] - 0s 6ms/step - loss: 0.3951 - accuracy: 0.8499 - val_loss: 0.4064 - val_accuracy: 0.8878\n",
            "Epoch 21/50\n",
            "28/28 [==============================] - 0s 6ms/step - loss: 0.3841 - accuracy: 0.8431 - val_loss: 0.4014 - val_accuracy: 0.8878\n",
            "Epoch 22/50\n",
            "28/28 [==============================] - 0s 7ms/step - loss: 0.3911 - accuracy: 0.8373 - val_loss: 0.3953 - val_accuracy: 0.8878\n",
            "Epoch 23/50\n",
            "28/28 [==============================] - 0s 6ms/step - loss: 0.3844 - accuracy: 0.8328 - val_loss: 0.3908 - val_accuracy: 0.8878\n",
            "Epoch 24/50\n",
            "28/28 [==============================] - 0s 6ms/step - loss: 0.3699 - accuracy: 0.8545 - val_loss: 0.3869 - val_accuracy: 0.8878\n",
            "Epoch 25/50\n",
            "28/28 [==============================] - 0s 6ms/step - loss: 0.3619 - accuracy: 0.8568 - val_loss: 0.3812 - val_accuracy: 0.8878\n",
            "Epoch 26/50\n",
            "28/28 [==============================] - 0s 6ms/step - loss: 0.3692 - accuracy: 0.8419 - val_loss: 0.3759 - val_accuracy: 0.8878\n",
            "Epoch 27/50\n",
            "28/28 [==============================] - 0s 6ms/step - loss: 0.3545 - accuracy: 0.8442 - val_loss: 0.3699 - val_accuracy: 0.8980\n",
            "Epoch 28/50\n",
            "28/28 [==============================] - 0s 7ms/step - loss: 0.3537 - accuracy: 0.8431 - val_loss: 0.3654 - val_accuracy: 0.8980\n",
            "Epoch 29/50\n",
            "28/28 [==============================] - 0s 6ms/step - loss: 0.3449 - accuracy: 0.8442 - val_loss: 0.3604 - val_accuracy: 0.8980\n",
            "Epoch 30/50\n",
            "28/28 [==============================] - 0s 6ms/step - loss: 0.3461 - accuracy: 0.8488 - val_loss: 0.3561 - val_accuracy: 0.9082\n",
            "Epoch 31/50\n",
            "28/28 [==============================] - 0s 7ms/step - loss: 0.3537 - accuracy: 0.8328 - val_loss: 0.3518 - val_accuracy: 0.9082\n",
            "Epoch 32/50\n",
            "28/28 [==============================] - 0s 6ms/step - loss: 0.3400 - accuracy: 0.8408 - val_loss: 0.3469 - val_accuracy: 0.9082\n",
            "Epoch 33/50\n",
            "28/28 [==============================] - 0s 6ms/step - loss: 0.3602 - accuracy: 0.8362 - val_loss: 0.3435 - val_accuracy: 0.9082\n",
            "Epoch 34/50\n",
            "28/28 [==============================] - 0s 6ms/step - loss: 0.3293 - accuracy: 0.8522 - val_loss: 0.3409 - val_accuracy: 0.9082\n",
            "Epoch 35/50\n",
            "28/28 [==============================] - 0s 7ms/step - loss: 0.3406 - accuracy: 0.8339 - val_loss: 0.3360 - val_accuracy: 0.9082\n",
            "Epoch 36/50\n",
            "28/28 [==============================] - 0s 6ms/step - loss: 0.3344 - accuracy: 0.8488 - val_loss: 0.3316 - val_accuracy: 0.9082\n",
            "Epoch 37/50\n",
            "28/28 [==============================] - 0s 7ms/step - loss: 0.3398 - accuracy: 0.8419 - val_loss: 0.3288 - val_accuracy: 0.9082\n",
            "Epoch 38/50\n",
            "28/28 [==============================] - 0s 6ms/step - loss: 0.3475 - accuracy: 0.8362 - val_loss: 0.3250 - val_accuracy: 0.9082\n",
            "Epoch 39/50\n",
            "28/28 [==============================] - 0s 7ms/step - loss: 0.3314 - accuracy: 0.8351 - val_loss: 0.3241 - val_accuracy: 0.8980\n",
            "Epoch 40/50\n",
            "28/28 [==============================] - 0s 6ms/step - loss: 0.3188 - accuracy: 0.8568 - val_loss: 0.3182 - val_accuracy: 0.8980\n",
            "Epoch 41/50\n",
            "28/28 [==============================] - 0s 7ms/step - loss: 0.3051 - accuracy: 0.8614 - val_loss: 0.3142 - val_accuracy: 0.8980\n",
            "Epoch 42/50\n",
            "28/28 [==============================] - 0s 7ms/step - loss: 0.3318 - accuracy: 0.8488 - val_loss: 0.3124 - val_accuracy: 0.8776\n",
            "Epoch 43/50\n",
            "28/28 [==============================] - 0s 6ms/step - loss: 0.3426 - accuracy: 0.8247 - val_loss: 0.3108 - val_accuracy: 0.8776\n",
            "Epoch 44/50\n",
            "28/28 [==============================] - 0s 6ms/step - loss: 0.3028 - accuracy: 0.8568 - val_loss: 0.3108 - val_accuracy: 0.8776\n",
            "Epoch 45/50\n",
            "28/28 [==============================] - 0s 7ms/step - loss: 0.3117 - accuracy: 0.8282 - val_loss: 0.3089 - val_accuracy: 0.8776\n",
            "Epoch 46/50\n",
            "28/28 [==============================] - 0s 6ms/step - loss: 0.3150 - accuracy: 0.8396 - val_loss: 0.3063 - val_accuracy: 0.8776\n",
            "Epoch 47/50\n",
            "28/28 [==============================] - 0s 6ms/step - loss: 0.3194 - accuracy: 0.8408 - val_loss: 0.3035 - val_accuracy: 0.8776\n",
            "Epoch 48/50\n",
            "28/28 [==============================] - 0s 6ms/step - loss: 0.2990 - accuracy: 0.8545 - val_loss: 0.3037 - val_accuracy: 0.8776\n",
            "Epoch 49/50\n",
            "28/28 [==============================] - 0s 7ms/step - loss: 0.3299 - accuracy: 0.8236 - val_loss: 0.3032 - val_accuracy: 0.8776\n",
            "Epoch 50/50\n",
            "28/28 [==============================] - 0s 7ms/step - loss: 0.3119 - accuracy: 0.8373 - val_loss: 0.3020 - val_accuracy: 0.8776\n"
          ]
        }
      ]
    },
    {
      "cell_type": "code",
      "source": [
        "metrics = pd.DataFrame(model_3_hist.history)\n",
        "metrics[['loss', 'val_loss']].plot()"
      ],
      "metadata": {
        "colab": {
          "base_uri": "https://localhost:8080/",
          "height": 283
        },
        "id": "BOB56xNkalOo",
        "outputId": "cf39e706-a3b6-438f-f516-2f4429b390d3"
      },
      "execution_count": null,
      "outputs": [
        {
          "output_type": "execute_result",
          "data": {
            "text/plain": [
              "<matplotlib.axes._subplots.AxesSubplot at 0x7f2cfa505d50>"
            ]
          },
          "metadata": {},
          "execution_count": 51
        },
        {
          "output_type": "display_data",
          "data": {
            "text/plain": [
              "<Figure size 432x288 with 1 Axes>"
            ],
            "image/png": "[encoded data removed]"
          },
          "metadata": {
            "needs_background": "light"
          }
        }
      ]
    },
    {
      "cell_type": "code",
      "source": [
        "y_pred = model.predict(X_val)\n",
        "y_pred = y_pred.argmax(axis=1)\n",
        "print(classification_report(y_val, y_pred))"
      ],
      "metadata": {
        "colab": {
          "base_uri": "https://localhost:8080/"
        },
        "id": "yeVKV6cjatux",
        "outputId": "c2705d36-3cb0-4fea-90bd-edc9db68d8a4"
      },
      "execution_count": null,
      "outputs": [
        {
          "output_type": "stream",
          "name": "stdout",
          "text": [
            "              precision    recall  f1-score   support\n",
            "\n",
            "           0       0.94      0.92      0.93        49\n",
            "           1       0.84      0.90      0.87        29\n",
            "           2       0.79      0.75      0.77        20\n",
            "\n",
            "    accuracy                           0.88        98\n",
            "   macro avg       0.86      0.85      0.85        98\n",
            "weighted avg       0.88      0.88      0.88        98\n",
            "\n"
          ]
        }
      ]
    },
    {
      "cell_type": "code",
      "source": [
        "sms_baru = [\n",
        "            \"hai bro, apa kabar?\",\n",
        "            \"dapatkan kuota 1 GB hanya 10 ribu saja, beli di MyGsm\",\n",
        "            \"pesugihan halal, lipatgandakan uang ada dan lunasi hutang anda\"\n",
        "]\n",
        "\n",
        "hasil = model.predict(sms_baru)\n",
        "hasil.argmax(axis=1)"
      ],
      "metadata": {
        "colab": {
          "base_uri": "https://localhost:8080/"
        },
        "id": "JfXJGMbwaysP",
        "outputId": "326522e7-7ade-4022-a622-de8363e67dca"
      },
      "execution_count": null,
      "outputs": [
        {
          "output_type": "execute_result",
          "data": {
            "text/plain": [
              "array([2, 2, 1])"
            ]
          },
          "metadata": {},
          "execution_count": 53
        }
      ]
    },
    {
      "cell_type": "code",
      "source": [
        ""
      ],
      "metadata": {
        "id": "lkgsCSBna25X"
      },
      "execution_count": null,
      "outputs": []
    }
  ]
}