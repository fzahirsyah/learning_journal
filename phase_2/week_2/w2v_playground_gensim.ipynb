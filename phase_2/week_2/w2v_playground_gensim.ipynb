{
  "nbformat": 4,
  "nbformat_minor": 0,
  "metadata": {
    "colab": {
      "name": "w2v_playground_gensim.ipynb",
      "provenance": []
    },
    "kernelspec": {
      "name": "python3",
      "display_name": "Python 3"
    },
    "language_info": {
      "name": "python"
    },
    "accelerator": "GPU"
  },
  "cells": [
    {
      "cell_type": "code",
      "metadata": {
        "id": "Ks-g5T3z4zwN",
        "outputId": "4f102de0-71e0-4bee-f4ab-841372e2ec69",
        "colab": {
          "base_uri": "https://localhost:8080/"
        }
      },
      "source": [
        "from google.colab import drive\n",
        "drive.mount('/content/gdrive')"
      ],
      "execution_count": 1,
      "outputs": [
        {
          "output_type": "stream",
          "name": "stdout",
          "text": [
            "Mounted at /content/gdrive\n"
          ]
        }
      ]
    },
    {
      "cell_type": "code",
      "metadata": {
        "colab": {
          "base_uri": "https://localhost:8080/"
        },
        "id": "9sz2j8cQ5IeD",
        "outputId": "be2f7247-78b3-4c7d-a317-5940cd8c664d"
      },
      "source": [
        "% cd /content/gdrive/My Drive/"
      ],
      "execution_count": null,
      "outputs": [
        {
          "output_type": "stream",
          "name": "stdout",
          "text": [
            "/content/gdrive/My Drive\n"
          ]
        }
      ]
    },
    {
      "cell_type": "code",
      "metadata": {
        "colab": {
          "base_uri": "https://localhost:8080/"
        },
        "id": "NDTTb0Yw5M7S",
        "outputId": "3d848070-4cbf-43de-a3c9-1797b19388c0"
      },
      "source": [
        "% cd word2vec_playground/"
      ],
      "execution_count": null,
      "outputs": [
        {
          "output_type": "stream",
          "name": "stdout",
          "text": [
            "/content/gdrive/My Drive/word2vec_playground\n"
          ]
        }
      ]
    },
    {
      "cell_type": "code",
      "metadata": {
        "colab": {
          "base_uri": "https://localhost:8080/"
        },
        "id": "VJgGU9Oz5PtT",
        "outputId": "489992db-61b1-4123-d320-6b97a18cea7c"
      },
      "source": [
        "! wget https://dumps.wikimedia.org/idwiki/latest/idwiki-latest-pages-articles.xml.bz2"
      ],
      "execution_count": null,
      "outputs": [
        {
          "output_type": "stream",
          "name": "stdout",
          "text": [
            "--2021-09-01 01:12:29--  https://dumps.wikimedia.org/idwiki/latest/idwiki-latest-pages-articles.xml.bz2\n",
            "Resolving dumps.wikimedia.org (dumps.wikimedia.org)... 208.80.154.7, 2620:0:861:1:208:80:154:7\n",
            "Connecting to dumps.wikimedia.org (dumps.wikimedia.org)|208.80.154.7|:443... connected.\n",
            "HTTP request sent, awaiting response... 200 OK\n",
            "Length: 701649852 (669M) [application/octet-stream]\n",
            "Saving to: ‘idwiki-latest-pages-articles.xml.bz2’\n",
            "\n",
            "idwiki-latest-pages 100%[===================>] 669.14M  4.53MB/s    in 2m 29s  \n",
            "\n",
            "2021-09-01 01:14:59 (4.49 MB/s) - ‘idwiki-latest-pages-articles.xml.bz2’ saved [701649852/701649852]\n",
            "\n"
          ]
        }
      ]
    },
    {
      "cell_type": "code",
      "metadata": {
        "id": "O6evRlJR4WmL"
      },
      "source": [
        "import sys\n",
        "from gensim.corpora import WikiCorpus\n",
        "import multiprocessing\n",
        "import multiprocessing\n",
        "from gensim.models import Word2Vec\n",
        "from gensim.models.word2vec import LineSentence"
      ],
      "execution_count": null,
      "outputs": []
    },
    {
      "cell_type": "code",
      "metadata": {
        "colab": {
          "base_uri": "https://localhost:8080/"
        },
        "id": "AGby9pYE55q-",
        "outputId": "523a3657-8dfa-4c7d-caee-fb18079c6c4c"
      },
      "source": [
        "namaFileInput = \"idwiki-latest-pages-articles.xml.bz2\"\n",
        "namaFileOutput = \"wiki.id.case.text\"\n",
        " \n",
        "space = \" \"\n",
        "i = 0\n",
        " \n",
        "output = open(namaFileOutput, 'w')\n",
        "\n",
        " \n",
        "# lower=False: huruf kecil dan besar dibedakan\n",
        "wiki = WikiCorpus(namaFileInput, lemmatize=False, dictionary={}, lower=False)\n",
        "for text in wiki.get_texts():\n",
        "    output.write(' '.join(text) + '\\n')\n",
        "    i = i + 1\n",
        "    if i % 10000 == 0:\n",
        "      print(f\"[INFO] Menyimpan {i} artikel\")\n",
        " \n",
        "output.close()\n",
        "print(f\"[INFO] Selesai menyimpan {i} artikel\")"
      ],
      "execution_count": null,
      "outputs": [
        {
          "output_type": "stream",
          "name": "stdout",
          "text": [
            "[INFO] Menyimpan 10000 artikel\n",
            "[INFO] Menyimpan 20000 artikel\n",
            "[INFO] Menyimpan 30000 artikel\n",
            "[INFO] Menyimpan 40000 artikel\n",
            "[INFO] Menyimpan 50000 artikel\n",
            "[INFO] Menyimpan 60000 artikel\n",
            "[INFO] Menyimpan 70000 artikel\n",
            "[INFO] Menyimpan 80000 artikel\n",
            "[INFO] Menyimpan 90000 artikel\n",
            "[INFO] Menyimpan 100000 artikel\n",
            "[INFO] Menyimpan 110000 artikel\n",
            "[INFO] Menyimpan 120000 artikel\n",
            "[INFO] Menyimpan 130000 artikel\n",
            "[INFO] Menyimpan 140000 artikel\n",
            "[INFO] Menyimpan 150000 artikel\n",
            "[INFO] Menyimpan 160000 artikel\n",
            "[INFO] Menyimpan 170000 artikel\n",
            "[INFO] Menyimpan 180000 artikel\n",
            "[INFO] Menyimpan 190000 artikel\n",
            "[INFO] Menyimpan 200000 artikel\n",
            "[INFO] Menyimpan 210000 artikel\n",
            "[INFO] Menyimpan 220000 artikel\n",
            "[INFO] Menyimpan 230000 artikel\n",
            "[INFO] Menyimpan 240000 artikel\n",
            "[INFO] Menyimpan 250000 artikel\n",
            "[INFO] Menyimpan 260000 artikel\n",
            "[INFO] Menyimpan 270000 artikel\n",
            "[INFO] Menyimpan 280000 artikel\n",
            "[INFO] Menyimpan 290000 artikel\n",
            "[INFO] Menyimpan 300000 artikel\n",
            "[INFO] Menyimpan 310000 artikel\n",
            "[INFO] Menyimpan 320000 artikel\n",
            "[INFO] Menyimpan 330000 artikel\n",
            "[INFO] Menyimpan 340000 artikel\n",
            "[INFO] Menyimpan 350000 artikel\n",
            "[INFO] Menyimpan 360000 artikel\n",
            "[INFO] Menyimpan 370000 artikel\n",
            "[INFO] Menyimpan 380000 artikel\n",
            "[INFO] Menyimpan 390000 artikel\n",
            "[INFO] Menyimpan 400000 artikel\n",
            "[INFO] Menyimpan 410000 artikel\n",
            "[INFO] Menyimpan 420000 artikel\n",
            "[INFO] Menyimpan 430000 artikel\n",
            "[INFO] Selesai menyimpan 439772 artikel\n"
          ]
        }
      ]
    },
    {
      "cell_type": "code",
      "metadata": {
        "id": "EQHzrla97SD1"
      },
      "source": [
        "# training model\n",
        "namaFileInput = \"wiki.id.case.text\"\n",
        "namaFileOutput = \"w2vec_wiki_id_case\"\n",
        " \n",
        "model = Word2Vec(LineSentence(namaFileInput), size=400, window=5, min_count=5, workers=multiprocessing.cpu_count())\n",
        " \n",
        "# trim unneeded model memory = use (much) less RAM\n",
        "model.init_sims(replace=True)\n",
        "model.save(namaFileOutput)"
      ],
      "execution_count": null,
      "outputs": []
    },
    {
      "cell_type": "code",
      "metadata": {
        "id": "s1YIbCh2Wuih"
      },
      "source": [
        "# load model\n",
        "model = Word2Vec.load(\"w2vec_wiki_id_case\")"
      ],
      "execution_count": null,
      "outputs": []
    },
    {
      "cell_type": "code",
      "metadata": {
        "colab": {
          "base_uri": "https://localhost:8080/"
        },
        "id": "xSU-T2YwpjBP",
        "outputId": "e10454d0-fe8b-435d-e494-7c679da99168"
      },
      "source": [
        "model.most_similar('AI')"
      ],
      "execution_count": null,
      "outputs": [
        {
          "output_type": "stream",
          "name": "stderr",
          "text": [
            "/usr/local/lib/python3.7/dist-packages/ipykernel_launcher.py:1: DeprecationWarning: Call to deprecated `most_similar` (Method will be removed in 4.0.0, use self.wv.most_similar() instead).\n",
            "  \"\"\"Entry point for launching an IPython kernel.\n"
          ]
        },
        {
          "output_type": "execute_result",
          "data": {
            "text/plain": [
              "[('Ivchenko', 0.6006324291229248),\n",
              " ('FPGA', 0.5459084510803223),\n",
              " ('GPU', 0.5445606708526611),\n",
              " ('RISC', 0.5443533062934875),\n",
              " ('MOS', 0.5417739152908325),\n",
              " ('Interface', 0.5365102887153625),\n",
              " ('Nvidia', 0.5353744626045227),\n",
              " ('ARM', 0.5330243110656738),\n",
              " ('Artificial', 0.5320066809654236),\n",
              " ('Intelligent', 0.5280733108520508)]"
            ]
          },
          "metadata": {},
          "execution_count": 9
        }
      ]
    },
    {
      "cell_type": "code",
      "metadata": {
        "colab": {
          "base_uri": "https://localhost:8080/"
        },
        "id": "H8jFS4uep53Z",
        "outputId": "c4046e69-db97-4f5f-f616-17aa07ae48b3"
      },
      "source": [
        "model.similar_by_word(\"presiden\", topn=5)"
      ],
      "execution_count": null,
      "outputs": [
        {
          "output_type": "stream",
          "name": "stderr",
          "text": [
            "/usr/local/lib/python3.7/dist-packages/ipykernel_launcher.py:1: DeprecationWarning: Call to deprecated `similar_by_word` (Method will be removed in 4.0.0, use self.wv.similar_by_word() instead).\n",
            "  \"\"\"Entry point for launching an IPython kernel.\n"
          ]
        },
        {
          "output_type": "execute_result",
          "data": {
            "text/plain": [
              "[('Presiden', 0.7879735231399536),\n",
              " ('presidennya', 0.7460496425628662),\n",
              " ('kepresidenan', 0.6101039052009583),\n",
              " ('ketuanya', 0.5505362153053284),\n",
              " ('Senator', 0.5453803539276123)]"
            ]
          },
          "metadata": {},
          "execution_count": 13
        }
      ]
    },
    {
      "cell_type": "code",
      "metadata": {
        "colab": {
          "base_uri": "https://localhost:8080/"
        },
        "id": "BIlyoT1vqkPa",
        "outputId": "994d489d-c6ab-4d96-add1-37f8e3084d69"
      },
      "source": [
        "! pip install umap"
      ],
      "execution_count": null,
      "outputs": [
        {
          "output_type": "stream",
          "name": "stdout",
          "text": [
            "Collecting umap\n",
            "  Downloading umap-0.1.1.tar.gz (3.2 kB)\n",
            "Building wheels for collected packages: umap\n",
            "  Building wheel for umap (setup.py) ... \u001b[?25l\u001b[?25hdone\n",
            "  Created wheel for umap: filename=umap-0.1.1-py3-none-any.whl size=3564 sha256=b5d0c5d271cf33b26634cc2eea5196905d58995a014721e92b94929676cbc217\n",
            "  Stored in directory: /root/.cache/pip/wheels/65/55/85/945cfb3d67373767e4dc3e9629300a926edde52633df4f0efe\n",
            "Successfully built umap\n",
            "Installing collected packages: umap\n",
            "Successfully installed umap-0.1.1\n"
          ]
        }
      ]
    },
    {
      "cell_type": "code",
      "metadata": {
        "id": "NbJdL2Wyq7ND"
      },
      "source": [
        "from sklearn.decomposition import PCA\n",
        "import matplotlib.pyplot as plt"
      ],
      "execution_count": null,
      "outputs": []
    },
    {
      "cell_type": "code",
      "metadata": {
        "colab": {
          "base_uri": "https://localhost:8080/"
        },
        "id": "1oQSlNERrLTg",
        "outputId": "93402107-e133-4869-d949-d4a74fd3bc4c"
      },
      "source": [
        "words = [\"pepaya\", \"pisang\", \"apel\", \"sosis\", \"samsung\", \"apple\", \"kucing\"]\n",
        "word_vector = []\n",
        "for w in words:\n",
        "  word_vector.append(model[w])"
      ],
      "execution_count": null,
      "outputs": [
        {
          "output_type": "stream",
          "name": "stderr",
          "text": [
            "/usr/local/lib/python3.7/dist-packages/ipykernel_launcher.py:4: DeprecationWarning: Call to deprecated `__getitem__` (Method will be removed in 4.0.0, use self.wv.__getitem__() instead).\n",
            "  after removing the cwd from sys.path.\n"
          ]
        }
      ]
    },
    {
      "cell_type": "code",
      "metadata": {
        "id": "3Yp82PiKrkW_"
      },
      "source": [
        "import pandas as pd\n",
        "pca = PCA(n_components=2)\n",
        "word_red = pca.fit_transform(word_vector)\n",
        "word_red = pd.DataFrame(word_red)\n",
        "word_red['label'] = words"
      ],
      "execution_count": null,
      "outputs": []
    },
    {
      "cell_type": "code",
      "metadata": {
        "colab": {
          "base_uri": "https://localhost:8080/",
          "height": 269
        },
        "id": "C3eFEjaQruwg",
        "outputId": "3fb5a2e5-03dc-4ced-fe46-6f79bd801175"
      },
      "source": [
        "word_red"
      ],
      "execution_count": null,
      "outputs": [
        {
          "output_type": "execute_result",
          "data": {
            "text/html": [
              "<div>\n",
              "<style scoped>\n",
              "    .dataframe tbody tr th:only-of-type {\n",
              "        vertical-align: middle;\n",
              "    }\n",
              "\n",
              "    .dataframe tbody tr th {\n",
              "        vertical-align: top;\n",
              "    }\n",
              "\n",
              "    .dataframe thead th {\n",
              "        text-align: right;\n",
              "    }\n",
              "</style>\n",
              "<table border=\"1\" class=\"dataframe\">\n",
              "  <thead>\n",
              "    <tr style=\"text-align: right;\">\n",
              "      <th></th>\n",
              "      <th>0</th>\n",
              "      <th>1</th>\n",
              "      <th>label</th>\n",
              "    </tr>\n",
              "  </thead>\n",
              "  <tbody>\n",
              "    <tr>\n",
              "      <th>0</th>\n",
              "      <td>-0.383269</td>\n",
              "      <td>-0.201225</td>\n",
              "      <td>pepaya</td>\n",
              "    </tr>\n",
              "    <tr>\n",
              "      <th>1</th>\n",
              "      <td>-0.326954</td>\n",
              "      <td>-0.314455</td>\n",
              "      <td>pisang</td>\n",
              "    </tr>\n",
              "    <tr>\n",
              "      <th>2</th>\n",
              "      <td>-0.350521</td>\n",
              "      <td>0.024989</td>\n",
              "      <td>apel</td>\n",
              "    </tr>\n",
              "    <tr>\n",
              "      <th>3</th>\n",
              "      <td>-0.102714</td>\n",
              "      <td>0.020855</td>\n",
              "      <td>sosis</td>\n",
              "    </tr>\n",
              "    <tr>\n",
              "      <th>4</th>\n",
              "      <td>0.916936</td>\n",
              "      <td>-0.326353</td>\n",
              "      <td>samsung</td>\n",
              "    </tr>\n",
              "    <tr>\n",
              "      <th>5</th>\n",
              "      <td>0.082831</td>\n",
              "      <td>0.001453</td>\n",
              "      <td>apple</td>\n",
              "    </tr>\n",
              "    <tr>\n",
              "      <th>6</th>\n",
              "      <td>0.163690</td>\n",
              "      <td>0.794736</td>\n",
              "      <td>kucing</td>\n",
              "    </tr>\n",
              "  </tbody>\n",
              "</table>\n",
              "</div>"
            ],
            "text/plain": [
              "          0         1    label\n",
              "0 -0.383269 -0.201225   pepaya\n",
              "1 -0.326954 -0.314455   pisang\n",
              "2 -0.350521  0.024989     apel\n",
              "3 -0.102714  0.020855    sosis\n",
              "4  0.916936 -0.326353  samsung\n",
              "5  0.082831  0.001453    apple\n",
              "6  0.163690  0.794736   kucing"
            ]
          },
          "metadata": {},
          "execution_count": 13
        }
      ]
    },
    {
      "cell_type": "code",
      "metadata": {
        "colab": {
          "base_uri": "https://localhost:8080/",
          "height": 279
        },
        "id": "5H-CNzGqrzpY",
        "outputId": "8c11f184-55bd-4c34-d2a0-4749141c1039"
      },
      "source": [
        "import seaborn as sns\n",
        "sns.scatterplot(data=word_red, x=0, y=1, hue='label');"
      ],
      "execution_count": null,
      "outputs": [
        {
          "output_type": "display_data",
          "data": {
            "image/png": "[encoded data removed]",
            "text/plain": [
              "<Figure size 432x288 with 1 Axes>"
            ]
          },
          "metadata": {
            "needs_background": "light"
          }
        }
      ]
    },
    {
      "cell_type": "code",
      "metadata": {
        "id": "dlPeV7ZQsqWb"
      },
      "source": [
        "# raja - pria + wanita = ratu"
      ],
      "execution_count": null,
      "outputs": []
    },
    {
      "cell_type": "code",
      "metadata": {
        "colab": {
          "base_uri": "https://localhost:8080/"
        },
        "id": "xsc7XnPK4YT1",
        "outputId": "3440b7c3-e448-4fd1-bc75-252f7d869192"
      },
      "source": [
        "model['sosis'].shape"
      ],
      "execution_count": null,
      "outputs": [
        {
          "output_type": "stream",
          "name": "stderr",
          "text": [
            "/usr/local/lib/python3.7/dist-packages/ipykernel_launcher.py:1: DeprecationWarning: Call to deprecated `__getitem__` (Method will be removed in 4.0.0, use self.wv.__getitem__() instead).\n",
            "  \"\"\"Entry point for launching an IPython kernel.\n"
          ]
        },
        {
          "output_type": "execute_result",
          "data": {
            "text/plain": [
              "(400,)"
            ]
          },
          "metadata": {},
          "execution_count": 16
        }
      ]
    },
    {
      "cell_type": "markdown",
      "metadata": {
        "id": "nUIMwACg4YFr"
      },
      "source": [
        ""
      ]
    }
  ]
}