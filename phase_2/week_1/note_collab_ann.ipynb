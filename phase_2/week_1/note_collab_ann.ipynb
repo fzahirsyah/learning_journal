{
  "cells": [
    {
      "cell_type": "markdown",
      "metadata": {
        "id": "-11adF7lzFJS"
      },
      "source": [
        "## Neural Network with tensorflow\n",
        "\n",
        "langkah membuat neural network\n",
        "\n",
        "- siapkan Data\n",
        "  - open data\n",
        "  - preprocessing\n",
        "  - feature engineering\n",
        "\n",
        "- buat arsitektur neural network\n",
        "  - Sequential API\n",
        "  - Functional API\n",
        "- Compile (translate kode ke bahasa mesin) Model Neural netwok\n",
        "  - Tentukan Loss yang digunakan\n",
        "  - Tentukan Optimizer digunakan\n",
        "  - Tentukan Metrik yang ingin dimonitor\n",
        "  - Callback\n",
        "- Training"
      ]
    },
    {
      "cell_type": "code",
      "execution_count": 1,
      "metadata": {
        "id": "uVIIqHZE13fA"
      },
      "outputs": [],
      "source": [
        "from sklearn.datasets import load_iris\n",
        "from sklearn.neighbors import KNeighborsClassifier\n",
        "from sklearn.preprocessing import StandardScaler\n",
        "from sklearn.model_selection import train_test_split\n",
        "from sklearn.metrics import classification_report\n",
        "from sklearn.pipeline import make_pipeline"
      ]
    },
    {
      "cell_type": "code",
      "execution_count": 2,
      "metadata": {
        "colab": {
          "base_uri": "https://localhost:8080/",
          "height": 238
        },
        "id": "kr9y619I2Kxg",
        "outputId": "66ab595c-c6c7-4eab-a2d4-7c902670a8cf"
      },
      "outputs": [
        {
          "data": {
            "text/html": [
              "<div>\n",
              "<style scoped>\n",
              "    .dataframe tbody tr th:only-of-type {\n",
              "        vertical-align: middle;\n",
              "    }\n",
              "\n",
              "    .dataframe tbody tr th {\n",
              "        vertical-align: top;\n",
              "    }\n",
              "\n",
              "    .dataframe thead th {\n",
              "        text-align: right;\n",
              "    }\n",
              "</style>\n",
              "<table border=\"1\" class=\"dataframe\">\n",
              "  <thead>\n",
              "    <tr style=\"text-align: right;\">\n",
              "      <th></th>\n",
              "      <th>Survived</th>\n",
              "      <th>Pclass</th>\n",
              "      <th>Name</th>\n",
              "      <th>Sex</th>\n",
              "      <th>Age</th>\n",
              "      <th>SibSp</th>\n",
              "      <th>Parch</th>\n",
              "      <th>Ticket</th>\n",
              "      <th>Fare</th>\n",
              "      <th>Cabin</th>\n",
              "      <th>Embarked</th>\n",
              "    </tr>\n",
              "    <tr>\n",
              "      <th>PassengerId</th>\n",
              "      <th></th>\n",
              "      <th></th>\n",
              "      <th></th>\n",
              "      <th></th>\n",
              "      <th></th>\n",
              "      <th></th>\n",
              "      <th></th>\n",
              "      <th></th>\n",
              "      <th></th>\n",
              "      <th></th>\n",
              "      <th></th>\n",
              "    </tr>\n",
              "  </thead>\n",
              "  <tbody>\n",
              "    <tr>\n",
              "      <th>1</th>\n",
              "      <td>0</td>\n",
              "      <td>3</td>\n",
              "      <td>Braund, Mr. Owen Harris</td>\n",
              "      <td>male</td>\n",
              "      <td>22.0</td>\n",
              "      <td>1</td>\n",
              "      <td>0</td>\n",
              "      <td>A/5 21171</td>\n",
              "      <td>7.2500</td>\n",
              "      <td>NaN</td>\n",
              "      <td>S</td>\n",
              "    </tr>\n",
              "    <tr>\n",
              "      <th>2</th>\n",
              "      <td>1</td>\n",
              "      <td>1</td>\n",
              "      <td>Cumings, Mrs. John Bradley (Florence Briggs Th...</td>\n",
              "      <td>female</td>\n",
              "      <td>38.0</td>\n",
              "      <td>1</td>\n",
              "      <td>0</td>\n",
              "      <td>PC 17599</td>\n",
              "      <td>71.2833</td>\n",
              "      <td>C85</td>\n",
              "      <td>C</td>\n",
              "    </tr>\n",
              "    <tr>\n",
              "      <th>3</th>\n",
              "      <td>1</td>\n",
              "      <td>3</td>\n",
              "      <td>Heikkinen, Miss. Laina</td>\n",
              "      <td>female</td>\n",
              "      <td>26.0</td>\n",
              "      <td>0</td>\n",
              "      <td>0</td>\n",
              "      <td>STON/O2. 3101282</td>\n",
              "      <td>7.9250</td>\n",
              "      <td>NaN</td>\n",
              "      <td>S</td>\n",
              "    </tr>\n",
              "    <tr>\n",
              "      <th>4</th>\n",
              "      <td>1</td>\n",
              "      <td>1</td>\n",
              "      <td>Futrelle, Mrs. Jacques Heath (Lily May Peel)</td>\n",
              "      <td>female</td>\n",
              "      <td>35.0</td>\n",
              "      <td>1</td>\n",
              "      <td>0</td>\n",
              "      <td>113803</td>\n",
              "      <td>53.1000</td>\n",
              "      <td>C123</td>\n",
              "      <td>S</td>\n",
              "    </tr>\n",
              "    <tr>\n",
              "      <th>5</th>\n",
              "      <td>0</td>\n",
              "      <td>3</td>\n",
              "      <td>Allen, Mr. William Henry</td>\n",
              "      <td>male</td>\n",
              "      <td>35.0</td>\n",
              "      <td>0</td>\n",
              "      <td>0</td>\n",
              "      <td>373450</td>\n",
              "      <td>8.0500</td>\n",
              "      <td>NaN</td>\n",
              "      <td>S</td>\n",
              "    </tr>\n",
              "  </tbody>\n",
              "</table>\n",
              "</div>"
            ],
            "text/plain": [
              "             Survived  Pclass  \\\n",
              "PassengerId                     \n",
              "1                   0       3   \n",
              "2                   1       1   \n",
              "3                   1       3   \n",
              "4                   1       1   \n",
              "5                   0       3   \n",
              "\n",
              "                                                          Name     Sex   Age  \\\n",
              "PassengerId                                                                    \n",
              "1                                      Braund, Mr. Owen Harris    male  22.0   \n",
              "2            Cumings, Mrs. John Bradley (Florence Briggs Th...  female  38.0   \n",
              "3                                       Heikkinen, Miss. Laina  female  26.0   \n",
              "4                 Futrelle, Mrs. Jacques Heath (Lily May Peel)  female  35.0   \n",
              "5                                     Allen, Mr. William Henry    male  35.0   \n",
              "\n",
              "             SibSp  Parch            Ticket     Fare Cabin Embarked  \n",
              "PassengerId                                                          \n",
              "1                1      0         A/5 21171   7.2500   NaN        S  \n",
              "2                1      0          PC 17599  71.2833   C85        C  \n",
              "3                0      0  STON/O2. 3101282   7.9250   NaN        S  \n",
              "4                1      0            113803  53.1000  C123        S  \n",
              "5                0      0            373450   8.0500   NaN        S  "
            ]
          },
          "execution_count": 2,
          "metadata": {},
          "output_type": "execute_result"
        }
      ],
      "source": [
        "import pandas as pd\n",
        "\n",
        "df = pd.read_csv(\"https://raw.githubusercontent.com/afifai/pelatihan_machinelearning/master/data/train.csv\", index_col=0)\n",
        "df.head()"
      ]
    },
    {
      "cell_type": "code",
      "execution_count": 3,
      "metadata": {
        "id": "bT8Ktmvr2VHc"
      },
      "outputs": [],
      "source": [
        "df.drop(['Name', 'Ticket', 'Cabin', 'Embarked'], axis=1, inplace=True)"
      ]
    },
    {
      "cell_type": "code",
      "execution_count": 4,
      "metadata": {
        "id": "GvoB7_1Z2Znw"
      },
      "outputs": [],
      "source": [
        "X = df.drop('Survived', axis=1)\n",
        "y = df['Survived']\n",
        "\n",
        "from sklearn.model_selection import train_test_split\n",
        "\n",
        "X_train, X_test, y_train, y_test = train_test_split(X, y, test_size=0.15, random_state=46)\n",
        "X_train, X_val, y_train, y_val = train_test_split(X,y, test_size=0.1,random_state=46)"
      ]
    },
    {
      "cell_type": "code",
      "execution_count": 5,
      "metadata": {
        "id": "V7jfxsRh28JK"
      },
      "outputs": [],
      "source": [
        "num_col = ['Pclass', 'Age', 'SibSp', 'Parch','Fare']\n",
        "cat_col = ['Sex']"
      ]
    },
    {
      "cell_type": "code",
      "execution_count": 6,
      "metadata": {
        "id": "f8zz79Qf2zyY"
      },
      "outputs": [],
      "source": [
        "from sklearn.pipeline import Pipeline, make_pipeline\n",
        "from sklearn.compose import ColumnTransformer\n",
        "from sklearn.preprocessing import OneHotEncoder\n",
        "from sklearn.ensemble import RandomForestClassifier\n",
        "from sklearn.impute import SimpleImputer\n",
        "\n",
        "\n",
        "num_pipeline = make_pipeline(SimpleImputer(strategy='median'),\n",
        "                             StandardScaler())\n",
        "\n",
        "cat_pipeline = make_pipeline(OneHotEncoder())\n",
        "\n",
        "data_pipeline = ColumnTransformer([\n",
        "    ('pipe_num', num_pipeline, num_col),\n",
        "    ('pipe_cat', cat_pipeline, cat_col)\n",
        "])\n"
      ]
    },
    {
      "cell_type": "code",
      "execution_count": 7,
      "metadata": {
        "id": "T8_iRIs_3IgY"
      },
      "outputs": [],
      "source": [
        "X_train = data_pipeline.fit_transform(X_train)\n",
        "X_val = data_pipeline.transform(X_val)\n",
        "X_test = data_pipeline.transform(X_test)"
      ]
    },
    {
      "cell_type": "code",
      "execution_count": 8,
      "metadata": {
        "colab": {
          "base_uri": "https://localhost:8080/"
        },
        "id": "hUlofj-K5Uf5",
        "outputId": "ded3c024-d376-4429-c63b-9effb44f035e"
      },
      "outputs": [
        {
          "name": "stdout",
          "output_type": "stream",
          "text": [
            "(801, 7)\n",
            "(90, 7)\n",
            "(134, 7)\n"
          ]
        }
      ],
      "source": [
        "print(X_train.shape)\n",
        "print(X_val.shape)\n",
        "print(X_test.shape)\n"
      ]
    },
    {
      "cell_type": "markdown",
      "metadata": {
        "id": "jq4j5iiu5rIo"
      },
      "source": [
        "## Buat arsitektur NN"
      ]
    },
    {
      "cell_type": "code",
      "execution_count": 9,
      "metadata": {
        "colab": {
          "base_uri": "https://localhost:8080/"
        },
        "id": "onRzY5Qj5eHR",
        "outputId": "540ac307-0355-45fd-bd3d-cddac4316a29"
      },
      "outputs": [
        {
          "name": "stdout",
          "output_type": "stream",
          "text": [
            "Epoch 1/300\n",
            "26/26 [==============================] - 19s 18ms/step - loss: 0.7850 - accuracy: 0.3933 - val_loss: 0.7107 - val_accuracy: 0.4778\n",
            "Epoch 2/300\n",
            "26/26 [==============================] - 0s 17ms/step - loss: 0.7550 - accuracy: 0.4532 - val_loss: 0.6890 - val_accuracy: 0.5667\n",
            "Epoch 3/300\n",
            "26/26 [==============================] - 0s 6ms/step - loss: 0.7308 - accuracy: 0.5406 - val_loss: 0.6713 - val_accuracy: 0.6444\n",
            "Epoch 4/300\n",
            "26/26 [==============================] - 0s 6ms/step - loss: 0.7111 - accuracy: 0.5793 - val_loss: 0.6561 - val_accuracy: 0.6667\n",
            "Epoch 5/300\n",
            "26/26 [==============================] - 0s 8ms/step - loss: 0.6924 - accuracy: 0.6217 - val_loss: 0.6407 - val_accuracy: 0.7222\n",
            "Epoch 6/300\n",
            "26/26 [==============================] - 0s 7ms/step - loss: 0.6749 - accuracy: 0.6392 - val_loss: 0.6279 - val_accuracy: 0.7333\n",
            "Epoch 7/300\n",
            "26/26 [==============================] - 0s 7ms/step - loss: 0.6593 - accuracy: 0.6604 - val_loss: 0.6155 - val_accuracy: 0.7111\n",
            "Epoch 8/300\n",
            "26/26 [==============================] - 0s 6ms/step - loss: 0.6450 - accuracy: 0.6742 - val_loss: 0.6047 - val_accuracy: 0.6889\n",
            "Epoch 9/300\n",
            "26/26 [==============================] - 0s 6ms/step - loss: 0.6319 - accuracy: 0.6779 - val_loss: 0.5944 - val_accuracy: 0.7000\n",
            "Epoch 10/300\n",
            "26/26 [==============================] - 1s 23ms/step - loss: 0.6201 - accuracy: 0.6866 - val_loss: 0.5841 - val_accuracy: 0.7000\n",
            "Epoch 11/300\n",
            "26/26 [==============================] - 0s 11ms/step - loss: 0.6094 - accuracy: 0.6841 - val_loss: 0.5748 - val_accuracy: 0.7111\n",
            "Epoch 12/300\n",
            "26/26 [==============================] - 0s 6ms/step - loss: 0.5990 - accuracy: 0.6979 - val_loss: 0.5647 - val_accuracy: 0.7222\n",
            "Epoch 13/300\n",
            "26/26 [==============================] - 0s 7ms/step - loss: 0.5880 - accuracy: 0.7166 - val_loss: 0.5555 - val_accuracy: 0.7222\n",
            "Epoch 14/300\n",
            "26/26 [==============================] - 0s 7ms/step - loss: 0.5790 - accuracy: 0.7241 - val_loss: 0.5466 - val_accuracy: 0.7222\n",
            "Epoch 15/300\n",
            "26/26 [==============================] - 0s 6ms/step - loss: 0.5695 - accuracy: 0.7366 - val_loss: 0.5391 - val_accuracy: 0.7333\n",
            "Epoch 16/300\n",
            "26/26 [==============================] - 0s 7ms/step - loss: 0.5606 - accuracy: 0.7378 - val_loss: 0.5315 - val_accuracy: 0.7222\n",
            "Epoch 17/300\n",
            "26/26 [==============================] - 0s 7ms/step - loss: 0.5522 - accuracy: 0.7453 - val_loss: 0.5240 - val_accuracy: 0.7333\n",
            "Epoch 18/300\n",
            "26/26 [==============================] - 0s 6ms/step - loss: 0.5444 - accuracy: 0.7528 - val_loss: 0.5164 - val_accuracy: 0.7333\n",
            "Epoch 19/300\n",
            "26/26 [==============================] - 0s 6ms/step - loss: 0.5369 - accuracy: 0.7603 - val_loss: 0.5082 - val_accuracy: 0.7444\n",
            "Epoch 20/300\n",
            "26/26 [==============================] - 0s 8ms/step - loss: 0.5297 - accuracy: 0.7640 - val_loss: 0.5006 - val_accuracy: 0.7444\n",
            "Epoch 21/300\n",
            "26/26 [==============================] - 0s 6ms/step - loss: 0.5229 - accuracy: 0.7678 - val_loss: 0.4952 - val_accuracy: 0.7556\n",
            "Epoch 22/300\n",
            "26/26 [==============================] - 0s 7ms/step - loss: 0.5168 - accuracy: 0.7678 - val_loss: 0.4894 - val_accuracy: 0.7556\n",
            "Epoch 23/300\n",
            "26/26 [==============================] - 0s 6ms/step - loss: 0.5108 - accuracy: 0.7665 - val_loss: 0.4830 - val_accuracy: 0.7556\n",
            "Epoch 24/300\n",
            "26/26 [==============================] - 0s 6ms/step - loss: 0.5063 - accuracy: 0.7715 - val_loss: 0.4792 - val_accuracy: 0.7778\n",
            "Epoch 25/300\n",
            "26/26 [==============================] - 0s 5ms/step - loss: 0.5018 - accuracy: 0.7740 - val_loss: 0.4751 - val_accuracy: 0.7778\n",
            "Epoch 26/300\n",
            "26/26 [==============================] - 0s 6ms/step - loss: 0.4971 - accuracy: 0.7778 - val_loss: 0.4709 - val_accuracy: 0.7778\n",
            "Epoch 27/300\n",
            "26/26 [==============================] - 0s 6ms/step - loss: 0.4927 - accuracy: 0.7840 - val_loss: 0.4663 - val_accuracy: 0.8222\n",
            "Epoch 28/300\n",
            "26/26 [==============================] - 0s 6ms/step - loss: 0.4890 - accuracy: 0.7940 - val_loss: 0.4637 - val_accuracy: 0.8222\n",
            "Epoch 29/300\n",
            "26/26 [==============================] - 0s 6ms/step - loss: 0.4850 - accuracy: 0.7965 - val_loss: 0.4605 - val_accuracy: 0.8111\n",
            "Epoch 30/300\n",
            "26/26 [==============================] - 0s 6ms/step - loss: 0.4826 - accuracy: 0.7965 - val_loss: 0.4569 - val_accuracy: 0.8222\n",
            "Epoch 31/300\n",
            "26/26 [==============================] - 0s 6ms/step - loss: 0.4797 - accuracy: 0.8002 - val_loss: 0.4542 - val_accuracy: 0.8111\n",
            "Epoch 32/300\n",
            "26/26 [==============================] - 0s 6ms/step - loss: 0.4773 - accuracy: 0.8002 - val_loss: 0.4518 - val_accuracy: 0.8111\n",
            "Epoch 33/300\n",
            "26/26 [==============================] - 0s 5ms/step - loss: 0.4756 - accuracy: 0.7965 - val_loss: 0.4495 - val_accuracy: 0.8111\n",
            "Epoch 34/300\n",
            "26/26 [==============================] - 0s 6ms/step - loss: 0.4736 - accuracy: 0.7978 - val_loss: 0.4476 - val_accuracy: 0.8111\n",
            "Epoch 35/300\n",
            "26/26 [==============================] - 0s 6ms/step - loss: 0.4714 - accuracy: 0.7978 - val_loss: 0.4459 - val_accuracy: 0.8111\n",
            "Epoch 36/300\n",
            "26/26 [==============================] - 0s 6ms/step - loss: 0.4697 - accuracy: 0.8015 - val_loss: 0.4456 - val_accuracy: 0.8111\n",
            "Epoch 37/300\n",
            "26/26 [==============================] - 0s 6ms/step - loss: 0.4681 - accuracy: 0.8040 - val_loss: 0.4436 - val_accuracy: 0.8111\n",
            "Epoch 38/300\n",
            "26/26 [==============================] - 0s 5ms/step - loss: 0.4666 - accuracy: 0.8052 - val_loss: 0.4423 - val_accuracy: 0.8111\n",
            "Epoch 39/300\n",
            "26/26 [==============================] - 0s 5ms/step - loss: 0.4652 - accuracy: 0.8040 - val_loss: 0.4414 - val_accuracy: 0.8000\n",
            "Epoch 40/300\n",
            "26/26 [==============================] - 0s 7ms/step - loss: 0.4644 - accuracy: 0.8040 - val_loss: 0.4410 - val_accuracy: 0.8111\n",
            "Epoch 41/300\n",
            "26/26 [==============================] - 0s 5ms/step - loss: 0.4631 - accuracy: 0.8027 - val_loss: 0.4406 - val_accuracy: 0.8111\n",
            "Epoch 42/300\n",
            "26/26 [==============================] - 0s 6ms/step - loss: 0.4620 - accuracy: 0.8027 - val_loss: 0.4393 - val_accuracy: 0.8111\n",
            "Epoch 43/300\n",
            "26/26 [==============================] - 0s 5ms/step - loss: 0.4610 - accuracy: 0.8002 - val_loss: 0.4373 - val_accuracy: 0.8111\n",
            "Epoch 44/300\n",
            "26/26 [==============================] - 0s 5ms/step - loss: 0.4598 - accuracy: 0.8015 - val_loss: 0.4361 - val_accuracy: 0.8111\n",
            "Epoch 45/300\n",
            "26/26 [==============================] - 0s 5ms/step - loss: 0.4590 - accuracy: 0.8002 - val_loss: 0.4353 - val_accuracy: 0.8111\n",
            "Epoch 46/300\n",
            "26/26 [==============================] - 0s 6ms/step - loss: 0.4582 - accuracy: 0.8002 - val_loss: 0.4347 - val_accuracy: 0.8111\n",
            "Epoch 47/300\n",
            "26/26 [==============================] - 0s 6ms/step - loss: 0.4575 - accuracy: 0.7990 - val_loss: 0.4344 - val_accuracy: 0.8111\n",
            "Epoch 48/300\n",
            "26/26 [==============================] - 0s 6ms/step - loss: 0.4570 - accuracy: 0.7990 - val_loss: 0.4338 - val_accuracy: 0.8000\n",
            "Epoch 49/300\n",
            "26/26 [==============================] - 0s 6ms/step - loss: 0.4562 - accuracy: 0.7990 - val_loss: 0.4336 - val_accuracy: 0.7889\n",
            "Epoch 50/300\n",
            "26/26 [==============================] - 0s 6ms/step - loss: 0.4554 - accuracy: 0.8002 - val_loss: 0.4333 - val_accuracy: 0.7889\n",
            "Epoch 51/300\n",
            "26/26 [==============================] - 0s 5ms/step - loss: 0.4553 - accuracy: 0.8040 - val_loss: 0.4328 - val_accuracy: 0.7889\n",
            "Epoch 52/300\n",
            "26/26 [==============================] - 0s 6ms/step - loss: 0.4548 - accuracy: 0.8015 - val_loss: 0.4328 - val_accuracy: 0.7889\n",
            "Epoch 53/300\n",
            "26/26 [==============================] - 0s 6ms/step - loss: 0.4540 - accuracy: 0.8052 - val_loss: 0.4329 - val_accuracy: 0.7889\n",
            "Epoch 54/300\n",
            "26/26 [==============================] - 0s 7ms/step - loss: 0.4532 - accuracy: 0.8052 - val_loss: 0.4329 - val_accuracy: 0.7889\n",
            "Epoch 55/300\n",
            "26/26 [==============================] - 0s 8ms/step - loss: 0.4525 - accuracy: 0.8040 - val_loss: 0.4328 - val_accuracy: 0.7889\n",
            "Epoch 56/300\n",
            "26/26 [==============================] - 0s 6ms/step - loss: 0.4518 - accuracy: 0.8040 - val_loss: 0.4329 - val_accuracy: 0.8000\n",
            "Epoch 57/300\n",
            "26/26 [==============================] - 0s 6ms/step - loss: 0.4514 - accuracy: 0.8052 - val_loss: 0.4339 - val_accuracy: 0.8000\n",
            "Epoch 58/300\n",
            "26/26 [==============================] - 0s 5ms/step - loss: 0.4508 - accuracy: 0.8077 - val_loss: 0.4335 - val_accuracy: 0.8000\n",
            "Epoch 59/300\n",
            "26/26 [==============================] - 0s 6ms/step - loss: 0.4501 - accuracy: 0.8077 - val_loss: 0.4333 - val_accuracy: 0.8000\n",
            "Epoch 60/300\n",
            "26/26 [==============================] - 0s 5ms/step - loss: 0.4496 - accuracy: 0.8077 - val_loss: 0.4335 - val_accuracy: 0.8000\n",
            "Epoch 61/300\n",
            "26/26 [==============================] - 0s 6ms/step - loss: 0.4489 - accuracy: 0.8077 - val_loss: 0.4335 - val_accuracy: 0.8000\n",
            "Epoch 62/300\n",
            "26/26 [==============================] - 0s 6ms/step - loss: 0.4483 - accuracy: 0.8065 - val_loss: 0.4332 - val_accuracy: 0.8000\n",
            "Epoch 63/300\n",
            "26/26 [==============================] - 0s 5ms/step - loss: 0.4479 - accuracy: 0.8077 - val_loss: 0.4333 - val_accuracy: 0.8000\n",
            "Epoch 64/300\n",
            "26/26 [==============================] - 0s 5ms/step - loss: 0.4473 - accuracy: 0.8115 - val_loss: 0.4343 - val_accuracy: 0.8000\n",
            "Epoch 65/300\n",
            "26/26 [==============================] - 0s 5ms/step - loss: 0.4469 - accuracy: 0.8115 - val_loss: 0.4345 - val_accuracy: 0.8000\n",
            "Epoch 66/300\n",
            "26/26 [==============================] - 0s 6ms/step - loss: 0.4467 - accuracy: 0.8077 - val_loss: 0.4335 - val_accuracy: 0.8000\n",
            "Epoch 67/300\n",
            "26/26 [==============================] - 0s 6ms/step - loss: 0.4462 - accuracy: 0.8077 - val_loss: 0.4336 - val_accuracy: 0.8000\n",
            "Epoch 68/300\n",
            "26/26 [==============================] - 0s 6ms/step - loss: 0.4458 - accuracy: 0.8065 - val_loss: 0.4330 - val_accuracy: 0.8000\n",
            "Epoch 69/300\n",
            "26/26 [==============================] - 0s 5ms/step - loss: 0.4456 - accuracy: 0.8052 - val_loss: 0.4330 - val_accuracy: 0.8000\n",
            "Epoch 70/300\n",
            "26/26 [==============================] - 0s 7ms/step - loss: 0.4452 - accuracy: 0.8065 - val_loss: 0.4344 - val_accuracy: 0.8000\n",
            "Epoch 71/300\n",
            "26/26 [==============================] - 0s 5ms/step - loss: 0.4449 - accuracy: 0.8077 - val_loss: 0.4344 - val_accuracy: 0.8000\n",
            "Epoch 72/300\n",
            "26/26 [==============================] - 0s 5ms/step - loss: 0.4446 - accuracy: 0.8077 - val_loss: 0.4344 - val_accuracy: 0.8000\n",
            "Epoch 73/300\n",
            "26/26 [==============================] - 0s 6ms/step - loss: 0.4443 - accuracy: 0.8077 - val_loss: 0.4339 - val_accuracy: 0.8000\n",
            "Epoch 74/300\n",
            "26/26 [==============================] - 0s 6ms/step - loss: 0.4440 - accuracy: 0.8090 - val_loss: 0.4336 - val_accuracy: 0.8000\n",
            "Epoch 75/300\n",
            "26/26 [==============================] - 0s 6ms/step - loss: 0.4435 - accuracy: 0.8090 - val_loss: 0.4336 - val_accuracy: 0.8000\n",
            "Epoch 76/300\n",
            "26/26 [==============================] - 0s 5ms/step - loss: 0.4434 - accuracy: 0.8090 - val_loss: 0.4338 - val_accuracy: 0.8000\n",
            "Epoch 77/300\n",
            "26/26 [==============================] - 0s 5ms/step - loss: 0.4429 - accuracy: 0.8090 - val_loss: 0.4332 - val_accuracy: 0.8000\n",
            "Epoch 78/300\n",
            "26/26 [==============================] - 0s 5ms/step - loss: 0.4426 - accuracy: 0.8077 - val_loss: 0.4328 - val_accuracy: 0.8000\n",
            "Epoch 79/300\n",
            "26/26 [==============================] - 0s 6ms/step - loss: 0.4423 - accuracy: 0.8090 - val_loss: 0.4326 - val_accuracy: 0.8000\n",
            "Epoch 80/300\n",
            "26/26 [==============================] - 0s 6ms/step - loss: 0.4420 - accuracy: 0.8077 - val_loss: 0.4321 - val_accuracy: 0.8000\n",
            "Epoch 81/300\n",
            "26/26 [==============================] - 0s 5ms/step - loss: 0.4422 - accuracy: 0.8102 - val_loss: 0.4309 - val_accuracy: 0.8000\n",
            "Epoch 82/300\n",
            "26/26 [==============================] - 0s 5ms/step - loss: 0.4417 - accuracy: 0.8090 - val_loss: 0.4312 - val_accuracy: 0.8000\n",
            "Epoch 83/300\n",
            "26/26 [==============================] - 0s 5ms/step - loss: 0.4412 - accuracy: 0.8090 - val_loss: 0.4317 - val_accuracy: 0.8000\n",
            "Epoch 84/300\n",
            "26/26 [==============================] - 0s 6ms/step - loss: 0.4411 - accuracy: 0.8090 - val_loss: 0.4325 - val_accuracy: 0.8000\n",
            "Epoch 85/300\n",
            "26/26 [==============================] - 0s 5ms/step - loss: 0.4405 - accuracy: 0.8090 - val_loss: 0.4324 - val_accuracy: 0.8000\n",
            "Epoch 86/300\n",
            "26/26 [==============================] - 0s 6ms/step - loss: 0.4402 - accuracy: 0.8090 - val_loss: 0.4320 - val_accuracy: 0.8000\n",
            "Epoch 87/300\n",
            "26/26 [==============================] - 0s 6ms/step - loss: 0.4403 - accuracy: 0.8102 - val_loss: 0.4324 - val_accuracy: 0.8000\n",
            "Epoch 88/300\n",
            "26/26 [==============================] - 0s 8ms/step - loss: 0.4400 - accuracy: 0.8077 - val_loss: 0.4327 - val_accuracy: 0.8000\n",
            "Epoch 89/300\n",
            "26/26 [==============================] - 0s 7ms/step - loss: 0.4396 - accuracy: 0.8077 - val_loss: 0.4329 - val_accuracy: 0.8000\n",
            "Epoch 90/300\n",
            "26/26 [==============================] - 0s 6ms/step - loss: 0.4393 - accuracy: 0.8090 - val_loss: 0.4330 - val_accuracy: 0.8000\n",
            "Epoch 91/300\n",
            "26/26 [==============================] - 0s 7ms/step - loss: 0.4391 - accuracy: 0.8115 - val_loss: 0.4334 - val_accuracy: 0.8000\n",
            "Epoch 92/300\n",
            "26/26 [==============================] - 0s 6ms/step - loss: 0.4388 - accuracy: 0.8115 - val_loss: 0.4335 - val_accuracy: 0.8000\n",
            "Epoch 93/300\n",
            "26/26 [==============================] - 0s 6ms/step - loss: 0.4386 - accuracy: 0.8127 - val_loss: 0.4332 - val_accuracy: 0.8000\n",
            "Epoch 94/300\n",
            "26/26 [==============================] - 0s 6ms/step - loss: 0.4385 - accuracy: 0.8115 - val_loss: 0.4328 - val_accuracy: 0.8000\n",
            "Epoch 95/300\n",
            "26/26 [==============================] - 0s 6ms/step - loss: 0.4382 - accuracy: 0.8115 - val_loss: 0.4331 - val_accuracy: 0.8000\n",
            "Epoch 96/300\n",
            "26/26 [==============================] - 0s 6ms/step - loss: 0.4380 - accuracy: 0.8127 - val_loss: 0.4333 - val_accuracy: 0.7889\n",
            "Epoch 97/300\n",
            "26/26 [==============================] - 0s 6ms/step - loss: 0.4379 - accuracy: 0.8077 - val_loss: 0.4330 - val_accuracy: 0.7889\n",
            "Epoch 98/300\n",
            "26/26 [==============================] - 0s 6ms/step - loss: 0.4374 - accuracy: 0.8090 - val_loss: 0.4333 - val_accuracy: 0.7889\n",
            "Epoch 99/300\n",
            "26/26 [==============================] - 0s 6ms/step - loss: 0.4373 - accuracy: 0.8077 - val_loss: 0.4333 - val_accuracy: 0.7889\n",
            "Epoch 100/300\n",
            "26/26 [==============================] - 0s 8ms/step - loss: 0.4370 - accuracy: 0.8102 - val_loss: 0.4336 - val_accuracy: 0.7889\n",
            "Epoch 101/300\n",
            "26/26 [==============================] - 0s 6ms/step - loss: 0.4369 - accuracy: 0.8115 - val_loss: 0.4340 - val_accuracy: 0.7889\n",
            "Epoch 102/300\n",
            "26/26 [==============================] - 0s 5ms/step - loss: 0.4369 - accuracy: 0.8127 - val_loss: 0.4346 - val_accuracy: 0.7889\n",
            "Epoch 103/300\n",
            "26/26 [==============================] - 0s 5ms/step - loss: 0.4365 - accuracy: 0.8152 - val_loss: 0.4345 - val_accuracy: 0.7889\n",
            "Epoch 104/300\n",
            "26/26 [==============================] - 0s 6ms/step - loss: 0.4362 - accuracy: 0.8152 - val_loss: 0.4348 - val_accuracy: 0.7889\n",
            "Epoch 105/300\n",
            "26/26 [==============================] - 0s 5ms/step - loss: 0.4365 - accuracy: 0.8177 - val_loss: 0.4360 - val_accuracy: 0.7889\n",
            "Epoch 106/300\n",
            "26/26 [==============================] - 0s 5ms/step - loss: 0.4358 - accuracy: 0.8152 - val_loss: 0.4347 - val_accuracy: 0.7889\n",
            "Epoch 107/300\n",
            "26/26 [==============================] - 0s 6ms/step - loss: 0.4356 - accuracy: 0.8140 - val_loss: 0.4339 - val_accuracy: 0.7889\n",
            "Epoch 108/300\n",
            "26/26 [==============================] - 0s 6ms/step - loss: 0.4353 - accuracy: 0.8115 - val_loss: 0.4335 - val_accuracy: 0.7889\n",
            "Epoch 109/300\n",
            "26/26 [==============================] - 0s 6ms/step - loss: 0.4357 - accuracy: 0.8152 - val_loss: 0.4348 - val_accuracy: 0.7889\n",
            "Epoch 110/300\n",
            "26/26 [==============================] - 0s 5ms/step - loss: 0.4351 - accuracy: 0.8165 - val_loss: 0.4342 - val_accuracy: 0.7889\n",
            "Epoch 111/300\n",
            "26/26 [==============================] - 0s 5ms/step - loss: 0.4346 - accuracy: 0.8177 - val_loss: 0.4339 - val_accuracy: 0.7889\n",
            "Epoch 112/300\n",
            "26/26 [==============================] - 0s 5ms/step - loss: 0.4344 - accuracy: 0.8140 - val_loss: 0.4335 - val_accuracy: 0.7889\n",
            "Epoch 113/300\n",
            "26/26 [==============================] - 0s 5ms/step - loss: 0.4343 - accuracy: 0.8140 - val_loss: 0.4337 - val_accuracy: 0.7889\n",
            "Epoch 114/300\n",
            "26/26 [==============================] - 0s 6ms/step - loss: 0.4341 - accuracy: 0.8140 - val_loss: 0.4330 - val_accuracy: 0.7889\n",
            "Epoch 115/300\n",
            "26/26 [==============================] - 0s 5ms/step - loss: 0.4339 - accuracy: 0.8127 - val_loss: 0.4330 - val_accuracy: 0.7889\n",
            "Epoch 116/300\n",
            "26/26 [==============================] - 0s 6ms/step - loss: 0.4340 - accuracy: 0.8165 - val_loss: 0.4341 - val_accuracy: 0.7889\n",
            "Epoch 117/300\n",
            "26/26 [==============================] - 0s 8ms/step - loss: 0.4337 - accuracy: 0.8152 - val_loss: 0.4345 - val_accuracy: 0.7889\n",
            "Epoch 118/300\n",
            "26/26 [==============================] - 0s 5ms/step - loss: 0.4334 - accuracy: 0.8165 - val_loss: 0.4347 - val_accuracy: 0.7889\n",
            "Epoch 119/300\n",
            "26/26 [==============================] - 0s 5ms/step - loss: 0.4331 - accuracy: 0.8115 - val_loss: 0.4324 - val_accuracy: 0.7889\n",
            "Epoch 120/300\n",
            "26/26 [==============================] - 0s 7ms/step - loss: 0.4330 - accuracy: 0.8127 - val_loss: 0.4325 - val_accuracy: 0.7889\n",
            "Epoch 121/300\n",
            "26/26 [==============================] - 0s 5ms/step - loss: 0.4327 - accuracy: 0.8127 - val_loss: 0.4329 - val_accuracy: 0.7889\n",
            "Epoch 122/300\n",
            "26/26 [==============================] - 0s 5ms/step - loss: 0.4327 - accuracy: 0.8140 - val_loss: 0.4341 - val_accuracy: 0.7889\n",
            "Epoch 123/300\n",
            "26/26 [==============================] - 0s 5ms/step - loss: 0.4323 - accuracy: 0.8152 - val_loss: 0.4347 - val_accuracy: 0.7889\n",
            "Epoch 124/300\n",
            "26/26 [==============================] - 0s 5ms/step - loss: 0.4323 - accuracy: 0.8177 - val_loss: 0.4345 - val_accuracy: 0.7889\n",
            "Epoch 125/300\n",
            "26/26 [==============================] - 0s 5ms/step - loss: 0.4322 - accuracy: 0.8152 - val_loss: 0.4341 - val_accuracy: 0.7889\n",
            "Epoch 126/300\n",
            "26/26 [==============================] - 0s 5ms/step - loss: 0.4322 - accuracy: 0.8115 - val_loss: 0.4333 - val_accuracy: 0.7889\n",
            "Epoch 127/300\n",
            "26/26 [==============================] - 0s 6ms/step - loss: 0.4319 - accuracy: 0.8115 - val_loss: 0.4339 - val_accuracy: 0.7889\n",
            "Epoch 128/300\n",
            "26/26 [==============================] - 0s 6ms/step - loss: 0.4316 - accuracy: 0.8165 - val_loss: 0.4378 - val_accuracy: 0.8000\n",
            "Epoch 129/300\n",
            "26/26 [==============================] - 0s 5ms/step - loss: 0.4317 - accuracy: 0.8177 - val_loss: 0.4379 - val_accuracy: 0.8000\n",
            "Epoch 130/300\n",
            "26/26 [==============================] - 0s 5ms/step - loss: 0.4317 - accuracy: 0.8177 - val_loss: 0.4376 - val_accuracy: 0.8000\n",
            "Epoch 131/300\n",
            "26/26 [==============================] - 0s 5ms/step - loss: 0.4315 - accuracy: 0.8165 - val_loss: 0.4370 - val_accuracy: 0.8000\n",
            "Epoch 132/300\n",
            "26/26 [==============================] - 0s 8ms/step - loss: 0.4311 - accuracy: 0.8190 - val_loss: 0.4354 - val_accuracy: 0.8000\n",
            "Epoch 133/300\n",
            "26/26 [==============================] - 0s 6ms/step - loss: 0.4313 - accuracy: 0.8165 - val_loss: 0.4349 - val_accuracy: 0.8000\n",
            "Epoch 134/300\n",
            "26/26 [==============================] - 0s 6ms/step - loss: 0.4311 - accuracy: 0.8177 - val_loss: 0.4354 - val_accuracy: 0.8000\n",
            "Epoch 135/300\n",
            "26/26 [==============================] - 0s 6ms/step - loss: 0.4309 - accuracy: 0.8165 - val_loss: 0.4358 - val_accuracy: 0.8000\n",
            "Epoch 136/300\n",
            "26/26 [==============================] - 0s 5ms/step - loss: 0.4307 - accuracy: 0.8165 - val_loss: 0.4355 - val_accuracy: 0.8000\n",
            "Epoch 137/300\n",
            "26/26 [==============================] - 0s 5ms/step - loss: 0.4314 - accuracy: 0.8152 - val_loss: 0.4345 - val_accuracy: 0.8000\n",
            "Epoch 138/300\n",
            "26/26 [==============================] - 0s 6ms/step - loss: 0.4310 - accuracy: 0.8190 - val_loss: 0.4352 - val_accuracy: 0.8111\n",
            "Epoch 139/300\n",
            "26/26 [==============================] - 0s 5ms/step - loss: 0.4303 - accuracy: 0.8165 - val_loss: 0.4360 - val_accuracy: 0.8000\n",
            "Epoch 140/300\n",
            "26/26 [==============================] - 0s 5ms/step - loss: 0.4300 - accuracy: 0.8165 - val_loss: 0.4354 - val_accuracy: 0.8000\n",
            "Epoch 141/300\n",
            "26/26 [==============================] - 0s 6ms/step - loss: 0.4298 - accuracy: 0.8140 - val_loss: 0.4357 - val_accuracy: 0.8000\n",
            "Epoch 142/300\n",
            "26/26 [==============================] - 0s 5ms/step - loss: 0.4296 - accuracy: 0.8152 - val_loss: 0.4355 - val_accuracy: 0.8000\n",
            "Epoch 143/300\n",
            "26/26 [==============================] - 0s 5ms/step - loss: 0.4295 - accuracy: 0.8152 - val_loss: 0.4352 - val_accuracy: 0.8000\n",
            "Epoch 144/300\n",
            "26/26 [==============================] - 0s 5ms/step - loss: 0.4293 - accuracy: 0.8152 - val_loss: 0.4350 - val_accuracy: 0.8000\n",
            "Epoch 145/300\n",
            "26/26 [==============================] - 0s 5ms/step - loss: 0.4291 - accuracy: 0.8152 - val_loss: 0.4352 - val_accuracy: 0.8000\n",
            "Epoch 146/300\n",
            "26/26 [==============================] - 0s 5ms/step - loss: 0.4289 - accuracy: 0.8152 - val_loss: 0.4358 - val_accuracy: 0.8000\n",
            "Epoch 147/300\n",
            "26/26 [==============================] - 0s 6ms/step - loss: 0.4290 - accuracy: 0.8152 - val_loss: 0.4358 - val_accuracy: 0.8000\n",
            "Epoch 148/300\n",
            "26/26 [==============================] - 0s 5ms/step - loss: 0.4289 - accuracy: 0.8127 - val_loss: 0.4362 - val_accuracy: 0.8222\n",
            "Epoch 149/300\n",
            "26/26 [==============================] - 0s 9ms/step - loss: 0.4289 - accuracy: 0.8127 - val_loss: 0.4362 - val_accuracy: 0.8111\n",
            "Epoch 150/300\n",
            "26/26 [==============================] - 0s 5ms/step - loss: 0.4287 - accuracy: 0.8152 - val_loss: 0.4361 - val_accuracy: 0.8111\n",
            "Epoch 151/300\n",
            "26/26 [==============================] - 0s 5ms/step - loss: 0.4285 - accuracy: 0.8140 - val_loss: 0.4362 - val_accuracy: 0.8000\n",
            "Epoch 152/300\n",
            "26/26 [==============================] - 0s 8ms/step - loss: 0.4285 - accuracy: 0.8165 - val_loss: 0.4370 - val_accuracy: 0.8000\n",
            "Epoch 153/300\n",
            "26/26 [==============================] - 0s 13ms/step - loss: 0.4283 - accuracy: 0.8177 - val_loss: 0.4366 - val_accuracy: 0.8000\n",
            "Epoch 154/300\n",
            "26/26 [==============================] - 0s 6ms/step - loss: 0.4281 - accuracy: 0.8152 - val_loss: 0.4362 - val_accuracy: 0.8000\n",
            "Epoch 155/300\n",
            "26/26 [==============================] - 0s 5ms/step - loss: 0.4280 - accuracy: 0.8152 - val_loss: 0.4359 - val_accuracy: 0.8000\n",
            "Epoch 156/300\n",
            "26/26 [==============================] - 0s 6ms/step - loss: 0.4279 - accuracy: 0.8152 - val_loss: 0.4355 - val_accuracy: 0.8000\n",
            "Epoch 157/300\n",
            "26/26 [==============================] - 0s 9ms/step - loss: 0.4277 - accuracy: 0.8152 - val_loss: 0.4357 - val_accuracy: 0.8000\n",
            "Epoch 158/300\n",
            "26/26 [==============================] - 0s 5ms/step - loss: 0.4277 - accuracy: 0.8152 - val_loss: 0.4358 - val_accuracy: 0.8000\n",
            "Epoch 159/300\n",
            "26/26 [==============================] - 0s 6ms/step - loss: 0.4277 - accuracy: 0.8165 - val_loss: 0.4358 - val_accuracy: 0.8000\n",
            "Epoch 160/300\n",
            "26/26 [==============================] - 0s 6ms/step - loss: 0.4273 - accuracy: 0.8152 - val_loss: 0.4359 - val_accuracy: 0.8000\n",
            "Epoch 161/300\n",
            "26/26 [==============================] - 0s 6ms/step - loss: 0.4274 - accuracy: 0.8152 - val_loss: 0.4363 - val_accuracy: 0.8000\n",
            "Epoch 162/300\n",
            "26/26 [==============================] - 0s 6ms/step - loss: 0.4271 - accuracy: 0.8127 - val_loss: 0.4401 - val_accuracy: 0.8111\n",
            "Epoch 163/300\n",
            "26/26 [==============================] - 0s 5ms/step - loss: 0.4276 - accuracy: 0.8127 - val_loss: 0.4398 - val_accuracy: 0.8111\n",
            "Epoch 164/300\n",
            "26/26 [==============================] - 0s 5ms/step - loss: 0.4274 - accuracy: 0.8127 - val_loss: 0.4391 - val_accuracy: 0.8111\n",
            "Epoch 165/300\n",
            "26/26 [==============================] - 0s 7ms/step - loss: 0.4282 - accuracy: 0.8152 - val_loss: 0.4377 - val_accuracy: 0.8111\n",
            "Epoch 166/300\n",
            "26/26 [==============================] - 0s 5ms/step - loss: 0.4278 - accuracy: 0.8127 - val_loss: 0.4382 - val_accuracy: 0.8111\n",
            "Epoch 167/300\n",
            "26/26 [==============================] - 0s 5ms/step - loss: 0.4274 - accuracy: 0.8127 - val_loss: 0.4377 - val_accuracy: 0.8111\n",
            "Epoch 168/300\n",
            "26/26 [==============================] - 0s 5ms/step - loss: 0.4271 - accuracy: 0.8127 - val_loss: 0.4376 - val_accuracy: 0.8111\n",
            "Epoch 169/300\n",
            "26/26 [==============================] - 0s 5ms/step - loss: 0.4268 - accuracy: 0.8127 - val_loss: 0.4377 - val_accuracy: 0.8111\n",
            "Epoch 170/300\n",
            "26/26 [==============================] - 0s 5ms/step - loss: 0.4268 - accuracy: 0.8140 - val_loss: 0.4385 - val_accuracy: 0.8111\n",
            "Epoch 171/300\n",
            "26/26 [==============================] - 0s 5ms/step - loss: 0.4265 - accuracy: 0.8127 - val_loss: 0.4373 - val_accuracy: 0.8111\n",
            "Epoch 172/300\n",
            "26/26 [==============================] - 0s 6ms/step - loss: 0.4264 - accuracy: 0.8127 - val_loss: 0.4368 - val_accuracy: 0.8111\n",
            "Epoch 173/300\n",
            "26/26 [==============================] - 0s 6ms/step - loss: 0.4265 - accuracy: 0.8102 - val_loss: 0.4375 - val_accuracy: 0.8222\n",
            "Epoch 174/300\n",
            "26/26 [==============================] - 0s 5ms/step - loss: 0.4264 - accuracy: 0.8115 - val_loss: 0.4368 - val_accuracy: 0.8222\n",
            "Epoch 175/300\n",
            "26/26 [==============================] - 0s 5ms/step - loss: 0.4261 - accuracy: 0.8115 - val_loss: 0.4377 - val_accuracy: 0.8222\n",
            "Epoch 176/300\n",
            "26/26 [==============================] - 0s 5ms/step - loss: 0.4258 - accuracy: 0.8127 - val_loss: 0.4366 - val_accuracy: 0.8111\n",
            "Epoch 177/300\n",
            "26/26 [==============================] - 0s 5ms/step - loss: 0.4256 - accuracy: 0.8140 - val_loss: 0.4364 - val_accuracy: 0.8111\n",
            "Epoch 178/300\n",
            "26/26 [==============================] - 0s 5ms/step - loss: 0.4258 - accuracy: 0.8115 - val_loss: 0.4373 - val_accuracy: 0.8222\n",
            "Epoch 179/300\n",
            "26/26 [==============================] - 0s 6ms/step - loss: 0.4256 - accuracy: 0.8115 - val_loss: 0.4367 - val_accuracy: 0.8222\n",
            "Epoch 180/300\n",
            "26/26 [==============================] - 0s 5ms/step - loss: 0.4255 - accuracy: 0.8115 - val_loss: 0.4361 - val_accuracy: 0.8222\n",
            "Epoch 181/300\n",
            "26/26 [==============================] - 0s 8ms/step - loss: 0.4253 - accuracy: 0.8140 - val_loss: 0.4355 - val_accuracy: 0.8222\n",
            "Epoch 182/300\n",
            "26/26 [==============================] - 0s 5ms/step - loss: 0.4251 - accuracy: 0.8140 - val_loss: 0.4352 - val_accuracy: 0.8111\n",
            "Epoch 183/300\n",
            "26/26 [==============================] - 0s 5ms/step - loss: 0.4250 - accuracy: 0.8165 - val_loss: 0.4349 - val_accuracy: 0.8111\n",
            "Epoch 184/300\n",
            "26/26 [==============================] - 0s 5ms/step - loss: 0.4250 - accuracy: 0.8165 - val_loss: 0.4349 - val_accuracy: 0.8111\n",
            "Epoch 185/300\n",
            "26/26 [==============================] - 0s 5ms/step - loss: 0.4248 - accuracy: 0.8152 - val_loss: 0.4346 - val_accuracy: 0.8111\n",
            "Epoch 186/300\n",
            "26/26 [==============================] - 0s 7ms/step - loss: 0.4250 - accuracy: 0.8165 - val_loss: 0.4350 - val_accuracy: 0.8333\n",
            "Epoch 187/300\n",
            "26/26 [==============================] - 0s 5ms/step - loss: 0.4248 - accuracy: 0.8152 - val_loss: 0.4342 - val_accuracy: 0.8333\n",
            "Epoch 188/300\n",
            "26/26 [==============================] - 0s 5ms/step - loss: 0.4246 - accuracy: 0.8140 - val_loss: 0.4341 - val_accuracy: 0.8222\n",
            "Epoch 189/300\n",
            "26/26 [==============================] - 0s 5ms/step - loss: 0.4246 - accuracy: 0.8140 - val_loss: 0.4341 - val_accuracy: 0.8222\n",
            "Epoch 190/300\n",
            "26/26 [==============================] - 0s 5ms/step - loss: 0.4244 - accuracy: 0.8165 - val_loss: 0.4337 - val_accuracy: 0.8222\n",
            "Epoch 191/300\n",
            "26/26 [==============================] - 0s 5ms/step - loss: 0.4244 - accuracy: 0.8165 - val_loss: 0.4340 - val_accuracy: 0.8222\n",
            "Epoch 192/300\n",
            "26/26 [==============================] - 0s 5ms/step - loss: 0.4242 - accuracy: 0.8177 - val_loss: 0.4337 - val_accuracy: 0.8222\n",
            "Epoch 193/300\n",
            "26/26 [==============================] - 0s 5ms/step - loss: 0.4241 - accuracy: 0.8165 - val_loss: 0.4335 - val_accuracy: 0.8333\n",
            "Epoch 194/300\n",
            "26/26 [==============================] - 0s 5ms/step - loss: 0.4245 - accuracy: 0.8165 - val_loss: 0.4342 - val_accuracy: 0.8333\n",
            "Epoch 195/300\n",
            "26/26 [==============================] - 0s 6ms/step - loss: 0.4243 - accuracy: 0.8152 - val_loss: 0.4339 - val_accuracy: 0.8333\n",
            "Epoch 196/300\n",
            "26/26 [==============================] - 0s 6ms/step - loss: 0.4241 - accuracy: 0.8152 - val_loss: 0.4338 - val_accuracy: 0.8333\n",
            "Epoch 197/300\n",
            "26/26 [==============================] - 0s 8ms/step - loss: 0.4244 - accuracy: 0.8177 - val_loss: 0.4331 - val_accuracy: 0.8333\n",
            "Epoch 198/300\n",
            "26/26 [==============================] - 0s 5ms/step - loss: 0.4240 - accuracy: 0.8190 - val_loss: 0.4332 - val_accuracy: 0.8333\n",
            "Epoch 199/300\n",
            "26/26 [==============================] - 0s 5ms/step - loss: 0.4237 - accuracy: 0.8177 - val_loss: 0.4335 - val_accuracy: 0.8333\n",
            "Epoch 200/300\n",
            "26/26 [==============================] - 0s 5ms/step - loss: 0.4236 - accuracy: 0.8177 - val_loss: 0.4336 - val_accuracy: 0.8333\n",
            "Epoch 201/300\n",
            "26/26 [==============================] - 0s 5ms/step - loss: 0.4239 - accuracy: 0.8152 - val_loss: 0.4342 - val_accuracy: 0.8222\n",
            "Epoch 202/300\n",
            "26/26 [==============================] - 0s 5ms/step - loss: 0.4234 - accuracy: 0.8177 - val_loss: 0.4346 - val_accuracy: 0.8222\n",
            "Epoch 203/300\n",
            "26/26 [==============================] - 0s 6ms/step - loss: 0.4234 - accuracy: 0.8177 - val_loss: 0.4341 - val_accuracy: 0.8222\n",
            "Epoch 204/300\n",
            "26/26 [==============================] - 0s 5ms/step - loss: 0.4232 - accuracy: 0.8165 - val_loss: 0.4342 - val_accuracy: 0.8222\n",
            "Epoch 205/300\n",
            "26/26 [==============================] - 0s 5ms/step - loss: 0.4231 - accuracy: 0.8190 - val_loss: 0.4336 - val_accuracy: 0.8222\n",
            "Epoch 206/300\n",
            "26/26 [==============================] - 0s 5ms/step - loss: 0.4230 - accuracy: 0.8177 - val_loss: 0.4336 - val_accuracy: 0.8222\n",
            "Epoch 207/300\n",
            "26/26 [==============================] - 0s 6ms/step - loss: 0.4229 - accuracy: 0.8202 - val_loss: 0.4334 - val_accuracy: 0.8222\n",
            "Epoch 208/300\n",
            "26/26 [==============================] - 0s 5ms/step - loss: 0.4229 - accuracy: 0.8190 - val_loss: 0.4335 - val_accuracy: 0.8222\n",
            "Epoch 209/300\n",
            "26/26 [==============================] - 0s 5ms/step - loss: 0.4230 - accuracy: 0.8177 - val_loss: 0.4343 - val_accuracy: 0.8222\n",
            "Epoch 210/300\n",
            "26/26 [==============================] - 0s 6ms/step - loss: 0.4230 - accuracy: 0.8215 - val_loss: 0.4335 - val_accuracy: 0.8111\n",
            "Epoch 211/300\n",
            "26/26 [==============================] - 0s 5ms/step - loss: 0.4225 - accuracy: 0.8190 - val_loss: 0.4334 - val_accuracy: 0.8000\n",
            "Epoch 212/300\n",
            "26/26 [==============================] - 0s 5ms/step - loss: 0.4224 - accuracy: 0.8190 - val_loss: 0.4329 - val_accuracy: 0.8111\n",
            "Epoch 213/300\n",
            "26/26 [==============================] - 0s 5ms/step - loss: 0.4224 - accuracy: 0.8190 - val_loss: 0.4323 - val_accuracy: 0.8000\n",
            "Epoch 214/300\n",
            "26/26 [==============================] - 0s 6ms/step - loss: 0.4222 - accuracy: 0.8190 - val_loss: 0.4316 - val_accuracy: 0.8000\n",
            "Epoch 215/300\n",
            "26/26 [==============================] - 0s 6ms/step - loss: 0.4222 - accuracy: 0.8202 - val_loss: 0.4320 - val_accuracy: 0.8000\n",
            "Epoch 216/300\n",
            "26/26 [==============================] - 0s 5ms/step - loss: 0.4220 - accuracy: 0.8202 - val_loss: 0.4319 - val_accuracy: 0.8111\n",
            "Epoch 217/300\n",
            "26/26 [==============================] - 0s 6ms/step - loss: 0.4219 - accuracy: 0.8202 - val_loss: 0.4320 - val_accuracy: 0.8111\n",
            "Epoch 218/300\n",
            "26/26 [==============================] - 0s 7ms/step - loss: 0.4220 - accuracy: 0.8190 - val_loss: 0.4311 - val_accuracy: 0.8111\n",
            "Epoch 219/300\n",
            "26/26 [==============================] - 0s 5ms/step - loss: 0.4218 - accuracy: 0.8177 - val_loss: 0.4316 - val_accuracy: 0.8111\n",
            "Epoch 220/300\n",
            "26/26 [==============================] - 0s 8ms/step - loss: 0.4219 - accuracy: 0.8202 - val_loss: 0.4325 - val_accuracy: 0.8111\n",
            "Epoch 221/300\n",
            "26/26 [==============================] - 0s 6ms/step - loss: 0.4218 - accuracy: 0.8202 - val_loss: 0.4326 - val_accuracy: 0.8111\n",
            "Epoch 222/300\n",
            "26/26 [==============================] - 0s 5ms/step - loss: 0.4216 - accuracy: 0.8215 - val_loss: 0.4325 - val_accuracy: 0.8111\n",
            "Epoch 223/300\n",
            "26/26 [==============================] - 0s 5ms/step - loss: 0.4215 - accuracy: 0.8215 - val_loss: 0.4328 - val_accuracy: 0.8111\n",
            "Epoch 224/300\n",
            "26/26 [==============================] - 0s 6ms/step - loss: 0.4220 - accuracy: 0.8227 - val_loss: 0.4328 - val_accuracy: 0.8111\n",
            "Epoch 225/300\n",
            "26/26 [==============================] - 0s 5ms/step - loss: 0.4215 - accuracy: 0.8240 - val_loss: 0.4330 - val_accuracy: 0.8111\n",
            "Epoch 226/300\n",
            "26/26 [==============================] - 0s 5ms/step - loss: 0.4212 - accuracy: 0.8252 - val_loss: 0.4334 - val_accuracy: 0.8111\n",
            "Epoch 227/300\n",
            "26/26 [==============================] - 0s 6ms/step - loss: 0.4212 - accuracy: 0.8240 - val_loss: 0.4338 - val_accuracy: 0.8111\n",
            "Epoch 228/300\n",
            "26/26 [==============================] - 0s 6ms/step - loss: 0.4213 - accuracy: 0.8265 - val_loss: 0.4329 - val_accuracy: 0.8000\n",
            "Epoch 229/300\n",
            "26/26 [==============================] - 0s 7ms/step - loss: 0.4211 - accuracy: 0.8252 - val_loss: 0.4329 - val_accuracy: 0.8111\n",
            "Epoch 230/300\n",
            "26/26 [==============================] - 0s 6ms/step - loss: 0.4209 - accuracy: 0.8252 - val_loss: 0.4328 - val_accuracy: 0.8111\n",
            "Epoch 231/300\n",
            "26/26 [==============================] - 0s 5ms/step - loss: 0.4208 - accuracy: 0.8215 - val_loss: 0.4323 - val_accuracy: 0.8111\n",
            "Epoch 232/300\n",
            "26/26 [==============================] - 0s 5ms/step - loss: 0.4211 - accuracy: 0.8202 - val_loss: 0.4328 - val_accuracy: 0.8111\n",
            "Epoch 233/300\n",
            "26/26 [==============================] - 0s 5ms/step - loss: 0.4211 - accuracy: 0.8202 - val_loss: 0.4341 - val_accuracy: 0.8222\n",
            "Epoch 234/300\n",
            "26/26 [==============================] - 0s 5ms/step - loss: 0.4209 - accuracy: 0.8202 - val_loss: 0.4349 - val_accuracy: 0.8222\n",
            "Epoch 235/300\n",
            "26/26 [==============================] - 0s 5ms/step - loss: 0.4207 - accuracy: 0.8202 - val_loss: 0.4345 - val_accuracy: 0.8222\n",
            "Epoch 236/300\n",
            "26/26 [==============================] - 0s 6ms/step - loss: 0.4206 - accuracy: 0.8215 - val_loss: 0.4350 - val_accuracy: 0.8222\n",
            "Epoch 237/300\n",
            "26/26 [==============================] - 0s 5ms/step - loss: 0.4204 - accuracy: 0.8215 - val_loss: 0.4345 - val_accuracy: 0.8111\n",
            "Epoch 238/300\n",
            "26/26 [==============================] - 0s 6ms/step - loss: 0.4202 - accuracy: 0.8202 - val_loss: 0.4343 - val_accuracy: 0.8111\n",
            "Epoch 239/300\n",
            "26/26 [==============================] - 0s 5ms/step - loss: 0.4203 - accuracy: 0.8240 - val_loss: 0.4347 - val_accuracy: 0.8222\n",
            "Epoch 240/300\n",
            "26/26 [==============================] - 0s 5ms/step - loss: 0.4198 - accuracy: 0.8227 - val_loss: 0.4338 - val_accuracy: 0.8111\n",
            "Epoch 241/300\n",
            "26/26 [==============================] - 0s 6ms/step - loss: 0.4205 - accuracy: 0.8227 - val_loss: 0.4318 - val_accuracy: 0.8111\n",
            "Epoch 242/300\n",
            "26/26 [==============================] - 0s 6ms/step - loss: 0.4198 - accuracy: 0.8240 - val_loss: 0.4321 - val_accuracy: 0.8111\n",
            "Epoch 243/300\n",
            "26/26 [==============================] - 0s 5ms/step - loss: 0.4196 - accuracy: 0.8227 - val_loss: 0.4327 - val_accuracy: 0.8111\n",
            "Epoch 244/300\n",
            "26/26 [==============================] - 0s 5ms/step - loss: 0.4191 - accuracy: 0.8215 - val_loss: 0.4358 - val_accuracy: 0.8222\n",
            "Epoch 245/300\n",
            "26/26 [==============================] - 0s 6ms/step - loss: 0.4195 - accuracy: 0.8240 - val_loss: 0.4354 - val_accuracy: 0.8222\n",
            "Epoch 246/300\n",
            "26/26 [==============================] - 0s 5ms/step - loss: 0.4193 - accuracy: 0.8215 - val_loss: 0.4336 - val_accuracy: 0.8222\n",
            "Epoch 247/300\n",
            "26/26 [==============================] - 0s 6ms/step - loss: 0.4193 - accuracy: 0.8227 - val_loss: 0.4328 - val_accuracy: 0.8111\n",
            "Epoch 248/300\n",
            "26/26 [==============================] - 0s 6ms/step - loss: 0.4190 - accuracy: 0.8215 - val_loss: 0.4331 - val_accuracy: 0.8111\n",
            "Epoch 249/300\n",
            "26/26 [==============================] - 0s 7ms/step - loss: 0.4190 - accuracy: 0.8252 - val_loss: 0.4332 - val_accuracy: 0.8111\n",
            "Epoch 250/300\n",
            "26/26 [==============================] - 0s 6ms/step - loss: 0.4187 - accuracy: 0.8240 - val_loss: 0.4329 - val_accuracy: 0.8111\n",
            "Epoch 251/300\n",
            "26/26 [==============================] - 0s 5ms/step - loss: 0.4187 - accuracy: 0.8252 - val_loss: 0.4338 - val_accuracy: 0.8111\n",
            "Epoch 252/300\n",
            "26/26 [==============================] - 0s 5ms/step - loss: 0.4194 - accuracy: 0.8265 - val_loss: 0.4368 - val_accuracy: 0.8333\n",
            "Epoch 253/300\n",
            "26/26 [==============================] - 0s 7ms/step - loss: 0.4191 - accuracy: 0.8252 - val_loss: 0.4359 - val_accuracy: 0.8222\n",
            "Epoch 254/300\n",
            "26/26 [==============================] - 0s 6ms/step - loss: 0.4187 - accuracy: 0.8265 - val_loss: 0.4348 - val_accuracy: 0.8222\n",
            "Epoch 255/300\n",
            "26/26 [==============================] - 0s 5ms/step - loss: 0.4186 - accuracy: 0.8265 - val_loss: 0.4336 - val_accuracy: 0.8222\n",
            "Epoch 256/300\n",
            "26/26 [==============================] - 0s 6ms/step - loss: 0.4184 - accuracy: 0.8265 - val_loss: 0.4339 - val_accuracy: 0.8222\n",
            "Epoch 257/300\n",
            "26/26 [==============================] - 0s 5ms/step - loss: 0.4182 - accuracy: 0.8277 - val_loss: 0.4331 - val_accuracy: 0.8222\n",
            "Epoch 258/300\n",
            "26/26 [==============================] - 0s 5ms/step - loss: 0.4180 - accuracy: 0.8240 - val_loss: 0.4329 - val_accuracy: 0.8111\n",
            "Epoch 259/300\n",
            "26/26 [==============================] - 0s 6ms/step - loss: 0.4180 - accuracy: 0.8265 - val_loss: 0.4331 - val_accuracy: 0.8111\n",
            "Epoch 260/300\n",
            "26/26 [==============================] - 0s 6ms/step - loss: 0.4178 - accuracy: 0.8252 - val_loss: 0.4327 - val_accuracy: 0.8111\n",
            "Epoch 261/300\n",
            "26/26 [==============================] - 0s 6ms/step - loss: 0.4176 - accuracy: 0.8240 - val_loss: 0.4326 - val_accuracy: 0.8111\n",
            "Epoch 262/300\n",
            "26/26 [==============================] - 0s 6ms/step - loss: 0.4175 - accuracy: 0.8252 - val_loss: 0.4328 - val_accuracy: 0.8111\n",
            "Epoch 263/300\n",
            "26/26 [==============================] - 0s 6ms/step - loss: 0.4175 - accuracy: 0.8252 - val_loss: 0.4327 - val_accuracy: 0.8111\n",
            "Epoch 264/300\n",
            "26/26 [==============================] - 0s 6ms/step - loss: 0.4174 - accuracy: 0.8252 - val_loss: 0.4325 - val_accuracy: 0.8111\n",
            "Epoch 265/300\n",
            "26/26 [==============================] - 0s 5ms/step - loss: 0.4173 - accuracy: 0.8265 - val_loss: 0.4328 - val_accuracy: 0.8111\n",
            "Epoch 266/300\n",
            "26/26 [==============================] - 0s 6ms/step - loss: 0.4172 - accuracy: 0.8265 - val_loss: 0.4328 - val_accuracy: 0.8111\n",
            "Epoch 267/300\n",
            "26/26 [==============================] - 0s 6ms/step - loss: 0.4171 - accuracy: 0.8265 - val_loss: 0.4322 - val_accuracy: 0.8111\n",
            "Epoch 268/300\n",
            "26/26 [==============================] - 0s 7ms/step - loss: 0.4173 - accuracy: 0.8227 - val_loss: 0.4289 - val_accuracy: 0.8111\n",
            "Epoch 269/300\n",
            "26/26 [==============================] - 0s 5ms/step - loss: 0.4172 - accuracy: 0.8277 - val_loss: 0.4288 - val_accuracy: 0.8111\n",
            "Epoch 270/300\n",
            "26/26 [==============================] - 0s 5ms/step - loss: 0.4172 - accuracy: 0.8277 - val_loss: 0.4300 - val_accuracy: 0.8000\n",
            "Epoch 271/300\n",
            "26/26 [==============================] - 0s 6ms/step - loss: 0.4170 - accuracy: 0.8290 - val_loss: 0.4299 - val_accuracy: 0.8000\n",
            "Epoch 272/300\n",
            "26/26 [==============================] - 0s 5ms/step - loss: 0.4171 - accuracy: 0.8315 - val_loss: 0.4302 - val_accuracy: 0.8000\n",
            "Epoch 273/300\n",
            "26/26 [==============================] - 0s 5ms/step - loss: 0.4168 - accuracy: 0.8277 - val_loss: 0.4302 - val_accuracy: 0.8222\n",
            "Epoch 274/300\n",
            "26/26 [==============================] - 0s 5ms/step - loss: 0.4168 - accuracy: 0.8302 - val_loss: 0.4303 - val_accuracy: 0.8222\n",
            "Epoch 275/300\n",
            "26/26 [==============================] - 0s 5ms/step - loss: 0.4172 - accuracy: 0.8290 - val_loss: 0.4312 - val_accuracy: 0.8222\n",
            "Epoch 276/300\n",
            "26/26 [==============================] - 0s 7ms/step - loss: 0.4171 - accuracy: 0.8290 - val_loss: 0.4312 - val_accuracy: 0.8222\n",
            "Epoch 277/300\n",
            "26/26 [==============================] - 0s 5ms/step - loss: 0.4170 - accuracy: 0.8290 - val_loss: 0.4311 - val_accuracy: 0.8222\n",
            "Epoch 278/300\n",
            "26/26 [==============================] - 0s 5ms/step - loss: 0.4167 - accuracy: 0.8290 - val_loss: 0.4310 - val_accuracy: 0.8222\n",
            "Epoch 279/300\n",
            "26/26 [==============================] - 0s 5ms/step - loss: 0.4165 - accuracy: 0.8290 - val_loss: 0.4304 - val_accuracy: 0.8222\n",
            "Epoch 280/300\n",
            "26/26 [==============================] - 0s 5ms/step - loss: 0.4164 - accuracy: 0.8277 - val_loss: 0.4306 - val_accuracy: 0.8222\n",
            "Epoch 281/300\n",
            "26/26 [==============================] - 0s 6ms/step - loss: 0.4163 - accuracy: 0.8277 - val_loss: 0.4305 - val_accuracy: 0.8222\n",
            "Epoch 282/300\n",
            "26/26 [==============================] - 0s 5ms/step - loss: 0.4162 - accuracy: 0.8302 - val_loss: 0.4311 - val_accuracy: 0.8222\n",
            "Epoch 283/300\n",
            "26/26 [==============================] - 0s 5ms/step - loss: 0.4161 - accuracy: 0.8302 - val_loss: 0.4308 - val_accuracy: 0.8222\n",
            "Epoch 284/300\n",
            "26/26 [==============================] - 0s 5ms/step - loss: 0.4162 - accuracy: 0.8290 - val_loss: 0.4312 - val_accuracy: 0.8222\n",
            "Epoch 285/300\n",
            "26/26 [==============================] - 0s 5ms/step - loss: 0.4160 - accuracy: 0.8290 - val_loss: 0.4310 - val_accuracy: 0.8222\n",
            "Epoch 286/300\n",
            "26/26 [==============================] - 0s 6ms/step - loss: 0.4159 - accuracy: 0.8290 - val_loss: 0.4312 - val_accuracy: 0.8222\n",
            "Epoch 287/300\n",
            "26/26 [==============================] - 0s 7ms/step - loss: 0.4161 - accuracy: 0.8290 - val_loss: 0.4313 - val_accuracy: 0.8222\n",
            "Epoch 288/300\n",
            "26/26 [==============================] - 0s 5ms/step - loss: 0.4160 - accuracy: 0.8302 - val_loss: 0.4309 - val_accuracy: 0.8222\n",
            "Epoch 289/300\n",
            "26/26 [==============================] - 0s 5ms/step - loss: 0.4157 - accuracy: 0.8315 - val_loss: 0.4310 - val_accuracy: 0.8222\n",
            "Epoch 290/300\n",
            "26/26 [==============================] - 0s 5ms/step - loss: 0.4157 - accuracy: 0.8302 - val_loss: 0.4312 - val_accuracy: 0.8222\n",
            "Epoch 291/300\n",
            "26/26 [==============================] - 0s 6ms/step - loss: 0.4155 - accuracy: 0.8277 - val_loss: 0.4307 - val_accuracy: 0.8222\n",
            "Epoch 292/300\n",
            "26/26 [==============================] - 0s 5ms/step - loss: 0.4157 - accuracy: 0.8290 - val_loss: 0.4308 - val_accuracy: 0.8222\n",
            "Epoch 293/300\n",
            "26/26 [==============================] - 0s 7ms/step - loss: 0.4154 - accuracy: 0.8302 - val_loss: 0.4310 - val_accuracy: 0.8222\n",
            "Epoch 294/300\n",
            "26/26 [==============================] - 0s 5ms/step - loss: 0.4160 - accuracy: 0.8265 - val_loss: 0.4297 - val_accuracy: 0.8111\n",
            "Epoch 295/300\n",
            "26/26 [==============================] - 0s 5ms/step - loss: 0.4156 - accuracy: 0.8265 - val_loss: 0.4297 - val_accuracy: 0.8111\n",
            "Epoch 296/300\n",
            "26/26 [==============================] - 0s 6ms/step - loss: 0.4155 - accuracy: 0.8277 - val_loss: 0.4305 - val_accuracy: 0.8111\n",
            "Epoch 297/300\n",
            "26/26 [==============================] - 0s 5ms/step - loss: 0.4153 - accuracy: 0.8302 - val_loss: 0.4309 - val_accuracy: 0.8111\n",
            "Epoch 298/300\n",
            "26/26 [==============================] - 0s 5ms/step - loss: 0.4151 - accuracy: 0.8302 - val_loss: 0.4305 - val_accuracy: 0.8111\n",
            "Epoch 299/300\n",
            "26/26 [==============================] - 0s 5ms/step - loss: 0.4151 - accuracy: 0.8277 - val_loss: 0.4308 - val_accuracy: 0.8111\n",
            "Epoch 300/300\n",
            "26/26 [==============================] - 0s 5ms/step - loss: 0.4150 - accuracy: 0.8315 - val_loss: 0.4322 - val_accuracy: 0.8222\n"
          ]
        }
      ],
      "source": [
        "# sequential API\n",
        "from tensorflow.keras.models import Sequential\n",
        "from tensorflow.keras.layers import Dense\n",
        "\n",
        "'''\n",
        "data_in = Input(shape=(7,))\n",
        "hidden_1 = Dense(4, activation='relu')(data_in)\n",
        "out = Dense(1,activation='sigmoid')(hidden_1)\n",
        "\n",
        "model = Model(Inputs=data_in,outputs=out)\n",
        "'''\n",
        "\n",
        "\n",
        "# buat arsitekturnya\n",
        "model = Sequential()\n",
        "model.add(Dense(4, activation='relu', input_shape=(7,))) # hidden layer 1\n",
        "model.add(Dense(1, activation='sigmoid')) # output layer\n",
        "\n",
        "# compile\n",
        "model.compile(loss=\"binary_crossentropy\",\n",
        "              optimizer='adam', # paling modern\n",
        "              metrics=['accuracy'])\n",
        "\n",
        "# training\n",
        "history = model.fit(X_train, y_train, epochs=300, validation_data=(X_val,y_val))"
      ]
    },
    {
      "cell_type": "markdown",
      "metadata": {
        "id": "Lhvvq0AT9-Dr"
      },
      "source": [
        "## Binary class\n",
        "- Output Layer : \n",
        "  - Neuron 1\n",
        "  - Activation \"Sigmoid\"\n",
        "  - Loss : \"binary crossentropy\"\n",
        "\n",
        "## mutliclasss\n",
        "- Output Layer:\n",
        "  - Neuron : n\n",
        "  - Activation \"Softmax\"\n",
        "  - loss \" Categorical crossentropy\"\n",
        "\n",
        "## Regressi\n",
        "- Output Layer:\n",
        "  - neuron 1\n",
        "  - activation =\n",
        "  - loss \"mean squared error\"\n",
        "\n",
        "  "
      ]
    },
    {
      "cell_type": "code",
      "execution_count": 10,
      "metadata": {
        "colab": {
          "base_uri": "https://localhost:8080/",
          "height": 424
        },
        "id": "wLA5ih_y801B",
        "outputId": "40c21767-cecf-4ec8-cfca-fde4e04a9fae"
      },
      "outputs": [
        {
          "data": {
            "text/html": [
              "<div>\n",
              "<style scoped>\n",
              "    .dataframe tbody tr th:only-of-type {\n",
              "        vertical-align: middle;\n",
              "    }\n",
              "\n",
              "    .dataframe tbody tr th {\n",
              "        vertical-align: top;\n",
              "    }\n",
              "\n",
              "    .dataframe thead th {\n",
              "        text-align: right;\n",
              "    }\n",
              "</style>\n",
              "<table border=\"1\" class=\"dataframe\">\n",
              "  <thead>\n",
              "    <tr style=\"text-align: right;\">\n",
              "      <th></th>\n",
              "      <th>loss</th>\n",
              "      <th>accuracy</th>\n",
              "      <th>val_loss</th>\n",
              "      <th>val_accuracy</th>\n",
              "    </tr>\n",
              "  </thead>\n",
              "  <tbody>\n",
              "    <tr>\n",
              "      <th>0</th>\n",
              "      <td>0.784982</td>\n",
              "      <td>0.393258</td>\n",
              "      <td>0.710675</td>\n",
              "      <td>0.477778</td>\n",
              "    </tr>\n",
              "    <tr>\n",
              "      <th>1</th>\n",
              "      <td>0.754973</td>\n",
              "      <td>0.453184</td>\n",
              "      <td>0.689042</td>\n",
              "      <td>0.566667</td>\n",
              "    </tr>\n",
              "    <tr>\n",
              "      <th>2</th>\n",
              "      <td>0.730815</td>\n",
              "      <td>0.540574</td>\n",
              "      <td>0.671318</td>\n",
              "      <td>0.644444</td>\n",
              "    </tr>\n",
              "    <tr>\n",
              "      <th>3</th>\n",
              "      <td>0.711097</td>\n",
              "      <td>0.579276</td>\n",
              "      <td>0.656127</td>\n",
              "      <td>0.666667</td>\n",
              "    </tr>\n",
              "    <tr>\n",
              "      <th>4</th>\n",
              "      <td>0.692369</td>\n",
              "      <td>0.621723</td>\n",
              "      <td>0.640708</td>\n",
              "      <td>0.722222</td>\n",
              "    </tr>\n",
              "    <tr>\n",
              "      <th>...</th>\n",
              "      <td>...</td>\n",
              "      <td>...</td>\n",
              "      <td>...</td>\n",
              "      <td>...</td>\n",
              "    </tr>\n",
              "    <tr>\n",
              "      <th>295</th>\n",
              "      <td>0.415467</td>\n",
              "      <td>0.827715</td>\n",
              "      <td>0.430484</td>\n",
              "      <td>0.811111</td>\n",
              "    </tr>\n",
              "    <tr>\n",
              "      <th>296</th>\n",
              "      <td>0.415254</td>\n",
              "      <td>0.830212</td>\n",
              "      <td>0.430889</td>\n",
              "      <td>0.811111</td>\n",
              "    </tr>\n",
              "    <tr>\n",
              "      <th>297</th>\n",
              "      <td>0.415097</td>\n",
              "      <td>0.830212</td>\n",
              "      <td>0.430510</td>\n",
              "      <td>0.811111</td>\n",
              "    </tr>\n",
              "    <tr>\n",
              "      <th>298</th>\n",
              "      <td>0.415057</td>\n",
              "      <td>0.827715</td>\n",
              "      <td>0.430771</td>\n",
              "      <td>0.811111</td>\n",
              "    </tr>\n",
              "    <tr>\n",
              "      <th>299</th>\n",
              "      <td>0.414966</td>\n",
              "      <td>0.831461</td>\n",
              "      <td>0.432232</td>\n",
              "      <td>0.822222</td>\n",
              "    </tr>\n",
              "  </tbody>\n",
              "</table>\n",
              "<p>300 rows × 4 columns</p>\n",
              "</div>"
            ],
            "text/plain": [
              "         loss  accuracy  val_loss  val_accuracy\n",
              "0    0.784982  0.393258  0.710675      0.477778\n",
              "1    0.754973  0.453184  0.689042      0.566667\n",
              "2    0.730815  0.540574  0.671318      0.644444\n",
              "3    0.711097  0.579276  0.656127      0.666667\n",
              "4    0.692369  0.621723  0.640708      0.722222\n",
              "..        ...       ...       ...           ...\n",
              "295  0.415467  0.827715  0.430484      0.811111\n",
              "296  0.415254  0.830212  0.430889      0.811111\n",
              "297  0.415097  0.830212  0.430510      0.811111\n",
              "298  0.415057  0.827715  0.430771      0.811111\n",
              "299  0.414966  0.831461  0.432232      0.822222\n",
              "\n",
              "[300 rows x 4 columns]"
            ]
          },
          "execution_count": 10,
          "metadata": {},
          "output_type": "execute_result"
        }
      ],
      "source": [
        "import pandas as pd\n",
        "metrics = pd.DataFrame(history.history)\n",
        "metrics"
      ]
    },
    {
      "cell_type": "code",
      "execution_count": 11,
      "metadata": {
        "colab": {
          "base_uri": "https://localhost:8080/",
          "height": 283
        },
        "id": "V_N81TzvCcsC",
        "outputId": "d8704f0e-acb4-4dc2-90ad-84145d397ba5"
      },
      "outputs": [
        {
          "data": {
            "text/plain": [
              "<AxesSubplot:>"
            ]
          },
          "execution_count": 11,
          "metadata": {},
          "output_type": "execute_result"
        },
        {
          "data": {
            "image/png": "[encoded data removed]",
            "text/plain": [
              "<Figure size 432x288 with 1 Axes>"
            ]
          },
          "metadata": {
            "needs_background": "light"
          },
          "output_type": "display_data"
        }
      ],
      "source": [
        "metrics[['loss','val_loss']].plot()"
      ]
    },
    {
      "cell_type": "code",
      "execution_count": 12,
      "metadata": {
        "colab": {
          "base_uri": "https://localhost:8080/"
        },
        "id": "B9GRJd4LDQRU",
        "outputId": "6aae7e6a-0945-4866-c6e7-c137697b8905"
      },
      "outputs": [
        {
          "name": "stdout",
          "output_type": "stream",
          "text": [
            "              precision    recall  f1-score   support\n",
            "\n",
            "           0       0.83      0.93      0.88        76\n",
            "           1       0.90      0.74      0.81        58\n",
            "\n",
            "    accuracy                           0.85       134\n",
            "   macro avg       0.86      0.84      0.84       134\n",
            "weighted avg       0.86      0.85      0.85       134\n",
            "\n"
          ]
        }
      ],
      "source": [
        "from sklearn.metrics import classification_report\n",
        "import numpy as np\n",
        "\n",
        "\n",
        "y_pred = model.predict(X_test)\n",
        "y_pred = np.where(y_pred >= 0.5, 1, 0)\n",
        "print(classification_report(y_test,y_pred))"
      ]
    },
    {
      "cell_type": "code",
      "execution_count": 13,
      "metadata": {
        "colab": {
          "base_uri": "https://localhost:8080/"
        },
        "id": "LbS95JGxE4TU",
        "outputId": "3326504c-5b55-4928-c533-3034e3a468f9"
      },
      "outputs": [
        {
          "data": {
            "text/plain": [
              "1"
            ]
          },
          "execution_count": 13,
          "metadata": {},
          "output_type": "execute_result"
        }
      ],
      "source": [
        "import tensorflow as tf\n",
        "len(tf.config.list_physical_devices('GPU'))"
      ]
    },
    {
      "cell_type": "code",
      "execution_count": 14,
      "metadata": {
        "colab": {
          "base_uri": "https://localhost:8080/"
        },
        "id": "7z3D90qFGL2T",
        "outputId": "2246f25f-5c70-40ec-8d18-ac9a0b614013"
      },
      "outputs": [
        {
          "name": "stdout",
          "output_type": "stream",
          "text": [
            "INFO:tensorflow:Assets written to: nn_titanic\\assets\n"
          ]
        }
      ],
      "source": [
        "#save model\n",
        "model.save(\"nn_titanic\")"
      ]
    },
    {
      "cell_type": "code",
      "execution_count": 15,
      "metadata": {
        "id": "Mb-fLEjoIBre"
      },
      "outputs": [],
      "source": [
        "from tensorflow.keras.models import load_model\n",
        "\n",
        "model_titanic = load_model(\"nn_titanic\")"
      ]
    },
    {
      "cell_type": "code",
      "execution_count": 16,
      "metadata": {
        "id": "8Ov3JY9aIPN-"
      },
      "outputs": [],
      "source": [
        "res_model = model_titanic.predict(X_test)"
      ]
    },
    {
      "cell_type": "code",
      "execution_count": 17,
      "metadata": {
        "colab": {
          "base_uri": "https://localhost:8080/"
        },
        "id": "CsbjoZ4NIVRZ",
        "outputId": "4942f9f7-ff98-414b-9e3b-5e102ecd3ce8"
      },
      "outputs": [
        {
          "name": "stdout",
          "output_type": "stream",
          "text": [
            "Model: \"sequential\"\n",
            "_________________________________________________________________\n",
            " Layer (type)                Output Shape              Param #   \n",
            "=================================================================\n",
            " dense (Dense)               (None, 4)                 32        \n",
            "                                                                 \n",
            " dense_1 (Dense)             (None, 1)                 5         \n",
            "                                                                 \n",
            "=================================================================\n",
            "Total params: 37\n",
            "Trainable params: 37\n",
            "Non-trainable params: 0\n",
            "_________________________________________________________________\n"
          ]
        }
      ],
      "source": [
        "model_titanic.summary()"
      ]
    },
    {
      "cell_type": "code",
      "execution_count": 18,
      "metadata": {
        "id": "UuAPXspCI9Bj"
      },
      "outputs": [
        {
          "name": "stdout",
          "output_type": "stream",
          "text": [
            "Downloading data from https://storage.googleapis.com/tensorflow/tf-keras-datasets/mnist.npz\n",
            "11493376/11490434 [==============================] - 5s 0us/step\n",
            "11501568/11490434 [==============================] - 5s 0us/step\n"
          ]
        }
      ],
      "source": [
        "from tensorflow.keras.datasets import mnist\n",
        "\n",
        "(x_train,y_train),(x_test,y_test) = mnist.load_data()\n",
        "# 0 - 255\n",
        "x_train = x_train / 255.0\n",
        "x_test = x_test / 255.0\n",
        "\n"
      ]
    },
    {
      "cell_type": "code",
      "execution_count": 19,
      "metadata": {
        "id": "cKGybYZvKFi8"
      },
      "outputs": [],
      "source": [
        "import matplotlib.pyplot as plt\n",
        "\n",
        "def show_image(image):\n",
        "  plt.imshow(image,cmap=\"binary\")"
      ]
    },
    {
      "cell_type": "code",
      "execution_count": 20,
      "metadata": {
        "colab": {
          "base_uri": "https://localhost:8080/",
          "height": 300
        },
        "id": "rPxjFZBKKT8t",
        "outputId": "12bbe33c-36b5-4951-e8af-65b290f65170"
      },
      "outputs": [
        {
          "name": "stdout",
          "output_type": "stream",
          "text": [
            "None\n",
            "5\n"
          ]
        },
        {
          "data": {
            "image/png": "[encoded data removed]",
            "text/plain": [
              "<Figure size 432x288 with 1 Axes>"
            ]
          },
          "metadata": {
            "needs_background": "light"
          },
          "output_type": "display_data"
        }
      ],
      "source": [
        "print(show_image(x_train[100]))\n",
        "print(y_train[100])"
      ]
    },
    {
      "cell_type": "code",
      "execution_count": null,
      "metadata": {},
      "outputs": [],
      "source": []
    },
    {
      "cell_type": "code",
      "execution_count": 3,
      "metadata": {},
      "outputs": [],
      "source": [
        "from tensorflow.keras.datasets import mnist\n",
        "from sklearn.model_selection import train_test_split\n",
        "(x_train,y_train),(x_test,y_test) = mnist.load_data()\n",
        "# 0 - 255\n",
        "# x_train = x_train / 255.0\n",
        "# x_test = x_test / 255.0\n",
        "\n"
      ]
    },
    {
      "cell_type": "code",
      "execution_count": 21,
      "metadata": {
        "id": "s_e2wFl4KsfM"
      },
      "outputs": [],
      "source": [
        "\n",
        "x_train, x_val, y_train, y_val = train_test_split(x_train,y_train, test_size=0.1,random_state=46)"
      ]
    },
    {
      "cell_type": "code",
      "execution_count": 22,
      "metadata": {
        "colab": {
          "base_uri": "https://localhost:8080/"
        },
        "id": "NtwTboCpLBBj",
        "outputId": "ed9ef026-9bdc-4e62-cc8e-a418e3612632"
      },
      "outputs": [
        {
          "data": {
            "text/plain": [
              "{0, 1, 2, 3, 4, 5, 6, 7, 8, 9}"
            ]
          },
          "execution_count": 22,
          "metadata": {},
          "output_type": "execute_result"
        }
      ],
      "source": [
        "set(y_train)"
      ]
    },
    {
      "cell_type": "code",
      "execution_count": 23,
      "metadata": {
        "id": "O-efAyTVLDes"
      },
      "outputs": [],
      "source": [
        "# siapkan label dengan one hot encoding\n",
        "\n",
        "from tensorflow.keras.utils import to_categorical\n",
        "\n",
        "y_train_ohe = to_categorical(y_train)\n",
        "y_val_ohe = to_categorical(y_val)\n",
        "y_test_ohe = to_categorical(y_test)"
      ]
    },
    {
      "cell_type": "code",
      "execution_count": 24,
      "metadata": {
        "colab": {
          "base_uri": "https://localhost:8080/"
        },
        "id": "ITEcpuOfNKym",
        "outputId": "750304be-4372-405c-e924-f3f708801cdc"
      },
      "outputs": [
        {
          "data": {
            "text/plain": [
              "(54000, 28, 28)"
            ]
          },
          "execution_count": 24,
          "metadata": {},
          "output_type": "execute_result"
        }
      ],
      "source": [
        "x_train.shape"
      ]
    },
    {
      "cell_type": "code",
      "execution_count": 25,
      "metadata": {
        "colab": {
          "base_uri": "https://localhost:8080/"
        },
        "id": "FZgJk3bgNaXt",
        "outputId": "9b13de71-c8f6-43f1-abd6-69eab8823d41"
      },
      "outputs": [
        {
          "data": {
            "text/plain": [
              "784"
            ]
          },
          "execution_count": 25,
          "metadata": {},
          "output_type": "execute_result"
        }
      ],
      "source": [
        "28*28"
      ]
    },
    {
      "cell_type": "code",
      "execution_count": 26,
      "metadata": {
        "colab": {
          "base_uri": "https://localhost:8080/"
        },
        "id": "4yVUXG55MAvG",
        "outputId": "84c5ac80-f219-48a1-de22-a3f3698a9b34"
      },
      "outputs": [
        {
          "name": "stdout",
          "output_type": "stream",
          "text": [
            "Epoch 1/30\n",
            "1688/1688 [==============================] - 9s 5ms/step - loss: 0.4539 - accuracy: 0.8603 - val_loss: 0.1718 - val_accuracy: 0.9455\n",
            "Epoch 2/30\n",
            "1688/1688 [==============================] - 8s 4ms/step - loss: 0.2746 - accuracy: 0.9170 - val_loss: 0.1237 - val_accuracy: 0.9613\n",
            "Epoch 3/30\n",
            "1688/1688 [==============================] - 8s 5ms/step - loss: 0.2228 - accuracy: 0.9316 - val_loss: 0.1100 - val_accuracy: 0.9688\n",
            "Epoch 4/30\n",
            "1688/1688 [==============================] - 8s 5ms/step - loss: 0.1956 - accuracy: 0.9402 - val_loss: 0.0862 - val_accuracy: 0.9732\n",
            "Epoch 5/30\n",
            "1688/1688 [==============================] - 8s 5ms/step - loss: 0.1766 - accuracy: 0.9465 - val_loss: 0.0798 - val_accuracy: 0.9728\n",
            "Epoch 6/30\n",
            "1688/1688 [==============================] - 8s 4ms/step - loss: 0.1585 - accuracy: 0.9521 - val_loss: 0.0727 - val_accuracy: 0.9785\n",
            "Epoch 7/30\n",
            "1688/1688 [==============================] - 8s 5ms/step - loss: 0.1518 - accuracy: 0.9544 - val_loss: 0.0703 - val_accuracy: 0.9767\n",
            "Epoch 8/30\n",
            "1688/1688 [==============================] - 8s 5ms/step - loss: 0.1359 - accuracy: 0.9582 - val_loss: 0.0688 - val_accuracy: 0.9758\n",
            "Epoch 9/30\n",
            "1688/1688 [==============================] - 8s 5ms/step - loss: 0.1291 - accuracy: 0.9599 - val_loss: 0.0717 - val_accuracy: 0.9755\n",
            "Epoch 10/30\n",
            "1688/1688 [==============================] - 8s 5ms/step - loss: 0.1227 - accuracy: 0.9621 - val_loss: 0.0590 - val_accuracy: 0.9830\n",
            "Epoch 11/30\n",
            "1688/1688 [==============================] - 8s 5ms/step - loss: 0.1172 - accuracy: 0.9632 - val_loss: 0.0582 - val_accuracy: 0.9835\n",
            "Epoch 12/30\n",
            "1688/1688 [==============================] - 8s 5ms/step - loss: 0.1138 - accuracy: 0.9655 - val_loss: 0.0605 - val_accuracy: 0.9823\n",
            "Epoch 13/30\n",
            "1688/1688 [==============================] - 10s 6ms/step - loss: 0.1088 - accuracy: 0.9665 - val_loss: 0.0559 - val_accuracy: 0.9822\n",
            "Epoch 14/30\n",
            "1688/1688 [==============================] - 8s 5ms/step - loss: 0.1057 - accuracy: 0.9678 - val_loss: 0.0617 - val_accuracy: 0.9797\n",
            "Epoch 15/30\n",
            "1688/1688 [==============================] - 9s 5ms/step - loss: 0.1028 - accuracy: 0.9681 - val_loss: 0.0612 - val_accuracy: 0.9802\n",
            "Epoch 16/30\n",
            "1688/1688 [==============================] - 11s 6ms/step - loss: 0.1005 - accuracy: 0.9686 - val_loss: 0.0535 - val_accuracy: 0.9828\n",
            "Epoch 17/30\n",
            "1688/1688 [==============================] - 8s 5ms/step - loss: 0.0970 - accuracy: 0.9703 - val_loss: 0.0561 - val_accuracy: 0.9815\n",
            "Epoch 18/30\n",
            "1688/1688 [==============================] - 11s 6ms/step - loss: 0.0935 - accuracy: 0.9716 - val_loss: 0.0512 - val_accuracy: 0.9850\n",
            "Epoch 19/30\n",
            "1688/1688 [==============================] - 10s 6ms/step - loss: 0.0916 - accuracy: 0.9716 - val_loss: 0.0621 - val_accuracy: 0.9803\n",
            "Epoch 20/30\n",
            "1688/1688 [==============================] - 8s 5ms/step - loss: 0.0906 - accuracy: 0.9719 - val_loss: 0.0532 - val_accuracy: 0.9828\n",
            "Epoch 21/30\n",
            "1688/1688 [==============================] - 8s 5ms/step - loss: 0.0890 - accuracy: 0.9713 - val_loss: 0.0564 - val_accuracy: 0.9837\n",
            "Epoch 22/30\n",
            "1688/1688 [==============================] - 8s 5ms/step - loss: 0.0864 - accuracy: 0.9733 - val_loss: 0.0549 - val_accuracy: 0.9830\n",
            "Epoch 23/30\n",
            "1688/1688 [==============================] - 9s 5ms/step - loss: 0.0829 - accuracy: 0.9739 - val_loss: 0.0550 - val_accuracy: 0.9822\n",
            "Epoch 24/30\n",
            "1688/1688 [==============================] - 9s 5ms/step - loss: 0.0831 - accuracy: 0.9745 - val_loss: 0.0550 - val_accuracy: 0.9850\n",
            "Epoch 25/30\n",
            "1688/1688 [==============================] - 8s 5ms/step - loss: 0.0813 - accuracy: 0.9745 - val_loss: 0.0584 - val_accuracy: 0.9827\n",
            "Epoch 26/30\n",
            "1688/1688 [==============================] - 8s 4ms/step - loss: 0.0820 - accuracy: 0.9741 - val_loss: 0.0541 - val_accuracy: 0.9840\n",
            "Epoch 27/30\n",
            "1688/1688 [==============================] - 8s 4ms/step - loss: 0.0770 - accuracy: 0.9767 - val_loss: 0.0544 - val_accuracy: 0.9842\n",
            "Epoch 28/30\n",
            "1688/1688 [==============================] - 9s 5ms/step - loss: 0.0797 - accuracy: 0.9756 - val_loss: 0.0557 - val_accuracy: 0.9847\n",
            "Epoch 29/30\n",
            "1688/1688 [==============================] - 7s 4ms/step - loss: 0.0767 - accuracy: 0.9756 - val_loss: 0.0563 - val_accuracy: 0.9850\n",
            "Epoch 30/30\n",
            "1688/1688 [==============================] - 8s 5ms/step - loss: 0.0748 - accuracy: 0.9766 - val_loss: 0.0535 - val_accuracy: 0.9850\n"
          ]
        }
      ],
      "source": [
        "# functional api\n",
        "from tensorflow.keras.models import Model\n",
        "from tensorflow.keras.layers import Input, Dense, Flatten, Dropout\n",
        "\n",
        "# arsitektur\n",
        "data_in = Input(shape=(28,28))\n",
        "data_flat = Flatten()(data_in)\n",
        "data_drop = Dropout(0.25)(data_flat)\n",
        "hidden_1 = Dense(256, activation='elu')(data_drop)\n",
        "hidden1_drop = Dropout(0.25)(hidden_1)\n",
        "hidden_2 = Dense(32, activation='elu')(hidden1_drop)\n",
        "hidden2_drop = Dropout(0.25)(hidden_2)\n",
        "out = Dense(10, activation='softmax')(hidden2_drop)\n",
        "\n",
        "model = Model(inputs=data_in, outputs=out)\n",
        "\n",
        "# compile\n",
        "model.compile(loss=\"categorical_crossentropy\",\n",
        "              optimizer='adam', # paling modern\n",
        "              metrics=['accuracy'])\n",
        "\n",
        "# training\n",
        "history = model.fit(x_train, y_train_ohe, epochs=30, validation_data=(x_val,y_val_ohe))"
      ]
    },
    {
      "cell_type": "code",
      "execution_count": 27,
      "metadata": {
        "colab": {
          "base_uri": "https://localhost:8080/"
        },
        "id": "ImRu8wTIOtna",
        "outputId": "746b4731-9f96-4b9b-9eef-346acbe03d92"
      },
      "outputs": [
        {
          "name": "stdout",
          "output_type": "stream",
          "text": [
            "Model: \"model\"\n",
            "_________________________________________________________________\n",
            " Layer (type)                Output Shape              Param #   \n",
            "=================================================================\n",
            " input_1 (InputLayer)        [(None, 28, 28)]          0         \n",
            "                                                                 \n",
            " flatten (Flatten)           (None, 784)               0         \n",
            "                                                                 \n",
            " dropout (Dropout)           (None, 784)               0         \n",
            "                                                                 \n",
            " dense_2 (Dense)             (None, 256)               200960    \n",
            "                                                                 \n",
            " dropout_1 (Dropout)         (None, 256)               0         \n",
            "                                                                 \n",
            " dense_3 (Dense)             (None, 32)                8224      \n",
            "                                                                 \n",
            " dropout_2 (Dropout)         (None, 32)                0         \n",
            "                                                                 \n",
            " dense_4 (Dense)             (None, 10)                330       \n",
            "                                                                 \n",
            "=================================================================\n",
            "Total params: 209,514\n",
            "Trainable params: 209,514\n",
            "Non-trainable params: 0\n",
            "_________________________________________________________________\n"
          ]
        }
      ],
      "source": [
        "model.summary()"
      ]
    },
    {
      "cell_type": "code",
      "execution_count": 28,
      "metadata": {
        "colab": {
          "base_uri": "https://localhost:8080/",
          "height": 265
        },
        "id": "1_wYH3v4OvLk",
        "outputId": "28f9f1cb-b7fb-4a70-e8f5-9809cafe096b"
      },
      "outputs": [
        {
          "data": {
            "image/png": "[encoded data removed]",
            "text/plain": [
              "<Figure size 432x288 with 1 Axes>"
            ]
          },
          "metadata": {
            "needs_background": "light"
          },
          "output_type": "display_data"
        }
      ],
      "source": [
        "new_data = x_test[200]\n",
        "show_image(new_data)"
      ]
    },
    {
      "cell_type": "code",
      "execution_count": 29,
      "metadata": {
        "colab": {
          "base_uri": "https://localhost:8080/"
        },
        "id": "n19s33EtTiud",
        "outputId": "037030a8-25e5-4833-9a92-95c528409159"
      },
      "outputs": [
        {
          "data": {
            "text/plain": [
              "(28, 28)"
            ]
          },
          "execution_count": 29,
          "metadata": {},
          "output_type": "execute_result"
        }
      ],
      "source": [
        "new_data.shape"
      ]
    },
    {
      "cell_type": "code",
      "execution_count": 30,
      "metadata": {
        "colab": {
          "base_uri": "https://localhost:8080/"
        },
        "id": "iz9dJdA3TQse",
        "outputId": "9557f2cd-b115-4748-da73-b9bbca4f5b9f"
      },
      "outputs": [
        {
          "data": {
            "text/plain": [
              "3"
            ]
          },
          "execution_count": 30,
          "metadata": {},
          "output_type": "execute_result"
        }
      ],
      "source": [
        "res = model.predict(new_data.reshape(1, 28, 28))\n",
        "res.argmax()"
      ]
    },
    {
      "cell_type": "code",
      "execution_count": 31,
      "metadata": {
        "id": "uu5_hbwWTgk1"
      },
      "outputs": [],
      "source": [
        "\n",
        "y_pred = model.predict(x_test)\n",
        "y_pred = y_pred.argmax(axis=1)"
      ]
    },
    {
      "cell_type": "code",
      "execution_count": 32,
      "metadata": {
        "colab": {
          "base_uri": "https://localhost:8080/"
        },
        "id": "plxpy2O-UVqO",
        "outputId": "0012db8e-5390-4284-a319-d6e95eba92b4"
      },
      "outputs": [
        {
          "name": "stdout",
          "output_type": "stream",
          "text": [
            "              precision    recall  f1-score   support\n",
            "\n",
            "           0       0.98      0.99      0.99       980\n",
            "           1       0.99      0.99      0.99      1135\n",
            "           2       0.98      0.99      0.98      1032\n",
            "           3       0.98      0.99      0.98      1010\n",
            "           4       0.99      0.98      0.99       982\n",
            "           5       0.99      0.97      0.98       892\n",
            "           6       0.98      0.99      0.98       958\n",
            "           7       0.98      0.98      0.98      1028\n",
            "           8       0.98      0.98      0.98       974\n",
            "           9       0.98      0.98      0.98      1009\n",
            "\n",
            "    accuracy                           0.98     10000\n",
            "   macro avg       0.98      0.98      0.98     10000\n",
            "weighted avg       0.98      0.98      0.98     10000\n",
            "\n"
          ]
        }
      ],
      "source": [
        "print(classification_report(y_test,y_pred))"
      ]
    },
    {
      "cell_type": "code",
      "execution_count": 33,
      "metadata": {
        "colab": {
          "base_uri": "https://localhost:8080/",
          "height": 282
        },
        "id": "pPsIH4UHUhVN",
        "outputId": "03ea7607-41fd-4835-b3f1-a33aace403aa"
      },
      "outputs": [
        {
          "data": {
            "text/plain": [
              "<AxesSubplot:>"
            ]
          },
          "execution_count": 33,
          "metadata": {},
          "output_type": "execute_result"
        },
        {
          "data": {
            "image/png": "[encoded data removed]",
            "text/plain": [
              "<Figure size 432x288 with 1 Axes>"
            ]
          },
          "metadata": {
            "needs_background": "light"
          },
          "output_type": "display_data"
        }
      ],
      "source": [
        "import pandas as pd\n",
        "metrics = pd.DataFrame(history.history)\n",
        "metrics[['loss','val_loss']].plot()"
      ]
    },
    {
      "cell_type": "markdown",
      "metadata": {},
      "source": [
        "semakin \n",
        "\n",
        "RNN\n",
        "dropout rate 0.2 - 0.3\n",
        "\n",
        "\n",
        "CNN\n",
        "dropout rate 0.4 - 0.5"
      ]
    },
    {
      "cell_type": "code",
      "execution_count": null,
      "metadata": {
        "id": "ROUPprG_UxRt"
      },
      "outputs": [],
      "source": []
    }
  ],
  "metadata": {
    "accelerator": "GPU",
    "colab": {
      "name": "note_collab_ann.ipynb",
      "provenance": []
    },
    "interpreter": {
      "hash": "7d14b6e85bfe8fff5aeb238308de529eb1ddbdaf0292547b48607bf1b1c515de"
    },
    "kernelspec": {
      "display_name": "Python 3.10.4 ('tf_gpu')",
      "language": "python",
      "name": "python3"
    },
    "language_info": {
      "codemirror_mode": {
        "name": "ipython",
        "version": 3
      },
      "file_extension": ".py",
      "mimetype": "text/x-python",
      "name": "python",
      "nbconvert_exporter": "python",
      "pygments_lexer": "ipython3",
      "version": "3.10.4"
    }
  },
  "nbformat": 4,
  "nbformat_minor": 0
}
