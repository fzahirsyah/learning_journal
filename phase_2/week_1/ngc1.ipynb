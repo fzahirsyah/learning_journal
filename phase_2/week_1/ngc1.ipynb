{
 "cells": [
  {
   "cell_type": "code",
   "execution_count": 28,
   "metadata": {},
   "outputs": [],
   "source": [
    "from tensorflow.keras.models import Model, Sequential\n",
    "from tensorflow.keras.layers import Input, Dense, Flatten, Dropout, BatchNormalization\n",
    "from tensorflow.keras.datasets import mnist\n",
    "from tensorflow.keras.utils import to_categorical\n",
    "from sklearn.metrics import classification_report"
   ]
  },
  {
   "cell_type": "code",
   "execution_count": 4,
   "metadata": {},
   "outputs": [],
   "source": [
    "\n",
    "from sklearn.model_selection import train_test_split\n",
    "(x_train,y_train),(x_test,y_test) = mnist.load_data()\n",
    "# 0 - 255\n",
    "x_train = x_train / 255.0\n",
    "x_test = x_test / 255.0\n",
    "\n",
    "x_train, x_val, y_train, y_val = train_test_split(x_train,y_train, test_size=0.3,random_state=46)"
   ]
  },
  {
   "cell_type": "code",
   "execution_count": 5,
   "metadata": {},
   "outputs": [],
   "source": [
    "y_train_ohe = to_categorical(y_train)\n",
    "y_val_ohe = to_categorical(y_val)\n",
    "y_test_ohe = to_categorical(y_test)"
   ]
  },
  {
   "cell_type": "code",
   "execution_count": 53,
   "metadata": {},
   "outputs": [
    {
     "name": "stdout",
     "output_type": "stream",
     "text": [
      "Epoch 1/20\n",
      "1313/1313 [==============================] - 9s 7ms/step - loss: 0.4858 - accuracy: 0.8498 - val_loss: 0.2145 - val_accuracy: 0.9366\n",
      "Epoch 2/20\n",
      "1313/1313 [==============================] - 8s 6ms/step - loss: 0.3045 - accuracy: 0.9099 - val_loss: 0.1503 - val_accuracy: 0.9551\n",
      "Epoch 3/20\n",
      "1313/1313 [==============================] - 9s 7ms/step - loss: 0.2467 - accuracy: 0.9257 - val_loss: 0.1285 - val_accuracy: 0.9593\n",
      "Epoch 4/20\n",
      "1313/1313 [==============================] - 9s 7ms/step - loss: 0.2157 - accuracy: 0.9345 - val_loss: 0.1131 - val_accuracy: 0.9657\n",
      "Epoch 5/20\n",
      "1313/1313 [==============================] - 9s 7ms/step - loss: 0.1877 - accuracy: 0.9426 - val_loss: 0.0979 - val_accuracy: 0.9702\n",
      "Epoch 6/20\n",
      "1313/1313 [==============================] - 9s 7ms/step - loss: 0.1758 - accuracy: 0.9457 - val_loss: 0.0890 - val_accuracy: 0.9719\n",
      "Epoch 7/20\n",
      "1313/1313 [==============================] - 8s 6ms/step - loss: 0.1551 - accuracy: 0.9526 - val_loss: 0.0825 - val_accuracy: 0.9738\n",
      "Epoch 8/20\n",
      "1313/1313 [==============================] - 6s 5ms/step - loss: 0.1500 - accuracy: 0.9536 - val_loss: 0.0822 - val_accuracy: 0.9737\n",
      "Epoch 9/20\n",
      "1313/1313 [==============================] - 6s 5ms/step - loss: 0.1372 - accuracy: 0.9567 - val_loss: 0.0794 - val_accuracy: 0.9752\n",
      "Epoch 10/20\n",
      "1313/1313 [==============================] - 7s 5ms/step - loss: 0.1339 - accuracy: 0.9584 - val_loss: 0.0785 - val_accuracy: 0.9746\n",
      "Epoch 11/20\n",
      "1313/1313 [==============================] - 7s 5ms/step - loss: 0.1273 - accuracy: 0.9605 - val_loss: 0.0723 - val_accuracy: 0.9781\n",
      "Epoch 12/20\n",
      "1313/1313 [==============================] - 6s 5ms/step - loss: 0.1256 - accuracy: 0.9612 - val_loss: 0.0736 - val_accuracy: 0.9779\n",
      "Epoch 13/20\n",
      "1313/1313 [==============================] - 6s 5ms/step - loss: 0.1178 - accuracy: 0.9625 - val_loss: 0.0723 - val_accuracy: 0.9788\n",
      "Epoch 14/20\n",
      "1313/1313 [==============================] - 6s 5ms/step - loss: 0.1160 - accuracy: 0.9630 - val_loss: 0.0639 - val_accuracy: 0.9818\n",
      "Epoch 15/20\n",
      "1313/1313 [==============================] - 8s 6ms/step - loss: 0.1095 - accuracy: 0.9655 - val_loss: 0.0719 - val_accuracy: 0.9787\n",
      "Epoch 16/20\n",
      "1313/1313 [==============================] - 8s 6ms/step - loss: 0.1035 - accuracy: 0.9677 - val_loss: 0.0681 - val_accuracy: 0.9786\n",
      "Epoch 17/20\n",
      "1313/1313 [==============================] - 9s 7ms/step - loss: 0.1016 - accuracy: 0.9673 - val_loss: 0.0667 - val_accuracy: 0.9807\n",
      "Epoch 18/20\n",
      "1313/1313 [==============================] - 9s 7ms/step - loss: 0.0960 - accuracy: 0.9701 - val_loss: 0.0689 - val_accuracy: 0.9798\n",
      "Epoch 19/20\n",
      "1313/1313 [==============================] - 8s 6ms/step - loss: 0.0943 - accuracy: 0.9699 - val_loss: 0.0696 - val_accuracy: 0.9800\n",
      "Epoch 20/20\n",
      "1313/1313 [==============================] - 8s 6ms/step - loss: 0.0958 - accuracy: 0.9696 - val_loss: 0.0664 - val_accuracy: 0.9809\n"
     ]
    }
   ],
   "source": [
    "data_in = Input(shape=(28,28))\n",
    "data_flat = Flatten()(data_in)\n",
    "data_drop = Dropout(0.25)(data_flat)\n",
    "hidden_1 = Dense(256, activation='elu')(data_drop)\n",
    "hidden1_drop = Dropout(0.25)(hidden_1)\n",
    "hidden_2 = Dense(32, activation='elu')(hidden1_drop)\n",
    "hidden2_drop = Dropout(0.25)(hidden_2)\n",
    "out = Dense(10, activation='softmax')(hidden2_drop)\n",
    "\n",
    "model = Model(inputs=data_in, outputs=out)\n",
    "\n",
    "# compile\n",
    "model.compile(loss=\"categorical_crossentropy\",\n",
    "              optimizer='adam', # paling modern\n",
    "              metrics=['accuracy'])\n",
    "\n",
    "# training\n",
    "history = model.fit(x_train, y_train_ohe, epochs=20, validation_data=(x_val,y_val_ohe))"
   ]
  },
  {
   "cell_type": "code",
   "execution_count": 58,
   "metadata": {},
   "outputs": [
    {
     "data": {
      "text/plain": [
       "<AxesSubplot:>"
      ]
     },
     "execution_count": 58,
     "metadata": {},
     "output_type": "execute_result"
    },
    {
     "data": {
      "image/png": "[encoded data removed]",
      "text/plain": [
       "<Figure size 432x288 with 1 Axes>"
      ]
     },
     "metadata": {
      "needs_background": "light"
     },
     "output_type": "display_data"
    }
   ],
   "source": [
    "import pandas as pd\n",
    "metrics = pd.DataFrame(history.history)\n",
    "metrics[['loss','val_loss']].plot()\n"
   ]
  },
  {
   "cell_type": "code",
   "execution_count": 55,
   "metadata": {},
   "outputs": [
    {
     "name": "stdout",
     "output_type": "stream",
     "text": [
      "Epoch 1/10\n",
      "1313/1313 [==============================] - 15s 10ms/step - loss: 0.4737 - accuracy: 0.8564 - val_loss: 0.1795 - val_accuracy: 0.9448\n",
      "Epoch 2/10\n",
      "1313/1313 [==============================] - 14s 11ms/step - loss: 0.2797 - accuracy: 0.9156 - val_loss: 0.1251 - val_accuracy: 0.9613\n",
      "Epoch 3/10\n",
      "1313/1313 [==============================] - 14s 10ms/step - loss: 0.2204 - accuracy: 0.9339 - val_loss: 0.0969 - val_accuracy: 0.9694\n",
      "Epoch 4/10\n",
      "1313/1313 [==============================] - 14s 10ms/step - loss: 0.1882 - accuracy: 0.9425 - val_loss: 0.0866 - val_accuracy: 0.9739\n",
      "Epoch 5/10\n",
      "1313/1313 [==============================] - 14s 10ms/step - loss: 0.1630 - accuracy: 0.9497 - val_loss: 0.0827 - val_accuracy: 0.9743\n",
      "Epoch 6/10\n",
      "1313/1313 [==============================] - 14s 11ms/step - loss: 0.1488 - accuracy: 0.9550 - val_loss: 0.0727 - val_accuracy: 0.9772\n",
      "Epoch 7/10\n",
      "1313/1313 [==============================] - 13s 10ms/step - loss: 0.1434 - accuracy: 0.9571 - val_loss: 0.0709 - val_accuracy: 0.9783\n",
      "Epoch 8/10\n",
      "1313/1313 [==============================] - 14s 11ms/step - loss: 0.1305 - accuracy: 0.9612 - val_loss: 0.0702 - val_accuracy: 0.9785\n",
      "Epoch 9/10\n",
      "1313/1313 [==============================] - 13s 10ms/step - loss: 0.1273 - accuracy: 0.9607 - val_loss: 0.0671 - val_accuracy: 0.9801\n",
      "Epoch 10/10\n",
      "1313/1313 [==============================] - 12s 9ms/step - loss: 0.1198 - accuracy: 0.9627 - val_loss: 0.0729 - val_accuracy: 0.9787\n"
     ]
    }
   ],
   "source": [
    "model2 = Sequential([\n",
    "    Flatten(input_shape=(28,28)),\n",
    "    BatchNormalization(),\n",
    "    Dropout(0.25),\n",
    "    Dense(512, activation='selu'),\n",
    "    BatchNormalization(),\n",
    "    Dropout(0.25),\n",
    "    Dense(256, activation='selu'),\n",
    "    BatchNormalization(),\n",
    "    Dropout(0.25),\n",
    "    Dense(32, activation='selu'),\n",
    "    BatchNormalization(),\n",
    "    Dropout(0.25),\n",
    "    Dense(10, activation='softmax')\n",
    "])\n",
    "\n",
    "model2.compile(loss='categorical_crossentropy',\n",
    "                optimizer='adam',\n",
    "                metrics=['accuracy'])\n",
    "\n",
    "history2 = model2.fit(x_train, y_train_ohe, epochs=10, validation_data=(x_val,y_val_ohe))"
   ]
  },
  {
   "cell_type": "code",
   "execution_count": 56,
   "metadata": {},
   "outputs": [
    {
     "data": {
      "text/plain": [
       "<AxesSubplot:>"
      ]
     },
     "execution_count": 56,
     "metadata": {},
     "output_type": "execute_result"
    },
    {
     "data": {
      "image/png": "[encoded data removed]",
      "text/plain": [
       "<Figure size 432x288 with 1 Axes>"
      ]
     },
     "metadata": {
      "needs_background": "light"
     },
     "output_type": "display_data"
    }
   ],
   "source": [
    "import pandas as pd\n",
    "metrics = pd.DataFrame(history2.history)\n",
    "metrics[['loss','val_loss']].plot()\n"
   ]
  },
  {
   "cell_type": "code",
   "execution_count": 57,
   "metadata": {},
   "outputs": [
    {
     "name": "stdout",
     "output_type": "stream",
     "text": [
      "313/313 [==============================] - 1s 2ms/step\n",
      "              precision    recall  f1-score   support\n",
      "\n",
      "           0       0.98      0.99      0.99       980\n",
      "           1       0.99      0.99      0.99      1135\n",
      "           2       0.98      0.98      0.98      1032\n",
      "           3       0.98      0.98      0.98      1010\n",
      "           4       0.98      0.98      0.98       982\n",
      "           5       0.98      0.98      0.98       892\n",
      "           6       0.97      0.99      0.98       958\n",
      "           7       0.98      0.97      0.97      1028\n",
      "           8       0.97      0.98      0.97       974\n",
      "           9       0.98      0.97      0.97      1009\n",
      "\n",
      "    accuracy                           0.98     10000\n",
      "   macro avg       0.98      0.98      0.98     10000\n",
      "weighted avg       0.98      0.98      0.98     10000\n",
      "\n"
     ]
    }
   ],
   "source": [
    "\n",
    "\n",
    "y_pred = model.predict(x_test)\n",
    "y_pred = y_pred.argmax(axis=1)\n",
    "\n",
    "print(classification_report(y_test,y_pred))"
   ]
  },
  {
   "cell_type": "code",
   "execution_count": null,
   "metadata": {},
   "outputs": [],
   "source": []
  }
 ],
 "metadata": {
  "interpreter": {
   "hash": "235c1eb46b7fa25887433b6684ca89cc6429ded5460d2b6822cc33e42398b603"
  },
  "kernelspec": {
   "display_name": "Python 3.10.4 ('python10')",
   "language": "python",
   "name": "python3"
  },
  "language_info": {
   "codemirror_mode": {
    "name": "ipython",
    "version": 3
   },
   "file_extension": ".py",
   "mimetype": "text/x-python",
   "name": "python",
   "nbconvert_exporter": "python",
   "pygments_lexer": "ipython3",
   "version": "3.10.4"
  },
  "orig_nbformat": 4
 },
 "nbformat": 4,
 "nbformat_minor": 2
}
