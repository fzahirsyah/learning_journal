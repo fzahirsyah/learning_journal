{
  "nbformat": 4,
  "nbformat_minor": 0,
  "metadata": {
    "colab": {
      "name": "NG1.ipynb",
      "provenance": [],
      "collapsed_sections": []
    },
    "kernelspec": {
      "display_name": "Python 3",
      "name": "python3"
    },
    "language_info": {
      "name": "python"
    }
  },
  "cells": [
    {
      "cell_type": "markdown",
      "metadata": {
        "id": "1ioMQZmS3xGH"
      },
      "source": [
        "Hi! Welcome to NG1 for Phase 2. As you have learned some basics about NN, now we will apply those knowledge in some fun experiments.\n",
        "\n",
        "By doing this NG Challenge, we hope that you have deeper understanding on:\n",
        "1. Initialize NN module with architecture and hyperparameter in Keras.\n",
        "2. Changing hyperparameter.\n",
        "3. Flow of training model in Keras.\n",
        "3. Loss curve and model performance analysis.\n",
        "\n",
        "Enjoy!"
      ]
    },
    {
      "cell_type": "code",
      "metadata": {
        "id": "l5eQzQKvykI3"
      },
      "source": [
        "import tensorflow as tf\n",
        "from tensorflow import keras\n",
        "import numpy as np\n",
        "\n",
        "import matplotlib.pyplot as plt\n",
        "%matplotlib inline"
      ],
      "execution_count": null,
      "outputs": []
    },
    {
      "cell_type": "code",
      "metadata": {
        "id": "3iLF2dbnumyY"
      },
      "source": [
        "def convert_to_gray(inp_data):\n",
        "  inp_data=tf.squeeze(tf.image.rgb_to_grayscale(inp_data))\n",
        "  return inp_data\n",
        "\n",
        "def extract_data(cf10_x,cf10_y,id_class):\n",
        "  idx=np.where(cf10_y == [id_class])[0]\n",
        "  x_train=cf10_x[idx,:,:,:]\n",
        "  return x_train"
      ],
      "execution_count": null,
      "outputs": []
    },
    {
      "cell_type": "markdown",
      "metadata": {
        "id": "5iyq0RN5y6d4"
      },
      "source": [
        "### Load Cifar 10 Dataset"
      ]
    },
    {
      "cell_type": "code",
      "metadata": {
        "id": "jb9MSwZZy8iD"
      },
      "source": [
        "#Load CIFAR-10 Dataset with Keras function\n",
        "(cf10_x_train, cf10_y_train), (x_test, y_test) = keras.datasets.cifar10.load_data()"
      ],
      "execution_count": null,
      "outputs": []
    },
    {
      "cell_type": "code",
      "metadata": {
        "colab": {
          "base_uri": "https://localhost:8080/"
        },
        "id": "kdKni4Ckht1V",
        "outputId": "77fd74bc-15a4-48d3-bb81-3799446d389f"
      },
      "source": [
        "cf10_x_train.shape"
      ],
      "execution_count": null,
      "outputs": [
        {
          "output_type": "execute_result",
          "data": {
            "text/plain": [
              "(50000, 32, 32, 3)"
            ]
          },
          "metadata": {
            "tags": []
          },
          "execution_count": 15
        }
      ]
    },
    {
      "cell_type": "markdown",
      "metadata": {
        "id": "ePVTysUuj6a9"
      },
      "source": [
        "For this experiment we use only three classes, automobile, ship and truck. Automobile is indexed as Class 1, Ship as Class 8, and Truck as Class 9 on the CIFAR-10. For our dataset, we will have Automobile as class 0, ship as class 1, and truck as class 2.\n",
        "\n",
        "Color pictures are represented in 3 dimension, representing 3 color dimension R,G,B. Thus, for simpler processing, we also convert the images to grayscale."
      ]
    },
    {
      "cell_type": "code",
      "metadata": {
        "id": "dG57ZhZehwiS"
      },
      "source": [
        "x_train_1 = extract_data(cf10_x_train, cf10_y_train,1)\n",
        "x_train_1 = convert_to_gray(x_train_1)"
      ],
      "execution_count": null,
      "outputs": []
    },
    {
      "cell_type": "code",
      "metadata": {
        "id": "mNTKd-efi5kx"
      },
      "source": [
        "# Write your code to take data with label 8 and 9\n",
        "x_train_2 = extract_data(cf10_x_train, cf10_y_train,7)\n",
        "x_train_3 = extract_data(cf10_x_train, cf10_y_train,8)\n",
        "\n",
        "x_train_2 = convert_to_gray(x_train_2)\n",
        "x_train_3 = convert_to_gray(x_train_3)"
      ],
      "execution_count": null,
      "outputs": []
    },
    {
      "cell_type": "code",
      "metadata": {
        "colab": {
          "base_uri": "https://localhost:8080/",
          "height": 195
        },
        "id": "-6LdearejSlp",
        "outputId": "eebacc1d-1cbc-4067-9d78-f159a54bc62f"
      },
      "source": [
        "fig,axs = plt.subplots(1,3,figsize=(8,4))\n",
        "axs[0].imshow(x_train_1[12],cmap='gray')\n",
        "axs[0].axis('off');axs[0].set_title(\"Sample Car\")\n",
        "axs[1].imshow(x_train_2[5],cmap='gray')\n",
        "axs[1].axis('off');axs[1].set_title(\"Sample Ship\")\n",
        "axs[2].imshow(x_train_3[5],cmap='gray')\n",
        "axs[2].axis('off');axs[2].set_title(\"Sample Truck\")\n",
        "#plt.axis('off')"
      ],
      "execution_count": null,
      "outputs": [
        {
          "output_type": "execute_result",
          "data": {
            "text/plain": [
              "Text(0.5, 1.0, 'Sample Truck')"
            ]
          },
          "metadata": {
            "tags": []
          },
          "execution_count": 18
        },
        {
          "output_type": "display_data",
          "data": {
            "image/png": "[encoded data removed]",
            "text/plain": [
              "<Figure size 576x288 with 3 Axes>"
            ]
          },
          "metadata": {
            "tags": [],
            "needs_background": "light"
          }
        }
      ]
    },
    {
      "cell_type": "code",
      "metadata": {
        "id": "Q9jNeRnlAbq7"
      },
      "source": [
        "y_train_1 = tf.ones(x_train_1.shape[0])*0\n",
        "y_train_2 = tf.ones(x_train_2.shape[0])*1\n",
        "y_train_3 = tf.ones(x_train_3.shape[0])*2"
      ],
      "execution_count": null,
      "outputs": []
    },
    {
      "cell_type": "code",
      "metadata": {
        "id": "5id1MK_ZqDMZ"
      },
      "source": [
        "x_train = tf.concat([x_train_1, x_train_2, x_train_3], 0)\n",
        "y_train = tf.concat([y_train_1,y_train_2, y_train_3],0)\n",
        "#y_train = tf.cast((y_train==1),tf.int32)"
      ],
      "execution_count": null,
      "outputs": []
    },
    {
      "cell_type": "code",
      "metadata": {
        "colab": {
          "base_uri": "https://localhost:8080/"
        },
        "id": "C0N4JxPRm1aY",
        "outputId": "df82bd64-feb5-46e0-ecb3-fd083c7a78cc"
      },
      "source": [
        "y_train"
      ],
      "execution_count": null,
      "outputs": [
        {
          "output_type": "execute_result",
          "data": {
            "text/plain": [
              "<tf.Tensor: shape=(15000,), dtype=float32, numpy=array([0., 0., 0., ..., 2., 2., 2.], dtype=float32)>"
            ]
          },
          "metadata": {
            "tags": []
          },
          "execution_count": 21
        }
      ]
    },
    {
      "cell_type": "markdown",
      "metadata": {
        "id": "L7nCAfkey9mg"
      },
      "source": [
        "### Split dataset"
      ]
    },
    {
      "cell_type": "markdown",
      "metadata": {
        "id": "JtHgCeXszGFL"
      },
      "source": [
        "Split the train set to 70% of training data and remaining 30% as validation set."
      ]
    },
    {
      "cell_type": "code",
      "metadata": {
        "id": "NJSk7Rqky-6G"
      },
      "source": [
        "tf"
      ],
      "execution_count": null,
      "outputs": []
    },
    {
      "cell_type": "markdown",
      "metadata": {
        "id": "Q5ZH9G6ezQiE"
      },
      "source": [
        "### Build Network"
      ]
    },
    {
      "cell_type": "markdown",
      "metadata": {
        "id": "egeL1AOXofaP"
      },
      "source": [
        "We will build a function to create our intended network with given initializer and activation function. The flatten, first hidden layer, and output layer has been defined, now it's your turn to fill the remaining hidden layers."
      ]
    },
    {
      "cell_type": "code",
      "metadata": {
        "id": "GttJJcuSzSf_"
      },
      "source": [
        "def build_network(weight_init=tf.keras.initializers.GlorotNormal(),hidden_act_func='relu'):\n",
        "  model = keras.models.Sequential()\n",
        "  # Flatten layer\n",
        "  model.add(keras.layers.Flatten(input_shape=[32, 32]))\n",
        "\n",
        "  # Hidden layers\n",
        "  # First hidden layer\n",
        "  model.add(keras.layers.Dense(300,kernel_initializer=weight_init, activation=hidden_act_func))\n",
        "  model.add(keras.layers.Dense(50,kernel_initializer=weight_init, activation=hidden_act_func))\n",
        "  #model.add(keras.layers.Dense(15,kernel_initializer=weight_init, activation=hidden_act_func))\n",
        "  #model.add(keras.layers.Dense(8,kernel_initializer=weight_init, activation=hidden_act_func))\n",
        "  \n",
        "\n",
        "  # Output layer\n",
        "  model.add(keras.layers.Dense(3, activation=\"softmax\"))\n",
        "  return model"
      ],
      "execution_count": null,
      "outputs": []
    },
    {
      "cell_type": "code",
      "metadata": {
        "id": "rdU0fR_HzqzD"
      },
      "source": [
        ""
      ],
      "execution_count": null,
      "outputs": []
    },
    {
      "cell_type": "markdown",
      "metadata": {
        "id": "y7YrsehsnMVs"
      },
      "source": [
        "## Parameter setting"
      ]
    },
    {
      "cell_type": "markdown",
      "metadata": {
        "id": "sk7ie4zLnQku"
      },
      "source": [
        "### Initializers"
      ]
    },
    {
      "cell_type": "markdown",
      "metadata": {
        "id": "k5ip04SvnSgg"
      },
      "source": [
        ""
      ]
    },
    {
      "cell_type": "code",
      "metadata": {
        "id": "z2WBbasTnPRq"
      },
      "source": [
        "initializer = tf.keras.initializers.GlorotNormal() #Glorot Initializer\n",
        "glorot_model = build_network(weight_init = initializer)\n",
        "\n",
        "#He Initializer\n",
        "#Random normal Initializer"
      ],
      "execution_count": null,
      "outputs": []
    },
    {
      "cell_type": "markdown",
      "metadata": {
        "id": "SgjZTrVavAqH"
      },
      "source": [
        "Inference with initial weight"
      ]
    },
    {
      "cell_type": "code",
      "metadata": {
        "colab": {
          "base_uri": "https://localhost:8080/"
        },
        "id": "_c01dqz1zQCT",
        "outputId": "bc0cea77-d29c-4c0e-988e-f988319a93f2"
      },
      "source": [
        "y_train"
      ],
      "execution_count": null,
      "outputs": [
        {
          "output_type": "execute_result",
          "data": {
            "text/plain": [
              "<tf.Tensor: shape=(15000,), dtype=float32, numpy=array([0., 0., 0., ..., 2., 2., 2.], dtype=float32)>"
            ]
          },
          "metadata": {
            "tags": []
          },
          "execution_count": 24
        }
      ]
    },
    {
      "cell_type": "code",
      "metadata": {
        "id": "TDQkUhSyvDEe"
      },
      "source": [
        "glorot_model.compile(loss=\"sparse_categorical_crossentropy\",\n",
        "              optimizer=\"adam\",\n",
        "              metrics=[\"accuracy\"])"
      ],
      "execution_count": null,
      "outputs": []
    },
    {
      "cell_type": "code",
      "metadata": {
        "colab": {
          "base_uri": "https://localhost:8080/"
        },
        "id": "efr5aa4X55aI",
        "outputId": "091c395f-b5e1-41a2-d00a-d42a4d1bd124"
      },
      "source": [
        "history = glorot_model.fit(x_train, y_train, epochs=10)"
      ],
      "execution_count": null,
      "outputs": [
        {
          "output_type": "stream",
          "text": [
            "Epoch 1/10\n",
            "469/469 [==============================] - 3s 5ms/step - loss: 9.7620 - accuracy: 0.4769\n",
            "Epoch 2/10\n",
            "469/469 [==============================] - 2s 5ms/step - loss: 2.2936 - accuracy: 0.5318\n",
            "Epoch 3/10\n",
            "469/469 [==============================] - 2s 4ms/step - loss: 1.5421 - accuracy: 0.5737\n",
            "Epoch 4/10\n",
            "469/469 [==============================] - 2s 4ms/step - loss: 1.2023 - accuracy: 0.5893\n",
            "Epoch 5/10\n",
            "469/469 [==============================] - 2s 4ms/step - loss: 0.9128 - accuracy: 0.6302\n",
            "Epoch 6/10\n",
            "469/469 [==============================] - 2s 4ms/step - loss: 0.8467 - accuracy: 0.6530\n",
            "Epoch 7/10\n",
            "469/469 [==============================] - 2s 5ms/step - loss: 0.8123 - accuracy: 0.6606\n",
            "Epoch 8/10\n",
            "469/469 [==============================] - 2s 4ms/step - loss: 0.7466 - accuracy: 0.6886\n",
            "Epoch 9/10\n",
            "469/469 [==============================] - 2s 4ms/step - loss: 0.7355 - accuracy: 0.6942\n",
            "Epoch 10/10\n",
            "469/469 [==============================] - 2s 4ms/step - loss: 0.7099 - accuracy: 0.7040\n"
          ],
          "name": "stdout"
        }
      ]
    },
    {
      "cell_type": "code",
      "metadata": {
        "id": "E8KGN6Lu89Ge"
      },
      "source": [
        "y_proba = model.predict(X_new)"
      ],
      "execution_count": null,
      "outputs": []
    },
    {
      "cell_type": "markdown",
      "metadata": {
        "id": "2HU6qIA-2bY7"
      },
      "source": [
        "## Activation Function"
      ]
    },
    {
      "cell_type": "markdown",
      "metadata": {
        "id": "mrMCglPj2ktl"
      },
      "source": [
        "Sigmoid actiation function"
      ]
    },
    {
      "cell_type": "code",
      "metadata": {
        "id": "pZzfiMQfDTyT"
      },
      "source": [
        ""
      ],
      "execution_count": null,
      "outputs": []
    },
    {
      "cell_type": "markdown",
      "metadata": {
        "id": "-yhy7Doa2nmz"
      },
      "source": [
        "ReLU Activation function"
      ]
    },
    {
      "cell_type": "code",
      "metadata": {
        "id": "FReHq9tR2h_C"
      },
      "source": [
        ""
      ],
      "execution_count": null,
      "outputs": []
    },
    {
      "cell_type": "markdown",
      "metadata": {
        "id": "xmaTut4W2pnm"
      },
      "source": [
        "Linear activation function"
      ]
    },
    {
      "cell_type": "code",
      "metadata": {
        "id": "ZEi5pySu2q2o"
      },
      "source": [
        ""
      ],
      "execution_count": null,
      "outputs": []
    },
    {
      "cell_type": "markdown",
      "metadata": {
        "id": "9jRzQkt42r7y"
      },
      "source": [
        "Choose the most optimal activation function and let's move to the next step"
      ]
    },
    {
      "cell_type": "markdown",
      "metadata": {
        "id": "-p1iCgo42xFL"
      },
      "source": [
        "### Optimizers"
      ]
    },
    {
      "cell_type": "markdown",
      "metadata": {
        "id": "HH7b5Dfj21gL"
      },
      "source": [
        "SGD"
      ]
    },
    {
      "cell_type": "markdown",
      "metadata": {
        "id": "KU3RD9FU23bZ"
      },
      "source": [
        "SGD with Nesterov"
      ]
    },
    {
      "cell_type": "markdown",
      "metadata": {
        "id": "GmIkH0zk25Pk"
      },
      "source": [
        "ADAM"
      ]
    },
    {
      "cell_type": "markdown",
      "metadata": {
        "id": "rmpGmTHa263O"
      },
      "source": [
        "## Full train"
      ]
    },
    {
      "cell_type": "markdown",
      "metadata": {
        "id": "riLV7G5328gp"
      },
      "source": [
        "Now that we have choose our weight initializer, activation function, and optimizer, let's initiate a new network and fully train it in long epochs to achieve most optimal result."
      ]
    },
    {
      "cell_type": "code",
      "metadata": {
        "id": "yvYBtjJQ2wAG"
      },
      "source": [
        ""
      ],
      "execution_count": null,
      "outputs": []
    },
    {
      "cell_type": "markdown",
      "metadata": {
        "id": "SEJlV2PH3K9M"
      },
      "source": [
        "Loss curve analysis"
      ]
    },
    {
      "cell_type": "code",
      "metadata": {
        "id": "gsRKP2M43MNE"
      },
      "source": [
        ""
      ],
      "execution_count": null,
      "outputs": []
    },
    {
      "cell_type": "markdown",
      "metadata": {
        "id": "GPyw4xQq3MyC"
      },
      "source": [
        "## Next steps"
      ]
    },
    {
      "cell_type": "markdown",
      "metadata": {
        "id": "BJZrGFL13OHK"
      },
      "source": [
        "Congratulations! You have just completed simple hyperparameter choosing for your own network! Asides from all the properties we tested, neural network still contain other hyperparam such as number of layers and layer sizes. Try to play with them and conduct the experiments. See if you can beat your current model accuracy, and try to understand what parameter effect the accuracy and how to control them. Happy hunting!"
      ]
    },
    {
      "cell_type": "code",
      "metadata": {
        "id": "dY8i_vAA3m0A"
      },
      "source": [
        ""
      ],
      "execution_count": null,
      "outputs": []
    }
  ]
}